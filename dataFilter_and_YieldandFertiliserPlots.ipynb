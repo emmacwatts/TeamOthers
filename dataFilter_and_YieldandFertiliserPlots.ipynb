{
 "cells": [
  {
   "cell_type": "markdown",
   "id": "eeef6622",
   "metadata": {},
   "source": [
    "### Data Clean up for Yield and Fertiliser\n",
    "\n",
    "* Note on assumptions:\n",
    "    * averaged over the other variables in the yield_data dataset"
   ]
  },
  {
   "cell_type": "code",
   "execution_count": 1,
   "id": "cf744937",
   "metadata": {},
   "outputs": [],
   "source": [
    "#Imports\n",
    "import pandas as pd\n",
    "import openpyxl\n",
    "import plotly.graph_objects as go\n",
    "import nbformat\n"
   ]
  },
  {
   "cell_type": "code",
   "execution_count": 2,
   "id": "b56a037f",
   "metadata": {},
   "outputs": [
    {
     "data": {
      "text/html": [
       "<div>\n",
       "<style scoped>\n",
       "    .dataframe tbody tr th:only-of-type {\n",
       "        vertical-align: middle;\n",
       "    }\n",
       "\n",
       "    .dataframe tbody tr th {\n",
       "        vertical-align: top;\n",
       "    }\n",
       "\n",
       "    .dataframe thead th {\n",
       "        text-align: right;\n",
       "    }\n",
       "</style>\n",
       "<table border=\"1\" class=\"dataframe\">\n",
       "  <thead>\n",
       "    <tr style=\"text-align: right;\">\n",
       "      <th></th>\n",
       "      <th>harvest_year</th>\n",
       "      <th>strip</th>\n",
       "      <th>section</th>\n",
       "      <th>plot</th>\n",
       "      <th>section_1926-67</th>\n",
       "      <th>fertilizer_code</th>\n",
       "      <th>cropping</th>\n",
       "      <th>year_of_wheat</th>\n",
       "      <th>previous_crop</th>\n",
       "      <th>straw_incorporation</th>\n",
       "      <th>...</th>\n",
       "      <th>na_date</th>\n",
       "      <th>mg_factor_level</th>\n",
       "      <th>mg_amount</th>\n",
       "      <th>mg_date</th>\n",
       "      <th>sow_date</th>\n",
       "      <th>harvest_date</th>\n",
       "      <th>cultivar</th>\n",
       "      <th>grain</th>\n",
       "      <th>straw</th>\n",
       "      <th>note</th>\n",
       "    </tr>\n",
       "  </thead>\n",
       "  <tbody>\n",
       "    <tr>\n",
       "      <th>0</th>\n",
       "      <td>1968</td>\n",
       "      <td>21</td>\n",
       "      <td>0</td>\n",
       "      <td>21\\0</td>\n",
       "      <td>IA</td>\n",
       "      <td>FYM N2</td>\n",
       "      <td>winter wheat</td>\n",
       "      <td>17.000</td>\n",
       "      <td>winter wheat</td>\n",
       "      <td>no</td>\n",
       "      <td>...</td>\n",
       "      <td>*</td>\n",
       "      <td>nil</td>\n",
       "      <td>0.0</td>\n",
       "      <td>*</td>\n",
       "      <td>1967-12-07</td>\n",
       "      <td>1968-08-26</td>\n",
       "      <td>Cappelle Desprez</td>\n",
       "      <td>4.740</td>\n",
       "      <td>5.280</td>\n",
       "      <td>45</td>\n",
       "    </tr>\n",
       "    <tr>\n",
       "      <th>1</th>\n",
       "      <td>1968</td>\n",
       "      <td>22</td>\n",
       "      <td>0</td>\n",
       "      <td>22\\0</td>\n",
       "      <td>IA</td>\n",
       "      <td>FYM</td>\n",
       "      <td>winter wheat</td>\n",
       "      <td>17.000</td>\n",
       "      <td>winter wheat</td>\n",
       "      <td>no</td>\n",
       "      <td>...</td>\n",
       "      <td>*</td>\n",
       "      <td>nil</td>\n",
       "      <td>0.0</td>\n",
       "      <td>*</td>\n",
       "      <td>1967-12-07</td>\n",
       "      <td>1968-08-26</td>\n",
       "      <td>Cappelle Desprez</td>\n",
       "      <td>3.930</td>\n",
       "      <td>3.490</td>\n",
       "      <td>46</td>\n",
       "    </tr>\n",
       "    <tr>\n",
       "      <th>2</th>\n",
       "      <td>1968</td>\n",
       "      <td>3</td>\n",
       "      <td>0</td>\n",
       "      <td>3\\0</td>\n",
       "      <td>IA</td>\n",
       "      <td>Nil</td>\n",
       "      <td>winter wheat</td>\n",
       "      <td>17.000</td>\n",
       "      <td>winter wheat</td>\n",
       "      <td>no</td>\n",
       "      <td>...</td>\n",
       "      <td>*</td>\n",
       "      <td>nil</td>\n",
       "      <td>0.0</td>\n",
       "      <td>*</td>\n",
       "      <td>1967-12-07</td>\n",
       "      <td>1968-08-26</td>\n",
       "      <td>Cappelle Desprez</td>\n",
       "      <td>1.440</td>\n",
       "      <td>0.880</td>\n",
       "      <td>*</td>\n",
       "    </tr>\n",
       "    <tr>\n",
       "      <th>3</th>\n",
       "      <td>1968</td>\n",
       "      <td>5</td>\n",
       "      <td>0</td>\n",
       "      <td>5\\0</td>\n",
       "      <td>IA</td>\n",
       "      <td>PKNaMg</td>\n",
       "      <td>winter wheat</td>\n",
       "      <td>17.000</td>\n",
       "      <td>winter wheat</td>\n",
       "      <td>no</td>\n",
       "      <td>...</td>\n",
       "      <td>1967-09-19</td>\n",
       "      <td>Mg</td>\n",
       "      <td>11.0</td>\n",
       "      <td>1967-09-19</td>\n",
       "      <td>1967-12-07</td>\n",
       "      <td>1968-08-26</td>\n",
       "      <td>Cappelle Desprez</td>\n",
       "      <td>1.810</td>\n",
       "      <td>1.410</td>\n",
       "      <td>*</td>\n",
       "    </tr>\n",
       "    <tr>\n",
       "      <th>4</th>\n",
       "      <td>1968</td>\n",
       "      <td>6</td>\n",
       "      <td>0</td>\n",
       "      <td>6\\0</td>\n",
       "      <td>IA</td>\n",
       "      <td>N1PKNaMg</td>\n",
       "      <td>winter wheat</td>\n",
       "      <td>17.000</td>\n",
       "      <td>winter wheat</td>\n",
       "      <td>no</td>\n",
       "      <td>...</td>\n",
       "      <td>1967-09-19</td>\n",
       "      <td>Mg</td>\n",
       "      <td>11.0</td>\n",
       "      <td>1967-09-19</td>\n",
       "      <td>1967-12-07</td>\n",
       "      <td>1968-08-26</td>\n",
       "      <td>Cappelle Desprez</td>\n",
       "      <td>2.640</td>\n",
       "      <td>2.320</td>\n",
       "      <td>*</td>\n",
       "    </tr>\n",
       "    <tr>\n",
       "      <th>...</th>\n",
       "      <td>...</td>\n",
       "      <td>...</td>\n",
       "      <td>...</td>\n",
       "      <td>...</td>\n",
       "      <td>...</td>\n",
       "      <td>...</td>\n",
       "      <td>...</td>\n",
       "      <td>...</td>\n",
       "      <td>...</td>\n",
       "      <td>...</td>\n",
       "      <td>...</td>\n",
       "      <td>...</td>\n",
       "      <td>...</td>\n",
       "      <td>...</td>\n",
       "      <td>...</td>\n",
       "      <td>...</td>\n",
       "      <td>...</td>\n",
       "      <td>...</td>\n",
       "      <td>...</td>\n",
       "      <td>...</td>\n",
       "      <td>...</td>\n",
       "    </tr>\n",
       "    <tr>\n",
       "      <th>8568</th>\n",
       "      <td>2022</td>\n",
       "      <td>15</td>\n",
       "      <td>9</td>\n",
       "      <td>15\\9</td>\n",
       "      <td>VB</td>\n",
       "      <td>N5(P)KMg</td>\n",
       "      <td>winter wheat</td>\n",
       "      <td>64.000</td>\n",
       "      <td>winter wheat</td>\n",
       "      <td>no</td>\n",
       "      <td>...</td>\n",
       "      <td>*</td>\n",
       "      <td>Mg</td>\n",
       "      <td>12.0</td>\n",
       "      <td>2022-04-22</td>\n",
       "      <td>2021-09-22</td>\n",
       "      <td>2022-07-27</td>\n",
       "      <td>Zyatt</td>\n",
       "      <td>7.730</td>\n",
       "      <td>*</td>\n",
       "      <td>*</td>\n",
       "    </tr>\n",
       "    <tr>\n",
       "      <th>8569</th>\n",
       "      <td>2022</td>\n",
       "      <td>16</td>\n",
       "      <td>9</td>\n",
       "      <td>16\\9</td>\n",
       "      <td>VB</td>\n",
       "      <td>N6(P)KMg</td>\n",
       "      <td>winter wheat</td>\n",
       "      <td>64.000</td>\n",
       "      <td>winter wheat</td>\n",
       "      <td>no</td>\n",
       "      <td>...</td>\n",
       "      <td>*</td>\n",
       "      <td>Mg</td>\n",
       "      <td>12.0</td>\n",
       "      <td>2022-04-22</td>\n",
       "      <td>2021-09-22</td>\n",
       "      <td>2022-07-27</td>\n",
       "      <td>Zyatt</td>\n",
       "      <td>8.940</td>\n",
       "      <td>*</td>\n",
       "      <td>*</td>\n",
       "    </tr>\n",
       "    <tr>\n",
       "      <th>8570</th>\n",
       "      <td>2022</td>\n",
       "      <td>17</td>\n",
       "      <td>9</td>\n",
       "      <td>17\\9</td>\n",
       "      <td>VB</td>\n",
       "      <td>N1+4+1 PKMg</td>\n",
       "      <td>winter wheat</td>\n",
       "      <td>64.000</td>\n",
       "      <td>winter wheat</td>\n",
       "      <td>no</td>\n",
       "      <td>...</td>\n",
       "      <td>*</td>\n",
       "      <td>Mg</td>\n",
       "      <td>12.0</td>\n",
       "      <td>2022-04-22</td>\n",
       "      <td>2021-09-22</td>\n",
       "      <td>2022-07-27</td>\n",
       "      <td>Zyatt</td>\n",
       "      <td>10.050</td>\n",
       "      <td>*</td>\n",
       "      <td>*</td>\n",
       "    </tr>\n",
       "    <tr>\n",
       "      <th>8571</th>\n",
       "      <td>2022</td>\n",
       "      <td>18</td>\n",
       "      <td>9</td>\n",
       "      <td>18\\9</td>\n",
       "      <td>VB</td>\n",
       "      <td>N1+2+1 PKMg</td>\n",
       "      <td>winter wheat</td>\n",
       "      <td>64.000</td>\n",
       "      <td>winter wheat</td>\n",
       "      <td>no</td>\n",
       "      <td>...</td>\n",
       "      <td>*</td>\n",
       "      <td>Mg</td>\n",
       "      <td>12.0</td>\n",
       "      <td>2022-04-22</td>\n",
       "      <td>2021-09-22</td>\n",
       "      <td>2022-07-27</td>\n",
       "      <td>Zyatt</td>\n",
       "      <td>8.860</td>\n",
       "      <td>*</td>\n",
       "      <td>*</td>\n",
       "    </tr>\n",
       "    <tr>\n",
       "      <th>8572</th>\n",
       "      <td>2022</td>\n",
       "      <td>19</td>\n",
       "      <td>9</td>\n",
       "      <td>19\\9</td>\n",
       "      <td>VB</td>\n",
       "      <td>N1+1+1 KMg</td>\n",
       "      <td>winter wheat</td>\n",
       "      <td>64.000</td>\n",
       "      <td>winter wheat</td>\n",
       "      <td>no</td>\n",
       "      <td>...</td>\n",
       "      <td>*</td>\n",
       "      <td>Mg</td>\n",
       "      <td>12.0</td>\n",
       "      <td>2022-04-22</td>\n",
       "      <td>2021-09-22</td>\n",
       "      <td>2022-07-27</td>\n",
       "      <td>Zyatt</td>\n",
       "      <td>8.250</td>\n",
       "      <td>*</td>\n",
       "      <td>*</td>\n",
       "    </tr>\n",
       "  </tbody>\n",
       "</table>\n",
       "<p>8573 rows × 45 columns</p>\n",
       "</div>"
      ],
      "text/plain": [
       "      harvest_year  strip  section  plot section_1926-67 fertilizer_code  \\\n",
       "0             1968     21        0  21\\0              IA          FYM N2   \n",
       "1             1968     22        0  22\\0              IA             FYM   \n",
       "2             1968      3        0   3\\0              IA             Nil   \n",
       "3             1968      5        0   5\\0              IA          PKNaMg   \n",
       "4             1968      6        0   6\\0              IA        N1PKNaMg   \n",
       "...            ...    ...      ...   ...             ...             ...   \n",
       "8568          2022     15        9  15\\9              VB        N5(P)KMg   \n",
       "8569          2022     16        9  16\\9              VB        N6(P)KMg   \n",
       "8570          2022     17        9  17\\9              VB     N1+4+1 PKMg   \n",
       "8571          2022     18        9  18\\9              VB     N1+2+1 PKMg   \n",
       "8572          2022     19        9  19\\9              VB      N1+1+1 KMg   \n",
       "\n",
       "          cropping year_of_wheat previous_crop straw_incorporation  ...  \\\n",
       "0     winter wheat        17.000  winter wheat                  no  ...   \n",
       "1     winter wheat        17.000  winter wheat                  no  ...   \n",
       "2     winter wheat        17.000  winter wheat                  no  ...   \n",
       "3     winter wheat        17.000  winter wheat                  no  ...   \n",
       "4     winter wheat        17.000  winter wheat                  no  ...   \n",
       "...            ...           ...           ...                 ...  ...   \n",
       "8568  winter wheat        64.000  winter wheat                  no  ...   \n",
       "8569  winter wheat        64.000  winter wheat                  no  ...   \n",
       "8570  winter wheat        64.000  winter wheat                  no  ...   \n",
       "8571  winter wheat        64.000  winter wheat                  no  ...   \n",
       "8572  winter wheat        64.000  winter wheat                  no  ...   \n",
       "\n",
       "         na_date  mg_factor_level mg_amount     mg_date    sow_date  \\\n",
       "0              *              nil       0.0           *  1967-12-07   \n",
       "1              *              nil       0.0           *  1967-12-07   \n",
       "2              *              nil       0.0           *  1967-12-07   \n",
       "3     1967-09-19               Mg      11.0  1967-09-19  1967-12-07   \n",
       "4     1967-09-19               Mg      11.0  1967-09-19  1967-12-07   \n",
       "...          ...              ...       ...         ...         ...   \n",
       "8568           *               Mg      12.0  2022-04-22  2021-09-22   \n",
       "8569           *               Mg      12.0  2022-04-22  2021-09-22   \n",
       "8570           *               Mg      12.0  2022-04-22  2021-09-22   \n",
       "8571           *               Mg      12.0  2022-04-22  2021-09-22   \n",
       "8572           *               Mg      12.0  2022-04-22  2021-09-22   \n",
       "\n",
       "     harvest_date          cultivar   grain  straw note  \n",
       "0      1968-08-26  Cappelle Desprez   4.740  5.280   45  \n",
       "1      1968-08-26  Cappelle Desprez   3.930  3.490   46  \n",
       "2      1968-08-26  Cappelle Desprez   1.440  0.880    *  \n",
       "3      1968-08-26  Cappelle Desprez   1.810  1.410    *  \n",
       "4      1968-08-26  Cappelle Desprez   2.640  2.320    *  \n",
       "...           ...               ...     ...    ...  ...  \n",
       "8568   2022-07-27             Zyatt   7.730      *    *  \n",
       "8569   2022-07-27             Zyatt   8.940      *    *  \n",
       "8570   2022-07-27             Zyatt  10.050      *    *  \n",
       "8571   2022-07-27             Zyatt   8.860      *    *  \n",
       "8572   2022-07-27             Zyatt   8.250      *    *  \n",
       "\n",
       "[8573 rows x 45 columns]"
      ]
     },
     "metadata": {},
     "output_type": "display_data"
    }
   ],
   "source": [
    "# Load the data\n",
    "df = pd.read_csv('InputDataRaw/yield_data.csv')\n",
    "\n",
    "display((df))"
   ]
  },
  {
   "cell_type": "code",
   "execution_count": 3,
   "id": "b90db571",
   "metadata": {},
   "outputs": [
    {
     "data": {
      "text/html": [
       "<div>\n",
       "<style scoped>\n",
       "    .dataframe tbody tr th:only-of-type {\n",
       "        vertical-align: middle;\n",
       "    }\n",
       "\n",
       "    .dataframe tbody tr th {\n",
       "        vertical-align: top;\n",
       "    }\n",
       "\n",
       "    .dataframe thead th {\n",
       "        text-align: right;\n",
       "    }\n",
       "</style>\n",
       "<table border=\"1\" class=\"dataframe\">\n",
       "  <thead>\n",
       "    <tr style=\"text-align: right;\">\n",
       "      <th></th>\n",
       "      <th>harvest_year</th>\n",
       "      <th>cropping</th>\n",
       "      <th>k_amount</th>\n",
       "      <th>total_fertilizer_n_amount</th>\n",
       "      <th>p_amount</th>\n",
       "      <th>grain</th>\n",
       "      <th>straw</th>\n",
       "      <th>strip</th>\n",
       "    </tr>\n",
       "  </thead>\n",
       "  <tbody>\n",
       "    <tr>\n",
       "      <th>0</th>\n",
       "      <td>1990</td>\n",
       "      <td>winter wheat</td>\n",
       "      <td>90</td>\n",
       "      <td>144</td>\n",
       "      <td>35.0</td>\n",
       "      <td>7.360</td>\n",
       "      <td>*</td>\n",
       "      <td>8</td>\n",
       "    </tr>\n",
       "    <tr>\n",
       "      <th>1</th>\n",
       "      <td>1990</td>\n",
       "      <td>winter wheat</td>\n",
       "      <td>90</td>\n",
       "      <td>144</td>\n",
       "      <td>35.0</td>\n",
       "      <td>6.740</td>\n",
       "      <td>2.680</td>\n",
       "      <td>8</td>\n",
       "    </tr>\n",
       "    <tr>\n",
       "      <th>2</th>\n",
       "      <td>1990</td>\n",
       "      <td>winter wheat</td>\n",
       "      <td>90</td>\n",
       "      <td>144</td>\n",
       "      <td>35.0</td>\n",
       "      <td>8.100</td>\n",
       "      <td>*</td>\n",
       "      <td>8</td>\n",
       "    </tr>\n",
       "    <tr>\n",
       "      <th>3</th>\n",
       "      <td>1990</td>\n",
       "      <td>winter wheat</td>\n",
       "      <td>90</td>\n",
       "      <td>144</td>\n",
       "      <td>35.0</td>\n",
       "      <td>6.440</td>\n",
       "      <td>*</td>\n",
       "      <td>8</td>\n",
       "    </tr>\n",
       "    <tr>\n",
       "      <th>4</th>\n",
       "      <td>1990</td>\n",
       "      <td>winter wheat</td>\n",
       "      <td>90</td>\n",
       "      <td>144</td>\n",
       "      <td>35.0</td>\n",
       "      <td>7.720</td>\n",
       "      <td>*</td>\n",
       "      <td>8</td>\n",
       "    </tr>\n",
       "    <tr>\n",
       "      <th>...</th>\n",
       "      <td>...</td>\n",
       "      <td>...</td>\n",
       "      <td>...</td>\n",
       "      <td>...</td>\n",
       "      <td>...</td>\n",
       "      <td>...</td>\n",
       "      <td>...</td>\n",
       "      <td>...</td>\n",
       "    </tr>\n",
       "    <tr>\n",
       "      <th>153</th>\n",
       "      <td>2019</td>\n",
       "      <td>winter wheat</td>\n",
       "      <td>90</td>\n",
       "      <td>144</td>\n",
       "      <td>0.0</td>\n",
       "      <td>7.685</td>\n",
       "      <td>1.103</td>\n",
       "      <td>8</td>\n",
       "    </tr>\n",
       "    <tr>\n",
       "      <th>154</th>\n",
       "      <td>2019</td>\n",
       "      <td>winter wheat</td>\n",
       "      <td>90</td>\n",
       "      <td>144</td>\n",
       "      <td>0.0</td>\n",
       "      <td>4.279</td>\n",
       "      <td>*</td>\n",
       "      <td>8</td>\n",
       "    </tr>\n",
       "    <tr>\n",
       "      <th>155</th>\n",
       "      <td>2019</td>\n",
       "      <td>winter wheat</td>\n",
       "      <td>90</td>\n",
       "      <td>144</td>\n",
       "      <td>0.0</td>\n",
       "      <td>8.102</td>\n",
       "      <td>1.585</td>\n",
       "      <td>8</td>\n",
       "    </tr>\n",
       "    <tr>\n",
       "      <th>156</th>\n",
       "      <td>2019</td>\n",
       "      <td>winter wheat</td>\n",
       "      <td>90</td>\n",
       "      <td>144</td>\n",
       "      <td>0.0</td>\n",
       "      <td>2.667</td>\n",
       "      <td>2.398</td>\n",
       "      <td>8</td>\n",
       "    </tr>\n",
       "    <tr>\n",
       "      <th>157</th>\n",
       "      <td>2019</td>\n",
       "      <td>winter wheat</td>\n",
       "      <td>90</td>\n",
       "      <td>144</td>\n",
       "      <td>0.0</td>\n",
       "      <td>5.357</td>\n",
       "      <td>*</td>\n",
       "      <td>8</td>\n",
       "    </tr>\n",
       "  </tbody>\n",
       "</table>\n",
       "<p>158 rows × 8 columns</p>\n",
       "</div>"
      ],
      "text/plain": [
       "     harvest_year      cropping  k_amount  total_fertilizer_n_amount  \\\n",
       "0            1990  winter wheat        90                        144   \n",
       "1            1990  winter wheat        90                        144   \n",
       "2            1990  winter wheat        90                        144   \n",
       "3            1990  winter wheat        90                        144   \n",
       "4            1990  winter wheat        90                        144   \n",
       "..            ...           ...       ...                        ...   \n",
       "153          2019  winter wheat        90                        144   \n",
       "154          2019  winter wheat        90                        144   \n",
       "155          2019  winter wheat        90                        144   \n",
       "156          2019  winter wheat        90                        144   \n",
       "157          2019  winter wheat        90                        144   \n",
       "\n",
       "     p_amount  grain  straw  strip  \n",
       "0        35.0  7.360      *      8  \n",
       "1        35.0  6.740  2.680      8  \n",
       "2        35.0  8.100      *      8  \n",
       "3        35.0  6.440      *      8  \n",
       "4        35.0  7.720      *      8  \n",
       "..        ...    ...    ...    ...  \n",
       "153       0.0  7.685  1.103      8  \n",
       "154       0.0  4.279      *      8  \n",
       "155       0.0  8.102  1.585      8  \n",
       "156       0.0  2.667  2.398      8  \n",
       "157       0.0  5.357      *      8  \n",
       "\n",
       "[158 rows x 8 columns]"
      ]
     },
     "metadata": {},
     "output_type": "display_data"
    }
   ],
   "source": [
    "# Keep only the desired columns\n",
    "cols_to_keep = ['harvest_year', 'cropping', 'k_amount', 'total_fertilizer_n_amount', 'p_amount', 'grain', 'straw', 'strip']\n",
    "df = df[cols_to_keep]\n",
    "\n",
    "# Filter rows where cropping is 'winter wheat'\n",
    "df = df[df['cropping'] == 'winter wheat']\n",
    "df = df[df['strip'] == 8]\n",
    "\n",
    "df = df[((df['harvest_year'] >= 1990) & (df['harvest_year'] <= 2000)) | ((df['harvest_year'] >= 2010) & (df['harvest_year'] <= 2020))]\n",
    "\n",
    "# Reset index\n",
    "df = df.reset_index(drop=True)\n",
    "\n",
    "# Optionally, display the cleaned dataframe\n",
    "display(df)"
   ]
  },
  {
   "cell_type": "code",
   "execution_count": 4,
   "id": "82709aad",
   "metadata": {},
   "outputs": [],
   "source": [
    "## Export\n",
    "\n",
    "df.to_excel('FilteredInput/cleaned_yield_data.xlsx', index=False)"
   ]
  },
  {
   "cell_type": "code",
   "execution_count": null,
   "id": "d8d5a977",
   "metadata": {},
   "outputs": [
    {
     "data": {
      "text/html": [
       "<div>\n",
       "<style scoped>\n",
       "    .dataframe tbody tr th:only-of-type {\n",
       "        vertical-align: middle;\n",
       "    }\n",
       "\n",
       "    .dataframe tbody tr th {\n",
       "        vertical-align: top;\n",
       "    }\n",
       "\n",
       "    .dataframe thead th {\n",
       "        text-align: right;\n",
       "    }\n",
       "</style>\n",
       "<table border=\"1\" class=\"dataframe\">\n",
       "  <thead>\n",
       "    <tr style=\"text-align: right;\">\n",
       "      <th></th>\n",
       "      <th>harvest_year</th>\n",
       "      <th>cropping</th>\n",
       "      <th>k_amount</th>\n",
       "      <th>total_fertilizer_n_amount</th>\n",
       "      <th>p_amount</th>\n",
       "      <th>grain</th>\n",
       "      <th>straw</th>\n",
       "      <th>strip</th>\n",
       "      <th>CO2e_total_kg</th>\n",
       "    </tr>\n",
       "  </thead>\n",
       "  <tbody>\n",
       "    <tr>\n",
       "      <th>0</th>\n",
       "      <td>1990</td>\n",
       "      <td>winter wheat</td>\n",
       "      <td>90</td>\n",
       "      <td>144</td>\n",
       "      <td>35.0</td>\n",
       "      <td>7.360</td>\n",
       "      <td>*</td>\n",
       "      <td>8</td>\n",
       "      <td>1699.532</td>\n",
       "    </tr>\n",
       "    <tr>\n",
       "      <th>1</th>\n",
       "      <td>1990</td>\n",
       "      <td>winter wheat</td>\n",
       "      <td>90</td>\n",
       "      <td>144</td>\n",
       "      <td>35.0</td>\n",
       "      <td>6.740</td>\n",
       "      <td>2.680</td>\n",
       "      <td>8</td>\n",
       "      <td>1699.532</td>\n",
       "    </tr>\n",
       "    <tr>\n",
       "      <th>2</th>\n",
       "      <td>1990</td>\n",
       "      <td>winter wheat</td>\n",
       "      <td>90</td>\n",
       "      <td>144</td>\n",
       "      <td>35.0</td>\n",
       "      <td>8.100</td>\n",
       "      <td>*</td>\n",
       "      <td>8</td>\n",
       "      <td>1699.532</td>\n",
       "    </tr>\n",
       "    <tr>\n",
       "      <th>3</th>\n",
       "      <td>1990</td>\n",
       "      <td>winter wheat</td>\n",
       "      <td>90</td>\n",
       "      <td>144</td>\n",
       "      <td>35.0</td>\n",
       "      <td>6.440</td>\n",
       "      <td>*</td>\n",
       "      <td>8</td>\n",
       "      <td>1699.532</td>\n",
       "    </tr>\n",
       "    <tr>\n",
       "      <th>4</th>\n",
       "      <td>1990</td>\n",
       "      <td>winter wheat</td>\n",
       "      <td>90</td>\n",
       "      <td>144</td>\n",
       "      <td>35.0</td>\n",
       "      <td>7.720</td>\n",
       "      <td>*</td>\n",
       "      <td>8</td>\n",
       "      <td>1699.532</td>\n",
       "    </tr>\n",
       "    <tr>\n",
       "      <th>...</th>\n",
       "      <td>...</td>\n",
       "      <td>...</td>\n",
       "      <td>...</td>\n",
       "      <td>...</td>\n",
       "      <td>...</td>\n",
       "      <td>...</td>\n",
       "      <td>...</td>\n",
       "      <td>...</td>\n",
       "      <td>...</td>\n",
       "    </tr>\n",
       "    <tr>\n",
       "      <th>153</th>\n",
       "      <td>2019</td>\n",
       "      <td>winter wheat</td>\n",
       "      <td>90</td>\n",
       "      <td>144</td>\n",
       "      <td>0.0</td>\n",
       "      <td>7.685</td>\n",
       "      <td>1.103</td>\n",
       "      <td>8</td>\n",
       "      <td>1664.532</td>\n",
       "    </tr>\n",
       "    <tr>\n",
       "      <th>154</th>\n",
       "      <td>2019</td>\n",
       "      <td>winter wheat</td>\n",
       "      <td>90</td>\n",
       "      <td>144</td>\n",
       "      <td>0.0</td>\n",
       "      <td>4.279</td>\n",
       "      <td>*</td>\n",
       "      <td>8</td>\n",
       "      <td>1664.532</td>\n",
       "    </tr>\n",
       "    <tr>\n",
       "      <th>155</th>\n",
       "      <td>2019</td>\n",
       "      <td>winter wheat</td>\n",
       "      <td>90</td>\n",
       "      <td>144</td>\n",
       "      <td>0.0</td>\n",
       "      <td>8.102</td>\n",
       "      <td>1.585</td>\n",
       "      <td>8</td>\n",
       "      <td>1664.532</td>\n",
       "    </tr>\n",
       "    <tr>\n",
       "      <th>156</th>\n",
       "      <td>2019</td>\n",
       "      <td>winter wheat</td>\n",
       "      <td>90</td>\n",
       "      <td>144</td>\n",
       "      <td>0.0</td>\n",
       "      <td>2.667</td>\n",
       "      <td>2.398</td>\n",
       "      <td>8</td>\n",
       "      <td>1664.532</td>\n",
       "    </tr>\n",
       "    <tr>\n",
       "      <th>157</th>\n",
       "      <td>2019</td>\n",
       "      <td>winter wheat</td>\n",
       "      <td>90</td>\n",
       "      <td>144</td>\n",
       "      <td>0.0</td>\n",
       "      <td>5.357</td>\n",
       "      <td>*</td>\n",
       "      <td>8</td>\n",
       "      <td>1664.532</td>\n",
       "    </tr>\n",
       "  </tbody>\n",
       "</table>\n",
       "<p>158 rows × 9 columns</p>\n",
       "</div>"
      ],
      "text/plain": [
       "     harvest_year      cropping  k_amount  total_fertilizer_n_amount  \\\n",
       "0            1990  winter wheat        90                        144   \n",
       "1            1990  winter wheat        90                        144   \n",
       "2            1990  winter wheat        90                        144   \n",
       "3            1990  winter wheat        90                        144   \n",
       "4            1990  winter wheat        90                        144   \n",
       "..            ...           ...       ...                        ...   \n",
       "153          2019  winter wheat        90                        144   \n",
       "154          2019  winter wheat        90                        144   \n",
       "155          2019  winter wheat        90                        144   \n",
       "156          2019  winter wheat        90                        144   \n",
       "157          2019  winter wheat        90                        144   \n",
       "\n",
       "     p_amount  grain  straw  strip  CO2e_total_kg  \n",
       "0        35.0  7.360      *      8       1699.532  \n",
       "1        35.0  6.740  2.680      8       1699.532  \n",
       "2        35.0  8.100      *      8       1699.532  \n",
       "3        35.0  6.440      *      8       1699.532  \n",
       "4        35.0  7.720      *      8       1699.532  \n",
       "..        ...    ...    ...    ...            ...  \n",
       "153       0.0  7.685  1.103      8       1664.532  \n",
       "154       0.0  4.279      *      8       1664.532  \n",
       "155       0.0  8.102  1.585      8       1664.532  \n",
       "156       0.0  2.667  2.398      8       1664.532  \n",
       "157       0.0  5.357      *      8       1664.532  \n",
       "\n",
       "[158 rows x 9 columns]"
      ]
     },
     "metadata": {},
     "output_type": "display_data"
    }
   ],
   "source": [
    "## Add GHG estimates\n",
    "\n",
    "# IPCC emission factors & conversion values\n",
    "EF1 = 0.01  # direct N2O-N emission factor\n",
    "FracGASF, EF4 = 0.1, 0.01\n",
    "FracLEACH, EF5 = 0.3, 0.0075\n",
    "GWP_N2O = 273\n",
    "conv = 44/28\n",
    "\n",
    "# Upstream emission factors (kg CO2e / kg nutrient)\n",
    "EF_N, EF_P, EF_K = 5.5, 1.0, 0.6\n",
    "\n",
    "def calc_emissions(row):\n",
    "    N = row['total_fertilizer_n_amount']\n",
    "    P = row['p_amount']\n",
    "    K = row['k_amount']\n",
    "\n",
    "    # Direct N2O\n",
    "    n2o_n_direct = N * EF1\n",
    "    # Indirect N2O\n",
    "    n2o_n_vol = N * FracGASF * EF4\n",
    "    n2o_n_leach = N * FracLEACH * EF5\n",
    "\n",
    "    n2o_total = (n2o_n_direct + n2o_n_vol + n2o_n_leach) * conv\n",
    "    co2e_field = n2o_total * GWP_N2O\n",
    "\n",
    "    # Upstream\n",
    "    co2e_upstream = (N * EF_N) + (P * EF_P) + (K * EF_K)\n",
    "\n",
    "    return pd.Series({\n",
    "        \"CO2e_total_kg\": co2e_field + co2e_upstream\n",
    "    })\n",
    "\n",
    "df = df.join(df.apply(calc_emissions, axis=1))\n",
    "\n",
    "display(df)\n",
    "\n",
    "#Source/Justification for upstream EF values (EF_N, EF_P, EF_K):\n",
    "\n",
    "#CarbonChain reports ~2.6 kg CO₂e/kg for N fertilizer production; P ~1.7 kg CO₂e/kg; K ~0.6 kg CO₂e/kg. carbonchain.com\n",
    "#Fertilizer Europe & other industrial LCA studies show N fertilizer production emissions can vary between ~3-10 kg CO₂e/kg N depending on energy source and process. fertilizerseurope.com\n",
    "#IPCC 2006/2019 Guideline refinements provide default emission factors for soil emissions from N application (direct plus indirect). ipcc-nggip.iges.or.jp"
   ]
  },
  {
   "cell_type": "code",
   "execution_count": 6,
   "id": "cf7e93da",
   "metadata": {},
   "outputs": [
    {
     "data": {
      "text/html": [
       "<div>\n",
       "<style scoped>\n",
       "    .dataframe tbody tr th:only-of-type {\n",
       "        vertical-align: middle;\n",
       "    }\n",
       "\n",
       "    .dataframe tbody tr th {\n",
       "        vertical-align: top;\n",
       "    }\n",
       "\n",
       "    .dataframe thead th {\n",
       "        text-align: right;\n",
       "    }\n",
       "</style>\n",
       "<table border=\"1\" class=\"dataframe\">\n",
       "  <thead>\n",
       "    <tr style=\"text-align: right;\">\n",
       "      <th></th>\n",
       "      <th>harvest_year</th>\n",
       "      <th>k_amount</th>\n",
       "      <th>total_fertilizer_n_amount</th>\n",
       "      <th>p_amount</th>\n",
       "      <th>grain</th>\n",
       "      <th>straw</th>\n",
       "      <th>strip</th>\n",
       "      <th>CO2e_total_kg</th>\n",
       "    </tr>\n",
       "    <tr>\n",
       "      <th>harvest_year</th>\n",
       "      <th></th>\n",
       "      <th></th>\n",
       "      <th></th>\n",
       "      <th></th>\n",
       "      <th></th>\n",
       "      <th></th>\n",
       "      <th></th>\n",
       "      <th></th>\n",
       "    </tr>\n",
       "  </thead>\n",
       "  <tbody>\n",
       "    <tr>\n",
       "      <th>1990</th>\n",
       "      <td>1990.0</td>\n",
       "      <td>90.0</td>\n",
       "      <td>144.0</td>\n",
       "      <td>35.0</td>\n",
       "      <td>7.630000</td>\n",
       "      <td>3.275000</td>\n",
       "      <td>8.0</td>\n",
       "      <td>1699.532</td>\n",
       "    </tr>\n",
       "    <tr>\n",
       "      <th>1991</th>\n",
       "      <td>1991.0</td>\n",
       "      <td>90.0</td>\n",
       "      <td>144.0</td>\n",
       "      <td>35.0</td>\n",
       "      <td>7.207500</td>\n",
       "      <td>6.060000</td>\n",
       "      <td>8.0</td>\n",
       "      <td>1699.532</td>\n",
       "    </tr>\n",
       "    <tr>\n",
       "      <th>1992</th>\n",
       "      <td>1992.0</td>\n",
       "      <td>90.0</td>\n",
       "      <td>144.0</td>\n",
       "      <td>35.0</td>\n",
       "      <td>6.883750</td>\n",
       "      <td>4.455000</td>\n",
       "      <td>8.0</td>\n",
       "      <td>1699.532</td>\n",
       "    </tr>\n",
       "    <tr>\n",
       "      <th>1993</th>\n",
       "      <td>1993.0</td>\n",
       "      <td>90.0</td>\n",
       "      <td>144.0</td>\n",
       "      <td>35.0</td>\n",
       "      <td>5.196250</td>\n",
       "      <td>2.540000</td>\n",
       "      <td>8.0</td>\n",
       "      <td>1699.532</td>\n",
       "    </tr>\n",
       "    <tr>\n",
       "      <th>1994</th>\n",
       "      <td>1994.0</td>\n",
       "      <td>90.0</td>\n",
       "      <td>144.0</td>\n",
       "      <td>35.0</td>\n",
       "      <td>6.161429</td>\n",
       "      <td>4.190000</td>\n",
       "      <td>8.0</td>\n",
       "      <td>1699.532</td>\n",
       "    </tr>\n",
       "    <tr>\n",
       "      <th>1995</th>\n",
       "      <td>1995.0</td>\n",
       "      <td>90.0</td>\n",
       "      <td>144.0</td>\n",
       "      <td>35.0</td>\n",
       "      <td>5.926250</td>\n",
       "      <td>2.545000</td>\n",
       "      <td>8.0</td>\n",
       "      <td>1699.532</td>\n",
       "    </tr>\n",
       "    <tr>\n",
       "      <th>1996</th>\n",
       "      <td>1996.0</td>\n",
       "      <td>90.0</td>\n",
       "      <td>144.0</td>\n",
       "      <td>35.0</td>\n",
       "      <td>7.425000</td>\n",
       "      <td>3.827500</td>\n",
       "      <td>8.0</td>\n",
       "      <td>1699.532</td>\n",
       "    </tr>\n",
       "    <tr>\n",
       "      <th>1997</th>\n",
       "      <td>1997.0</td>\n",
       "      <td>90.0</td>\n",
       "      <td>144.0</td>\n",
       "      <td>35.0</td>\n",
       "      <td>6.885000</td>\n",
       "      <td>2.760000</td>\n",
       "      <td>8.0</td>\n",
       "      <td>1699.532</td>\n",
       "    </tr>\n",
       "    <tr>\n",
       "      <th>1998</th>\n",
       "      <td>1998.0</td>\n",
       "      <td>90.0</td>\n",
       "      <td>144.0</td>\n",
       "      <td>35.0</td>\n",
       "      <td>5.166250</td>\n",
       "      <td>4.217500</td>\n",
       "      <td>8.0</td>\n",
       "      <td>1699.532</td>\n",
       "    </tr>\n",
       "    <tr>\n",
       "      <th>1999</th>\n",
       "      <td>1999.0</td>\n",
       "      <td>90.0</td>\n",
       "      <td>144.0</td>\n",
       "      <td>35.0</td>\n",
       "      <td>5.246250</td>\n",
       "      <td>2.515000</td>\n",
       "      <td>8.0</td>\n",
       "      <td>1699.532</td>\n",
       "    </tr>\n",
       "    <tr>\n",
       "      <th>2000</th>\n",
       "      <td>2000.0</td>\n",
       "      <td>90.0</td>\n",
       "      <td>144.0</td>\n",
       "      <td>35.0</td>\n",
       "      <td>5.043750</td>\n",
       "      <td>2.735000</td>\n",
       "      <td>8.0</td>\n",
       "      <td>1699.532</td>\n",
       "    </tr>\n",
       "    <tr>\n",
       "      <th>2010</th>\n",
       "      <td>2010.0</td>\n",
       "      <td>90.0</td>\n",
       "      <td>144.0</td>\n",
       "      <td>0.0</td>\n",
       "      <td>5.607500</td>\n",
       "      <td>2.790000</td>\n",
       "      <td>8.0</td>\n",
       "      <td>1664.532</td>\n",
       "    </tr>\n",
       "    <tr>\n",
       "      <th>2011</th>\n",
       "      <td>2011.0</td>\n",
       "      <td>90.0</td>\n",
       "      <td>144.0</td>\n",
       "      <td>0.0</td>\n",
       "      <td>4.763750</td>\n",
       "      <td>2.076667</td>\n",
       "      <td>8.0</td>\n",
       "      <td>1664.532</td>\n",
       "    </tr>\n",
       "    <tr>\n",
       "      <th>2012</th>\n",
       "      <td>2012.0</td>\n",
       "      <td>90.0</td>\n",
       "      <td>144.0</td>\n",
       "      <td>0.0</td>\n",
       "      <td>5.613750</td>\n",
       "      <td>4.826667</td>\n",
       "      <td>8.0</td>\n",
       "      <td>1664.532</td>\n",
       "    </tr>\n",
       "    <tr>\n",
       "      <th>2013</th>\n",
       "      <td>2013.0</td>\n",
       "      <td>90.0</td>\n",
       "      <td>144.0</td>\n",
       "      <td>0.0</td>\n",
       "      <td>5.706250</td>\n",
       "      <td>3.430000</td>\n",
       "      <td>8.0</td>\n",
       "      <td>1664.532</td>\n",
       "    </tr>\n",
       "    <tr>\n",
       "      <th>2014</th>\n",
       "      <td>2014.0</td>\n",
       "      <td>90.0</td>\n",
       "      <td>144.0</td>\n",
       "      <td>0.0</td>\n",
       "      <td>6.242500</td>\n",
       "      <td>3.810000</td>\n",
       "      <td>8.0</td>\n",
       "      <td>1664.532</td>\n",
       "    </tr>\n",
       "    <tr>\n",
       "      <th>2016</th>\n",
       "      <td>2016.0</td>\n",
       "      <td>90.0</td>\n",
       "      <td>144.0</td>\n",
       "      <td>0.0</td>\n",
       "      <td>6.260000</td>\n",
       "      <td>3.060000</td>\n",
       "      <td>8.0</td>\n",
       "      <td>1664.532</td>\n",
       "    </tr>\n",
       "    <tr>\n",
       "      <th>2017</th>\n",
       "      <td>2017.0</td>\n",
       "      <td>90.0</td>\n",
       "      <td>144.0</td>\n",
       "      <td>0.0</td>\n",
       "      <td>4.947500</td>\n",
       "      <td>2.780000</td>\n",
       "      <td>8.0</td>\n",
       "      <td>1664.532</td>\n",
       "    </tr>\n",
       "    <tr>\n",
       "      <th>2018</th>\n",
       "      <td>2018.0</td>\n",
       "      <td>90.0</td>\n",
       "      <td>144.0</td>\n",
       "      <td>0.0</td>\n",
       "      <td>5.625000</td>\n",
       "      <td>2.172500</td>\n",
       "      <td>8.0</td>\n",
       "      <td>1664.532</td>\n",
       "    </tr>\n",
       "    <tr>\n",
       "      <th>2019</th>\n",
       "      <td>2019.0</td>\n",
       "      <td>90.0</td>\n",
       "      <td>144.0</td>\n",
       "      <td>0.0</td>\n",
       "      <td>5.735625</td>\n",
       "      <td>1.655000</td>\n",
       "      <td>8.0</td>\n",
       "      <td>1664.532</td>\n",
       "    </tr>\n",
       "  </tbody>\n",
       "</table>\n",
       "</div>"
      ],
      "text/plain": [
       "              harvest_year  k_amount  total_fertilizer_n_amount  p_amount  \\\n",
       "harvest_year                                                                \n",
       "1990                1990.0      90.0                      144.0      35.0   \n",
       "1991                1991.0      90.0                      144.0      35.0   \n",
       "1992                1992.0      90.0                      144.0      35.0   \n",
       "1993                1993.0      90.0                      144.0      35.0   \n",
       "1994                1994.0      90.0                      144.0      35.0   \n",
       "1995                1995.0      90.0                      144.0      35.0   \n",
       "1996                1996.0      90.0                      144.0      35.0   \n",
       "1997                1997.0      90.0                      144.0      35.0   \n",
       "1998                1998.0      90.0                      144.0      35.0   \n",
       "1999                1999.0      90.0                      144.0      35.0   \n",
       "2000                2000.0      90.0                      144.0      35.0   \n",
       "2010                2010.0      90.0                      144.0       0.0   \n",
       "2011                2011.0      90.0                      144.0       0.0   \n",
       "2012                2012.0      90.0                      144.0       0.0   \n",
       "2013                2013.0      90.0                      144.0       0.0   \n",
       "2014                2014.0      90.0                      144.0       0.0   \n",
       "2016                2016.0      90.0                      144.0       0.0   \n",
       "2017                2017.0      90.0                      144.0       0.0   \n",
       "2018                2018.0      90.0                      144.0       0.0   \n",
       "2019                2019.0      90.0                      144.0       0.0   \n",
       "\n",
       "                 grain     straw  strip  CO2e_total_kg  \n",
       "harvest_year                                            \n",
       "1990          7.630000  3.275000    8.0       1699.532  \n",
       "1991          7.207500  6.060000    8.0       1699.532  \n",
       "1992          6.883750  4.455000    8.0       1699.532  \n",
       "1993          5.196250  2.540000    8.0       1699.532  \n",
       "1994          6.161429  4.190000    8.0       1699.532  \n",
       "1995          5.926250  2.545000    8.0       1699.532  \n",
       "1996          7.425000  3.827500    8.0       1699.532  \n",
       "1997          6.885000  2.760000    8.0       1699.532  \n",
       "1998          5.166250  4.217500    8.0       1699.532  \n",
       "1999          5.246250  2.515000    8.0       1699.532  \n",
       "2000          5.043750  2.735000    8.0       1699.532  \n",
       "2010          5.607500  2.790000    8.0       1664.532  \n",
       "2011          4.763750  2.076667    8.0       1664.532  \n",
       "2012          5.613750  4.826667    8.0       1664.532  \n",
       "2013          5.706250  3.430000    8.0       1664.532  \n",
       "2014          6.242500  3.810000    8.0       1664.532  \n",
       "2016          6.260000  3.060000    8.0       1664.532  \n",
       "2017          4.947500  2.780000    8.0       1664.532  \n",
       "2018          5.625000  2.172500    8.0       1664.532  \n",
       "2019          5.735625  1.655000    8.0       1664.532  "
      ]
     },
     "metadata": {},
     "output_type": "display_data"
    },
    {
     "data": {
      "text/html": [
       "<div>\n",
       "<style scoped>\n",
       "    .dataframe tbody tr th:only-of-type {\n",
       "        vertical-align: middle;\n",
       "    }\n",
       "\n",
       "    .dataframe tbody tr th {\n",
       "        vertical-align: top;\n",
       "    }\n",
       "\n",
       "    .dataframe thead th {\n",
       "        text-align: right;\n",
       "    }\n",
       "</style>\n",
       "<table border=\"1\" class=\"dataframe\">\n",
       "  <thead>\n",
       "    <tr style=\"text-align: right;\">\n",
       "      <th></th>\n",
       "      <th>harvest_year</th>\n",
       "      <th>k_amount</th>\n",
       "      <th>total_fertilizer_n_amount</th>\n",
       "      <th>p_amount</th>\n",
       "      <th>grain</th>\n",
       "      <th>straw</th>\n",
       "      <th>strip</th>\n",
       "      <th>CO2e_total_kg</th>\n",
       "    </tr>\n",
       "    <tr>\n",
       "      <th>harvest_year</th>\n",
       "      <th></th>\n",
       "      <th></th>\n",
       "      <th></th>\n",
       "      <th></th>\n",
       "      <th></th>\n",
       "      <th></th>\n",
       "      <th></th>\n",
       "      <th></th>\n",
       "    </tr>\n",
       "  </thead>\n",
       "  <tbody>\n",
       "    <tr>\n",
       "      <th>1990</th>\n",
       "      <td>0.0</td>\n",
       "      <td>0.0</td>\n",
       "      <td>0.0</td>\n",
       "      <td>0.0</td>\n",
       "      <td>0.329832</td>\n",
       "      <td>0.297500</td>\n",
       "      <td>0.0</td>\n",
       "      <td>0.000000e+00</td>\n",
       "    </tr>\n",
       "    <tr>\n",
       "      <th>1991</th>\n",
       "      <td>0.0</td>\n",
       "      <td>0.0</td>\n",
       "      <td>0.0</td>\n",
       "      <td>0.0</td>\n",
       "      <td>0.348029</td>\n",
       "      <td>0.250000</td>\n",
       "      <td>0.0</td>\n",
       "      <td>0.000000e+00</td>\n",
       "    </tr>\n",
       "    <tr>\n",
       "      <th>1992</th>\n",
       "      <td>0.0</td>\n",
       "      <td>0.0</td>\n",
       "      <td>0.0</td>\n",
       "      <td>0.0</td>\n",
       "      <td>0.516091</td>\n",
       "      <td>0.512500</td>\n",
       "      <td>0.0</td>\n",
       "      <td>0.000000e+00</td>\n",
       "    </tr>\n",
       "    <tr>\n",
       "      <th>1993</th>\n",
       "      <td>0.0</td>\n",
       "      <td>0.0</td>\n",
       "      <td>0.0</td>\n",
       "      <td>0.0</td>\n",
       "      <td>0.583416</td>\n",
       "      <td>0.280000</td>\n",
       "      <td>0.0</td>\n",
       "      <td>0.000000e+00</td>\n",
       "    </tr>\n",
       "    <tr>\n",
       "      <th>1994</th>\n",
       "      <td>0.0</td>\n",
       "      <td>0.0</td>\n",
       "      <td>0.0</td>\n",
       "      <td>0.0</td>\n",
       "      <td>0.489492</td>\n",
       "      <td>0.384856</td>\n",
       "      <td>0.0</td>\n",
       "      <td>9.282491e-14</td>\n",
       "    </tr>\n",
       "    <tr>\n",
       "      <th>1995</th>\n",
       "      <td>0.0</td>\n",
       "      <td>0.0</td>\n",
       "      <td>0.0</td>\n",
       "      <td>0.0</td>\n",
       "      <td>0.349785</td>\n",
       "      <td>0.022500</td>\n",
       "      <td>0.0</td>\n",
       "      <td>0.000000e+00</td>\n",
       "    </tr>\n",
       "    <tr>\n",
       "      <th>1996</th>\n",
       "      <td>0.0</td>\n",
       "      <td>0.0</td>\n",
       "      <td>0.0</td>\n",
       "      <td>0.0</td>\n",
       "      <td>0.209122</td>\n",
       "      <td>0.256586</td>\n",
       "      <td>0.0</td>\n",
       "      <td>0.000000e+00</td>\n",
       "    </tr>\n",
       "    <tr>\n",
       "      <th>1997</th>\n",
       "      <td>0.0</td>\n",
       "      <td>0.0</td>\n",
       "      <td>0.0</td>\n",
       "      <td>0.0</td>\n",
       "      <td>0.441814</td>\n",
       "      <td>0.343111</td>\n",
       "      <td>0.0</td>\n",
       "      <td>0.000000e+00</td>\n",
       "    </tr>\n",
       "    <tr>\n",
       "      <th>1998</th>\n",
       "      <td>0.0</td>\n",
       "      <td>0.0</td>\n",
       "      <td>0.0</td>\n",
       "      <td>0.0</td>\n",
       "      <td>0.580308</td>\n",
       "      <td>0.261954</td>\n",
       "      <td>0.0</td>\n",
       "      <td>0.000000e+00</td>\n",
       "    </tr>\n",
       "    <tr>\n",
       "      <th>1999</th>\n",
       "      <td>0.0</td>\n",
       "      <td>0.0</td>\n",
       "      <td>0.0</td>\n",
       "      <td>0.0</td>\n",
       "      <td>0.752503</td>\n",
       "      <td>0.595878</td>\n",
       "      <td>0.0</td>\n",
       "      <td>0.000000e+00</td>\n",
       "    </tr>\n",
       "    <tr>\n",
       "      <th>2000</th>\n",
       "      <td>0.0</td>\n",
       "      <td>0.0</td>\n",
       "      <td>0.0</td>\n",
       "      <td>0.0</td>\n",
       "      <td>0.704171</td>\n",
       "      <td>0.161206</td>\n",
       "      <td>0.0</td>\n",
       "      <td>0.000000e+00</td>\n",
       "    </tr>\n",
       "    <tr>\n",
       "      <th>2010</th>\n",
       "      <td>0.0</td>\n",
       "      <td>0.0</td>\n",
       "      <td>0.0</td>\n",
       "      <td>0.0</td>\n",
       "      <td>0.301761</td>\n",
       "      <td>0.081009</td>\n",
       "      <td>0.0</td>\n",
       "      <td>0.000000e+00</td>\n",
       "    </tr>\n",
       "    <tr>\n",
       "      <th>2011</th>\n",
       "      <td>0.0</td>\n",
       "      <td>0.0</td>\n",
       "      <td>0.0</td>\n",
       "      <td>0.0</td>\n",
       "      <td>0.369101</td>\n",
       "      <td>0.291469</td>\n",
       "      <td>0.0</td>\n",
       "      <td>0.000000e+00</td>\n",
       "    </tr>\n",
       "    <tr>\n",
       "      <th>2012</th>\n",
       "      <td>0.0</td>\n",
       "      <td>0.0</td>\n",
       "      <td>0.0</td>\n",
       "      <td>0.0</td>\n",
       "      <td>0.545714</td>\n",
       "      <td>0.354372</td>\n",
       "      <td>0.0</td>\n",
       "      <td>0.000000e+00</td>\n",
       "    </tr>\n",
       "    <tr>\n",
       "      <th>2013</th>\n",
       "      <td>0.0</td>\n",
       "      <td>0.0</td>\n",
       "      <td>0.0</td>\n",
       "      <td>0.0</td>\n",
       "      <td>0.403445</td>\n",
       "      <td>0.274340</td>\n",
       "      <td>0.0</td>\n",
       "      <td>0.000000e+00</td>\n",
       "    </tr>\n",
       "    <tr>\n",
       "      <th>2014</th>\n",
       "      <td>0.0</td>\n",
       "      <td>0.0</td>\n",
       "      <td>0.0</td>\n",
       "      <td>0.0</td>\n",
       "      <td>1.093417</td>\n",
       "      <td>0.297637</td>\n",
       "      <td>0.0</td>\n",
       "      <td>0.000000e+00</td>\n",
       "    </tr>\n",
       "    <tr>\n",
       "      <th>2016</th>\n",
       "      <td>0.0</td>\n",
       "      <td>0.0</td>\n",
       "      <td>0.0</td>\n",
       "      <td>0.0</td>\n",
       "      <td>0.628839</td>\n",
       "      <td>0.288642</td>\n",
       "      <td>0.0</td>\n",
       "      <td>9.282491e-14</td>\n",
       "    </tr>\n",
       "    <tr>\n",
       "      <th>2017</th>\n",
       "      <td>0.0</td>\n",
       "      <td>0.0</td>\n",
       "      <td>0.0</td>\n",
       "      <td>0.0</td>\n",
       "      <td>0.576832</td>\n",
       "      <td>0.647814</td>\n",
       "      <td>0.0</td>\n",
       "      <td>0.000000e+00</td>\n",
       "    </tr>\n",
       "    <tr>\n",
       "      <th>2018</th>\n",
       "      <td>0.0</td>\n",
       "      <td>0.0</td>\n",
       "      <td>0.0</td>\n",
       "      <td>0.0</td>\n",
       "      <td>0.317973</td>\n",
       "      <td>0.211667</td>\n",
       "      <td>0.0</td>\n",
       "      <td>0.000000e+00</td>\n",
       "    </tr>\n",
       "    <tr>\n",
       "      <th>2019</th>\n",
       "      <td>0.0</td>\n",
       "      <td>0.0</td>\n",
       "      <td>0.0</td>\n",
       "      <td>0.0</td>\n",
       "      <td>0.648820</td>\n",
       "      <td>0.191082</td>\n",
       "      <td>0.0</td>\n",
       "      <td>0.000000e+00</td>\n",
       "    </tr>\n",
       "  </tbody>\n",
       "</table>\n",
       "</div>"
      ],
      "text/plain": [
       "              harvest_year  k_amount  total_fertilizer_n_amount  p_amount  \\\n",
       "harvest_year                                                                \n",
       "1990                   0.0       0.0                        0.0       0.0   \n",
       "1991                   0.0       0.0                        0.0       0.0   \n",
       "1992                   0.0       0.0                        0.0       0.0   \n",
       "1993                   0.0       0.0                        0.0       0.0   \n",
       "1994                   0.0       0.0                        0.0       0.0   \n",
       "1995                   0.0       0.0                        0.0       0.0   \n",
       "1996                   0.0       0.0                        0.0       0.0   \n",
       "1997                   0.0       0.0                        0.0       0.0   \n",
       "1998                   0.0       0.0                        0.0       0.0   \n",
       "1999                   0.0       0.0                        0.0       0.0   \n",
       "2000                   0.0       0.0                        0.0       0.0   \n",
       "2010                   0.0       0.0                        0.0       0.0   \n",
       "2011                   0.0       0.0                        0.0       0.0   \n",
       "2012                   0.0       0.0                        0.0       0.0   \n",
       "2013                   0.0       0.0                        0.0       0.0   \n",
       "2014                   0.0       0.0                        0.0       0.0   \n",
       "2016                   0.0       0.0                        0.0       0.0   \n",
       "2017                   0.0       0.0                        0.0       0.0   \n",
       "2018                   0.0       0.0                        0.0       0.0   \n",
       "2019                   0.0       0.0                        0.0       0.0   \n",
       "\n",
       "                 grain     straw  strip  CO2e_total_kg  \n",
       "harvest_year                                            \n",
       "1990          0.329832  0.297500    0.0   0.000000e+00  \n",
       "1991          0.348029  0.250000    0.0   0.000000e+00  \n",
       "1992          0.516091  0.512500    0.0   0.000000e+00  \n",
       "1993          0.583416  0.280000    0.0   0.000000e+00  \n",
       "1994          0.489492  0.384856    0.0   9.282491e-14  \n",
       "1995          0.349785  0.022500    0.0   0.000000e+00  \n",
       "1996          0.209122  0.256586    0.0   0.000000e+00  \n",
       "1997          0.441814  0.343111    0.0   0.000000e+00  \n",
       "1998          0.580308  0.261954    0.0   0.000000e+00  \n",
       "1999          0.752503  0.595878    0.0   0.000000e+00  \n",
       "2000          0.704171  0.161206    0.0   0.000000e+00  \n",
       "2010          0.301761  0.081009    0.0   0.000000e+00  \n",
       "2011          0.369101  0.291469    0.0   0.000000e+00  \n",
       "2012          0.545714  0.354372    0.0   0.000000e+00  \n",
       "2013          0.403445  0.274340    0.0   0.000000e+00  \n",
       "2014          1.093417  0.297637    0.0   0.000000e+00  \n",
       "2016          0.628839  0.288642    0.0   9.282491e-14  \n",
       "2017          0.576832  0.647814    0.0   0.000000e+00  \n",
       "2018          0.317973  0.211667    0.0   0.000000e+00  \n",
       "2019          0.648820  0.191082    0.0   0.000000e+00  "
      ]
     },
     "metadata": {},
     "output_type": "display_data"
    }
   ],
   "source": [
    "import numpy as np\n",
    "\n",
    "# Replace '*' with NaN and convert columns to numeric\n",
    "df['grain'] = pd.to_numeric(df['grain'].replace('*', np.nan))\n",
    "df['straw'] = pd.to_numeric(df['straw'].replace('*', np.nan))\n",
    "\n",
    "# Now proceed with your summary and stderr calculations\n",
    "numeric_cols = df.select_dtypes(include=np.number).columns.tolist()\n",
    "summary_df = df.groupby('harvest_year')[numeric_cols].mean()\n",
    "stderr_df = df.groupby('harvest_year')[numeric_cols].agg(lambda x: np.std(x, ddof=1) / np.sqrt(len(x)))\n",
    "\n",
    "# Export both to Excel (each as a separate sheet)\n",
    "with pd.ExcelWriter('FilteredInput/yield_summary.xlsx') as writer:\n",
    "    summary_df.to_excel(writer, sheet_name='Mean')\n",
    "    stderr_df.to_excel(writer, sheet_name='StdError')\n",
    "\n",
    "display(summary_df)\n",
    "display(stderr_df)"
   ]
  },
  {
   "cell_type": "code",
   "execution_count": 7,
   "id": "5e5968dd",
   "metadata": {},
   "outputs": [
    {
     "data": {
      "application/vnd.plotly.v1+json": {
       "config": {
        "plotlyServerURL": "https://plot.ly"
       },
       "data": [
        {
         "error_y": {
          "array": [
           0.32983220842465594,
           0.3480288883740215,
           0.516090860978679,
           0.5834164694159004,
           0.4894916146537411,
           0.3497853295747469,
           0.20912231554079264,
           0.44181444068749043,
           0.580307607776132,
           0.7525028179823836,
           0.7041710869120211
          ],
          "type": "data"
         },
         "mode": "lines+markers",
         "name": "Grain",
         "type": "scatter",
         "x": [
          1990,
          1991,
          1992,
          1993,
          1994,
          1995,
          1996,
          1997,
          1998,
          1999,
          2000
         ],
         "y": [
          7.63,
          7.2075,
          6.88375,
          5.19625,
          6.161428571428572,
          5.92625,
          7.425,
          6.885,
          5.16625,
          5.24625,
          5.04375
         ]
        },
        {
         "error_y": {
          "array": [
           0.2975,
           0.25,
           0.5125000000000001,
           0.28,
           0.38485618835389107,
           0.022499999999999964,
           0.25658616161697684,
           0.34311076928595524,
           0.26195379681666514,
           0.5958782034387003,
           0.16120638945153506
          ],
          "type": "data"
         },
         "mode": "lines+markers",
         "name": "Straw",
         "type": "scatter",
         "x": [
          1990,
          1991,
          1992,
          1993,
          1994,
          1995,
          1996,
          1997,
          1998,
          1999,
          2000
         ],
         "y": [
          3.2750000000000004,
          6.06,
          4.455,
          2.54,
          4.19,
          2.545,
          3.8275,
          2.76,
          4.2175,
          2.5149999999999997,
          2.735
         ]
        }
       ],
       "layout": {
        "legend": {
         "title": {
          "text": "Variable"
         }
        },
        "template": {
         "data": {
          "bar": [
           {
            "error_x": {
             "color": "#2a3f5f"
            },
            "error_y": {
             "color": "#2a3f5f"
            },
            "marker": {
             "line": {
              "color": "#E5ECF6",
              "width": 0.5
             },
             "pattern": {
              "fillmode": "overlay",
              "size": 10,
              "solidity": 0.2
             }
            },
            "type": "bar"
           }
          ],
          "barpolar": [
           {
            "marker": {
             "line": {
              "color": "#E5ECF6",
              "width": 0.5
             },
             "pattern": {
              "fillmode": "overlay",
              "size": 10,
              "solidity": 0.2
             }
            },
            "type": "barpolar"
           }
          ],
          "carpet": [
           {
            "aaxis": {
             "endlinecolor": "#2a3f5f",
             "gridcolor": "white",
             "linecolor": "white",
             "minorgridcolor": "white",
             "startlinecolor": "#2a3f5f"
            },
            "baxis": {
             "endlinecolor": "#2a3f5f",
             "gridcolor": "white",
             "linecolor": "white",
             "minorgridcolor": "white",
             "startlinecolor": "#2a3f5f"
            },
            "type": "carpet"
           }
          ],
          "choropleth": [
           {
            "colorbar": {
             "outlinewidth": 0,
             "ticks": ""
            },
            "type": "choropleth"
           }
          ],
          "contour": [
           {
            "colorbar": {
             "outlinewidth": 0,
             "ticks": ""
            },
            "colorscale": [
             [
              0,
              "#0d0887"
             ],
             [
              0.1111111111111111,
              "#46039f"
             ],
             [
              0.2222222222222222,
              "#7201a8"
             ],
             [
              0.3333333333333333,
              "#9c179e"
             ],
             [
              0.4444444444444444,
              "#bd3786"
             ],
             [
              0.5555555555555556,
              "#d8576b"
             ],
             [
              0.6666666666666666,
              "#ed7953"
             ],
             [
              0.7777777777777778,
              "#fb9f3a"
             ],
             [
              0.8888888888888888,
              "#fdca26"
             ],
             [
              1,
              "#f0f921"
             ]
            ],
            "type": "contour"
           }
          ],
          "contourcarpet": [
           {
            "colorbar": {
             "outlinewidth": 0,
             "ticks": ""
            },
            "type": "contourcarpet"
           }
          ],
          "heatmap": [
           {
            "colorbar": {
             "outlinewidth": 0,
             "ticks": ""
            },
            "colorscale": [
             [
              0,
              "#0d0887"
             ],
             [
              0.1111111111111111,
              "#46039f"
             ],
             [
              0.2222222222222222,
              "#7201a8"
             ],
             [
              0.3333333333333333,
              "#9c179e"
             ],
             [
              0.4444444444444444,
              "#bd3786"
             ],
             [
              0.5555555555555556,
              "#d8576b"
             ],
             [
              0.6666666666666666,
              "#ed7953"
             ],
             [
              0.7777777777777778,
              "#fb9f3a"
             ],
             [
              0.8888888888888888,
              "#fdca26"
             ],
             [
              1,
              "#f0f921"
             ]
            ],
            "type": "heatmap"
           }
          ],
          "heatmapgl": [
           {
            "colorbar": {
             "outlinewidth": 0,
             "ticks": ""
            },
            "colorscale": [
             [
              0,
              "#0d0887"
             ],
             [
              0.1111111111111111,
              "#46039f"
             ],
             [
              0.2222222222222222,
              "#7201a8"
             ],
             [
              0.3333333333333333,
              "#9c179e"
             ],
             [
              0.4444444444444444,
              "#bd3786"
             ],
             [
              0.5555555555555556,
              "#d8576b"
             ],
             [
              0.6666666666666666,
              "#ed7953"
             ],
             [
              0.7777777777777778,
              "#fb9f3a"
             ],
             [
              0.8888888888888888,
              "#fdca26"
             ],
             [
              1,
              "#f0f921"
             ]
            ],
            "type": "heatmapgl"
           }
          ],
          "histogram": [
           {
            "marker": {
             "pattern": {
              "fillmode": "overlay",
              "size": 10,
              "solidity": 0.2
             }
            },
            "type": "histogram"
           }
          ],
          "histogram2d": [
           {
            "colorbar": {
             "outlinewidth": 0,
             "ticks": ""
            },
            "colorscale": [
             [
              0,
              "#0d0887"
             ],
             [
              0.1111111111111111,
              "#46039f"
             ],
             [
              0.2222222222222222,
              "#7201a8"
             ],
             [
              0.3333333333333333,
              "#9c179e"
             ],
             [
              0.4444444444444444,
              "#bd3786"
             ],
             [
              0.5555555555555556,
              "#d8576b"
             ],
             [
              0.6666666666666666,
              "#ed7953"
             ],
             [
              0.7777777777777778,
              "#fb9f3a"
             ],
             [
              0.8888888888888888,
              "#fdca26"
             ],
             [
              1,
              "#f0f921"
             ]
            ],
            "type": "histogram2d"
           }
          ],
          "histogram2dcontour": [
           {
            "colorbar": {
             "outlinewidth": 0,
             "ticks": ""
            },
            "colorscale": [
             [
              0,
              "#0d0887"
             ],
             [
              0.1111111111111111,
              "#46039f"
             ],
             [
              0.2222222222222222,
              "#7201a8"
             ],
             [
              0.3333333333333333,
              "#9c179e"
             ],
             [
              0.4444444444444444,
              "#bd3786"
             ],
             [
              0.5555555555555556,
              "#d8576b"
             ],
             [
              0.6666666666666666,
              "#ed7953"
             ],
             [
              0.7777777777777778,
              "#fb9f3a"
             ],
             [
              0.8888888888888888,
              "#fdca26"
             ],
             [
              1,
              "#f0f921"
             ]
            ],
            "type": "histogram2dcontour"
           }
          ],
          "mesh3d": [
           {
            "colorbar": {
             "outlinewidth": 0,
             "ticks": ""
            },
            "type": "mesh3d"
           }
          ],
          "parcoords": [
           {
            "line": {
             "colorbar": {
              "outlinewidth": 0,
              "ticks": ""
             }
            },
            "type": "parcoords"
           }
          ],
          "pie": [
           {
            "automargin": true,
            "type": "pie"
           }
          ],
          "scatter": [
           {
            "fillpattern": {
             "fillmode": "overlay",
             "size": 10,
             "solidity": 0.2
            },
            "type": "scatter"
           }
          ],
          "scatter3d": [
           {
            "line": {
             "colorbar": {
              "outlinewidth": 0,
              "ticks": ""
             }
            },
            "marker": {
             "colorbar": {
              "outlinewidth": 0,
              "ticks": ""
             }
            },
            "type": "scatter3d"
           }
          ],
          "scattercarpet": [
           {
            "marker": {
             "colorbar": {
              "outlinewidth": 0,
              "ticks": ""
             }
            },
            "type": "scattercarpet"
           }
          ],
          "scattergeo": [
           {
            "marker": {
             "colorbar": {
              "outlinewidth": 0,
              "ticks": ""
             }
            },
            "type": "scattergeo"
           }
          ],
          "scattergl": [
           {
            "marker": {
             "colorbar": {
              "outlinewidth": 0,
              "ticks": ""
             }
            },
            "type": "scattergl"
           }
          ],
          "scattermapbox": [
           {
            "marker": {
             "colorbar": {
              "outlinewidth": 0,
              "ticks": ""
             }
            },
            "type": "scattermapbox"
           }
          ],
          "scatterpolar": [
           {
            "marker": {
             "colorbar": {
              "outlinewidth": 0,
              "ticks": ""
             }
            },
            "type": "scatterpolar"
           }
          ],
          "scatterpolargl": [
           {
            "marker": {
             "colorbar": {
              "outlinewidth": 0,
              "ticks": ""
             }
            },
            "type": "scatterpolargl"
           }
          ],
          "scatterternary": [
           {
            "marker": {
             "colorbar": {
              "outlinewidth": 0,
              "ticks": ""
             }
            },
            "type": "scatterternary"
           }
          ],
          "surface": [
           {
            "colorbar": {
             "outlinewidth": 0,
             "ticks": ""
            },
            "colorscale": [
             [
              0,
              "#0d0887"
             ],
             [
              0.1111111111111111,
              "#46039f"
             ],
             [
              0.2222222222222222,
              "#7201a8"
             ],
             [
              0.3333333333333333,
              "#9c179e"
             ],
             [
              0.4444444444444444,
              "#bd3786"
             ],
             [
              0.5555555555555556,
              "#d8576b"
             ],
             [
              0.6666666666666666,
              "#ed7953"
             ],
             [
              0.7777777777777778,
              "#fb9f3a"
             ],
             [
              0.8888888888888888,
              "#fdca26"
             ],
             [
              1,
              "#f0f921"
             ]
            ],
            "type": "surface"
           }
          ],
          "table": [
           {
            "cells": {
             "fill": {
              "color": "#EBF0F8"
             },
             "line": {
              "color": "white"
             }
            },
            "header": {
             "fill": {
              "color": "#C8D4E3"
             },
             "line": {
              "color": "white"
             }
            },
            "type": "table"
           }
          ]
         },
         "layout": {
          "annotationdefaults": {
           "arrowcolor": "#2a3f5f",
           "arrowhead": 0,
           "arrowwidth": 1
          },
          "autotypenumbers": "strict",
          "coloraxis": {
           "colorbar": {
            "outlinewidth": 0,
            "ticks": ""
           }
          },
          "colorscale": {
           "diverging": [
            [
             0,
             "#8e0152"
            ],
            [
             0.1,
             "#c51b7d"
            ],
            [
             0.2,
             "#de77ae"
            ],
            [
             0.3,
             "#f1b6da"
            ],
            [
             0.4,
             "#fde0ef"
            ],
            [
             0.5,
             "#f7f7f7"
            ],
            [
             0.6,
             "#e6f5d0"
            ],
            [
             0.7,
             "#b8e186"
            ],
            [
             0.8,
             "#7fbc41"
            ],
            [
             0.9,
             "#4d9221"
            ],
            [
             1,
             "#276419"
            ]
           ],
           "sequential": [
            [
             0,
             "#0d0887"
            ],
            [
             0.1111111111111111,
             "#46039f"
            ],
            [
             0.2222222222222222,
             "#7201a8"
            ],
            [
             0.3333333333333333,
             "#9c179e"
            ],
            [
             0.4444444444444444,
             "#bd3786"
            ],
            [
             0.5555555555555556,
             "#d8576b"
            ],
            [
             0.6666666666666666,
             "#ed7953"
            ],
            [
             0.7777777777777778,
             "#fb9f3a"
            ],
            [
             0.8888888888888888,
             "#fdca26"
            ],
            [
             1,
             "#f0f921"
            ]
           ],
           "sequentialminus": [
            [
             0,
             "#0d0887"
            ],
            [
             0.1111111111111111,
             "#46039f"
            ],
            [
             0.2222222222222222,
             "#7201a8"
            ],
            [
             0.3333333333333333,
             "#9c179e"
            ],
            [
             0.4444444444444444,
             "#bd3786"
            ],
            [
             0.5555555555555556,
             "#d8576b"
            ],
            [
             0.6666666666666666,
             "#ed7953"
            ],
            [
             0.7777777777777778,
             "#fb9f3a"
            ],
            [
             0.8888888888888888,
             "#fdca26"
            ],
            [
             1,
             "#f0f921"
            ]
           ]
          },
          "colorway": [
           "#636efa",
           "#EF553B",
           "#00cc96",
           "#ab63fa",
           "#FFA15A",
           "#19d3f3",
           "#FF6692",
           "#B6E880",
           "#FF97FF",
           "#FECB52"
          ],
          "font": {
           "color": "#2a3f5f"
          },
          "geo": {
           "bgcolor": "white",
           "lakecolor": "white",
           "landcolor": "#E5ECF6",
           "showlakes": true,
           "showland": true,
           "subunitcolor": "white"
          },
          "hoverlabel": {
           "align": "left"
          },
          "hovermode": "closest",
          "mapbox": {
           "style": "light"
          },
          "paper_bgcolor": "white",
          "plot_bgcolor": "#E5ECF6",
          "polar": {
           "angularaxis": {
            "gridcolor": "white",
            "linecolor": "white",
            "ticks": ""
           },
           "bgcolor": "#E5ECF6",
           "radialaxis": {
            "gridcolor": "white",
            "linecolor": "white",
            "ticks": ""
           }
          },
          "scene": {
           "xaxis": {
            "backgroundcolor": "#E5ECF6",
            "gridcolor": "white",
            "gridwidth": 2,
            "linecolor": "white",
            "showbackground": true,
            "ticks": "",
            "zerolinecolor": "white"
           },
           "yaxis": {
            "backgroundcolor": "#E5ECF6",
            "gridcolor": "white",
            "gridwidth": 2,
            "linecolor": "white",
            "showbackground": true,
            "ticks": "",
            "zerolinecolor": "white"
           },
           "zaxis": {
            "backgroundcolor": "#E5ECF6",
            "gridcolor": "white",
            "gridwidth": 2,
            "linecolor": "white",
            "showbackground": true,
            "ticks": "",
            "zerolinecolor": "white"
           }
          },
          "shapedefaults": {
           "line": {
            "color": "#2a3f5f"
           }
          },
          "ternary": {
           "aaxis": {
            "gridcolor": "white",
            "linecolor": "white",
            "ticks": ""
           },
           "baxis": {
            "gridcolor": "white",
            "linecolor": "white",
            "ticks": ""
           },
           "bgcolor": "#E5ECF6",
           "caxis": {
            "gridcolor": "white",
            "linecolor": "white",
            "ticks": ""
           }
          },
          "title": {
           "x": 0.05
          },
          "xaxis": {
           "automargin": true,
           "gridcolor": "white",
           "linecolor": "white",
           "ticks": "",
           "title": {
            "standoff": 15
           },
           "zerolinecolor": "white",
           "zerolinewidth": 2
          },
          "yaxis": {
           "automargin": true,
           "gridcolor": "white",
           "linecolor": "white",
           "ticks": "",
           "title": {
            "standoff": 15
           },
           "zerolinecolor": "white",
           "zerolinewidth": 2
          }
         }
        },
        "title": {
         "text": "Grain and Straw (1990-2000)"
        },
        "xaxis": {
         "title": {
          "text": "Harvest Year"
         }
        },
        "yaxis": {
         "title": {
          "text": "Yield (t/ha at 85% dry matter)"
         }
        }
       }
      }
     },
     "metadata": {},
     "output_type": "display_data"
    },
    {
     "data": {
      "application/vnd.plotly.v1+json": {
       "config": {
        "plotlyServerURL": "https://plot.ly"
       },
       "data": [
        {
         "error_y": {
          "array": [
           0.3017611993424129,
           0.3691009226098311,
           0.5457136137336924,
           0.4034447098780345,
           1.0934165818335533,
           0.628838687771431,
           0.5768317097980756,
           0.31797349395373015,
           0.6488199160646525
          ],
          "type": "data"
         },
         "mode": "lines+markers",
         "name": "Grain",
         "type": "scatter",
         "x": [
          2010,
          2011,
          2012,
          2013,
          2014,
          2016,
          2017,
          2018,
          2019
         ],
         "y": [
          5.6075,
          4.76375,
          5.61375,
          5.70625,
          6.2425,
          6.26,
          4.9475,
          5.625,
          5.735625
         ]
        },
        {
         "error_y": {
          "array": [
           0.08100925873009827,
           0.2914689806251544,
           0.35437150938904033,
           0.2743401173725783,
           0.297636523296453,
           0.2886421412654184,
           0.6478136306068282,
           0.21166748687505121,
           0.1910817887711961
          ],
          "type": "data"
         },
         "mode": "lines+markers",
         "name": "Straw",
         "type": "scatter",
         "x": [
          2010,
          2011,
          2012,
          2013,
          2014,
          2016,
          2017,
          2018,
          2019
         ],
         "y": [
          2.7900000000000005,
          2.0766666666666667,
          4.826666666666667,
          3.4299999999999997,
          3.81,
          3.06,
          2.78,
          2.1725,
          1.655
         ]
        }
       ],
       "layout": {
        "legend": {
         "title": {
          "text": "Variable"
         }
        },
        "template": {
         "data": {
          "bar": [
           {
            "error_x": {
             "color": "#2a3f5f"
            },
            "error_y": {
             "color": "#2a3f5f"
            },
            "marker": {
             "line": {
              "color": "#E5ECF6",
              "width": 0.5
             },
             "pattern": {
              "fillmode": "overlay",
              "size": 10,
              "solidity": 0.2
             }
            },
            "type": "bar"
           }
          ],
          "barpolar": [
           {
            "marker": {
             "line": {
              "color": "#E5ECF6",
              "width": 0.5
             },
             "pattern": {
              "fillmode": "overlay",
              "size": 10,
              "solidity": 0.2
             }
            },
            "type": "barpolar"
           }
          ],
          "carpet": [
           {
            "aaxis": {
             "endlinecolor": "#2a3f5f",
             "gridcolor": "white",
             "linecolor": "white",
             "minorgridcolor": "white",
             "startlinecolor": "#2a3f5f"
            },
            "baxis": {
             "endlinecolor": "#2a3f5f",
             "gridcolor": "white",
             "linecolor": "white",
             "minorgridcolor": "white",
             "startlinecolor": "#2a3f5f"
            },
            "type": "carpet"
           }
          ],
          "choropleth": [
           {
            "colorbar": {
             "outlinewidth": 0,
             "ticks": ""
            },
            "type": "choropleth"
           }
          ],
          "contour": [
           {
            "colorbar": {
             "outlinewidth": 0,
             "ticks": ""
            },
            "colorscale": [
             [
              0,
              "#0d0887"
             ],
             [
              0.1111111111111111,
              "#46039f"
             ],
             [
              0.2222222222222222,
              "#7201a8"
             ],
             [
              0.3333333333333333,
              "#9c179e"
             ],
             [
              0.4444444444444444,
              "#bd3786"
             ],
             [
              0.5555555555555556,
              "#d8576b"
             ],
             [
              0.6666666666666666,
              "#ed7953"
             ],
             [
              0.7777777777777778,
              "#fb9f3a"
             ],
             [
              0.8888888888888888,
              "#fdca26"
             ],
             [
              1,
              "#f0f921"
             ]
            ],
            "type": "contour"
           }
          ],
          "contourcarpet": [
           {
            "colorbar": {
             "outlinewidth": 0,
             "ticks": ""
            },
            "type": "contourcarpet"
           }
          ],
          "heatmap": [
           {
            "colorbar": {
             "outlinewidth": 0,
             "ticks": ""
            },
            "colorscale": [
             [
              0,
              "#0d0887"
             ],
             [
              0.1111111111111111,
              "#46039f"
             ],
             [
              0.2222222222222222,
              "#7201a8"
             ],
             [
              0.3333333333333333,
              "#9c179e"
             ],
             [
              0.4444444444444444,
              "#bd3786"
             ],
             [
              0.5555555555555556,
              "#d8576b"
             ],
             [
              0.6666666666666666,
              "#ed7953"
             ],
             [
              0.7777777777777778,
              "#fb9f3a"
             ],
             [
              0.8888888888888888,
              "#fdca26"
             ],
             [
              1,
              "#f0f921"
             ]
            ],
            "type": "heatmap"
           }
          ],
          "heatmapgl": [
           {
            "colorbar": {
             "outlinewidth": 0,
             "ticks": ""
            },
            "colorscale": [
             [
              0,
              "#0d0887"
             ],
             [
              0.1111111111111111,
              "#46039f"
             ],
             [
              0.2222222222222222,
              "#7201a8"
             ],
             [
              0.3333333333333333,
              "#9c179e"
             ],
             [
              0.4444444444444444,
              "#bd3786"
             ],
             [
              0.5555555555555556,
              "#d8576b"
             ],
             [
              0.6666666666666666,
              "#ed7953"
             ],
             [
              0.7777777777777778,
              "#fb9f3a"
             ],
             [
              0.8888888888888888,
              "#fdca26"
             ],
             [
              1,
              "#f0f921"
             ]
            ],
            "type": "heatmapgl"
           }
          ],
          "histogram": [
           {
            "marker": {
             "pattern": {
              "fillmode": "overlay",
              "size": 10,
              "solidity": 0.2
             }
            },
            "type": "histogram"
           }
          ],
          "histogram2d": [
           {
            "colorbar": {
             "outlinewidth": 0,
             "ticks": ""
            },
            "colorscale": [
             [
              0,
              "#0d0887"
             ],
             [
              0.1111111111111111,
              "#46039f"
             ],
             [
              0.2222222222222222,
              "#7201a8"
             ],
             [
              0.3333333333333333,
              "#9c179e"
             ],
             [
              0.4444444444444444,
              "#bd3786"
             ],
             [
              0.5555555555555556,
              "#d8576b"
             ],
             [
              0.6666666666666666,
              "#ed7953"
             ],
             [
              0.7777777777777778,
              "#fb9f3a"
             ],
             [
              0.8888888888888888,
              "#fdca26"
             ],
             [
              1,
              "#f0f921"
             ]
            ],
            "type": "histogram2d"
           }
          ],
          "histogram2dcontour": [
           {
            "colorbar": {
             "outlinewidth": 0,
             "ticks": ""
            },
            "colorscale": [
             [
              0,
              "#0d0887"
             ],
             [
              0.1111111111111111,
              "#46039f"
             ],
             [
              0.2222222222222222,
              "#7201a8"
             ],
             [
              0.3333333333333333,
              "#9c179e"
             ],
             [
              0.4444444444444444,
              "#bd3786"
             ],
             [
              0.5555555555555556,
              "#d8576b"
             ],
             [
              0.6666666666666666,
              "#ed7953"
             ],
             [
              0.7777777777777778,
              "#fb9f3a"
             ],
             [
              0.8888888888888888,
              "#fdca26"
             ],
             [
              1,
              "#f0f921"
             ]
            ],
            "type": "histogram2dcontour"
           }
          ],
          "mesh3d": [
           {
            "colorbar": {
             "outlinewidth": 0,
             "ticks": ""
            },
            "type": "mesh3d"
           }
          ],
          "parcoords": [
           {
            "line": {
             "colorbar": {
              "outlinewidth": 0,
              "ticks": ""
             }
            },
            "type": "parcoords"
           }
          ],
          "pie": [
           {
            "automargin": true,
            "type": "pie"
           }
          ],
          "scatter": [
           {
            "fillpattern": {
             "fillmode": "overlay",
             "size": 10,
             "solidity": 0.2
            },
            "type": "scatter"
           }
          ],
          "scatter3d": [
           {
            "line": {
             "colorbar": {
              "outlinewidth": 0,
              "ticks": ""
             }
            },
            "marker": {
             "colorbar": {
              "outlinewidth": 0,
              "ticks": ""
             }
            },
            "type": "scatter3d"
           }
          ],
          "scattercarpet": [
           {
            "marker": {
             "colorbar": {
              "outlinewidth": 0,
              "ticks": ""
             }
            },
            "type": "scattercarpet"
           }
          ],
          "scattergeo": [
           {
            "marker": {
             "colorbar": {
              "outlinewidth": 0,
              "ticks": ""
             }
            },
            "type": "scattergeo"
           }
          ],
          "scattergl": [
           {
            "marker": {
             "colorbar": {
              "outlinewidth": 0,
              "ticks": ""
             }
            },
            "type": "scattergl"
           }
          ],
          "scattermapbox": [
           {
            "marker": {
             "colorbar": {
              "outlinewidth": 0,
              "ticks": ""
             }
            },
            "type": "scattermapbox"
           }
          ],
          "scatterpolar": [
           {
            "marker": {
             "colorbar": {
              "outlinewidth": 0,
              "ticks": ""
             }
            },
            "type": "scatterpolar"
           }
          ],
          "scatterpolargl": [
           {
            "marker": {
             "colorbar": {
              "outlinewidth": 0,
              "ticks": ""
             }
            },
            "type": "scatterpolargl"
           }
          ],
          "scatterternary": [
           {
            "marker": {
             "colorbar": {
              "outlinewidth": 0,
              "ticks": ""
             }
            },
            "type": "scatterternary"
           }
          ],
          "surface": [
           {
            "colorbar": {
             "outlinewidth": 0,
             "ticks": ""
            },
            "colorscale": [
             [
              0,
              "#0d0887"
             ],
             [
              0.1111111111111111,
              "#46039f"
             ],
             [
              0.2222222222222222,
              "#7201a8"
             ],
             [
              0.3333333333333333,
              "#9c179e"
             ],
             [
              0.4444444444444444,
              "#bd3786"
             ],
             [
              0.5555555555555556,
              "#d8576b"
             ],
             [
              0.6666666666666666,
              "#ed7953"
             ],
             [
              0.7777777777777778,
              "#fb9f3a"
             ],
             [
              0.8888888888888888,
              "#fdca26"
             ],
             [
              1,
              "#f0f921"
             ]
            ],
            "type": "surface"
           }
          ],
          "table": [
           {
            "cells": {
             "fill": {
              "color": "#EBF0F8"
             },
             "line": {
              "color": "white"
             }
            },
            "header": {
             "fill": {
              "color": "#C8D4E3"
             },
             "line": {
              "color": "white"
             }
            },
            "type": "table"
           }
          ]
         },
         "layout": {
          "annotationdefaults": {
           "arrowcolor": "#2a3f5f",
           "arrowhead": 0,
           "arrowwidth": 1
          },
          "autotypenumbers": "strict",
          "coloraxis": {
           "colorbar": {
            "outlinewidth": 0,
            "ticks": ""
           }
          },
          "colorscale": {
           "diverging": [
            [
             0,
             "#8e0152"
            ],
            [
             0.1,
             "#c51b7d"
            ],
            [
             0.2,
             "#de77ae"
            ],
            [
             0.3,
             "#f1b6da"
            ],
            [
             0.4,
             "#fde0ef"
            ],
            [
             0.5,
             "#f7f7f7"
            ],
            [
             0.6,
             "#e6f5d0"
            ],
            [
             0.7,
             "#b8e186"
            ],
            [
             0.8,
             "#7fbc41"
            ],
            [
             0.9,
             "#4d9221"
            ],
            [
             1,
             "#276419"
            ]
           ],
           "sequential": [
            [
             0,
             "#0d0887"
            ],
            [
             0.1111111111111111,
             "#46039f"
            ],
            [
             0.2222222222222222,
             "#7201a8"
            ],
            [
             0.3333333333333333,
             "#9c179e"
            ],
            [
             0.4444444444444444,
             "#bd3786"
            ],
            [
             0.5555555555555556,
             "#d8576b"
            ],
            [
             0.6666666666666666,
             "#ed7953"
            ],
            [
             0.7777777777777778,
             "#fb9f3a"
            ],
            [
             0.8888888888888888,
             "#fdca26"
            ],
            [
             1,
             "#f0f921"
            ]
           ],
           "sequentialminus": [
            [
             0,
             "#0d0887"
            ],
            [
             0.1111111111111111,
             "#46039f"
            ],
            [
             0.2222222222222222,
             "#7201a8"
            ],
            [
             0.3333333333333333,
             "#9c179e"
            ],
            [
             0.4444444444444444,
             "#bd3786"
            ],
            [
             0.5555555555555556,
             "#d8576b"
            ],
            [
             0.6666666666666666,
             "#ed7953"
            ],
            [
             0.7777777777777778,
             "#fb9f3a"
            ],
            [
             0.8888888888888888,
             "#fdca26"
            ],
            [
             1,
             "#f0f921"
            ]
           ]
          },
          "colorway": [
           "#636efa",
           "#EF553B",
           "#00cc96",
           "#ab63fa",
           "#FFA15A",
           "#19d3f3",
           "#FF6692",
           "#B6E880",
           "#FF97FF",
           "#FECB52"
          ],
          "font": {
           "color": "#2a3f5f"
          },
          "geo": {
           "bgcolor": "white",
           "lakecolor": "white",
           "landcolor": "#E5ECF6",
           "showlakes": true,
           "showland": true,
           "subunitcolor": "white"
          },
          "hoverlabel": {
           "align": "left"
          },
          "hovermode": "closest",
          "mapbox": {
           "style": "light"
          },
          "paper_bgcolor": "white",
          "plot_bgcolor": "#E5ECF6",
          "polar": {
           "angularaxis": {
            "gridcolor": "white",
            "linecolor": "white",
            "ticks": ""
           },
           "bgcolor": "#E5ECF6",
           "radialaxis": {
            "gridcolor": "white",
            "linecolor": "white",
            "ticks": ""
           }
          },
          "scene": {
           "xaxis": {
            "backgroundcolor": "#E5ECF6",
            "gridcolor": "white",
            "gridwidth": 2,
            "linecolor": "white",
            "showbackground": true,
            "ticks": "",
            "zerolinecolor": "white"
           },
           "yaxis": {
            "backgroundcolor": "#E5ECF6",
            "gridcolor": "white",
            "gridwidth": 2,
            "linecolor": "white",
            "showbackground": true,
            "ticks": "",
            "zerolinecolor": "white"
           },
           "zaxis": {
            "backgroundcolor": "#E5ECF6",
            "gridcolor": "white",
            "gridwidth": 2,
            "linecolor": "white",
            "showbackground": true,
            "ticks": "",
            "zerolinecolor": "white"
           }
          },
          "shapedefaults": {
           "line": {
            "color": "#2a3f5f"
           }
          },
          "ternary": {
           "aaxis": {
            "gridcolor": "white",
            "linecolor": "white",
            "ticks": ""
           },
           "baxis": {
            "gridcolor": "white",
            "linecolor": "white",
            "ticks": ""
           },
           "bgcolor": "#E5ECF6",
           "caxis": {
            "gridcolor": "white",
            "linecolor": "white",
            "ticks": ""
           }
          },
          "title": {
           "x": 0.05
          },
          "xaxis": {
           "automargin": true,
           "gridcolor": "white",
           "linecolor": "white",
           "ticks": "",
           "title": {
            "standoff": 15
           },
           "zerolinecolor": "white",
           "zerolinewidth": 2
          },
          "yaxis": {
           "automargin": true,
           "gridcolor": "white",
           "linecolor": "white",
           "ticks": "",
           "title": {
            "standoff": 15
           },
           "zerolinecolor": "white",
           "zerolinewidth": 2
          }
         }
        },
        "title": {
         "text": "Grain and Straw (2010-2020)"
        },
        "xaxis": {
         "title": {
          "text": "Harvest Year"
         }
        },
        "yaxis": {
         "title": {
          "text": "Yield (t/ha at 85% dry matter)"
         }
        }
       }
      }
     },
     "metadata": {},
     "output_type": "display_data"
    }
   ],
   "source": [
    "#### KEEP\n",
    "#This is to show yield of grain and straw over time for the two time periods.\n",
    "#Description: from this plot, we can see the trends in winter wheat yield of grain and straw over the periods 1990-2000, and 2010-2020. \n",
    "\n",
    "import plotly.graph_objects as go\n",
    "\n",
    "# 1990-2000\n",
    "summary_90s = summary_df.loc[(summary_df.index >= 1990) & (summary_df.index <= 2000)]\n",
    "stderr_90s = stderr_df.loc[(stderr_df.index >= 1990) & (stderr_df.index <= 2000)]\n",
    "\n",
    "fig_90s = go.Figure()\n",
    "\n",
    "fig_90s.add_trace(go.Scatter(\n",
    "    x=summary_90s.index,\n",
    "    y=summary_90s['grain'],\n",
    "    error_y=dict(type='data', array=stderr_90s['grain']),\n",
    "    mode='lines+markers',\n",
    "    name='Grain'\n",
    "))\n",
    "fig_90s.add_trace(go.Scatter(\n",
    "    x=summary_90s.index,\n",
    "    y=summary_90s['straw'],\n",
    "    error_y=dict(type='data', array=stderr_90s['straw']),\n",
    "    mode='lines+markers',\n",
    "    name='Straw'\n",
    "))\n",
    "fig_90s.update_layout(title='Grain and Straw (1990-2000)', xaxis_title='Harvest Year', yaxis_title='Yield (t/ha at 85% dry matter)', legend_title='Variable')\n",
    "fig_90s.show()\n",
    "\n",
    "# 2010-2020\n",
    "summary_10s = summary_df.loc[(summary_df.index >= 2010) & (summary_df.index <= 2020)]\n",
    "stderr_10s = stderr_df.loc[(stderr_df.index >= 2010) & (stderr_df.index <= 2020)]\n",
    "\n",
    "fig_10s = go.Figure()\n",
    "\n",
    "fig_10s.add_trace(go.Scatter(\n",
    "    x=summary_10s.index,\n",
    "    y=summary_10s['grain'],\n",
    "    error_y=dict(type='data', array=stderr_10s['grain']),\n",
    "    mode='lines+markers',\n",
    "    name='Grain'\n",
    "))\n",
    "fig_10s.add_trace(go.Scatter(\n",
    "    x=summary_10s.index,\n",
    "    y=summary_10s['straw'],\n",
    "    error_y=dict(type='data', array=stderr_10s['straw']),\n",
    "    mode='lines+markers',\n",
    "    name='Straw'\n",
    "))\n",
    "fig_10s.update_layout(title='Grain and Straw (2010-2020)', xaxis_title='Harvest Year', yaxis_title='Yield (t/ha at 85% dry matter)', legend_title='Variable')\n",
    "fig_10s.show()"
   ]
  },
  {
   "cell_type": "code",
   "execution_count": 8,
   "id": "1204dfc1",
   "metadata": {},
   "outputs": [
    {
     "data": {
      "application/vnd.plotly.v1+json": {
       "config": {
        "plotlyServerURL": "https://plot.ly"
       },
       "data": [
        {
         "hole": 0.3,
         "labels": [
          "Nitrogen",
          "Phosphorus",
          "Potassium"
         ],
         "type": "pie",
         "values": [
          144,
          35,
          90
         ]
        }
       ],
       "layout": {
        "template": {
         "data": {
          "bar": [
           {
            "error_x": {
             "color": "#2a3f5f"
            },
            "error_y": {
             "color": "#2a3f5f"
            },
            "marker": {
             "line": {
              "color": "#E5ECF6",
              "width": 0.5
             },
             "pattern": {
              "fillmode": "overlay",
              "size": 10,
              "solidity": 0.2
             }
            },
            "type": "bar"
           }
          ],
          "barpolar": [
           {
            "marker": {
             "line": {
              "color": "#E5ECF6",
              "width": 0.5
             },
             "pattern": {
              "fillmode": "overlay",
              "size": 10,
              "solidity": 0.2
             }
            },
            "type": "barpolar"
           }
          ],
          "carpet": [
           {
            "aaxis": {
             "endlinecolor": "#2a3f5f",
             "gridcolor": "white",
             "linecolor": "white",
             "minorgridcolor": "white",
             "startlinecolor": "#2a3f5f"
            },
            "baxis": {
             "endlinecolor": "#2a3f5f",
             "gridcolor": "white",
             "linecolor": "white",
             "minorgridcolor": "white",
             "startlinecolor": "#2a3f5f"
            },
            "type": "carpet"
           }
          ],
          "choropleth": [
           {
            "colorbar": {
             "outlinewidth": 0,
             "ticks": ""
            },
            "type": "choropleth"
           }
          ],
          "contour": [
           {
            "colorbar": {
             "outlinewidth": 0,
             "ticks": ""
            },
            "colorscale": [
             [
              0,
              "#0d0887"
             ],
             [
              0.1111111111111111,
              "#46039f"
             ],
             [
              0.2222222222222222,
              "#7201a8"
             ],
             [
              0.3333333333333333,
              "#9c179e"
             ],
             [
              0.4444444444444444,
              "#bd3786"
             ],
             [
              0.5555555555555556,
              "#d8576b"
             ],
             [
              0.6666666666666666,
              "#ed7953"
             ],
             [
              0.7777777777777778,
              "#fb9f3a"
             ],
             [
              0.8888888888888888,
              "#fdca26"
             ],
             [
              1,
              "#f0f921"
             ]
            ],
            "type": "contour"
           }
          ],
          "contourcarpet": [
           {
            "colorbar": {
             "outlinewidth": 0,
             "ticks": ""
            },
            "type": "contourcarpet"
           }
          ],
          "heatmap": [
           {
            "colorbar": {
             "outlinewidth": 0,
             "ticks": ""
            },
            "colorscale": [
             [
              0,
              "#0d0887"
             ],
             [
              0.1111111111111111,
              "#46039f"
             ],
             [
              0.2222222222222222,
              "#7201a8"
             ],
             [
              0.3333333333333333,
              "#9c179e"
             ],
             [
              0.4444444444444444,
              "#bd3786"
             ],
             [
              0.5555555555555556,
              "#d8576b"
             ],
             [
              0.6666666666666666,
              "#ed7953"
             ],
             [
              0.7777777777777778,
              "#fb9f3a"
             ],
             [
              0.8888888888888888,
              "#fdca26"
             ],
             [
              1,
              "#f0f921"
             ]
            ],
            "type": "heatmap"
           }
          ],
          "heatmapgl": [
           {
            "colorbar": {
             "outlinewidth": 0,
             "ticks": ""
            },
            "colorscale": [
             [
              0,
              "#0d0887"
             ],
             [
              0.1111111111111111,
              "#46039f"
             ],
             [
              0.2222222222222222,
              "#7201a8"
             ],
             [
              0.3333333333333333,
              "#9c179e"
             ],
             [
              0.4444444444444444,
              "#bd3786"
             ],
             [
              0.5555555555555556,
              "#d8576b"
             ],
             [
              0.6666666666666666,
              "#ed7953"
             ],
             [
              0.7777777777777778,
              "#fb9f3a"
             ],
             [
              0.8888888888888888,
              "#fdca26"
             ],
             [
              1,
              "#f0f921"
             ]
            ],
            "type": "heatmapgl"
           }
          ],
          "histogram": [
           {
            "marker": {
             "pattern": {
              "fillmode": "overlay",
              "size": 10,
              "solidity": 0.2
             }
            },
            "type": "histogram"
           }
          ],
          "histogram2d": [
           {
            "colorbar": {
             "outlinewidth": 0,
             "ticks": ""
            },
            "colorscale": [
             [
              0,
              "#0d0887"
             ],
             [
              0.1111111111111111,
              "#46039f"
             ],
             [
              0.2222222222222222,
              "#7201a8"
             ],
             [
              0.3333333333333333,
              "#9c179e"
             ],
             [
              0.4444444444444444,
              "#bd3786"
             ],
             [
              0.5555555555555556,
              "#d8576b"
             ],
             [
              0.6666666666666666,
              "#ed7953"
             ],
             [
              0.7777777777777778,
              "#fb9f3a"
             ],
             [
              0.8888888888888888,
              "#fdca26"
             ],
             [
              1,
              "#f0f921"
             ]
            ],
            "type": "histogram2d"
           }
          ],
          "histogram2dcontour": [
           {
            "colorbar": {
             "outlinewidth": 0,
             "ticks": ""
            },
            "colorscale": [
             [
              0,
              "#0d0887"
             ],
             [
              0.1111111111111111,
              "#46039f"
             ],
             [
              0.2222222222222222,
              "#7201a8"
             ],
             [
              0.3333333333333333,
              "#9c179e"
             ],
             [
              0.4444444444444444,
              "#bd3786"
             ],
             [
              0.5555555555555556,
              "#d8576b"
             ],
             [
              0.6666666666666666,
              "#ed7953"
             ],
             [
              0.7777777777777778,
              "#fb9f3a"
             ],
             [
              0.8888888888888888,
              "#fdca26"
             ],
             [
              1,
              "#f0f921"
             ]
            ],
            "type": "histogram2dcontour"
           }
          ],
          "mesh3d": [
           {
            "colorbar": {
             "outlinewidth": 0,
             "ticks": ""
            },
            "type": "mesh3d"
           }
          ],
          "parcoords": [
           {
            "line": {
             "colorbar": {
              "outlinewidth": 0,
              "ticks": ""
             }
            },
            "type": "parcoords"
           }
          ],
          "pie": [
           {
            "automargin": true,
            "type": "pie"
           }
          ],
          "scatter": [
           {
            "fillpattern": {
             "fillmode": "overlay",
             "size": 10,
             "solidity": 0.2
            },
            "type": "scatter"
           }
          ],
          "scatter3d": [
           {
            "line": {
             "colorbar": {
              "outlinewidth": 0,
              "ticks": ""
             }
            },
            "marker": {
             "colorbar": {
              "outlinewidth": 0,
              "ticks": ""
             }
            },
            "type": "scatter3d"
           }
          ],
          "scattercarpet": [
           {
            "marker": {
             "colorbar": {
              "outlinewidth": 0,
              "ticks": ""
             }
            },
            "type": "scattercarpet"
           }
          ],
          "scattergeo": [
           {
            "marker": {
             "colorbar": {
              "outlinewidth": 0,
              "ticks": ""
             }
            },
            "type": "scattergeo"
           }
          ],
          "scattergl": [
           {
            "marker": {
             "colorbar": {
              "outlinewidth": 0,
              "ticks": ""
             }
            },
            "type": "scattergl"
           }
          ],
          "scattermapbox": [
           {
            "marker": {
             "colorbar": {
              "outlinewidth": 0,
              "ticks": ""
             }
            },
            "type": "scattermapbox"
           }
          ],
          "scatterpolar": [
           {
            "marker": {
             "colorbar": {
              "outlinewidth": 0,
              "ticks": ""
             }
            },
            "type": "scatterpolar"
           }
          ],
          "scatterpolargl": [
           {
            "marker": {
             "colorbar": {
              "outlinewidth": 0,
              "ticks": ""
             }
            },
            "type": "scatterpolargl"
           }
          ],
          "scatterternary": [
           {
            "marker": {
             "colorbar": {
              "outlinewidth": 0,
              "ticks": ""
             }
            },
            "type": "scatterternary"
           }
          ],
          "surface": [
           {
            "colorbar": {
             "outlinewidth": 0,
             "ticks": ""
            },
            "colorscale": [
             [
              0,
              "#0d0887"
             ],
             [
              0.1111111111111111,
              "#46039f"
             ],
             [
              0.2222222222222222,
              "#7201a8"
             ],
             [
              0.3333333333333333,
              "#9c179e"
             ],
             [
              0.4444444444444444,
              "#bd3786"
             ],
             [
              0.5555555555555556,
              "#d8576b"
             ],
             [
              0.6666666666666666,
              "#ed7953"
             ],
             [
              0.7777777777777778,
              "#fb9f3a"
             ],
             [
              0.8888888888888888,
              "#fdca26"
             ],
             [
              1,
              "#f0f921"
             ]
            ],
            "type": "surface"
           }
          ],
          "table": [
           {
            "cells": {
             "fill": {
              "color": "#EBF0F8"
             },
             "line": {
              "color": "white"
             }
            },
            "header": {
             "fill": {
              "color": "#C8D4E3"
             },
             "line": {
              "color": "white"
             }
            },
            "type": "table"
           }
          ]
         },
         "layout": {
          "annotationdefaults": {
           "arrowcolor": "#2a3f5f",
           "arrowhead": 0,
           "arrowwidth": 1
          },
          "autotypenumbers": "strict",
          "coloraxis": {
           "colorbar": {
            "outlinewidth": 0,
            "ticks": ""
           }
          },
          "colorscale": {
           "diverging": [
            [
             0,
             "#8e0152"
            ],
            [
             0.1,
             "#c51b7d"
            ],
            [
             0.2,
             "#de77ae"
            ],
            [
             0.3,
             "#f1b6da"
            ],
            [
             0.4,
             "#fde0ef"
            ],
            [
             0.5,
             "#f7f7f7"
            ],
            [
             0.6,
             "#e6f5d0"
            ],
            [
             0.7,
             "#b8e186"
            ],
            [
             0.8,
             "#7fbc41"
            ],
            [
             0.9,
             "#4d9221"
            ],
            [
             1,
             "#276419"
            ]
           ],
           "sequential": [
            [
             0,
             "#0d0887"
            ],
            [
             0.1111111111111111,
             "#46039f"
            ],
            [
             0.2222222222222222,
             "#7201a8"
            ],
            [
             0.3333333333333333,
             "#9c179e"
            ],
            [
             0.4444444444444444,
             "#bd3786"
            ],
            [
             0.5555555555555556,
             "#d8576b"
            ],
            [
             0.6666666666666666,
             "#ed7953"
            ],
            [
             0.7777777777777778,
             "#fb9f3a"
            ],
            [
             0.8888888888888888,
             "#fdca26"
            ],
            [
             1,
             "#f0f921"
            ]
           ],
           "sequentialminus": [
            [
             0,
             "#0d0887"
            ],
            [
             0.1111111111111111,
             "#46039f"
            ],
            [
             0.2222222222222222,
             "#7201a8"
            ],
            [
             0.3333333333333333,
             "#9c179e"
            ],
            [
             0.4444444444444444,
             "#bd3786"
            ],
            [
             0.5555555555555556,
             "#d8576b"
            ],
            [
             0.6666666666666666,
             "#ed7953"
            ],
            [
             0.7777777777777778,
             "#fb9f3a"
            ],
            [
             0.8888888888888888,
             "#fdca26"
            ],
            [
             1,
             "#f0f921"
            ]
           ]
          },
          "colorway": [
           "#636efa",
           "#EF553B",
           "#00cc96",
           "#ab63fa",
           "#FFA15A",
           "#19d3f3",
           "#FF6692",
           "#B6E880",
           "#FF97FF",
           "#FECB52"
          ],
          "font": {
           "color": "#2a3f5f"
          },
          "geo": {
           "bgcolor": "white",
           "lakecolor": "white",
           "landcolor": "#E5ECF6",
           "showlakes": true,
           "showland": true,
           "subunitcolor": "white"
          },
          "hoverlabel": {
           "align": "left"
          },
          "hovermode": "closest",
          "mapbox": {
           "style": "light"
          },
          "paper_bgcolor": "white",
          "plot_bgcolor": "#E5ECF6",
          "polar": {
           "angularaxis": {
            "gridcolor": "white",
            "linecolor": "white",
            "ticks": ""
           },
           "bgcolor": "#E5ECF6",
           "radialaxis": {
            "gridcolor": "white",
            "linecolor": "white",
            "ticks": ""
           }
          },
          "scene": {
           "xaxis": {
            "backgroundcolor": "#E5ECF6",
            "gridcolor": "white",
            "gridwidth": 2,
            "linecolor": "white",
            "showbackground": true,
            "ticks": "",
            "zerolinecolor": "white"
           },
           "yaxis": {
            "backgroundcolor": "#E5ECF6",
            "gridcolor": "white",
            "gridwidth": 2,
            "linecolor": "white",
            "showbackground": true,
            "ticks": "",
            "zerolinecolor": "white"
           },
           "zaxis": {
            "backgroundcolor": "#E5ECF6",
            "gridcolor": "white",
            "gridwidth": 2,
            "linecolor": "white",
            "showbackground": true,
            "ticks": "",
            "zerolinecolor": "white"
           }
          },
          "shapedefaults": {
           "line": {
            "color": "#2a3f5f"
           }
          },
          "ternary": {
           "aaxis": {
            "gridcolor": "white",
            "linecolor": "white",
            "ticks": ""
           },
           "baxis": {
            "gridcolor": "white",
            "linecolor": "white",
            "ticks": ""
           },
           "bgcolor": "#E5ECF6",
           "caxis": {
            "gridcolor": "white",
            "linecolor": "white",
            "ticks": ""
           }
          },
          "title": {
           "x": 0.05
          },
          "xaxis": {
           "automargin": true,
           "gridcolor": "white",
           "linecolor": "white",
           "ticks": "",
           "title": {
            "standoff": 15
           },
           "zerolinecolor": "white",
           "zerolinewidth": 2
          },
          "yaxis": {
           "automargin": true,
           "gridcolor": "white",
           "linecolor": "white",
           "ticks": "",
           "title": {
            "standoff": 15
           },
           "zerolinecolor": "white",
           "zerolinewidth": 2
          }
         }
        },
        "title": {
         "text": "Fertiliser Use Split (1990-2000)"
        }
       }
      }
     },
     "metadata": {},
     "output_type": "display_data"
    },
    {
     "data": {
      "application/vnd.plotly.v1+json": {
       "config": {
        "plotlyServerURL": "https://plot.ly"
       },
       "data": [
        {
         "hole": 0.3,
         "labels": [
          "Nitrogen",
          "Phosphorus",
          "Potassium"
         ],
         "type": "pie",
         "values": [
          144,
          0,
          90
         ]
        }
       ],
       "layout": {
        "template": {
         "data": {
          "bar": [
           {
            "error_x": {
             "color": "#2a3f5f"
            },
            "error_y": {
             "color": "#2a3f5f"
            },
            "marker": {
             "line": {
              "color": "#E5ECF6",
              "width": 0.5
             },
             "pattern": {
              "fillmode": "overlay",
              "size": 10,
              "solidity": 0.2
             }
            },
            "type": "bar"
           }
          ],
          "barpolar": [
           {
            "marker": {
             "line": {
              "color": "#E5ECF6",
              "width": 0.5
             },
             "pattern": {
              "fillmode": "overlay",
              "size": 10,
              "solidity": 0.2
             }
            },
            "type": "barpolar"
           }
          ],
          "carpet": [
           {
            "aaxis": {
             "endlinecolor": "#2a3f5f",
             "gridcolor": "white",
             "linecolor": "white",
             "minorgridcolor": "white",
             "startlinecolor": "#2a3f5f"
            },
            "baxis": {
             "endlinecolor": "#2a3f5f",
             "gridcolor": "white",
             "linecolor": "white",
             "minorgridcolor": "white",
             "startlinecolor": "#2a3f5f"
            },
            "type": "carpet"
           }
          ],
          "choropleth": [
           {
            "colorbar": {
             "outlinewidth": 0,
             "ticks": ""
            },
            "type": "choropleth"
           }
          ],
          "contour": [
           {
            "colorbar": {
             "outlinewidth": 0,
             "ticks": ""
            },
            "colorscale": [
             [
              0,
              "#0d0887"
             ],
             [
              0.1111111111111111,
              "#46039f"
             ],
             [
              0.2222222222222222,
              "#7201a8"
             ],
             [
              0.3333333333333333,
              "#9c179e"
             ],
             [
              0.4444444444444444,
              "#bd3786"
             ],
             [
              0.5555555555555556,
              "#d8576b"
             ],
             [
              0.6666666666666666,
              "#ed7953"
             ],
             [
              0.7777777777777778,
              "#fb9f3a"
             ],
             [
              0.8888888888888888,
              "#fdca26"
             ],
             [
              1,
              "#f0f921"
             ]
            ],
            "type": "contour"
           }
          ],
          "contourcarpet": [
           {
            "colorbar": {
             "outlinewidth": 0,
             "ticks": ""
            },
            "type": "contourcarpet"
           }
          ],
          "heatmap": [
           {
            "colorbar": {
             "outlinewidth": 0,
             "ticks": ""
            },
            "colorscale": [
             [
              0,
              "#0d0887"
             ],
             [
              0.1111111111111111,
              "#46039f"
             ],
             [
              0.2222222222222222,
              "#7201a8"
             ],
             [
              0.3333333333333333,
              "#9c179e"
             ],
             [
              0.4444444444444444,
              "#bd3786"
             ],
             [
              0.5555555555555556,
              "#d8576b"
             ],
             [
              0.6666666666666666,
              "#ed7953"
             ],
             [
              0.7777777777777778,
              "#fb9f3a"
             ],
             [
              0.8888888888888888,
              "#fdca26"
             ],
             [
              1,
              "#f0f921"
             ]
            ],
            "type": "heatmap"
           }
          ],
          "heatmapgl": [
           {
            "colorbar": {
             "outlinewidth": 0,
             "ticks": ""
            },
            "colorscale": [
             [
              0,
              "#0d0887"
             ],
             [
              0.1111111111111111,
              "#46039f"
             ],
             [
              0.2222222222222222,
              "#7201a8"
             ],
             [
              0.3333333333333333,
              "#9c179e"
             ],
             [
              0.4444444444444444,
              "#bd3786"
             ],
             [
              0.5555555555555556,
              "#d8576b"
             ],
             [
              0.6666666666666666,
              "#ed7953"
             ],
             [
              0.7777777777777778,
              "#fb9f3a"
             ],
             [
              0.8888888888888888,
              "#fdca26"
             ],
             [
              1,
              "#f0f921"
             ]
            ],
            "type": "heatmapgl"
           }
          ],
          "histogram": [
           {
            "marker": {
             "pattern": {
              "fillmode": "overlay",
              "size": 10,
              "solidity": 0.2
             }
            },
            "type": "histogram"
           }
          ],
          "histogram2d": [
           {
            "colorbar": {
             "outlinewidth": 0,
             "ticks": ""
            },
            "colorscale": [
             [
              0,
              "#0d0887"
             ],
             [
              0.1111111111111111,
              "#46039f"
             ],
             [
              0.2222222222222222,
              "#7201a8"
             ],
             [
              0.3333333333333333,
              "#9c179e"
             ],
             [
              0.4444444444444444,
              "#bd3786"
             ],
             [
              0.5555555555555556,
              "#d8576b"
             ],
             [
              0.6666666666666666,
              "#ed7953"
             ],
             [
              0.7777777777777778,
              "#fb9f3a"
             ],
             [
              0.8888888888888888,
              "#fdca26"
             ],
             [
              1,
              "#f0f921"
             ]
            ],
            "type": "histogram2d"
           }
          ],
          "histogram2dcontour": [
           {
            "colorbar": {
             "outlinewidth": 0,
             "ticks": ""
            },
            "colorscale": [
             [
              0,
              "#0d0887"
             ],
             [
              0.1111111111111111,
              "#46039f"
             ],
             [
              0.2222222222222222,
              "#7201a8"
             ],
             [
              0.3333333333333333,
              "#9c179e"
             ],
             [
              0.4444444444444444,
              "#bd3786"
             ],
             [
              0.5555555555555556,
              "#d8576b"
             ],
             [
              0.6666666666666666,
              "#ed7953"
             ],
             [
              0.7777777777777778,
              "#fb9f3a"
             ],
             [
              0.8888888888888888,
              "#fdca26"
             ],
             [
              1,
              "#f0f921"
             ]
            ],
            "type": "histogram2dcontour"
           }
          ],
          "mesh3d": [
           {
            "colorbar": {
             "outlinewidth": 0,
             "ticks": ""
            },
            "type": "mesh3d"
           }
          ],
          "parcoords": [
           {
            "line": {
             "colorbar": {
              "outlinewidth": 0,
              "ticks": ""
             }
            },
            "type": "parcoords"
           }
          ],
          "pie": [
           {
            "automargin": true,
            "type": "pie"
           }
          ],
          "scatter": [
           {
            "fillpattern": {
             "fillmode": "overlay",
             "size": 10,
             "solidity": 0.2
            },
            "type": "scatter"
           }
          ],
          "scatter3d": [
           {
            "line": {
             "colorbar": {
              "outlinewidth": 0,
              "ticks": ""
             }
            },
            "marker": {
             "colorbar": {
              "outlinewidth": 0,
              "ticks": ""
             }
            },
            "type": "scatter3d"
           }
          ],
          "scattercarpet": [
           {
            "marker": {
             "colorbar": {
              "outlinewidth": 0,
              "ticks": ""
             }
            },
            "type": "scattercarpet"
           }
          ],
          "scattergeo": [
           {
            "marker": {
             "colorbar": {
              "outlinewidth": 0,
              "ticks": ""
             }
            },
            "type": "scattergeo"
           }
          ],
          "scattergl": [
           {
            "marker": {
             "colorbar": {
              "outlinewidth": 0,
              "ticks": ""
             }
            },
            "type": "scattergl"
           }
          ],
          "scattermapbox": [
           {
            "marker": {
             "colorbar": {
              "outlinewidth": 0,
              "ticks": ""
             }
            },
            "type": "scattermapbox"
           }
          ],
          "scatterpolar": [
           {
            "marker": {
             "colorbar": {
              "outlinewidth": 0,
              "ticks": ""
             }
            },
            "type": "scatterpolar"
           }
          ],
          "scatterpolargl": [
           {
            "marker": {
             "colorbar": {
              "outlinewidth": 0,
              "ticks": ""
             }
            },
            "type": "scatterpolargl"
           }
          ],
          "scatterternary": [
           {
            "marker": {
             "colorbar": {
              "outlinewidth": 0,
              "ticks": ""
             }
            },
            "type": "scatterternary"
           }
          ],
          "surface": [
           {
            "colorbar": {
             "outlinewidth": 0,
             "ticks": ""
            },
            "colorscale": [
             [
              0,
              "#0d0887"
             ],
             [
              0.1111111111111111,
              "#46039f"
             ],
             [
              0.2222222222222222,
              "#7201a8"
             ],
             [
              0.3333333333333333,
              "#9c179e"
             ],
             [
              0.4444444444444444,
              "#bd3786"
             ],
             [
              0.5555555555555556,
              "#d8576b"
             ],
             [
              0.6666666666666666,
              "#ed7953"
             ],
             [
              0.7777777777777778,
              "#fb9f3a"
             ],
             [
              0.8888888888888888,
              "#fdca26"
             ],
             [
              1,
              "#f0f921"
             ]
            ],
            "type": "surface"
           }
          ],
          "table": [
           {
            "cells": {
             "fill": {
              "color": "#EBF0F8"
             },
             "line": {
              "color": "white"
             }
            },
            "header": {
             "fill": {
              "color": "#C8D4E3"
             },
             "line": {
              "color": "white"
             }
            },
            "type": "table"
           }
          ]
         },
         "layout": {
          "annotationdefaults": {
           "arrowcolor": "#2a3f5f",
           "arrowhead": 0,
           "arrowwidth": 1
          },
          "autotypenumbers": "strict",
          "coloraxis": {
           "colorbar": {
            "outlinewidth": 0,
            "ticks": ""
           }
          },
          "colorscale": {
           "diverging": [
            [
             0,
             "#8e0152"
            ],
            [
             0.1,
             "#c51b7d"
            ],
            [
             0.2,
             "#de77ae"
            ],
            [
             0.3,
             "#f1b6da"
            ],
            [
             0.4,
             "#fde0ef"
            ],
            [
             0.5,
             "#f7f7f7"
            ],
            [
             0.6,
             "#e6f5d0"
            ],
            [
             0.7,
             "#b8e186"
            ],
            [
             0.8,
             "#7fbc41"
            ],
            [
             0.9,
             "#4d9221"
            ],
            [
             1,
             "#276419"
            ]
           ],
           "sequential": [
            [
             0,
             "#0d0887"
            ],
            [
             0.1111111111111111,
             "#46039f"
            ],
            [
             0.2222222222222222,
             "#7201a8"
            ],
            [
             0.3333333333333333,
             "#9c179e"
            ],
            [
             0.4444444444444444,
             "#bd3786"
            ],
            [
             0.5555555555555556,
             "#d8576b"
            ],
            [
             0.6666666666666666,
             "#ed7953"
            ],
            [
             0.7777777777777778,
             "#fb9f3a"
            ],
            [
             0.8888888888888888,
             "#fdca26"
            ],
            [
             1,
             "#f0f921"
            ]
           ],
           "sequentialminus": [
            [
             0,
             "#0d0887"
            ],
            [
             0.1111111111111111,
             "#46039f"
            ],
            [
             0.2222222222222222,
             "#7201a8"
            ],
            [
             0.3333333333333333,
             "#9c179e"
            ],
            [
             0.4444444444444444,
             "#bd3786"
            ],
            [
             0.5555555555555556,
             "#d8576b"
            ],
            [
             0.6666666666666666,
             "#ed7953"
            ],
            [
             0.7777777777777778,
             "#fb9f3a"
            ],
            [
             0.8888888888888888,
             "#fdca26"
            ],
            [
             1,
             "#f0f921"
            ]
           ]
          },
          "colorway": [
           "#636efa",
           "#EF553B",
           "#00cc96",
           "#ab63fa",
           "#FFA15A",
           "#19d3f3",
           "#FF6692",
           "#B6E880",
           "#FF97FF",
           "#FECB52"
          ],
          "font": {
           "color": "#2a3f5f"
          },
          "geo": {
           "bgcolor": "white",
           "lakecolor": "white",
           "landcolor": "#E5ECF6",
           "showlakes": true,
           "showland": true,
           "subunitcolor": "white"
          },
          "hoverlabel": {
           "align": "left"
          },
          "hovermode": "closest",
          "mapbox": {
           "style": "light"
          },
          "paper_bgcolor": "white",
          "plot_bgcolor": "#E5ECF6",
          "polar": {
           "angularaxis": {
            "gridcolor": "white",
            "linecolor": "white",
            "ticks": ""
           },
           "bgcolor": "#E5ECF6",
           "radialaxis": {
            "gridcolor": "white",
            "linecolor": "white",
            "ticks": ""
           }
          },
          "scene": {
           "xaxis": {
            "backgroundcolor": "#E5ECF6",
            "gridcolor": "white",
            "gridwidth": 2,
            "linecolor": "white",
            "showbackground": true,
            "ticks": "",
            "zerolinecolor": "white"
           },
           "yaxis": {
            "backgroundcolor": "#E5ECF6",
            "gridcolor": "white",
            "gridwidth": 2,
            "linecolor": "white",
            "showbackground": true,
            "ticks": "",
            "zerolinecolor": "white"
           },
           "zaxis": {
            "backgroundcolor": "#E5ECF6",
            "gridcolor": "white",
            "gridwidth": 2,
            "linecolor": "white",
            "showbackground": true,
            "ticks": "",
            "zerolinecolor": "white"
           }
          },
          "shapedefaults": {
           "line": {
            "color": "#2a3f5f"
           }
          },
          "ternary": {
           "aaxis": {
            "gridcolor": "white",
            "linecolor": "white",
            "ticks": ""
           },
           "baxis": {
            "gridcolor": "white",
            "linecolor": "white",
            "ticks": ""
           },
           "bgcolor": "#E5ECF6",
           "caxis": {
            "gridcolor": "white",
            "linecolor": "white",
            "ticks": ""
           }
          },
          "title": {
           "x": 0.05
          },
          "xaxis": {
           "automargin": true,
           "gridcolor": "white",
           "linecolor": "white",
           "ticks": "",
           "title": {
            "standoff": 15
           },
           "zerolinecolor": "white",
           "zerolinewidth": 2
          },
          "yaxis": {
           "automargin": true,
           "gridcolor": "white",
           "linecolor": "white",
           "ticks": "",
           "title": {
            "standoff": 15
           },
           "zerolinecolor": "white",
           "zerolinewidth": 2
          }
         }
        },
        "title": {
         "text": "Fertiliser Use Split (2010-2020)"
        }
       }
      }
     },
     "metadata": {},
     "output_type": "display_data"
    }
   ],
   "source": [
    "### KEEP \n",
    "#Feriliser use over the two time periods\n",
    "#Description: You can see that from the first to second time periods, fertiliser use has changed. Phosphorus is no longer applied as existing phosphorus in the soil is sufficient. We discuss the impacts of this on grain yield, insect abundance, and other factors below. \n",
    "\n",
    "# Calculate mean fertiliser use for each period\n",
    "fert_90s = summary_df.loc[(summary_df.index >= 1990) & (summary_df.index <= 2000)][['total_fertilizer_n_amount', 'p_amount', 'k_amount']].mean()\n",
    "fert_10s = summary_df.loc[(summary_df.index >= 2010) & (summary_df.index <= 2020)][['total_fertilizer_n_amount', 'p_amount', 'k_amount']].mean()\n",
    "\n",
    "# 1990-2000 Pie Chart\n",
    "fig_90s_pie = go.Figure(data=[go.Pie(\n",
    "    labels=['Nitrogen', 'Phosphorus', 'Potassium'],\n",
    "    values=[fert_90s['total_fertilizer_n_amount'], fert_90s['p_amount'], fert_90s['k_amount']],\n",
    "    hole=0.3\n",
    ")])\n",
    "fig_90s_pie.update_layout(title='Fertiliser Use Split (1990-2000)')\n",
    "fig_90s_pie.show()\n",
    "\n",
    "# 2010-2020 Pie Chart\n",
    "fig_10s_pie = go.Figure(data=[go.Pie(\n",
    "    labels=['Nitrogen', 'Phosphorus', 'Potassium'],\n",
    "    values=[fert_10s['total_fertilizer_n_amount'], fert_10s['p_amount'], fert_10s['k_amount']],\n",
    "    hole=0.3\n",
    ")])\n",
    "fig_10s_pie.update_layout(title='Fertiliser Use Split (2010-2020)')\n",
    "fig_10s_pie.show()"
   ]
  },
  {
   "cell_type": "markdown",
   "id": "8328ab6b",
   "metadata": {},
   "source": []
  },
  {
   "cell_type": "code",
   "execution_count": null,
   "id": "3ab9a35b",
   "metadata": {},
   "outputs": [],
   "source": []
  }
 ],
 "metadata": {
  "kernelspec": {
   "display_name": "Python 3",
   "language": "python",
   "name": "python3"
  },
  "language_info": {
   "codemirror_mode": {
    "name": "ipython",
    "version": 3
   },
   "file_extension": ".py",
   "mimetype": "text/x-python",
   "name": "python",
   "nbconvert_exporter": "python",
   "pygments_lexer": "ipython3",
   "version": "3.11.1"
  }
 },
 "nbformat": 4,
 "nbformat_minor": 5
}
