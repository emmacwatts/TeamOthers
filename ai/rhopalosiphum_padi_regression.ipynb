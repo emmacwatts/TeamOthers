{
 "cells": [
  {
   "cell_type": "code",
   "execution_count": null,
   "id": "40a73dd6",
   "metadata": {},
   "outputs": [],
   "source": [
    "import pandas as pd\n",
    "import numpy as np\n",
    "import matplotlib.pyplot as plt\n",
    "import seaborn as sns"
   ]
  },
  {
   "cell_type": "code",
   "execution_count": null,
   "id": "1aa72666",
   "metadata": {},
   "outputs": [],
   "source": [
    "# Set style for better visualizations\n",
    "plt.style.use('default')\n",
    "sns.set_palette(\"husl\")"
   ]
  },
  {
   "cell_type": "code",
   "execution_count": null,
   "id": "d3e58601",
   "metadata": {},
   "outputs": [],
   "source": [
    "climate_df = pd.read_csv('../weather/weather_data_yearly_cleaned.csv')  # Change this to your actual filename\n"
   ]
  }
 ],
 "metadata": {
  "language_info": {
   "name": "python"
  }
 },
 "nbformat": 4,
 "nbformat_minor": 5
}
