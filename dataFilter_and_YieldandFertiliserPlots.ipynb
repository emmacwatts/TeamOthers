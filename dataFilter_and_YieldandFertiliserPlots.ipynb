{
 "cells": [
  {
   "cell_type": "markdown",
   "id": "eeef6622",
   "metadata": {},
   "source": [
    "### Data Clean up for Yield and Fertiliser\n",
    "\n",
    "* Note on assumptions:\n",
    "    * averaged over the other variables in the yield_data dataset"
   ]
  },
  {
   "cell_type": "code",
   "execution_count": 41,
   "id": "cf744937",
   "metadata": {},
   "outputs": [],
   "source": [
    "#Imports\n",
    "import pandas as pd\n",
    "import openpyxl\n",
    "import plotly.graph_objects as go\n",
    "import nbformat\n"
   ]
  },
  {
   "cell_type": "code",
   "execution_count": 42,
   "id": "b56a037f",
   "metadata": {},
   "outputs": [
    {
     "data": {
      "text/html": [
       "<div>\n",
       "<style scoped>\n",
       "    .dataframe tbody tr th:only-of-type {\n",
       "        vertical-align: middle;\n",
       "    }\n",
       "\n",
       "    .dataframe tbody tr th {\n",
       "        vertical-align: top;\n",
       "    }\n",
       "\n",
       "    .dataframe thead th {\n",
       "        text-align: right;\n",
       "    }\n",
       "</style>\n",
       "<table border=\"1\" class=\"dataframe\">\n",
       "  <thead>\n",
       "    <tr style=\"text-align: right;\">\n",
       "      <th></th>\n",
       "      <th>harvest_year</th>\n",
       "      <th>strip</th>\n",
       "      <th>section</th>\n",
       "      <th>plot</th>\n",
       "      <th>section_1926-67</th>\n",
       "      <th>fertilizer_code</th>\n",
       "      <th>cropping</th>\n",
       "      <th>year_of_wheat</th>\n",
       "      <th>previous_crop</th>\n",
       "      <th>straw_incorporation</th>\n",
       "      <th>...</th>\n",
       "      <th>na_date</th>\n",
       "      <th>mg_factor_level</th>\n",
       "      <th>mg_amount</th>\n",
       "      <th>mg_date</th>\n",
       "      <th>sow_date</th>\n",
       "      <th>harvest_date</th>\n",
       "      <th>cultivar</th>\n",
       "      <th>grain</th>\n",
       "      <th>straw</th>\n",
       "      <th>note</th>\n",
       "    </tr>\n",
       "  </thead>\n",
       "  <tbody>\n",
       "    <tr>\n",
       "      <th>0</th>\n",
       "      <td>1968</td>\n",
       "      <td>21</td>\n",
       "      <td>0</td>\n",
       "      <td>21\\0</td>\n",
       "      <td>IA</td>\n",
       "      <td>FYM N2</td>\n",
       "      <td>winter wheat</td>\n",
       "      <td>17.000</td>\n",
       "      <td>winter wheat</td>\n",
       "      <td>no</td>\n",
       "      <td>...</td>\n",
       "      <td>*</td>\n",
       "      <td>nil</td>\n",
       "      <td>0.0</td>\n",
       "      <td>*</td>\n",
       "      <td>1967-12-07</td>\n",
       "      <td>1968-08-26</td>\n",
       "      <td>Cappelle Desprez</td>\n",
       "      <td>4.740</td>\n",
       "      <td>5.280</td>\n",
       "      <td>45</td>\n",
       "    </tr>\n",
       "    <tr>\n",
       "      <th>1</th>\n",
       "      <td>1968</td>\n",
       "      <td>22</td>\n",
       "      <td>0</td>\n",
       "      <td>22\\0</td>\n",
       "      <td>IA</td>\n",
       "      <td>FYM</td>\n",
       "      <td>winter wheat</td>\n",
       "      <td>17.000</td>\n",
       "      <td>winter wheat</td>\n",
       "      <td>no</td>\n",
       "      <td>...</td>\n",
       "      <td>*</td>\n",
       "      <td>nil</td>\n",
       "      <td>0.0</td>\n",
       "      <td>*</td>\n",
       "      <td>1967-12-07</td>\n",
       "      <td>1968-08-26</td>\n",
       "      <td>Cappelle Desprez</td>\n",
       "      <td>3.930</td>\n",
       "      <td>3.490</td>\n",
       "      <td>46</td>\n",
       "    </tr>\n",
       "    <tr>\n",
       "      <th>2</th>\n",
       "      <td>1968</td>\n",
       "      <td>3</td>\n",
       "      <td>0</td>\n",
       "      <td>3\\0</td>\n",
       "      <td>IA</td>\n",
       "      <td>Nil</td>\n",
       "      <td>winter wheat</td>\n",
       "      <td>17.000</td>\n",
       "      <td>winter wheat</td>\n",
       "      <td>no</td>\n",
       "      <td>...</td>\n",
       "      <td>*</td>\n",
       "      <td>nil</td>\n",
       "      <td>0.0</td>\n",
       "      <td>*</td>\n",
       "      <td>1967-12-07</td>\n",
       "      <td>1968-08-26</td>\n",
       "      <td>Cappelle Desprez</td>\n",
       "      <td>1.440</td>\n",
       "      <td>0.880</td>\n",
       "      <td>*</td>\n",
       "    </tr>\n",
       "    <tr>\n",
       "      <th>3</th>\n",
       "      <td>1968</td>\n",
       "      <td>5</td>\n",
       "      <td>0</td>\n",
       "      <td>5\\0</td>\n",
       "      <td>IA</td>\n",
       "      <td>PKNaMg</td>\n",
       "      <td>winter wheat</td>\n",
       "      <td>17.000</td>\n",
       "      <td>winter wheat</td>\n",
       "      <td>no</td>\n",
       "      <td>...</td>\n",
       "      <td>1967-09-19</td>\n",
       "      <td>Mg</td>\n",
       "      <td>11.0</td>\n",
       "      <td>1967-09-19</td>\n",
       "      <td>1967-12-07</td>\n",
       "      <td>1968-08-26</td>\n",
       "      <td>Cappelle Desprez</td>\n",
       "      <td>1.810</td>\n",
       "      <td>1.410</td>\n",
       "      <td>*</td>\n",
       "    </tr>\n",
       "    <tr>\n",
       "      <th>4</th>\n",
       "      <td>1968</td>\n",
       "      <td>6</td>\n",
       "      <td>0</td>\n",
       "      <td>6\\0</td>\n",
       "      <td>IA</td>\n",
       "      <td>N1PKNaMg</td>\n",
       "      <td>winter wheat</td>\n",
       "      <td>17.000</td>\n",
       "      <td>winter wheat</td>\n",
       "      <td>no</td>\n",
       "      <td>...</td>\n",
       "      <td>1967-09-19</td>\n",
       "      <td>Mg</td>\n",
       "      <td>11.0</td>\n",
       "      <td>1967-09-19</td>\n",
       "      <td>1967-12-07</td>\n",
       "      <td>1968-08-26</td>\n",
       "      <td>Cappelle Desprez</td>\n",
       "      <td>2.640</td>\n",
       "      <td>2.320</td>\n",
       "      <td>*</td>\n",
       "    </tr>\n",
       "    <tr>\n",
       "      <th>...</th>\n",
       "      <td>...</td>\n",
       "      <td>...</td>\n",
       "      <td>...</td>\n",
       "      <td>...</td>\n",
       "      <td>...</td>\n",
       "      <td>...</td>\n",
       "      <td>...</td>\n",
       "      <td>...</td>\n",
       "      <td>...</td>\n",
       "      <td>...</td>\n",
       "      <td>...</td>\n",
       "      <td>...</td>\n",
       "      <td>...</td>\n",
       "      <td>...</td>\n",
       "      <td>...</td>\n",
       "      <td>...</td>\n",
       "      <td>...</td>\n",
       "      <td>...</td>\n",
       "      <td>...</td>\n",
       "      <td>...</td>\n",
       "      <td>...</td>\n",
       "    </tr>\n",
       "    <tr>\n",
       "      <th>8568</th>\n",
       "      <td>2022</td>\n",
       "      <td>15</td>\n",
       "      <td>9</td>\n",
       "      <td>15\\9</td>\n",
       "      <td>VB</td>\n",
       "      <td>N5(P)KMg</td>\n",
       "      <td>winter wheat</td>\n",
       "      <td>64.000</td>\n",
       "      <td>winter wheat</td>\n",
       "      <td>no</td>\n",
       "      <td>...</td>\n",
       "      <td>*</td>\n",
       "      <td>Mg</td>\n",
       "      <td>12.0</td>\n",
       "      <td>2022-04-22</td>\n",
       "      <td>2021-09-22</td>\n",
       "      <td>2022-07-27</td>\n",
       "      <td>Zyatt</td>\n",
       "      <td>7.730</td>\n",
       "      <td>*</td>\n",
       "      <td>*</td>\n",
       "    </tr>\n",
       "    <tr>\n",
       "      <th>8569</th>\n",
       "      <td>2022</td>\n",
       "      <td>16</td>\n",
       "      <td>9</td>\n",
       "      <td>16\\9</td>\n",
       "      <td>VB</td>\n",
       "      <td>N6(P)KMg</td>\n",
       "      <td>winter wheat</td>\n",
       "      <td>64.000</td>\n",
       "      <td>winter wheat</td>\n",
       "      <td>no</td>\n",
       "      <td>...</td>\n",
       "      <td>*</td>\n",
       "      <td>Mg</td>\n",
       "      <td>12.0</td>\n",
       "      <td>2022-04-22</td>\n",
       "      <td>2021-09-22</td>\n",
       "      <td>2022-07-27</td>\n",
       "      <td>Zyatt</td>\n",
       "      <td>8.940</td>\n",
       "      <td>*</td>\n",
       "      <td>*</td>\n",
       "    </tr>\n",
       "    <tr>\n",
       "      <th>8570</th>\n",
       "      <td>2022</td>\n",
       "      <td>17</td>\n",
       "      <td>9</td>\n",
       "      <td>17\\9</td>\n",
       "      <td>VB</td>\n",
       "      <td>N1+4+1 PKMg</td>\n",
       "      <td>winter wheat</td>\n",
       "      <td>64.000</td>\n",
       "      <td>winter wheat</td>\n",
       "      <td>no</td>\n",
       "      <td>...</td>\n",
       "      <td>*</td>\n",
       "      <td>Mg</td>\n",
       "      <td>12.0</td>\n",
       "      <td>2022-04-22</td>\n",
       "      <td>2021-09-22</td>\n",
       "      <td>2022-07-27</td>\n",
       "      <td>Zyatt</td>\n",
       "      <td>10.050</td>\n",
       "      <td>*</td>\n",
       "      <td>*</td>\n",
       "    </tr>\n",
       "    <tr>\n",
       "      <th>8571</th>\n",
       "      <td>2022</td>\n",
       "      <td>18</td>\n",
       "      <td>9</td>\n",
       "      <td>18\\9</td>\n",
       "      <td>VB</td>\n",
       "      <td>N1+2+1 PKMg</td>\n",
       "      <td>winter wheat</td>\n",
       "      <td>64.000</td>\n",
       "      <td>winter wheat</td>\n",
       "      <td>no</td>\n",
       "      <td>...</td>\n",
       "      <td>*</td>\n",
       "      <td>Mg</td>\n",
       "      <td>12.0</td>\n",
       "      <td>2022-04-22</td>\n",
       "      <td>2021-09-22</td>\n",
       "      <td>2022-07-27</td>\n",
       "      <td>Zyatt</td>\n",
       "      <td>8.860</td>\n",
       "      <td>*</td>\n",
       "      <td>*</td>\n",
       "    </tr>\n",
       "    <tr>\n",
       "      <th>8572</th>\n",
       "      <td>2022</td>\n",
       "      <td>19</td>\n",
       "      <td>9</td>\n",
       "      <td>19\\9</td>\n",
       "      <td>VB</td>\n",
       "      <td>N1+1+1 KMg</td>\n",
       "      <td>winter wheat</td>\n",
       "      <td>64.000</td>\n",
       "      <td>winter wheat</td>\n",
       "      <td>no</td>\n",
       "      <td>...</td>\n",
       "      <td>*</td>\n",
       "      <td>Mg</td>\n",
       "      <td>12.0</td>\n",
       "      <td>2022-04-22</td>\n",
       "      <td>2021-09-22</td>\n",
       "      <td>2022-07-27</td>\n",
       "      <td>Zyatt</td>\n",
       "      <td>8.250</td>\n",
       "      <td>*</td>\n",
       "      <td>*</td>\n",
       "    </tr>\n",
       "  </tbody>\n",
       "</table>\n",
       "<p>8573 rows × 45 columns</p>\n",
       "</div>"
      ],
      "text/plain": [
       "      harvest_year  strip  section  plot section_1926-67 fertilizer_code  \\\n",
       "0             1968     21        0  21\\0              IA          FYM N2   \n",
       "1             1968     22        0  22\\0              IA             FYM   \n",
       "2             1968      3        0   3\\0              IA             Nil   \n",
       "3             1968      5        0   5\\0              IA          PKNaMg   \n",
       "4             1968      6        0   6\\0              IA        N1PKNaMg   \n",
       "...            ...    ...      ...   ...             ...             ...   \n",
       "8568          2022     15        9  15\\9              VB        N5(P)KMg   \n",
       "8569          2022     16        9  16\\9              VB        N6(P)KMg   \n",
       "8570          2022     17        9  17\\9              VB     N1+4+1 PKMg   \n",
       "8571          2022     18        9  18\\9              VB     N1+2+1 PKMg   \n",
       "8572          2022     19        9  19\\9              VB      N1+1+1 KMg   \n",
       "\n",
       "          cropping year_of_wheat previous_crop straw_incorporation  ...  \\\n",
       "0     winter wheat        17.000  winter wheat                  no  ...   \n",
       "1     winter wheat        17.000  winter wheat                  no  ...   \n",
       "2     winter wheat        17.000  winter wheat                  no  ...   \n",
       "3     winter wheat        17.000  winter wheat                  no  ...   \n",
       "4     winter wheat        17.000  winter wheat                  no  ...   \n",
       "...            ...           ...           ...                 ...  ...   \n",
       "8568  winter wheat        64.000  winter wheat                  no  ...   \n",
       "8569  winter wheat        64.000  winter wheat                  no  ...   \n",
       "8570  winter wheat        64.000  winter wheat                  no  ...   \n",
       "8571  winter wheat        64.000  winter wheat                  no  ...   \n",
       "8572  winter wheat        64.000  winter wheat                  no  ...   \n",
       "\n",
       "         na_date  mg_factor_level mg_amount     mg_date    sow_date  \\\n",
       "0              *              nil       0.0           *  1967-12-07   \n",
       "1              *              nil       0.0           *  1967-12-07   \n",
       "2              *              nil       0.0           *  1967-12-07   \n",
       "3     1967-09-19               Mg      11.0  1967-09-19  1967-12-07   \n",
       "4     1967-09-19               Mg      11.0  1967-09-19  1967-12-07   \n",
       "...          ...              ...       ...         ...         ...   \n",
       "8568           *               Mg      12.0  2022-04-22  2021-09-22   \n",
       "8569           *               Mg      12.0  2022-04-22  2021-09-22   \n",
       "8570           *               Mg      12.0  2022-04-22  2021-09-22   \n",
       "8571           *               Mg      12.0  2022-04-22  2021-09-22   \n",
       "8572           *               Mg      12.0  2022-04-22  2021-09-22   \n",
       "\n",
       "     harvest_date          cultivar   grain  straw note  \n",
       "0      1968-08-26  Cappelle Desprez   4.740  5.280   45  \n",
       "1      1968-08-26  Cappelle Desprez   3.930  3.490   46  \n",
       "2      1968-08-26  Cappelle Desprez   1.440  0.880    *  \n",
       "3      1968-08-26  Cappelle Desprez   1.810  1.410    *  \n",
       "4      1968-08-26  Cappelle Desprez   2.640  2.320    *  \n",
       "...           ...               ...     ...    ...  ...  \n",
       "8568   2022-07-27             Zyatt   7.730      *    *  \n",
       "8569   2022-07-27             Zyatt   8.940      *    *  \n",
       "8570   2022-07-27             Zyatt  10.050      *    *  \n",
       "8571   2022-07-27             Zyatt   8.860      *    *  \n",
       "8572   2022-07-27             Zyatt   8.250      *    *  \n",
       "\n",
       "[8573 rows x 45 columns]"
      ]
     },
     "metadata": {},
     "output_type": "display_data"
    }
   ],
   "source": [
    "# Load the data\n",
    "df = pd.read_csv('InputDataRaw/yield_data.csv')\n",
    "\n",
    "display((df))"
   ]
  },
  {
   "cell_type": "code",
   "execution_count": 43,
   "id": "b90db571",
   "metadata": {},
   "outputs": [
    {
     "data": {
      "text/html": [
       "<div>\n",
       "<style scoped>\n",
       "    .dataframe tbody tr th:only-of-type {\n",
       "        vertical-align: middle;\n",
       "    }\n",
       "\n",
       "    .dataframe tbody tr th {\n",
       "        vertical-align: top;\n",
       "    }\n",
       "\n",
       "    .dataframe thead th {\n",
       "        text-align: right;\n",
       "    }\n",
       "</style>\n",
       "<table border=\"1\" class=\"dataframe\">\n",
       "  <thead>\n",
       "    <tr style=\"text-align: right;\">\n",
       "      <th></th>\n",
       "      <th>harvest_year</th>\n",
       "      <th>cropping</th>\n",
       "      <th>k_amount</th>\n",
       "      <th>total_fertilizer_n_amount</th>\n",
       "      <th>p_amount</th>\n",
       "      <th>grain</th>\n",
       "      <th>straw</th>\n",
       "      <th>strip</th>\n",
       "    </tr>\n",
       "  </thead>\n",
       "  <tbody>\n",
       "    <tr>\n",
       "      <th>0</th>\n",
       "      <td>1990</td>\n",
       "      <td>winter wheat</td>\n",
       "      <td>90</td>\n",
       "      <td>144</td>\n",
       "      <td>35.0</td>\n",
       "      <td>7.360</td>\n",
       "      <td>*</td>\n",
       "      <td>8</td>\n",
       "    </tr>\n",
       "    <tr>\n",
       "      <th>1</th>\n",
       "      <td>1990</td>\n",
       "      <td>winter wheat</td>\n",
       "      <td>90</td>\n",
       "      <td>144</td>\n",
       "      <td>35.0</td>\n",
       "      <td>6.740</td>\n",
       "      <td>2.680</td>\n",
       "      <td>8</td>\n",
       "    </tr>\n",
       "    <tr>\n",
       "      <th>2</th>\n",
       "      <td>1990</td>\n",
       "      <td>winter wheat</td>\n",
       "      <td>90</td>\n",
       "      <td>144</td>\n",
       "      <td>35.0</td>\n",
       "      <td>8.100</td>\n",
       "      <td>*</td>\n",
       "      <td>8</td>\n",
       "    </tr>\n",
       "    <tr>\n",
       "      <th>3</th>\n",
       "      <td>1990</td>\n",
       "      <td>winter wheat</td>\n",
       "      <td>90</td>\n",
       "      <td>144</td>\n",
       "      <td>35.0</td>\n",
       "      <td>6.440</td>\n",
       "      <td>*</td>\n",
       "      <td>8</td>\n",
       "    </tr>\n",
       "    <tr>\n",
       "      <th>4</th>\n",
       "      <td>1990</td>\n",
       "      <td>winter wheat</td>\n",
       "      <td>90</td>\n",
       "      <td>144</td>\n",
       "      <td>35.0</td>\n",
       "      <td>7.720</td>\n",
       "      <td>*</td>\n",
       "      <td>8</td>\n",
       "    </tr>\n",
       "    <tr>\n",
       "      <th>...</th>\n",
       "      <td>...</td>\n",
       "      <td>...</td>\n",
       "      <td>...</td>\n",
       "      <td>...</td>\n",
       "      <td>...</td>\n",
       "      <td>...</td>\n",
       "      <td>...</td>\n",
       "      <td>...</td>\n",
       "    </tr>\n",
       "    <tr>\n",
       "      <th>153</th>\n",
       "      <td>2019</td>\n",
       "      <td>winter wheat</td>\n",
       "      <td>90</td>\n",
       "      <td>144</td>\n",
       "      <td>0.0</td>\n",
       "      <td>7.685</td>\n",
       "      <td>1.103</td>\n",
       "      <td>8</td>\n",
       "    </tr>\n",
       "    <tr>\n",
       "      <th>154</th>\n",
       "      <td>2019</td>\n",
       "      <td>winter wheat</td>\n",
       "      <td>90</td>\n",
       "      <td>144</td>\n",
       "      <td>0.0</td>\n",
       "      <td>4.279</td>\n",
       "      <td>*</td>\n",
       "      <td>8</td>\n",
       "    </tr>\n",
       "    <tr>\n",
       "      <th>155</th>\n",
       "      <td>2019</td>\n",
       "      <td>winter wheat</td>\n",
       "      <td>90</td>\n",
       "      <td>144</td>\n",
       "      <td>0.0</td>\n",
       "      <td>8.102</td>\n",
       "      <td>1.585</td>\n",
       "      <td>8</td>\n",
       "    </tr>\n",
       "    <tr>\n",
       "      <th>156</th>\n",
       "      <td>2019</td>\n",
       "      <td>winter wheat</td>\n",
       "      <td>90</td>\n",
       "      <td>144</td>\n",
       "      <td>0.0</td>\n",
       "      <td>2.667</td>\n",
       "      <td>2.398</td>\n",
       "      <td>8</td>\n",
       "    </tr>\n",
       "    <tr>\n",
       "      <th>157</th>\n",
       "      <td>2019</td>\n",
       "      <td>winter wheat</td>\n",
       "      <td>90</td>\n",
       "      <td>144</td>\n",
       "      <td>0.0</td>\n",
       "      <td>5.357</td>\n",
       "      <td>*</td>\n",
       "      <td>8</td>\n",
       "    </tr>\n",
       "  </tbody>\n",
       "</table>\n",
       "<p>158 rows × 8 columns</p>\n",
       "</div>"
      ],
      "text/plain": [
       "     harvest_year      cropping  k_amount  total_fertilizer_n_amount  \\\n",
       "0            1990  winter wheat        90                        144   \n",
       "1            1990  winter wheat        90                        144   \n",
       "2            1990  winter wheat        90                        144   \n",
       "3            1990  winter wheat        90                        144   \n",
       "4            1990  winter wheat        90                        144   \n",
       "..            ...           ...       ...                        ...   \n",
       "153          2019  winter wheat        90                        144   \n",
       "154          2019  winter wheat        90                        144   \n",
       "155          2019  winter wheat        90                        144   \n",
       "156          2019  winter wheat        90                        144   \n",
       "157          2019  winter wheat        90                        144   \n",
       "\n",
       "     p_amount  grain  straw  strip  \n",
       "0        35.0  7.360      *      8  \n",
       "1        35.0  6.740  2.680      8  \n",
       "2        35.0  8.100      *      8  \n",
       "3        35.0  6.440      *      8  \n",
       "4        35.0  7.720      *      8  \n",
       "..        ...    ...    ...    ...  \n",
       "153       0.0  7.685  1.103      8  \n",
       "154       0.0  4.279      *      8  \n",
       "155       0.0  8.102  1.585      8  \n",
       "156       0.0  2.667  2.398      8  \n",
       "157       0.0  5.357      *      8  \n",
       "\n",
       "[158 rows x 8 columns]"
      ]
     },
     "metadata": {},
     "output_type": "display_data"
    }
   ],
   "source": [
    "# Keep only the desired columns\n",
    "cols_to_keep = ['harvest_year', 'cropping', 'k_amount', 'total_fertilizer_n_amount', 'p_amount', 'grain', 'straw', 'strip']\n",
    "df = df[cols_to_keep]\n",
    "\n",
    "# Filter rows where cropping is 'winter wheat'\n",
    "df = df[df['cropping'] == 'winter wheat']\n",
    "df = df[df['strip'] == 8]\n",
    "\n",
    "df = df[((df['harvest_year'] >= 1990) & (df['harvest_year'] <= 2000)) | ((df['harvest_year'] >= 2010) & (df['harvest_year'] <= 2020))]\n",
    "\n",
    "# Reset index\n",
    "df = df.reset_index(drop=True)\n",
    "\n",
    "# Optionally, display the cleaned dataframe\n",
    "display(df)"
   ]
  },
  {
   "cell_type": "code",
   "execution_count": 44,
   "id": "d2fb2c3f",
   "metadata": {},
   "outputs": [
    {
     "data": {
      "text/html": [
       "<div>\n",
       "<style scoped>\n",
       "    .dataframe tbody tr th:only-of-type {\n",
       "        vertical-align: middle;\n",
       "    }\n",
       "\n",
       "    .dataframe tbody tr th {\n",
       "        vertical-align: top;\n",
       "    }\n",
       "\n",
       "    .dataframe thead th {\n",
       "        text-align: right;\n",
       "    }\n",
       "</style>\n",
       "<table border=\"1\" class=\"dataframe\">\n",
       "  <thead>\n",
       "    <tr style=\"text-align: right;\">\n",
       "      <th></th>\n",
       "      <th>harvest_year</th>\n",
       "      <th>cropping</th>\n",
       "      <th>k_amount</th>\n",
       "      <th>total_fertilizer_n_amount</th>\n",
       "      <th>p_amount</th>\n",
       "      <th>grain</th>\n",
       "      <th>straw</th>\n",
       "      <th>strip</th>\n",
       "      <th>mean_temp_year</th>\n",
       "      <th>total_rainfall_year</th>\n",
       "    </tr>\n",
       "  </thead>\n",
       "  <tbody>\n",
       "    <tr>\n",
       "      <th>0</th>\n",
       "      <td>1990</td>\n",
       "      <td>winter wheat</td>\n",
       "      <td>90</td>\n",
       "      <td>144</td>\n",
       "      <td>35.0</td>\n",
       "      <td>7.360</td>\n",
       "      <td>*</td>\n",
       "      <td>8</td>\n",
       "      <td>10.471347</td>\n",
       "      <td>709.00356</td>\n",
       "    </tr>\n",
       "    <tr>\n",
       "      <th>1</th>\n",
       "      <td>1990</td>\n",
       "      <td>winter wheat</td>\n",
       "      <td>90</td>\n",
       "      <td>144</td>\n",
       "      <td>35.0</td>\n",
       "      <td>6.740</td>\n",
       "      <td>2.680</td>\n",
       "      <td>8</td>\n",
       "      <td>10.471347</td>\n",
       "      <td>709.00356</td>\n",
       "    </tr>\n",
       "    <tr>\n",
       "      <th>2</th>\n",
       "      <td>1990</td>\n",
       "      <td>winter wheat</td>\n",
       "      <td>90</td>\n",
       "      <td>144</td>\n",
       "      <td>35.0</td>\n",
       "      <td>8.100</td>\n",
       "      <td>*</td>\n",
       "      <td>8</td>\n",
       "      <td>10.471347</td>\n",
       "      <td>709.00356</td>\n",
       "    </tr>\n",
       "    <tr>\n",
       "      <th>3</th>\n",
       "      <td>1990</td>\n",
       "      <td>winter wheat</td>\n",
       "      <td>90</td>\n",
       "      <td>144</td>\n",
       "      <td>35.0</td>\n",
       "      <td>6.440</td>\n",
       "      <td>*</td>\n",
       "      <td>8</td>\n",
       "      <td>10.471347</td>\n",
       "      <td>709.00356</td>\n",
       "    </tr>\n",
       "    <tr>\n",
       "      <th>4</th>\n",
       "      <td>1990</td>\n",
       "      <td>winter wheat</td>\n",
       "      <td>90</td>\n",
       "      <td>144</td>\n",
       "      <td>35.0</td>\n",
       "      <td>7.720</td>\n",
       "      <td>*</td>\n",
       "      <td>8</td>\n",
       "      <td>10.471347</td>\n",
       "      <td>709.00356</td>\n",
       "    </tr>\n",
       "    <tr>\n",
       "      <th>...</th>\n",
       "      <td>...</td>\n",
       "      <td>...</td>\n",
       "      <td>...</td>\n",
       "      <td>...</td>\n",
       "      <td>...</td>\n",
       "      <td>...</td>\n",
       "      <td>...</td>\n",
       "      <td>...</td>\n",
       "      <td>...</td>\n",
       "      <td>...</td>\n",
       "    </tr>\n",
       "    <tr>\n",
       "      <th>153</th>\n",
       "      <td>2019</td>\n",
       "      <td>winter wheat</td>\n",
       "      <td>90</td>\n",
       "      <td>144</td>\n",
       "      <td>0.0</td>\n",
       "      <td>7.685</td>\n",
       "      <td>1.103</td>\n",
       "      <td>8</td>\n",
       "      <td>10.236209</td>\n",
       "      <td>565.20000</td>\n",
       "    </tr>\n",
       "    <tr>\n",
       "      <th>154</th>\n",
       "      <td>2019</td>\n",
       "      <td>winter wheat</td>\n",
       "      <td>90</td>\n",
       "      <td>144</td>\n",
       "      <td>0.0</td>\n",
       "      <td>4.279</td>\n",
       "      <td>*</td>\n",
       "      <td>8</td>\n",
       "      <td>10.236209</td>\n",
       "      <td>565.20000</td>\n",
       "    </tr>\n",
       "    <tr>\n",
       "      <th>155</th>\n",
       "      <td>2019</td>\n",
       "      <td>winter wheat</td>\n",
       "      <td>90</td>\n",
       "      <td>144</td>\n",
       "      <td>0.0</td>\n",
       "      <td>8.102</td>\n",
       "      <td>1.585</td>\n",
       "      <td>8</td>\n",
       "      <td>10.236209</td>\n",
       "      <td>565.20000</td>\n",
       "    </tr>\n",
       "    <tr>\n",
       "      <th>156</th>\n",
       "      <td>2019</td>\n",
       "      <td>winter wheat</td>\n",
       "      <td>90</td>\n",
       "      <td>144</td>\n",
       "      <td>0.0</td>\n",
       "      <td>2.667</td>\n",
       "      <td>2.398</td>\n",
       "      <td>8</td>\n",
       "      <td>10.236209</td>\n",
       "      <td>565.20000</td>\n",
       "    </tr>\n",
       "    <tr>\n",
       "      <th>157</th>\n",
       "      <td>2019</td>\n",
       "      <td>winter wheat</td>\n",
       "      <td>90</td>\n",
       "      <td>144</td>\n",
       "      <td>0.0</td>\n",
       "      <td>5.357</td>\n",
       "      <td>*</td>\n",
       "      <td>8</td>\n",
       "      <td>10.236209</td>\n",
       "      <td>565.20000</td>\n",
       "    </tr>\n",
       "  </tbody>\n",
       "</table>\n",
       "<p>158 rows × 10 columns</p>\n",
       "</div>"
      ],
      "text/plain": [
       "     harvest_year      cropping  k_amount  total_fertilizer_n_amount  \\\n",
       "0            1990  winter wheat        90                        144   \n",
       "1            1990  winter wheat        90                        144   \n",
       "2            1990  winter wheat        90                        144   \n",
       "3            1990  winter wheat        90                        144   \n",
       "4            1990  winter wheat        90                        144   \n",
       "..            ...           ...       ...                        ...   \n",
       "153          2019  winter wheat        90                        144   \n",
       "154          2019  winter wheat        90                        144   \n",
       "155          2019  winter wheat        90                        144   \n",
       "156          2019  winter wheat        90                        144   \n",
       "157          2019  winter wheat        90                        144   \n",
       "\n",
       "     p_amount  grain  straw  strip  mean_temp_year  total_rainfall_year  \n",
       "0        35.0  7.360      *      8       10.471347            709.00356  \n",
       "1        35.0  6.740  2.680      8       10.471347            709.00356  \n",
       "2        35.0  8.100      *      8       10.471347            709.00356  \n",
       "3        35.0  6.440      *      8       10.471347            709.00356  \n",
       "4        35.0  7.720      *      8       10.471347            709.00356  \n",
       "..        ...    ...    ...    ...             ...                  ...  \n",
       "153       0.0  7.685  1.103      8       10.236209            565.20000  \n",
       "154       0.0  4.279      *      8       10.236209            565.20000  \n",
       "155       0.0  8.102  1.585      8       10.236209            565.20000  \n",
       "156       0.0  2.667  2.398      8       10.236209            565.20000  \n",
       "157       0.0  5.357      *      8       10.236209            565.20000  \n",
       "\n",
       "[158 rows x 10 columns]"
      ]
     },
     "metadata": {},
     "output_type": "display_data"
    }
   ],
   "source": [
    "#Add weather data to master dataframe\n",
    "\n",
    "# Load yearly weather data\n",
    "weather_df = pd.read_csv('InputDataRaw/weather_data_yearly_cleaned.csv')\n",
    "\n",
    "# Merge weather data into main df on 'harvest_year'\n",
    "df = pd.merge(df, weather_df, left_on='harvest_year', right_on='year', how='left')\n",
    "\n",
    "# Optionally, drop the duplicate 'year' column from weather data\n",
    "df = df.drop(columns=['year'])\n",
    "\n",
    "# Display merged dataframe\n",
    "display(df)"
   ]
  },
  {
   "cell_type": "code",
   "execution_count": 45,
   "id": "8b9fe20c",
   "metadata": {},
   "outputs": [
    {
     "data": {
      "text/html": [
       "<div>\n",
       "<style scoped>\n",
       "    .dataframe tbody tr th:only-of-type {\n",
       "        vertical-align: middle;\n",
       "    }\n",
       "\n",
       "    .dataframe tbody tr th {\n",
       "        vertical-align: top;\n",
       "    }\n",
       "\n",
       "    .dataframe thead th {\n",
       "        text-align: right;\n",
       "    }\n",
       "</style>\n",
       "<table border=\"1\" class=\"dataframe\">\n",
       "  <thead>\n",
       "    <tr style=\"text-align: right;\">\n",
       "      <th></th>\n",
       "      <th>harvest_year</th>\n",
       "      <th>cropping</th>\n",
       "      <th>k_amount</th>\n",
       "      <th>total_fertilizer_n_amount</th>\n",
       "      <th>p_amount</th>\n",
       "      <th>grain</th>\n",
       "      <th>straw</th>\n",
       "      <th>mean_temp_year</th>\n",
       "      <th>total_rainfall_year</th>\n",
       "      <th>total_Metopolophium dirhodum</th>\n",
       "      <th>total_Rhopalosiphum padi</th>\n",
       "      <th>total_Sitobion avenae</th>\n",
       "    </tr>\n",
       "  </thead>\n",
       "  <tbody>\n",
       "    <tr>\n",
       "      <th>0</th>\n",
       "      <td>1990</td>\n",
       "      <td>winter wheat</td>\n",
       "      <td>90</td>\n",
       "      <td>144</td>\n",
       "      <td>35.0</td>\n",
       "      <td>7.360</td>\n",
       "      <td>*</td>\n",
       "      <td>10.471347</td>\n",
       "      <td>709.00356</td>\n",
       "      <td>579</td>\n",
       "      <td>1256</td>\n",
       "      <td>324</td>\n",
       "    </tr>\n",
       "    <tr>\n",
       "      <th>1</th>\n",
       "      <td>1990</td>\n",
       "      <td>winter wheat</td>\n",
       "      <td>90</td>\n",
       "      <td>144</td>\n",
       "      <td>35.0</td>\n",
       "      <td>6.740</td>\n",
       "      <td>2.680</td>\n",
       "      <td>10.471347</td>\n",
       "      <td>709.00356</td>\n",
       "      <td>579</td>\n",
       "      <td>1256</td>\n",
       "      <td>324</td>\n",
       "    </tr>\n",
       "    <tr>\n",
       "      <th>2</th>\n",
       "      <td>1990</td>\n",
       "      <td>winter wheat</td>\n",
       "      <td>90</td>\n",
       "      <td>144</td>\n",
       "      <td>35.0</td>\n",
       "      <td>8.100</td>\n",
       "      <td>*</td>\n",
       "      <td>10.471347</td>\n",
       "      <td>709.00356</td>\n",
       "      <td>579</td>\n",
       "      <td>1256</td>\n",
       "      <td>324</td>\n",
       "    </tr>\n",
       "    <tr>\n",
       "      <th>3</th>\n",
       "      <td>1990</td>\n",
       "      <td>winter wheat</td>\n",
       "      <td>90</td>\n",
       "      <td>144</td>\n",
       "      <td>35.0</td>\n",
       "      <td>6.440</td>\n",
       "      <td>*</td>\n",
       "      <td>10.471347</td>\n",
       "      <td>709.00356</td>\n",
       "      <td>579</td>\n",
       "      <td>1256</td>\n",
       "      <td>324</td>\n",
       "    </tr>\n",
       "    <tr>\n",
       "      <th>4</th>\n",
       "      <td>1990</td>\n",
       "      <td>winter wheat</td>\n",
       "      <td>90</td>\n",
       "      <td>144</td>\n",
       "      <td>35.0</td>\n",
       "      <td>7.720</td>\n",
       "      <td>*</td>\n",
       "      <td>10.471347</td>\n",
       "      <td>709.00356</td>\n",
       "      <td>579</td>\n",
       "      <td>1256</td>\n",
       "      <td>324</td>\n",
       "    </tr>\n",
       "    <tr>\n",
       "      <th>...</th>\n",
       "      <td>...</td>\n",
       "      <td>...</td>\n",
       "      <td>...</td>\n",
       "      <td>...</td>\n",
       "      <td>...</td>\n",
       "      <td>...</td>\n",
       "      <td>...</td>\n",
       "      <td>...</td>\n",
       "      <td>...</td>\n",
       "      <td>...</td>\n",
       "      <td>...</td>\n",
       "      <td>...</td>\n",
       "    </tr>\n",
       "    <tr>\n",
       "      <th>153</th>\n",
       "      <td>2019</td>\n",
       "      <td>winter wheat</td>\n",
       "      <td>90</td>\n",
       "      <td>144</td>\n",
       "      <td>0.0</td>\n",
       "      <td>7.685</td>\n",
       "      <td>1.103</td>\n",
       "      <td>10.236209</td>\n",
       "      <td>565.20000</td>\n",
       "      <td>200</td>\n",
       "      <td>843</td>\n",
       "      <td>145</td>\n",
       "    </tr>\n",
       "    <tr>\n",
       "      <th>154</th>\n",
       "      <td>2019</td>\n",
       "      <td>winter wheat</td>\n",
       "      <td>90</td>\n",
       "      <td>144</td>\n",
       "      <td>0.0</td>\n",
       "      <td>4.279</td>\n",
       "      <td>*</td>\n",
       "      <td>10.236209</td>\n",
       "      <td>565.20000</td>\n",
       "      <td>200</td>\n",
       "      <td>843</td>\n",
       "      <td>145</td>\n",
       "    </tr>\n",
       "    <tr>\n",
       "      <th>155</th>\n",
       "      <td>2019</td>\n",
       "      <td>winter wheat</td>\n",
       "      <td>90</td>\n",
       "      <td>144</td>\n",
       "      <td>0.0</td>\n",
       "      <td>8.102</td>\n",
       "      <td>1.585</td>\n",
       "      <td>10.236209</td>\n",
       "      <td>565.20000</td>\n",
       "      <td>200</td>\n",
       "      <td>843</td>\n",
       "      <td>145</td>\n",
       "    </tr>\n",
       "    <tr>\n",
       "      <th>156</th>\n",
       "      <td>2019</td>\n",
       "      <td>winter wheat</td>\n",
       "      <td>90</td>\n",
       "      <td>144</td>\n",
       "      <td>0.0</td>\n",
       "      <td>2.667</td>\n",
       "      <td>2.398</td>\n",
       "      <td>10.236209</td>\n",
       "      <td>565.20000</td>\n",
       "      <td>200</td>\n",
       "      <td>843</td>\n",
       "      <td>145</td>\n",
       "    </tr>\n",
       "    <tr>\n",
       "      <th>157</th>\n",
       "      <td>2019</td>\n",
       "      <td>winter wheat</td>\n",
       "      <td>90</td>\n",
       "      <td>144</td>\n",
       "      <td>0.0</td>\n",
       "      <td>5.357</td>\n",
       "      <td>*</td>\n",
       "      <td>10.236209</td>\n",
       "      <td>565.20000</td>\n",
       "      <td>200</td>\n",
       "      <td>843</td>\n",
       "      <td>145</td>\n",
       "    </tr>\n",
       "  </tbody>\n",
       "</table>\n",
       "<p>158 rows × 12 columns</p>\n",
       "</div>"
      ],
      "text/plain": [
       "     harvest_year      cropping  k_amount  total_fertilizer_n_amount  \\\n",
       "0            1990  winter wheat        90                        144   \n",
       "1            1990  winter wheat        90                        144   \n",
       "2            1990  winter wheat        90                        144   \n",
       "3            1990  winter wheat        90                        144   \n",
       "4            1990  winter wheat        90                        144   \n",
       "..            ...           ...       ...                        ...   \n",
       "153          2019  winter wheat        90                        144   \n",
       "154          2019  winter wheat        90                        144   \n",
       "155          2019  winter wheat        90                        144   \n",
       "156          2019  winter wheat        90                        144   \n",
       "157          2019  winter wheat        90                        144   \n",
       "\n",
       "     p_amount  grain  straw  mean_temp_year  total_rainfall_year  \\\n",
       "0        35.0  7.360      *       10.471347            709.00356   \n",
       "1        35.0  6.740  2.680       10.471347            709.00356   \n",
       "2        35.0  8.100      *       10.471347            709.00356   \n",
       "3        35.0  6.440      *       10.471347            709.00356   \n",
       "4        35.0  7.720      *       10.471347            709.00356   \n",
       "..        ...    ...    ...             ...                  ...   \n",
       "153       0.0  7.685  1.103       10.236209            565.20000   \n",
       "154       0.0  4.279      *       10.236209            565.20000   \n",
       "155       0.0  8.102  1.585       10.236209            565.20000   \n",
       "156       0.0  2.667  2.398       10.236209            565.20000   \n",
       "157       0.0  5.357      *       10.236209            565.20000   \n",
       "\n",
       "     total_Metopolophium dirhodum  total_Rhopalosiphum padi  \\\n",
       "0                             579                      1256   \n",
       "1                             579                      1256   \n",
       "2                             579                      1256   \n",
       "3                             579                      1256   \n",
       "4                             579                      1256   \n",
       "..                            ...                       ...   \n",
       "153                           200                       843   \n",
       "154                           200                       843   \n",
       "155                           200                       843   \n",
       "156                           200                       843   \n",
       "157                           200                       843   \n",
       "\n",
       "     total_Sitobion avenae  \n",
       "0                      324  \n",
       "1                      324  \n",
       "2                      324  \n",
       "3                      324  \n",
       "4                      324  \n",
       "..                     ...  \n",
       "153                    145  \n",
       "154                    145  \n",
       "155                    145  \n",
       "156                    145  \n",
       "157                    145  \n",
       "\n",
       "[158 rows x 12 columns]"
      ]
     },
     "metadata": {},
     "output_type": "display_data"
    }
   ],
   "source": [
    "# Add insect data\n",
    "\n",
    "# Load yearly insect data for both periods\n",
    "insect_90s = pd.read_csv('FilteredInput/RISdata_1990_2000_yearly.csv')\n",
    "insect_10s = pd.read_csv('FilteredInput/RISdata_2010_2020_yearly.csv')\n",
    "\n",
    "# Combine both periods\n",
    "insect_df = pd.concat([insect_90s, insect_10s], ignore_index=True)\n",
    "\n",
    "# Pivot to get one column per species, values are yearly totals\n",
    "insect_pivot = insect_df.pivot_table(\n",
    "    index='Year',\n",
    "    columns='Insect',\n",
    "    values='Total',\n",
    "    aggfunc='sum'\n",
    ")\n",
    "\n",
    "# Rename columns to match requested format\n",
    "insect_pivot = insect_pivot.rename(columns=lambda x: f'total_{x}')\n",
    "\n",
    "# Reset index to make 'Year' a column\n",
    "insect_pivot = insect_pivot.reset_index()\n",
    "\n",
    "# Merge with master dataframe on year\n",
    "df = pd.merge(df, insect_pivot, left_on='harvest_year', right_on='Year', how='left')\n",
    "\n",
    "# Drop the 'Year' column from the merged dataframe (not 'harvest_year')\n",
    "df = df.drop(columns=['Year'])\n",
    "df = df.drop(columns=['strip'])\n",
    "\n",
    "\n",
    "# Display updated dataframe\n",
    "display(df)"
   ]
  },
  {
   "cell_type": "code",
   "execution_count": 46,
   "id": "d8d5a977",
   "metadata": {},
   "outputs": [
    {
     "data": {
      "text/html": [
       "<div>\n",
       "<style scoped>\n",
       "    .dataframe tbody tr th:only-of-type {\n",
       "        vertical-align: middle;\n",
       "    }\n",
       "\n",
       "    .dataframe tbody tr th {\n",
       "        vertical-align: top;\n",
       "    }\n",
       "\n",
       "    .dataframe thead th {\n",
       "        text-align: right;\n",
       "    }\n",
       "</style>\n",
       "<table border=\"1\" class=\"dataframe\">\n",
       "  <thead>\n",
       "    <tr style=\"text-align: right;\">\n",
       "      <th></th>\n",
       "      <th>harvest_year</th>\n",
       "      <th>cropping</th>\n",
       "      <th>k_amount</th>\n",
       "      <th>total_fertilizer_n_amount</th>\n",
       "      <th>p_amount</th>\n",
       "      <th>grain</th>\n",
       "      <th>straw</th>\n",
       "      <th>mean_temp_year</th>\n",
       "      <th>total_rainfall_year</th>\n",
       "      <th>total_Metopolophium dirhodum</th>\n",
       "      <th>total_Rhopalosiphum padi</th>\n",
       "      <th>total_Sitobion avenae</th>\n",
       "      <th>CO2e_total_kg</th>\n",
       "    </tr>\n",
       "  </thead>\n",
       "  <tbody>\n",
       "    <tr>\n",
       "      <th>0</th>\n",
       "      <td>1990</td>\n",
       "      <td>winter wheat</td>\n",
       "      <td>90</td>\n",
       "      <td>144</td>\n",
       "      <td>35.0</td>\n",
       "      <td>7.360</td>\n",
       "      <td>*</td>\n",
       "      <td>10.471347</td>\n",
       "      <td>709.00356</td>\n",
       "      <td>579</td>\n",
       "      <td>1256</td>\n",
       "      <td>324</td>\n",
       "      <td>1699.532</td>\n",
       "    </tr>\n",
       "    <tr>\n",
       "      <th>1</th>\n",
       "      <td>1990</td>\n",
       "      <td>winter wheat</td>\n",
       "      <td>90</td>\n",
       "      <td>144</td>\n",
       "      <td>35.0</td>\n",
       "      <td>6.740</td>\n",
       "      <td>2.680</td>\n",
       "      <td>10.471347</td>\n",
       "      <td>709.00356</td>\n",
       "      <td>579</td>\n",
       "      <td>1256</td>\n",
       "      <td>324</td>\n",
       "      <td>1699.532</td>\n",
       "    </tr>\n",
       "    <tr>\n",
       "      <th>2</th>\n",
       "      <td>1990</td>\n",
       "      <td>winter wheat</td>\n",
       "      <td>90</td>\n",
       "      <td>144</td>\n",
       "      <td>35.0</td>\n",
       "      <td>8.100</td>\n",
       "      <td>*</td>\n",
       "      <td>10.471347</td>\n",
       "      <td>709.00356</td>\n",
       "      <td>579</td>\n",
       "      <td>1256</td>\n",
       "      <td>324</td>\n",
       "      <td>1699.532</td>\n",
       "    </tr>\n",
       "    <tr>\n",
       "      <th>3</th>\n",
       "      <td>1990</td>\n",
       "      <td>winter wheat</td>\n",
       "      <td>90</td>\n",
       "      <td>144</td>\n",
       "      <td>35.0</td>\n",
       "      <td>6.440</td>\n",
       "      <td>*</td>\n",
       "      <td>10.471347</td>\n",
       "      <td>709.00356</td>\n",
       "      <td>579</td>\n",
       "      <td>1256</td>\n",
       "      <td>324</td>\n",
       "      <td>1699.532</td>\n",
       "    </tr>\n",
       "    <tr>\n",
       "      <th>4</th>\n",
       "      <td>1990</td>\n",
       "      <td>winter wheat</td>\n",
       "      <td>90</td>\n",
       "      <td>144</td>\n",
       "      <td>35.0</td>\n",
       "      <td>7.720</td>\n",
       "      <td>*</td>\n",
       "      <td>10.471347</td>\n",
       "      <td>709.00356</td>\n",
       "      <td>579</td>\n",
       "      <td>1256</td>\n",
       "      <td>324</td>\n",
       "      <td>1699.532</td>\n",
       "    </tr>\n",
       "    <tr>\n",
       "      <th>...</th>\n",
       "      <td>...</td>\n",
       "      <td>...</td>\n",
       "      <td>...</td>\n",
       "      <td>...</td>\n",
       "      <td>...</td>\n",
       "      <td>...</td>\n",
       "      <td>...</td>\n",
       "      <td>...</td>\n",
       "      <td>...</td>\n",
       "      <td>...</td>\n",
       "      <td>...</td>\n",
       "      <td>...</td>\n",
       "      <td>...</td>\n",
       "    </tr>\n",
       "    <tr>\n",
       "      <th>153</th>\n",
       "      <td>2019</td>\n",
       "      <td>winter wheat</td>\n",
       "      <td>90</td>\n",
       "      <td>144</td>\n",
       "      <td>0.0</td>\n",
       "      <td>7.685</td>\n",
       "      <td>1.103</td>\n",
       "      <td>10.236209</td>\n",
       "      <td>565.20000</td>\n",
       "      <td>200</td>\n",
       "      <td>843</td>\n",
       "      <td>145</td>\n",
       "      <td>1664.532</td>\n",
       "    </tr>\n",
       "    <tr>\n",
       "      <th>154</th>\n",
       "      <td>2019</td>\n",
       "      <td>winter wheat</td>\n",
       "      <td>90</td>\n",
       "      <td>144</td>\n",
       "      <td>0.0</td>\n",
       "      <td>4.279</td>\n",
       "      <td>*</td>\n",
       "      <td>10.236209</td>\n",
       "      <td>565.20000</td>\n",
       "      <td>200</td>\n",
       "      <td>843</td>\n",
       "      <td>145</td>\n",
       "      <td>1664.532</td>\n",
       "    </tr>\n",
       "    <tr>\n",
       "      <th>155</th>\n",
       "      <td>2019</td>\n",
       "      <td>winter wheat</td>\n",
       "      <td>90</td>\n",
       "      <td>144</td>\n",
       "      <td>0.0</td>\n",
       "      <td>8.102</td>\n",
       "      <td>1.585</td>\n",
       "      <td>10.236209</td>\n",
       "      <td>565.20000</td>\n",
       "      <td>200</td>\n",
       "      <td>843</td>\n",
       "      <td>145</td>\n",
       "      <td>1664.532</td>\n",
       "    </tr>\n",
       "    <tr>\n",
       "      <th>156</th>\n",
       "      <td>2019</td>\n",
       "      <td>winter wheat</td>\n",
       "      <td>90</td>\n",
       "      <td>144</td>\n",
       "      <td>0.0</td>\n",
       "      <td>2.667</td>\n",
       "      <td>2.398</td>\n",
       "      <td>10.236209</td>\n",
       "      <td>565.20000</td>\n",
       "      <td>200</td>\n",
       "      <td>843</td>\n",
       "      <td>145</td>\n",
       "      <td>1664.532</td>\n",
       "    </tr>\n",
       "    <tr>\n",
       "      <th>157</th>\n",
       "      <td>2019</td>\n",
       "      <td>winter wheat</td>\n",
       "      <td>90</td>\n",
       "      <td>144</td>\n",
       "      <td>0.0</td>\n",
       "      <td>5.357</td>\n",
       "      <td>*</td>\n",
       "      <td>10.236209</td>\n",
       "      <td>565.20000</td>\n",
       "      <td>200</td>\n",
       "      <td>843</td>\n",
       "      <td>145</td>\n",
       "      <td>1664.532</td>\n",
       "    </tr>\n",
       "  </tbody>\n",
       "</table>\n",
       "<p>158 rows × 13 columns</p>\n",
       "</div>"
      ],
      "text/plain": [
       "     harvest_year      cropping  k_amount  total_fertilizer_n_amount  \\\n",
       "0            1990  winter wheat        90                        144   \n",
       "1            1990  winter wheat        90                        144   \n",
       "2            1990  winter wheat        90                        144   \n",
       "3            1990  winter wheat        90                        144   \n",
       "4            1990  winter wheat        90                        144   \n",
       "..            ...           ...       ...                        ...   \n",
       "153          2019  winter wheat        90                        144   \n",
       "154          2019  winter wheat        90                        144   \n",
       "155          2019  winter wheat        90                        144   \n",
       "156          2019  winter wheat        90                        144   \n",
       "157          2019  winter wheat        90                        144   \n",
       "\n",
       "     p_amount  grain  straw  mean_temp_year  total_rainfall_year  \\\n",
       "0        35.0  7.360      *       10.471347            709.00356   \n",
       "1        35.0  6.740  2.680       10.471347            709.00356   \n",
       "2        35.0  8.100      *       10.471347            709.00356   \n",
       "3        35.0  6.440      *       10.471347            709.00356   \n",
       "4        35.0  7.720      *       10.471347            709.00356   \n",
       "..        ...    ...    ...             ...                  ...   \n",
       "153       0.0  7.685  1.103       10.236209            565.20000   \n",
       "154       0.0  4.279      *       10.236209            565.20000   \n",
       "155       0.0  8.102  1.585       10.236209            565.20000   \n",
       "156       0.0  2.667  2.398       10.236209            565.20000   \n",
       "157       0.0  5.357      *       10.236209            565.20000   \n",
       "\n",
       "     total_Metopolophium dirhodum  total_Rhopalosiphum padi  \\\n",
       "0                             579                      1256   \n",
       "1                             579                      1256   \n",
       "2                             579                      1256   \n",
       "3                             579                      1256   \n",
       "4                             579                      1256   \n",
       "..                            ...                       ...   \n",
       "153                           200                       843   \n",
       "154                           200                       843   \n",
       "155                           200                       843   \n",
       "156                           200                       843   \n",
       "157                           200                       843   \n",
       "\n",
       "     total_Sitobion avenae  CO2e_total_kg  \n",
       "0                      324       1699.532  \n",
       "1                      324       1699.532  \n",
       "2                      324       1699.532  \n",
       "3                      324       1699.532  \n",
       "4                      324       1699.532  \n",
       "..                     ...            ...  \n",
       "153                    145       1664.532  \n",
       "154                    145       1664.532  \n",
       "155                    145       1664.532  \n",
       "156                    145       1664.532  \n",
       "157                    145       1664.532  \n",
       "\n",
       "[158 rows x 13 columns]"
      ]
     },
     "metadata": {},
     "output_type": "display_data"
    }
   ],
   "source": [
    "## Add GHG estimates\n",
    "\n",
    "# IPCC emission factors & conversion values\n",
    "EF1 = 0.01  # direct N2O-N emission factor\n",
    "FracGASF, EF4 = 0.1, 0.01\n",
    "FracLEACH, EF5 = 0.3, 0.0075\n",
    "GWP_N2O = 273\n",
    "conv = 44/28\n",
    "\n",
    "# Upstream emission factors (kg CO2e / kg nutrient)\n",
    "EF_N, EF_P, EF_K = 5.5, 1.0, 0.6\n",
    "\n",
    "def calc_emissions(row):\n",
    "    N = row['total_fertilizer_n_amount']\n",
    "    P = row['p_amount']\n",
    "    K = row['k_amount']\n",
    "\n",
    "    # Direct N2O\n",
    "    n2o_n_direct = N * EF1\n",
    "    # Indirect N2O\n",
    "    n2o_n_vol = N * FracGASF * EF4\n",
    "    n2o_n_leach = N * FracLEACH * EF5\n",
    "\n",
    "    n2o_total = (n2o_n_direct + n2o_n_vol + n2o_n_leach) * conv\n",
    "    co2e_field = n2o_total * GWP_N2O\n",
    "\n",
    "    # Upstream\n",
    "    co2e_upstream = (N * EF_N) + (P * EF_P) + (K * EF_K)\n",
    "\n",
    "    return pd.Series({\n",
    "        \"CO2e_total_kg\": co2e_field + co2e_upstream\n",
    "    })\n",
    "\n",
    "df = df.join(df.apply(calc_emissions, axis=1))\n",
    "\n",
    "display(df)\n",
    "\n",
    "#Source/Justification for upstream EF values (EF_N, EF_P, EF_K):\n",
    "\n",
    "#CarbonChain reports ~2.6 kg CO₂e/kg for N fertilizer production; P ~1.7 kg CO₂e/kg; K ~0.6 kg CO₂e/kg. carbonchain.com\n",
    "#Fertilizer Europe & other industrial LCA studies show N fertilizer production emissions can vary between ~3-10 kg CO₂e/kg N depending on energy source and process. fertilizerseurope.com\n",
    "#IPCC 2006/2019 Guideline refinements provide default emission factors for soil emissions from N application (direct plus indirect). ipcc-nggip.iges.or.jp"
   ]
  },
  {
   "cell_type": "code",
   "execution_count": 47,
   "id": "82709aad",
   "metadata": {},
   "outputs": [],
   "source": [
    "## Export\n",
    "\n",
    "df.to_excel('FilteredInput/cleaned_yield_data.xlsx', index=False)"
   ]
  },
  {
   "cell_type": "code",
   "execution_count": 48,
   "id": "cf7e93da",
   "metadata": {},
   "outputs": [
    {
     "data": {
      "text/html": [
       "<div>\n",
       "<style scoped>\n",
       "    .dataframe tbody tr th:only-of-type {\n",
       "        vertical-align: middle;\n",
       "    }\n",
       "\n",
       "    .dataframe tbody tr th {\n",
       "        vertical-align: top;\n",
       "    }\n",
       "\n",
       "    .dataframe thead th {\n",
       "        text-align: right;\n",
       "    }\n",
       "</style>\n",
       "<table border=\"1\" class=\"dataframe\">\n",
       "  <thead>\n",
       "    <tr style=\"text-align: right;\">\n",
       "      <th></th>\n",
       "      <th>harvest_year</th>\n",
       "      <th>k_amount</th>\n",
       "      <th>total_fertilizer_n_amount</th>\n",
       "      <th>p_amount</th>\n",
       "      <th>grain</th>\n",
       "      <th>straw</th>\n",
       "      <th>mean_temp_year</th>\n",
       "      <th>total_rainfall_year</th>\n",
       "      <th>total_Metopolophium dirhodum</th>\n",
       "      <th>total_Rhopalosiphum padi</th>\n",
       "      <th>total_Sitobion avenae</th>\n",
       "      <th>CO2e_total_kg</th>\n",
       "    </tr>\n",
       "    <tr>\n",
       "      <th>harvest_year</th>\n",
       "      <th></th>\n",
       "      <th></th>\n",
       "      <th></th>\n",
       "      <th></th>\n",
       "      <th></th>\n",
       "      <th></th>\n",
       "      <th></th>\n",
       "      <th></th>\n",
       "      <th></th>\n",
       "      <th></th>\n",
       "      <th></th>\n",
       "      <th></th>\n",
       "    </tr>\n",
       "  </thead>\n",
       "  <tbody>\n",
       "    <tr>\n",
       "      <th>1990</th>\n",
       "      <td>1990.0</td>\n",
       "      <td>90.0</td>\n",
       "      <td>144.0</td>\n",
       "      <td>35.0</td>\n",
       "      <td>7.630000</td>\n",
       "      <td>3.275000</td>\n",
       "      <td>10.471347</td>\n",
       "      <td>709.00356</td>\n",
       "      <td>579.0</td>\n",
       "      <td>1256.0</td>\n",
       "      <td>324.0</td>\n",
       "      <td>1699.532</td>\n",
       "    </tr>\n",
       "    <tr>\n",
       "      <th>1991</th>\n",
       "      <td>1991.0</td>\n",
       "      <td>90.0</td>\n",
       "      <td>144.0</td>\n",
       "      <td>35.0</td>\n",
       "      <td>7.207500</td>\n",
       "      <td>6.060000</td>\n",
       "      <td>9.143046</td>\n",
       "      <td>776.32242</td>\n",
       "      <td>415.0</td>\n",
       "      <td>2683.0</td>\n",
       "      <td>1115.0</td>\n",
       "      <td>1699.532</td>\n",
       "    </tr>\n",
       "    <tr>\n",
       "      <th>1992</th>\n",
       "      <td>1992.0</td>\n",
       "      <td>90.0</td>\n",
       "      <td>144.0</td>\n",
       "      <td>35.0</td>\n",
       "      <td>6.883750</td>\n",
       "      <td>4.455000</td>\n",
       "      <td>10.002850</td>\n",
       "      <td>714.42002</td>\n",
       "      <td>4775.0</td>\n",
       "      <td>4415.0</td>\n",
       "      <td>4911.0</td>\n",
       "      <td>1699.532</td>\n",
       "    </tr>\n",
       "    <tr>\n",
       "      <th>1993</th>\n",
       "      <td>1993.0</td>\n",
       "      <td>90.0</td>\n",
       "      <td>144.0</td>\n",
       "      <td>35.0</td>\n",
       "      <td>5.196250</td>\n",
       "      <td>2.540000</td>\n",
       "      <td>9.488239</td>\n",
       "      <td>935.72110</td>\n",
       "      <td>381.0</td>\n",
       "      <td>1349.0</td>\n",
       "      <td>2123.0</td>\n",
       "      <td>1699.532</td>\n",
       "    </tr>\n",
       "    <tr>\n",
       "      <th>1994</th>\n",
       "      <td>1994.0</td>\n",
       "      <td>90.0</td>\n",
       "      <td>144.0</td>\n",
       "      <td>35.0</td>\n",
       "      <td>6.161429</td>\n",
       "      <td>4.190000</td>\n",
       "      <td>9.593352</td>\n",
       "      <td>934.50516</td>\n",
       "      <td>2583.0</td>\n",
       "      <td>4376.0</td>\n",
       "      <td>6747.0</td>\n",
       "      <td>1699.532</td>\n",
       "    </tr>\n",
       "    <tr>\n",
       "      <th>1995</th>\n",
       "      <td>1995.0</td>\n",
       "      <td>90.0</td>\n",
       "      <td>144.0</td>\n",
       "      <td>35.0</td>\n",
       "      <td>5.926250</td>\n",
       "      <td>2.545000</td>\n",
       "      <td>10.573170</td>\n",
       "      <td>706.90330</td>\n",
       "      <td>229.0</td>\n",
       "      <td>820.0</td>\n",
       "      <td>3983.0</td>\n",
       "      <td>1699.532</td>\n",
       "    </tr>\n",
       "    <tr>\n",
       "      <th>1996</th>\n",
       "      <td>1996.0</td>\n",
       "      <td>90.0</td>\n",
       "      <td>144.0</td>\n",
       "      <td>35.0</td>\n",
       "      <td>7.425000</td>\n",
       "      <td>3.827500</td>\n",
       "      <td>9.243593</td>\n",
       "      <td>652.73870</td>\n",
       "      <td>1101.0</td>\n",
       "      <td>2169.0</td>\n",
       "      <td>12803.0</td>\n",
       "      <td>1699.532</td>\n",
       "    </tr>\n",
       "    <tr>\n",
       "      <th>1997</th>\n",
       "      <td>1997.0</td>\n",
       "      <td>90.0</td>\n",
       "      <td>144.0</td>\n",
       "      <td>35.0</td>\n",
       "      <td>6.885000</td>\n",
       "      <td>2.760000</td>\n",
       "      <td>9.926231</td>\n",
       "      <td>633.17312</td>\n",
       "      <td>5640.0</td>\n",
       "      <td>4720.0</td>\n",
       "      <td>2247.0</td>\n",
       "      <td>1699.532</td>\n",
       "    </tr>\n",
       "    <tr>\n",
       "      <th>1998</th>\n",
       "      <td>1998.0</td>\n",
       "      <td>90.0</td>\n",
       "      <td>144.0</td>\n",
       "      <td>35.0</td>\n",
       "      <td>5.166250</td>\n",
       "      <td>4.217500</td>\n",
       "      <td>10.258893</td>\n",
       "      <td>726.35834</td>\n",
       "      <td>41.0</td>\n",
       "      <td>1374.0</td>\n",
       "      <td>385.0</td>\n",
       "      <td>1699.532</td>\n",
       "    </tr>\n",
       "    <tr>\n",
       "      <th>1999</th>\n",
       "      <td>1999.0</td>\n",
       "      <td>90.0</td>\n",
       "      <td>144.0</td>\n",
       "      <td>35.0</td>\n",
       "      <td>5.246250</td>\n",
       "      <td>2.515000</td>\n",
       "      <td>10.298190</td>\n",
       "      <td>951.63886</td>\n",
       "      <td>265.0</td>\n",
       "      <td>1757.0</td>\n",
       "      <td>920.0</td>\n",
       "      <td>1699.532</td>\n",
       "    </tr>\n",
       "    <tr>\n",
       "      <th>2000</th>\n",
       "      <td>2000.0</td>\n",
       "      <td>90.0</td>\n",
       "      <td>144.0</td>\n",
       "      <td>35.0</td>\n",
       "      <td>5.043750</td>\n",
       "      <td>2.735000</td>\n",
       "      <td>10.263630</td>\n",
       "      <td>794.00882</td>\n",
       "      <td>75.0</td>\n",
       "      <td>1351.0</td>\n",
       "      <td>877.0</td>\n",
       "      <td>1699.532</td>\n",
       "    </tr>\n",
       "    <tr>\n",
       "      <th>2010</th>\n",
       "      <td>2010.0</td>\n",
       "      <td>90.0</td>\n",
       "      <td>144.0</td>\n",
       "      <td>0.0</td>\n",
       "      <td>5.607500</td>\n",
       "      <td>2.790000</td>\n",
       "      <td>9.701296</td>\n",
       "      <td>717.30000</td>\n",
       "      <td>2448.0</td>\n",
       "      <td>2040.0</td>\n",
       "      <td>2382.0</td>\n",
       "      <td>1664.532</td>\n",
       "    </tr>\n",
       "    <tr>\n",
       "      <th>2011</th>\n",
       "      <td>2011.0</td>\n",
       "      <td>90.0</td>\n",
       "      <td>144.0</td>\n",
       "      <td>0.0</td>\n",
       "      <td>4.763750</td>\n",
       "      <td>2.076667</td>\n",
       "      <td>9.629243</td>\n",
       "      <td>623.70000</td>\n",
       "      <td>2519.0</td>\n",
       "      <td>4968.0</td>\n",
       "      <td>5991.0</td>\n",
       "      <td>1664.532</td>\n",
       "    </tr>\n",
       "    <tr>\n",
       "      <th>2012</th>\n",
       "      <td>2012.0</td>\n",
       "      <td>90.0</td>\n",
       "      <td>144.0</td>\n",
       "      <td>0.0</td>\n",
       "      <td>5.613750</td>\n",
       "      <td>4.826667</td>\n",
       "      <td>10.525348</td>\n",
       "      <td>870.80000</td>\n",
       "      <td>86.0</td>\n",
       "      <td>1833.0</td>\n",
       "      <td>434.0</td>\n",
       "      <td>1664.532</td>\n",
       "    </tr>\n",
       "    <tr>\n",
       "      <th>2013</th>\n",
       "      <td>2013.0</td>\n",
       "      <td>90.0</td>\n",
       "      <td>144.0</td>\n",
       "      <td>0.0</td>\n",
       "      <td>5.706250</td>\n",
       "      <td>3.430000</td>\n",
       "      <td>9.148517</td>\n",
       "      <td>778.30000</td>\n",
       "      <td>151.0</td>\n",
       "      <td>1081.0</td>\n",
       "      <td>437.0</td>\n",
       "      <td>1664.532</td>\n",
       "    </tr>\n",
       "    <tr>\n",
       "      <th>2014</th>\n",
       "      <td>2014.0</td>\n",
       "      <td>90.0</td>\n",
       "      <td>144.0</td>\n",
       "      <td>0.0</td>\n",
       "      <td>6.242500</td>\n",
       "      <td>3.810000</td>\n",
       "      <td>10.879665</td>\n",
       "      <td>982.90000</td>\n",
       "      <td>150.0</td>\n",
       "      <td>4315.0</td>\n",
       "      <td>384.0</td>\n",
       "      <td>1664.532</td>\n",
       "    </tr>\n",
       "    <tr>\n",
       "      <th>2016</th>\n",
       "      <td>2016.0</td>\n",
       "      <td>90.0</td>\n",
       "      <td>144.0</td>\n",
       "      <td>0.0</td>\n",
       "      <td>6.260000</td>\n",
       "      <td>3.060000</td>\n",
       "      <td>10.770884</td>\n",
       "      <td>742.80000</td>\n",
       "      <td>110.0</td>\n",
       "      <td>927.0</td>\n",
       "      <td>111.0</td>\n",
       "      <td>1664.532</td>\n",
       "    </tr>\n",
       "    <tr>\n",
       "      <th>2017</th>\n",
       "      <td>2017.0</td>\n",
       "      <td>90.0</td>\n",
       "      <td>144.0</td>\n",
       "      <td>0.0</td>\n",
       "      <td>4.947500</td>\n",
       "      <td>2.780000</td>\n",
       "      <td>10.693050</td>\n",
       "      <td>622.20000</td>\n",
       "      <td>91.0</td>\n",
       "      <td>660.0</td>\n",
       "      <td>106.0</td>\n",
       "      <td>1664.532</td>\n",
       "    </tr>\n",
       "    <tr>\n",
       "      <th>2018</th>\n",
       "      <td>2018.0</td>\n",
       "      <td>90.0</td>\n",
       "      <td>144.0</td>\n",
       "      <td>0.0</td>\n",
       "      <td>5.625000</td>\n",
       "      <td>2.172500</td>\n",
       "      <td>10.555582</td>\n",
       "      <td>704.20000</td>\n",
       "      <td>191.0</td>\n",
       "      <td>3848.0</td>\n",
       "      <td>264.0</td>\n",
       "      <td>1664.532</td>\n",
       "    </tr>\n",
       "    <tr>\n",
       "      <th>2019</th>\n",
       "      <td>2019.0</td>\n",
       "      <td>90.0</td>\n",
       "      <td>144.0</td>\n",
       "      <td>0.0</td>\n",
       "      <td>5.735625</td>\n",
       "      <td>1.655000</td>\n",
       "      <td>10.236209</td>\n",
       "      <td>565.20000</td>\n",
       "      <td>200.0</td>\n",
       "      <td>843.0</td>\n",
       "      <td>145.0</td>\n",
       "      <td>1664.532</td>\n",
       "    </tr>\n",
       "  </tbody>\n",
       "</table>\n",
       "</div>"
      ],
      "text/plain": [
       "              harvest_year  k_amount  total_fertilizer_n_amount  p_amount  \\\n",
       "harvest_year                                                                \n",
       "1990                1990.0      90.0                      144.0      35.0   \n",
       "1991                1991.0      90.0                      144.0      35.0   \n",
       "1992                1992.0      90.0                      144.0      35.0   \n",
       "1993                1993.0      90.0                      144.0      35.0   \n",
       "1994                1994.0      90.0                      144.0      35.0   \n",
       "1995                1995.0      90.0                      144.0      35.0   \n",
       "1996                1996.0      90.0                      144.0      35.0   \n",
       "1997                1997.0      90.0                      144.0      35.0   \n",
       "1998                1998.0      90.0                      144.0      35.0   \n",
       "1999                1999.0      90.0                      144.0      35.0   \n",
       "2000                2000.0      90.0                      144.0      35.0   \n",
       "2010                2010.0      90.0                      144.0       0.0   \n",
       "2011                2011.0      90.0                      144.0       0.0   \n",
       "2012                2012.0      90.0                      144.0       0.0   \n",
       "2013                2013.0      90.0                      144.0       0.0   \n",
       "2014                2014.0      90.0                      144.0       0.0   \n",
       "2016                2016.0      90.0                      144.0       0.0   \n",
       "2017                2017.0      90.0                      144.0       0.0   \n",
       "2018                2018.0      90.0                      144.0       0.0   \n",
       "2019                2019.0      90.0                      144.0       0.0   \n",
       "\n",
       "                 grain     straw  mean_temp_year  total_rainfall_year  \\\n",
       "harvest_year                                                            \n",
       "1990          7.630000  3.275000       10.471347            709.00356   \n",
       "1991          7.207500  6.060000        9.143046            776.32242   \n",
       "1992          6.883750  4.455000       10.002850            714.42002   \n",
       "1993          5.196250  2.540000        9.488239            935.72110   \n",
       "1994          6.161429  4.190000        9.593352            934.50516   \n",
       "1995          5.926250  2.545000       10.573170            706.90330   \n",
       "1996          7.425000  3.827500        9.243593            652.73870   \n",
       "1997          6.885000  2.760000        9.926231            633.17312   \n",
       "1998          5.166250  4.217500       10.258893            726.35834   \n",
       "1999          5.246250  2.515000       10.298190            951.63886   \n",
       "2000          5.043750  2.735000       10.263630            794.00882   \n",
       "2010          5.607500  2.790000        9.701296            717.30000   \n",
       "2011          4.763750  2.076667        9.629243            623.70000   \n",
       "2012          5.613750  4.826667       10.525348            870.80000   \n",
       "2013          5.706250  3.430000        9.148517            778.30000   \n",
       "2014          6.242500  3.810000       10.879665            982.90000   \n",
       "2016          6.260000  3.060000       10.770884            742.80000   \n",
       "2017          4.947500  2.780000       10.693050            622.20000   \n",
       "2018          5.625000  2.172500       10.555582            704.20000   \n",
       "2019          5.735625  1.655000       10.236209            565.20000   \n",
       "\n",
       "              total_Metopolophium dirhodum  total_Rhopalosiphum padi  \\\n",
       "harvest_year                                                           \n",
       "1990                                 579.0                    1256.0   \n",
       "1991                                 415.0                    2683.0   \n",
       "1992                                4775.0                    4415.0   \n",
       "1993                                 381.0                    1349.0   \n",
       "1994                                2583.0                    4376.0   \n",
       "1995                                 229.0                     820.0   \n",
       "1996                                1101.0                    2169.0   \n",
       "1997                                5640.0                    4720.0   \n",
       "1998                                  41.0                    1374.0   \n",
       "1999                                 265.0                    1757.0   \n",
       "2000                                  75.0                    1351.0   \n",
       "2010                                2448.0                    2040.0   \n",
       "2011                                2519.0                    4968.0   \n",
       "2012                                  86.0                    1833.0   \n",
       "2013                                 151.0                    1081.0   \n",
       "2014                                 150.0                    4315.0   \n",
       "2016                                 110.0                     927.0   \n",
       "2017                                  91.0                     660.0   \n",
       "2018                                 191.0                    3848.0   \n",
       "2019                                 200.0                     843.0   \n",
       "\n",
       "              total_Sitobion avenae  CO2e_total_kg  \n",
       "harvest_year                                        \n",
       "1990                          324.0       1699.532  \n",
       "1991                         1115.0       1699.532  \n",
       "1992                         4911.0       1699.532  \n",
       "1993                         2123.0       1699.532  \n",
       "1994                         6747.0       1699.532  \n",
       "1995                         3983.0       1699.532  \n",
       "1996                        12803.0       1699.532  \n",
       "1997                         2247.0       1699.532  \n",
       "1998                          385.0       1699.532  \n",
       "1999                          920.0       1699.532  \n",
       "2000                          877.0       1699.532  \n",
       "2010                         2382.0       1664.532  \n",
       "2011                         5991.0       1664.532  \n",
       "2012                          434.0       1664.532  \n",
       "2013                          437.0       1664.532  \n",
       "2014                          384.0       1664.532  \n",
       "2016                          111.0       1664.532  \n",
       "2017                          106.0       1664.532  \n",
       "2018                          264.0       1664.532  \n",
       "2019                          145.0       1664.532  "
      ]
     },
     "metadata": {},
     "output_type": "display_data"
    },
    {
     "data": {
      "text/html": [
       "<div>\n",
       "<style scoped>\n",
       "    .dataframe tbody tr th:only-of-type {\n",
       "        vertical-align: middle;\n",
       "    }\n",
       "\n",
       "    .dataframe tbody tr th {\n",
       "        vertical-align: top;\n",
       "    }\n",
       "\n",
       "    .dataframe thead th {\n",
       "        text-align: right;\n",
       "    }\n",
       "</style>\n",
       "<table border=\"1\" class=\"dataframe\">\n",
       "  <thead>\n",
       "    <tr style=\"text-align: right;\">\n",
       "      <th></th>\n",
       "      <th>harvest_year</th>\n",
       "      <th>k_amount</th>\n",
       "      <th>total_fertilizer_n_amount</th>\n",
       "      <th>p_amount</th>\n",
       "      <th>grain</th>\n",
       "      <th>straw</th>\n",
       "      <th>mean_temp_year</th>\n",
       "      <th>total_rainfall_year</th>\n",
       "      <th>total_Metopolophium dirhodum</th>\n",
       "      <th>total_Rhopalosiphum padi</th>\n",
       "      <th>total_Sitobion avenae</th>\n",
       "      <th>CO2e_total_kg</th>\n",
       "    </tr>\n",
       "    <tr>\n",
       "      <th>harvest_year</th>\n",
       "      <th></th>\n",
       "      <th></th>\n",
       "      <th></th>\n",
       "      <th></th>\n",
       "      <th></th>\n",
       "      <th></th>\n",
       "      <th></th>\n",
       "      <th></th>\n",
       "      <th></th>\n",
       "      <th></th>\n",
       "      <th></th>\n",
       "      <th></th>\n",
       "    </tr>\n",
       "  </thead>\n",
       "  <tbody>\n",
       "    <tr>\n",
       "      <th>1990</th>\n",
       "      <td>0.0</td>\n",
       "      <td>0.0</td>\n",
       "      <td>0.0</td>\n",
       "      <td>0.0</td>\n",
       "      <td>0.329832</td>\n",
       "      <td>0.297500</td>\n",
       "      <td>0.0</td>\n",
       "      <td>0.000000e+00</td>\n",
       "      <td>0.0</td>\n",
       "      <td>0.0</td>\n",
       "      <td>0.0</td>\n",
       "      <td>0.000000e+00</td>\n",
       "    </tr>\n",
       "    <tr>\n",
       "      <th>1991</th>\n",
       "      <td>0.0</td>\n",
       "      <td>0.0</td>\n",
       "      <td>0.0</td>\n",
       "      <td>0.0</td>\n",
       "      <td>0.348029</td>\n",
       "      <td>0.250000</td>\n",
       "      <td>0.0</td>\n",
       "      <td>0.000000e+00</td>\n",
       "      <td>0.0</td>\n",
       "      <td>0.0</td>\n",
       "      <td>0.0</td>\n",
       "      <td>0.000000e+00</td>\n",
       "    </tr>\n",
       "    <tr>\n",
       "      <th>1992</th>\n",
       "      <td>0.0</td>\n",
       "      <td>0.0</td>\n",
       "      <td>0.0</td>\n",
       "      <td>0.0</td>\n",
       "      <td>0.516091</td>\n",
       "      <td>0.512500</td>\n",
       "      <td>0.0</td>\n",
       "      <td>0.000000e+00</td>\n",
       "      <td>0.0</td>\n",
       "      <td>0.0</td>\n",
       "      <td>0.0</td>\n",
       "      <td>0.000000e+00</td>\n",
       "    </tr>\n",
       "    <tr>\n",
       "      <th>1993</th>\n",
       "      <td>0.0</td>\n",
       "      <td>0.0</td>\n",
       "      <td>0.0</td>\n",
       "      <td>0.0</td>\n",
       "      <td>0.583416</td>\n",
       "      <td>0.280000</td>\n",
       "      <td>0.0</td>\n",
       "      <td>0.000000e+00</td>\n",
       "      <td>0.0</td>\n",
       "      <td>0.0</td>\n",
       "      <td>0.0</td>\n",
       "      <td>0.000000e+00</td>\n",
       "    </tr>\n",
       "    <tr>\n",
       "      <th>1994</th>\n",
       "      <td>0.0</td>\n",
       "      <td>0.0</td>\n",
       "      <td>0.0</td>\n",
       "      <td>0.0</td>\n",
       "      <td>0.489492</td>\n",
       "      <td>0.384856</td>\n",
       "      <td>0.0</td>\n",
       "      <td>4.641246e-14</td>\n",
       "      <td>0.0</td>\n",
       "      <td>0.0</td>\n",
       "      <td>0.0</td>\n",
       "      <td>9.282491e-14</td>\n",
       "    </tr>\n",
       "    <tr>\n",
       "      <th>1995</th>\n",
       "      <td>0.0</td>\n",
       "      <td>0.0</td>\n",
       "      <td>0.0</td>\n",
       "      <td>0.0</td>\n",
       "      <td>0.349785</td>\n",
       "      <td>0.022500</td>\n",
       "      <td>0.0</td>\n",
       "      <td>0.000000e+00</td>\n",
       "      <td>0.0</td>\n",
       "      <td>0.0</td>\n",
       "      <td>0.0</td>\n",
       "      <td>0.000000e+00</td>\n",
       "    </tr>\n",
       "    <tr>\n",
       "      <th>1996</th>\n",
       "      <td>0.0</td>\n",
       "      <td>0.0</td>\n",
       "      <td>0.0</td>\n",
       "      <td>0.0</td>\n",
       "      <td>0.209122</td>\n",
       "      <td>0.256586</td>\n",
       "      <td>0.0</td>\n",
       "      <td>0.000000e+00</td>\n",
       "      <td>0.0</td>\n",
       "      <td>0.0</td>\n",
       "      <td>0.0</td>\n",
       "      <td>0.000000e+00</td>\n",
       "    </tr>\n",
       "    <tr>\n",
       "      <th>1997</th>\n",
       "      <td>0.0</td>\n",
       "      <td>0.0</td>\n",
       "      <td>0.0</td>\n",
       "      <td>0.0</td>\n",
       "      <td>0.441814</td>\n",
       "      <td>0.343111</td>\n",
       "      <td>0.0</td>\n",
       "      <td>0.000000e+00</td>\n",
       "      <td>0.0</td>\n",
       "      <td>0.0</td>\n",
       "      <td>0.0</td>\n",
       "      <td>0.000000e+00</td>\n",
       "    </tr>\n",
       "    <tr>\n",
       "      <th>1998</th>\n",
       "      <td>0.0</td>\n",
       "      <td>0.0</td>\n",
       "      <td>0.0</td>\n",
       "      <td>0.0</td>\n",
       "      <td>0.580308</td>\n",
       "      <td>0.261954</td>\n",
       "      <td>0.0</td>\n",
       "      <td>0.000000e+00</td>\n",
       "      <td>0.0</td>\n",
       "      <td>0.0</td>\n",
       "      <td>0.0</td>\n",
       "      <td>0.000000e+00</td>\n",
       "    </tr>\n",
       "    <tr>\n",
       "      <th>1999</th>\n",
       "      <td>0.0</td>\n",
       "      <td>0.0</td>\n",
       "      <td>0.0</td>\n",
       "      <td>0.0</td>\n",
       "      <td>0.752503</td>\n",
       "      <td>0.595878</td>\n",
       "      <td>0.0</td>\n",
       "      <td>0.000000e+00</td>\n",
       "      <td>0.0</td>\n",
       "      <td>0.0</td>\n",
       "      <td>0.0</td>\n",
       "      <td>0.000000e+00</td>\n",
       "    </tr>\n",
       "    <tr>\n",
       "      <th>2000</th>\n",
       "      <td>0.0</td>\n",
       "      <td>0.0</td>\n",
       "      <td>0.0</td>\n",
       "      <td>0.0</td>\n",
       "      <td>0.704171</td>\n",
       "      <td>0.161206</td>\n",
       "      <td>0.0</td>\n",
       "      <td>0.000000e+00</td>\n",
       "      <td>0.0</td>\n",
       "      <td>0.0</td>\n",
       "      <td>0.0</td>\n",
       "      <td>0.000000e+00</td>\n",
       "    </tr>\n",
       "    <tr>\n",
       "      <th>2010</th>\n",
       "      <td>0.0</td>\n",
       "      <td>0.0</td>\n",
       "      <td>0.0</td>\n",
       "      <td>0.0</td>\n",
       "      <td>0.301761</td>\n",
       "      <td>0.081009</td>\n",
       "      <td>0.0</td>\n",
       "      <td>0.000000e+00</td>\n",
       "      <td>0.0</td>\n",
       "      <td>0.0</td>\n",
       "      <td>0.0</td>\n",
       "      <td>0.000000e+00</td>\n",
       "    </tr>\n",
       "    <tr>\n",
       "      <th>2011</th>\n",
       "      <td>0.0</td>\n",
       "      <td>0.0</td>\n",
       "      <td>0.0</td>\n",
       "      <td>0.0</td>\n",
       "      <td>0.369101</td>\n",
       "      <td>0.291469</td>\n",
       "      <td>0.0</td>\n",
       "      <td>0.000000e+00</td>\n",
       "      <td>0.0</td>\n",
       "      <td>0.0</td>\n",
       "      <td>0.0</td>\n",
       "      <td>0.000000e+00</td>\n",
       "    </tr>\n",
       "    <tr>\n",
       "      <th>2012</th>\n",
       "      <td>0.0</td>\n",
       "      <td>0.0</td>\n",
       "      <td>0.0</td>\n",
       "      <td>0.0</td>\n",
       "      <td>0.545714</td>\n",
       "      <td>0.354372</td>\n",
       "      <td>0.0</td>\n",
       "      <td>0.000000e+00</td>\n",
       "      <td>0.0</td>\n",
       "      <td>0.0</td>\n",
       "      <td>0.0</td>\n",
       "      <td>0.000000e+00</td>\n",
       "    </tr>\n",
       "    <tr>\n",
       "      <th>2013</th>\n",
       "      <td>0.0</td>\n",
       "      <td>0.0</td>\n",
       "      <td>0.0</td>\n",
       "      <td>0.0</td>\n",
       "      <td>0.403445</td>\n",
       "      <td>0.274340</td>\n",
       "      <td>0.0</td>\n",
       "      <td>0.000000e+00</td>\n",
       "      <td>0.0</td>\n",
       "      <td>0.0</td>\n",
       "      <td>0.0</td>\n",
       "      <td>0.000000e+00</td>\n",
       "    </tr>\n",
       "    <tr>\n",
       "      <th>2014</th>\n",
       "      <td>0.0</td>\n",
       "      <td>0.0</td>\n",
       "      <td>0.0</td>\n",
       "      <td>0.0</td>\n",
       "      <td>1.093417</td>\n",
       "      <td>0.297637</td>\n",
       "      <td>0.0</td>\n",
       "      <td>0.000000e+00</td>\n",
       "      <td>0.0</td>\n",
       "      <td>0.0</td>\n",
       "      <td>0.0</td>\n",
       "      <td>0.000000e+00</td>\n",
       "    </tr>\n",
       "    <tr>\n",
       "      <th>2016</th>\n",
       "      <td>0.0</td>\n",
       "      <td>0.0</td>\n",
       "      <td>0.0</td>\n",
       "      <td>0.0</td>\n",
       "      <td>0.628839</td>\n",
       "      <td>0.288642</td>\n",
       "      <td>0.0</td>\n",
       "      <td>4.641246e-14</td>\n",
       "      <td>0.0</td>\n",
       "      <td>0.0</td>\n",
       "      <td>0.0</td>\n",
       "      <td>9.282491e-14</td>\n",
       "    </tr>\n",
       "    <tr>\n",
       "      <th>2017</th>\n",
       "      <td>0.0</td>\n",
       "      <td>0.0</td>\n",
       "      <td>0.0</td>\n",
       "      <td>0.0</td>\n",
       "      <td>0.576832</td>\n",
       "      <td>0.647814</td>\n",
       "      <td>0.0</td>\n",
       "      <td>0.000000e+00</td>\n",
       "      <td>0.0</td>\n",
       "      <td>0.0</td>\n",
       "      <td>0.0</td>\n",
       "      <td>0.000000e+00</td>\n",
       "    </tr>\n",
       "    <tr>\n",
       "      <th>2018</th>\n",
       "      <td>0.0</td>\n",
       "      <td>0.0</td>\n",
       "      <td>0.0</td>\n",
       "      <td>0.0</td>\n",
       "      <td>0.317973</td>\n",
       "      <td>0.211667</td>\n",
       "      <td>0.0</td>\n",
       "      <td>0.000000e+00</td>\n",
       "      <td>0.0</td>\n",
       "      <td>0.0</td>\n",
       "      <td>0.0</td>\n",
       "      <td>0.000000e+00</td>\n",
       "    </tr>\n",
       "    <tr>\n",
       "      <th>2019</th>\n",
       "      <td>0.0</td>\n",
       "      <td>0.0</td>\n",
       "      <td>0.0</td>\n",
       "      <td>0.0</td>\n",
       "      <td>0.648820</td>\n",
       "      <td>0.191082</td>\n",
       "      <td>0.0</td>\n",
       "      <td>0.000000e+00</td>\n",
       "      <td>0.0</td>\n",
       "      <td>0.0</td>\n",
       "      <td>0.0</td>\n",
       "      <td>0.000000e+00</td>\n",
       "    </tr>\n",
       "  </tbody>\n",
       "</table>\n",
       "</div>"
      ],
      "text/plain": [
       "              harvest_year  k_amount  total_fertilizer_n_amount  p_amount  \\\n",
       "harvest_year                                                                \n",
       "1990                   0.0       0.0                        0.0       0.0   \n",
       "1991                   0.0       0.0                        0.0       0.0   \n",
       "1992                   0.0       0.0                        0.0       0.0   \n",
       "1993                   0.0       0.0                        0.0       0.0   \n",
       "1994                   0.0       0.0                        0.0       0.0   \n",
       "1995                   0.0       0.0                        0.0       0.0   \n",
       "1996                   0.0       0.0                        0.0       0.0   \n",
       "1997                   0.0       0.0                        0.0       0.0   \n",
       "1998                   0.0       0.0                        0.0       0.0   \n",
       "1999                   0.0       0.0                        0.0       0.0   \n",
       "2000                   0.0       0.0                        0.0       0.0   \n",
       "2010                   0.0       0.0                        0.0       0.0   \n",
       "2011                   0.0       0.0                        0.0       0.0   \n",
       "2012                   0.0       0.0                        0.0       0.0   \n",
       "2013                   0.0       0.0                        0.0       0.0   \n",
       "2014                   0.0       0.0                        0.0       0.0   \n",
       "2016                   0.0       0.0                        0.0       0.0   \n",
       "2017                   0.0       0.0                        0.0       0.0   \n",
       "2018                   0.0       0.0                        0.0       0.0   \n",
       "2019                   0.0       0.0                        0.0       0.0   \n",
       "\n",
       "                 grain     straw  mean_temp_year  total_rainfall_year  \\\n",
       "harvest_year                                                            \n",
       "1990          0.329832  0.297500             0.0         0.000000e+00   \n",
       "1991          0.348029  0.250000             0.0         0.000000e+00   \n",
       "1992          0.516091  0.512500             0.0         0.000000e+00   \n",
       "1993          0.583416  0.280000             0.0         0.000000e+00   \n",
       "1994          0.489492  0.384856             0.0         4.641246e-14   \n",
       "1995          0.349785  0.022500             0.0         0.000000e+00   \n",
       "1996          0.209122  0.256586             0.0         0.000000e+00   \n",
       "1997          0.441814  0.343111             0.0         0.000000e+00   \n",
       "1998          0.580308  0.261954             0.0         0.000000e+00   \n",
       "1999          0.752503  0.595878             0.0         0.000000e+00   \n",
       "2000          0.704171  0.161206             0.0         0.000000e+00   \n",
       "2010          0.301761  0.081009             0.0         0.000000e+00   \n",
       "2011          0.369101  0.291469             0.0         0.000000e+00   \n",
       "2012          0.545714  0.354372             0.0         0.000000e+00   \n",
       "2013          0.403445  0.274340             0.0         0.000000e+00   \n",
       "2014          1.093417  0.297637             0.0         0.000000e+00   \n",
       "2016          0.628839  0.288642             0.0         4.641246e-14   \n",
       "2017          0.576832  0.647814             0.0         0.000000e+00   \n",
       "2018          0.317973  0.211667             0.0         0.000000e+00   \n",
       "2019          0.648820  0.191082             0.0         0.000000e+00   \n",
       "\n",
       "              total_Metopolophium dirhodum  total_Rhopalosiphum padi  \\\n",
       "harvest_year                                                           \n",
       "1990                                   0.0                       0.0   \n",
       "1991                                   0.0                       0.0   \n",
       "1992                                   0.0                       0.0   \n",
       "1993                                   0.0                       0.0   \n",
       "1994                                   0.0                       0.0   \n",
       "1995                                   0.0                       0.0   \n",
       "1996                                   0.0                       0.0   \n",
       "1997                                   0.0                       0.0   \n",
       "1998                                   0.0                       0.0   \n",
       "1999                                   0.0                       0.0   \n",
       "2000                                   0.0                       0.0   \n",
       "2010                                   0.0                       0.0   \n",
       "2011                                   0.0                       0.0   \n",
       "2012                                   0.0                       0.0   \n",
       "2013                                   0.0                       0.0   \n",
       "2014                                   0.0                       0.0   \n",
       "2016                                   0.0                       0.0   \n",
       "2017                                   0.0                       0.0   \n",
       "2018                                   0.0                       0.0   \n",
       "2019                                   0.0                       0.0   \n",
       "\n",
       "              total_Sitobion avenae  CO2e_total_kg  \n",
       "harvest_year                                        \n",
       "1990                            0.0   0.000000e+00  \n",
       "1991                            0.0   0.000000e+00  \n",
       "1992                            0.0   0.000000e+00  \n",
       "1993                            0.0   0.000000e+00  \n",
       "1994                            0.0   9.282491e-14  \n",
       "1995                            0.0   0.000000e+00  \n",
       "1996                            0.0   0.000000e+00  \n",
       "1997                            0.0   0.000000e+00  \n",
       "1998                            0.0   0.000000e+00  \n",
       "1999                            0.0   0.000000e+00  \n",
       "2000                            0.0   0.000000e+00  \n",
       "2010                            0.0   0.000000e+00  \n",
       "2011                            0.0   0.000000e+00  \n",
       "2012                            0.0   0.000000e+00  \n",
       "2013                            0.0   0.000000e+00  \n",
       "2014                            0.0   0.000000e+00  \n",
       "2016                            0.0   9.282491e-14  \n",
       "2017                            0.0   0.000000e+00  \n",
       "2018                            0.0   0.000000e+00  \n",
       "2019                            0.0   0.000000e+00  "
      ]
     },
     "metadata": {},
     "output_type": "display_data"
    }
   ],
   "source": [
    "import numpy as np\n",
    "\n",
    "# Replace '*' with NaN and convert columns to numeric\n",
    "df['grain'] = pd.to_numeric(df['grain'].replace('*', np.nan))\n",
    "df['straw'] = pd.to_numeric(df['straw'].replace('*', np.nan))\n",
    "\n",
    "# Now proceed with your summary and stderr calculations\n",
    "numeric_cols = df.select_dtypes(include=np.number).columns.tolist()\n",
    "summary_df = df.groupby('harvest_year')[numeric_cols].mean()\n",
    "stderr_df = df.groupby('harvest_year')[numeric_cols].agg(lambda x: np.std(x, ddof=1) / np.sqrt(len(x)))\n",
    "\n",
    "# Export both to Excel (each as a separate sheet)\n",
    "with pd.ExcelWriter('FilteredInput/yield_summary.xlsx') as writer:\n",
    "    summary_df.to_excel(writer, sheet_name='Mean')\n",
    "    stderr_df.to_excel(writer, sheet_name='StdError')\n",
    "\n",
    "display(summary_df)\n",
    "display(stderr_df)"
   ]
  },
  {
   "cell_type": "code",
   "execution_count": 49,
   "id": "5e5968dd",
   "metadata": {},
   "outputs": [
    {
     "data": {
      "application/vnd.plotly.v1+json": {
       "config": {
        "plotlyServerURL": "https://plot.ly"
       },
       "data": [
        {
         "error_y": {
          "array": [
           0.32983220842465594,
           0.3480288883740215,
           0.516090860978679,
           0.5834164694159004,
           0.4894916146537411,
           0.3497853295747469,
           0.20912231554079264,
           0.44181444068749043,
           0.580307607776132,
           0.7525028179823836,
           0.7041710869120211
          ],
          "type": "data"
         },
         "mode": "lines+markers",
         "name": "Grain",
         "type": "scatter",
         "x": [
          1990,
          1991,
          1992,
          1993,
          1994,
          1995,
          1996,
          1997,
          1998,
          1999,
          2000
         ],
         "y": [
          7.63,
          7.2075,
          6.88375,
          5.19625,
          6.161428571428572,
          5.92625,
          7.425,
          6.885,
          5.16625,
          5.24625,
          5.04375
         ]
        },
        {
         "error_y": {
          "array": [
           0.2975,
           0.25,
           0.5125000000000001,
           0.28,
           0.38485618835389107,
           0.022499999999999964,
           0.25658616161697684,
           0.34311076928595524,
           0.26195379681666514,
           0.5958782034387003,
           0.16120638945153506
          ],
          "type": "data"
         },
         "mode": "lines+markers",
         "name": "Straw",
         "type": "scatter",
         "x": [
          1990,
          1991,
          1992,
          1993,
          1994,
          1995,
          1996,
          1997,
          1998,
          1999,
          2000
         ],
         "y": [
          3.2750000000000004,
          6.06,
          4.455,
          2.54,
          4.19,
          2.545,
          3.8275,
          2.76,
          4.2175,
          2.5149999999999997,
          2.735
         ]
        }
       ],
       "layout": {
        "legend": {
         "title": {
          "text": "Variable"
         }
        },
        "template": {
         "data": {
          "bar": [
           {
            "error_x": {
             "color": "#2a3f5f"
            },
            "error_y": {
             "color": "#2a3f5f"
            },
            "marker": {
             "line": {
              "color": "#E5ECF6",
              "width": 0.5
             },
             "pattern": {
              "fillmode": "overlay",
              "size": 10,
              "solidity": 0.2
             }
            },
            "type": "bar"
           }
          ],
          "barpolar": [
           {
            "marker": {
             "line": {
              "color": "#E5ECF6",
              "width": 0.5
             },
             "pattern": {
              "fillmode": "overlay",
              "size": 10,
              "solidity": 0.2
             }
            },
            "type": "barpolar"
           }
          ],
          "carpet": [
           {
            "aaxis": {
             "endlinecolor": "#2a3f5f",
             "gridcolor": "white",
             "linecolor": "white",
             "minorgridcolor": "white",
             "startlinecolor": "#2a3f5f"
            },
            "baxis": {
             "endlinecolor": "#2a3f5f",
             "gridcolor": "white",
             "linecolor": "white",
             "minorgridcolor": "white",
             "startlinecolor": "#2a3f5f"
            },
            "type": "carpet"
           }
          ],
          "choropleth": [
           {
            "colorbar": {
             "outlinewidth": 0,
             "ticks": ""
            },
            "type": "choropleth"
           }
          ],
          "contour": [
           {
            "colorbar": {
             "outlinewidth": 0,
             "ticks": ""
            },
            "colorscale": [
             [
              0,
              "#0d0887"
             ],
             [
              0.1111111111111111,
              "#46039f"
             ],
             [
              0.2222222222222222,
              "#7201a8"
             ],
             [
              0.3333333333333333,
              "#9c179e"
             ],
             [
              0.4444444444444444,
              "#bd3786"
             ],
             [
              0.5555555555555556,
              "#d8576b"
             ],
             [
              0.6666666666666666,
              "#ed7953"
             ],
             [
              0.7777777777777778,
              "#fb9f3a"
             ],
             [
              0.8888888888888888,
              "#fdca26"
             ],
             [
              1,
              "#f0f921"
             ]
            ],
            "type": "contour"
           }
          ],
          "contourcarpet": [
           {
            "colorbar": {
             "outlinewidth": 0,
             "ticks": ""
            },
            "type": "contourcarpet"
           }
          ],
          "heatmap": [
           {
            "colorbar": {
             "outlinewidth": 0,
             "ticks": ""
            },
            "colorscale": [
             [
              0,
              "#0d0887"
             ],
             [
              0.1111111111111111,
              "#46039f"
             ],
             [
              0.2222222222222222,
              "#7201a8"
             ],
             [
              0.3333333333333333,
              "#9c179e"
             ],
             [
              0.4444444444444444,
              "#bd3786"
             ],
             [
              0.5555555555555556,
              "#d8576b"
             ],
             [
              0.6666666666666666,
              "#ed7953"
             ],
             [
              0.7777777777777778,
              "#fb9f3a"
             ],
             [
              0.8888888888888888,
              "#fdca26"
             ],
             [
              1,
              "#f0f921"
             ]
            ],
            "type": "heatmap"
           }
          ],
          "heatmapgl": [
           {
            "colorbar": {
             "outlinewidth": 0,
             "ticks": ""
            },
            "colorscale": [
             [
              0,
              "#0d0887"
             ],
             [
              0.1111111111111111,
              "#46039f"
             ],
             [
              0.2222222222222222,
              "#7201a8"
             ],
             [
              0.3333333333333333,
              "#9c179e"
             ],
             [
              0.4444444444444444,
              "#bd3786"
             ],
             [
              0.5555555555555556,
              "#d8576b"
             ],
             [
              0.6666666666666666,
              "#ed7953"
             ],
             [
              0.7777777777777778,
              "#fb9f3a"
             ],
             [
              0.8888888888888888,
              "#fdca26"
             ],
             [
              1,
              "#f0f921"
             ]
            ],
            "type": "heatmapgl"
           }
          ],
          "histogram": [
           {
            "marker": {
             "pattern": {
              "fillmode": "overlay",
              "size": 10,
              "solidity": 0.2
             }
            },
            "type": "histogram"
           }
          ],
          "histogram2d": [
           {
            "colorbar": {
             "outlinewidth": 0,
             "ticks": ""
            },
            "colorscale": [
             [
              0,
              "#0d0887"
             ],
             [
              0.1111111111111111,
              "#46039f"
             ],
             [
              0.2222222222222222,
              "#7201a8"
             ],
             [
              0.3333333333333333,
              "#9c179e"
             ],
             [
              0.4444444444444444,
              "#bd3786"
             ],
             [
              0.5555555555555556,
              "#d8576b"
             ],
             [
              0.6666666666666666,
              "#ed7953"
             ],
             [
              0.7777777777777778,
              "#fb9f3a"
             ],
             [
              0.8888888888888888,
              "#fdca26"
             ],
             [
              1,
              "#f0f921"
             ]
            ],
            "type": "histogram2d"
           }
          ],
          "histogram2dcontour": [
           {
            "colorbar": {
             "outlinewidth": 0,
             "ticks": ""
            },
            "colorscale": [
             [
              0,
              "#0d0887"
             ],
             [
              0.1111111111111111,
              "#46039f"
             ],
             [
              0.2222222222222222,
              "#7201a8"
             ],
             [
              0.3333333333333333,
              "#9c179e"
             ],
             [
              0.4444444444444444,
              "#bd3786"
             ],
             [
              0.5555555555555556,
              "#d8576b"
             ],
             [
              0.6666666666666666,
              "#ed7953"
             ],
             [
              0.7777777777777778,
              "#fb9f3a"
             ],
             [
              0.8888888888888888,
              "#fdca26"
             ],
             [
              1,
              "#f0f921"
             ]
            ],
            "type": "histogram2dcontour"
           }
          ],
          "mesh3d": [
           {
            "colorbar": {
             "outlinewidth": 0,
             "ticks": ""
            },
            "type": "mesh3d"
           }
          ],
          "parcoords": [
           {
            "line": {
             "colorbar": {
              "outlinewidth": 0,
              "ticks": ""
             }
            },
            "type": "parcoords"
           }
          ],
          "pie": [
           {
            "automargin": true,
            "type": "pie"
           }
          ],
          "scatter": [
           {
            "fillpattern": {
             "fillmode": "overlay",
             "size": 10,
             "solidity": 0.2
            },
            "type": "scatter"
           }
          ],
          "scatter3d": [
           {
            "line": {
             "colorbar": {
              "outlinewidth": 0,
              "ticks": ""
             }
            },
            "marker": {
             "colorbar": {
              "outlinewidth": 0,
              "ticks": ""
             }
            },
            "type": "scatter3d"
           }
          ],
          "scattercarpet": [
           {
            "marker": {
             "colorbar": {
              "outlinewidth": 0,
              "ticks": ""
             }
            },
            "type": "scattercarpet"
           }
          ],
          "scattergeo": [
           {
            "marker": {
             "colorbar": {
              "outlinewidth": 0,
              "ticks": ""
             }
            },
            "type": "scattergeo"
           }
          ],
          "scattergl": [
           {
            "marker": {
             "colorbar": {
              "outlinewidth": 0,
              "ticks": ""
             }
            },
            "type": "scattergl"
           }
          ],
          "scattermapbox": [
           {
            "marker": {
             "colorbar": {
              "outlinewidth": 0,
              "ticks": ""
             }
            },
            "type": "scattermapbox"
           }
          ],
          "scatterpolar": [
           {
            "marker": {
             "colorbar": {
              "outlinewidth": 0,
              "ticks": ""
             }
            },
            "type": "scatterpolar"
           }
          ],
          "scatterpolargl": [
           {
            "marker": {
             "colorbar": {
              "outlinewidth": 0,
              "ticks": ""
             }
            },
            "type": "scatterpolargl"
           }
          ],
          "scatterternary": [
           {
            "marker": {
             "colorbar": {
              "outlinewidth": 0,
              "ticks": ""
             }
            },
            "type": "scatterternary"
           }
          ],
          "surface": [
           {
            "colorbar": {
             "outlinewidth": 0,
             "ticks": ""
            },
            "colorscale": [
             [
              0,
              "#0d0887"
             ],
             [
              0.1111111111111111,
              "#46039f"
             ],
             [
              0.2222222222222222,
              "#7201a8"
             ],
             [
              0.3333333333333333,
              "#9c179e"
             ],
             [
              0.4444444444444444,
              "#bd3786"
             ],
             [
              0.5555555555555556,
              "#d8576b"
             ],
             [
              0.6666666666666666,
              "#ed7953"
             ],
             [
              0.7777777777777778,
              "#fb9f3a"
             ],
             [
              0.8888888888888888,
              "#fdca26"
             ],
             [
              1,
              "#f0f921"
             ]
            ],
            "type": "surface"
           }
          ],
          "table": [
           {
            "cells": {
             "fill": {
              "color": "#EBF0F8"
             },
             "line": {
              "color": "white"
             }
            },
            "header": {
             "fill": {
              "color": "#C8D4E3"
             },
             "line": {
              "color": "white"
             }
            },
            "type": "table"
           }
          ]
         },
         "layout": {
          "annotationdefaults": {
           "arrowcolor": "#2a3f5f",
           "arrowhead": 0,
           "arrowwidth": 1
          },
          "autotypenumbers": "strict",
          "coloraxis": {
           "colorbar": {
            "outlinewidth": 0,
            "ticks": ""
           }
          },
          "colorscale": {
           "diverging": [
            [
             0,
             "#8e0152"
            ],
            [
             0.1,
             "#c51b7d"
            ],
            [
             0.2,
             "#de77ae"
            ],
            [
             0.3,
             "#f1b6da"
            ],
            [
             0.4,
             "#fde0ef"
            ],
            [
             0.5,
             "#f7f7f7"
            ],
            [
             0.6,
             "#e6f5d0"
            ],
            [
             0.7,
             "#b8e186"
            ],
            [
             0.8,
             "#7fbc41"
            ],
            [
             0.9,
             "#4d9221"
            ],
            [
             1,
             "#276419"
            ]
           ],
           "sequential": [
            [
             0,
             "#0d0887"
            ],
            [
             0.1111111111111111,
             "#46039f"
            ],
            [
             0.2222222222222222,
             "#7201a8"
            ],
            [
             0.3333333333333333,
             "#9c179e"
            ],
            [
             0.4444444444444444,
             "#bd3786"
            ],
            [
             0.5555555555555556,
             "#d8576b"
            ],
            [
             0.6666666666666666,
             "#ed7953"
            ],
            [
             0.7777777777777778,
             "#fb9f3a"
            ],
            [
             0.8888888888888888,
             "#fdca26"
            ],
            [
             1,
             "#f0f921"
            ]
           ],
           "sequentialminus": [
            [
             0,
             "#0d0887"
            ],
            [
             0.1111111111111111,
             "#46039f"
            ],
            [
             0.2222222222222222,
             "#7201a8"
            ],
            [
             0.3333333333333333,
             "#9c179e"
            ],
            [
             0.4444444444444444,
             "#bd3786"
            ],
            [
             0.5555555555555556,
             "#d8576b"
            ],
            [
             0.6666666666666666,
             "#ed7953"
            ],
            [
             0.7777777777777778,
             "#fb9f3a"
            ],
            [
             0.8888888888888888,
             "#fdca26"
            ],
            [
             1,
             "#f0f921"
            ]
           ]
          },
          "colorway": [
           "#636efa",
           "#EF553B",
           "#00cc96",
           "#ab63fa",
           "#FFA15A",
           "#19d3f3",
           "#FF6692",
           "#B6E880",
           "#FF97FF",
           "#FECB52"
          ],
          "font": {
           "color": "#2a3f5f"
          },
          "geo": {
           "bgcolor": "white",
           "lakecolor": "white",
           "landcolor": "#E5ECF6",
           "showlakes": true,
           "showland": true,
           "subunitcolor": "white"
          },
          "hoverlabel": {
           "align": "left"
          },
          "hovermode": "closest",
          "mapbox": {
           "style": "light"
          },
          "paper_bgcolor": "white",
          "plot_bgcolor": "#E5ECF6",
          "polar": {
           "angularaxis": {
            "gridcolor": "white",
            "linecolor": "white",
            "ticks": ""
           },
           "bgcolor": "#E5ECF6",
           "radialaxis": {
            "gridcolor": "white",
            "linecolor": "white",
            "ticks": ""
           }
          },
          "scene": {
           "xaxis": {
            "backgroundcolor": "#E5ECF6",
            "gridcolor": "white",
            "gridwidth": 2,
            "linecolor": "white",
            "showbackground": true,
            "ticks": "",
            "zerolinecolor": "white"
           },
           "yaxis": {
            "backgroundcolor": "#E5ECF6",
            "gridcolor": "white",
            "gridwidth": 2,
            "linecolor": "white",
            "showbackground": true,
            "ticks": "",
            "zerolinecolor": "white"
           },
           "zaxis": {
            "backgroundcolor": "#E5ECF6",
            "gridcolor": "white",
            "gridwidth": 2,
            "linecolor": "white",
            "showbackground": true,
            "ticks": "",
            "zerolinecolor": "white"
           }
          },
          "shapedefaults": {
           "line": {
            "color": "#2a3f5f"
           }
          },
          "ternary": {
           "aaxis": {
            "gridcolor": "white",
            "linecolor": "white",
            "ticks": ""
           },
           "baxis": {
            "gridcolor": "white",
            "linecolor": "white",
            "ticks": ""
           },
           "bgcolor": "#E5ECF6",
           "caxis": {
            "gridcolor": "white",
            "linecolor": "white",
            "ticks": ""
           }
          },
          "title": {
           "x": 0.05
          },
          "xaxis": {
           "automargin": true,
           "gridcolor": "white",
           "linecolor": "white",
           "ticks": "",
           "title": {
            "standoff": 15
           },
           "zerolinecolor": "white",
           "zerolinewidth": 2
          },
          "yaxis": {
           "automargin": true,
           "gridcolor": "white",
           "linecolor": "white",
           "ticks": "",
           "title": {
            "standoff": 15
           },
           "zerolinecolor": "white",
           "zerolinewidth": 2
          }
         }
        },
        "title": {
         "text": "Grain and Straw (1990-2000)"
        },
        "xaxis": {
         "title": {
          "text": "Harvest Year"
         }
        },
        "yaxis": {
         "title": {
          "text": "Yield (t/ha at 85% dry matter)"
         }
        }
       }
      }
     },
     "metadata": {},
     "output_type": "display_data"
    },
    {
     "data": {
      "application/vnd.plotly.v1+json": {
       "config": {
        "plotlyServerURL": "https://plot.ly"
       },
       "data": [
        {
         "error_y": {
          "array": [
           0.3017611993424129,
           0.3691009226098311,
           0.5457136137336924,
           0.4034447098780345,
           1.0934165818335533,
           0.628838687771431,
           0.5768317097980756,
           0.31797349395373015,
           0.6488199160646525
          ],
          "type": "data"
         },
         "mode": "lines+markers",
         "name": "Grain",
         "type": "scatter",
         "x": [
          2010,
          2011,
          2012,
          2013,
          2014,
          2016,
          2017,
          2018,
          2019
         ],
         "y": [
          5.6075,
          4.76375,
          5.61375,
          5.70625,
          6.2425,
          6.26,
          4.9475,
          5.625,
          5.735625
         ]
        },
        {
         "error_y": {
          "array": [
           0.08100925873009827,
           0.2914689806251544,
           0.35437150938904033,
           0.2743401173725783,
           0.297636523296453,
           0.2886421412654184,
           0.6478136306068282,
           0.21166748687505121,
           0.1910817887711961
          ],
          "type": "data"
         },
         "mode": "lines+markers",
         "name": "Straw",
         "type": "scatter",
         "x": [
          2010,
          2011,
          2012,
          2013,
          2014,
          2016,
          2017,
          2018,
          2019
         ],
         "y": [
          2.7900000000000005,
          2.0766666666666667,
          4.826666666666667,
          3.4299999999999997,
          3.81,
          3.06,
          2.78,
          2.1725,
          1.655
         ]
        }
       ],
       "layout": {
        "legend": {
         "title": {
          "text": "Variable"
         }
        },
        "template": {
         "data": {
          "bar": [
           {
            "error_x": {
             "color": "#2a3f5f"
            },
            "error_y": {
             "color": "#2a3f5f"
            },
            "marker": {
             "line": {
              "color": "#E5ECF6",
              "width": 0.5
             },
             "pattern": {
              "fillmode": "overlay",
              "size": 10,
              "solidity": 0.2
             }
            },
            "type": "bar"
           }
          ],
          "barpolar": [
           {
            "marker": {
             "line": {
              "color": "#E5ECF6",
              "width": 0.5
             },
             "pattern": {
              "fillmode": "overlay",
              "size": 10,
              "solidity": 0.2
             }
            },
            "type": "barpolar"
           }
          ],
          "carpet": [
           {
            "aaxis": {
             "endlinecolor": "#2a3f5f",
             "gridcolor": "white",
             "linecolor": "white",
             "minorgridcolor": "white",
             "startlinecolor": "#2a3f5f"
            },
            "baxis": {
             "endlinecolor": "#2a3f5f",
             "gridcolor": "white",
             "linecolor": "white",
             "minorgridcolor": "white",
             "startlinecolor": "#2a3f5f"
            },
            "type": "carpet"
           }
          ],
          "choropleth": [
           {
            "colorbar": {
             "outlinewidth": 0,
             "ticks": ""
            },
            "type": "choropleth"
           }
          ],
          "contour": [
           {
            "colorbar": {
             "outlinewidth": 0,
             "ticks": ""
            },
            "colorscale": [
             [
              0,
              "#0d0887"
             ],
             [
              0.1111111111111111,
              "#46039f"
             ],
             [
              0.2222222222222222,
              "#7201a8"
             ],
             [
              0.3333333333333333,
              "#9c179e"
             ],
             [
              0.4444444444444444,
              "#bd3786"
             ],
             [
              0.5555555555555556,
              "#d8576b"
             ],
             [
              0.6666666666666666,
              "#ed7953"
             ],
             [
              0.7777777777777778,
              "#fb9f3a"
             ],
             [
              0.8888888888888888,
              "#fdca26"
             ],
             [
              1,
              "#f0f921"
             ]
            ],
            "type": "contour"
           }
          ],
          "contourcarpet": [
           {
            "colorbar": {
             "outlinewidth": 0,
             "ticks": ""
            },
            "type": "contourcarpet"
           }
          ],
          "heatmap": [
           {
            "colorbar": {
             "outlinewidth": 0,
             "ticks": ""
            },
            "colorscale": [
             [
              0,
              "#0d0887"
             ],
             [
              0.1111111111111111,
              "#46039f"
             ],
             [
              0.2222222222222222,
              "#7201a8"
             ],
             [
              0.3333333333333333,
              "#9c179e"
             ],
             [
              0.4444444444444444,
              "#bd3786"
             ],
             [
              0.5555555555555556,
              "#d8576b"
             ],
             [
              0.6666666666666666,
              "#ed7953"
             ],
             [
              0.7777777777777778,
              "#fb9f3a"
             ],
             [
              0.8888888888888888,
              "#fdca26"
             ],
             [
              1,
              "#f0f921"
             ]
            ],
            "type": "heatmap"
           }
          ],
          "heatmapgl": [
           {
            "colorbar": {
             "outlinewidth": 0,
             "ticks": ""
            },
            "colorscale": [
             [
              0,
              "#0d0887"
             ],
             [
              0.1111111111111111,
              "#46039f"
             ],
             [
              0.2222222222222222,
              "#7201a8"
             ],
             [
              0.3333333333333333,
              "#9c179e"
             ],
             [
              0.4444444444444444,
              "#bd3786"
             ],
             [
              0.5555555555555556,
              "#d8576b"
             ],
             [
              0.6666666666666666,
              "#ed7953"
             ],
             [
              0.7777777777777778,
              "#fb9f3a"
             ],
             [
              0.8888888888888888,
              "#fdca26"
             ],
             [
              1,
              "#f0f921"
             ]
            ],
            "type": "heatmapgl"
           }
          ],
          "histogram": [
           {
            "marker": {
             "pattern": {
              "fillmode": "overlay",
              "size": 10,
              "solidity": 0.2
             }
            },
            "type": "histogram"
           }
          ],
          "histogram2d": [
           {
            "colorbar": {
             "outlinewidth": 0,
             "ticks": ""
            },
            "colorscale": [
             [
              0,
              "#0d0887"
             ],
             [
              0.1111111111111111,
              "#46039f"
             ],
             [
              0.2222222222222222,
              "#7201a8"
             ],
             [
              0.3333333333333333,
              "#9c179e"
             ],
             [
              0.4444444444444444,
              "#bd3786"
             ],
             [
              0.5555555555555556,
              "#d8576b"
             ],
             [
              0.6666666666666666,
              "#ed7953"
             ],
             [
              0.7777777777777778,
              "#fb9f3a"
             ],
             [
              0.8888888888888888,
              "#fdca26"
             ],
             [
              1,
              "#f0f921"
             ]
            ],
            "type": "histogram2d"
           }
          ],
          "histogram2dcontour": [
           {
            "colorbar": {
             "outlinewidth": 0,
             "ticks": ""
            },
            "colorscale": [
             [
              0,
              "#0d0887"
             ],
             [
              0.1111111111111111,
              "#46039f"
             ],
             [
              0.2222222222222222,
              "#7201a8"
             ],
             [
              0.3333333333333333,
              "#9c179e"
             ],
             [
              0.4444444444444444,
              "#bd3786"
             ],
             [
              0.5555555555555556,
              "#d8576b"
             ],
             [
              0.6666666666666666,
              "#ed7953"
             ],
             [
              0.7777777777777778,
              "#fb9f3a"
             ],
             [
              0.8888888888888888,
              "#fdca26"
             ],
             [
              1,
              "#f0f921"
             ]
            ],
            "type": "histogram2dcontour"
           }
          ],
          "mesh3d": [
           {
            "colorbar": {
             "outlinewidth": 0,
             "ticks": ""
            },
            "type": "mesh3d"
           }
          ],
          "parcoords": [
           {
            "line": {
             "colorbar": {
              "outlinewidth": 0,
              "ticks": ""
             }
            },
            "type": "parcoords"
           }
          ],
          "pie": [
           {
            "automargin": true,
            "type": "pie"
           }
          ],
          "scatter": [
           {
            "fillpattern": {
             "fillmode": "overlay",
             "size": 10,
             "solidity": 0.2
            },
            "type": "scatter"
           }
          ],
          "scatter3d": [
           {
            "line": {
             "colorbar": {
              "outlinewidth": 0,
              "ticks": ""
             }
            },
            "marker": {
             "colorbar": {
              "outlinewidth": 0,
              "ticks": ""
             }
            },
            "type": "scatter3d"
           }
          ],
          "scattercarpet": [
           {
            "marker": {
             "colorbar": {
              "outlinewidth": 0,
              "ticks": ""
             }
            },
            "type": "scattercarpet"
           }
          ],
          "scattergeo": [
           {
            "marker": {
             "colorbar": {
              "outlinewidth": 0,
              "ticks": ""
             }
            },
            "type": "scattergeo"
           }
          ],
          "scattergl": [
           {
            "marker": {
             "colorbar": {
              "outlinewidth": 0,
              "ticks": ""
             }
            },
            "type": "scattergl"
           }
          ],
          "scattermapbox": [
           {
            "marker": {
             "colorbar": {
              "outlinewidth": 0,
              "ticks": ""
             }
            },
            "type": "scattermapbox"
           }
          ],
          "scatterpolar": [
           {
            "marker": {
             "colorbar": {
              "outlinewidth": 0,
              "ticks": ""
             }
            },
            "type": "scatterpolar"
           }
          ],
          "scatterpolargl": [
           {
            "marker": {
             "colorbar": {
              "outlinewidth": 0,
              "ticks": ""
             }
            },
            "type": "scatterpolargl"
           }
          ],
          "scatterternary": [
           {
            "marker": {
             "colorbar": {
              "outlinewidth": 0,
              "ticks": ""
             }
            },
            "type": "scatterternary"
           }
          ],
          "surface": [
           {
            "colorbar": {
             "outlinewidth": 0,
             "ticks": ""
            },
            "colorscale": [
             [
              0,
              "#0d0887"
             ],
             [
              0.1111111111111111,
              "#46039f"
             ],
             [
              0.2222222222222222,
              "#7201a8"
             ],
             [
              0.3333333333333333,
              "#9c179e"
             ],
             [
              0.4444444444444444,
              "#bd3786"
             ],
             [
              0.5555555555555556,
              "#d8576b"
             ],
             [
              0.6666666666666666,
              "#ed7953"
             ],
             [
              0.7777777777777778,
              "#fb9f3a"
             ],
             [
              0.8888888888888888,
              "#fdca26"
             ],
             [
              1,
              "#f0f921"
             ]
            ],
            "type": "surface"
           }
          ],
          "table": [
           {
            "cells": {
             "fill": {
              "color": "#EBF0F8"
             },
             "line": {
              "color": "white"
             }
            },
            "header": {
             "fill": {
              "color": "#C8D4E3"
             },
             "line": {
              "color": "white"
             }
            },
            "type": "table"
           }
          ]
         },
         "layout": {
          "annotationdefaults": {
           "arrowcolor": "#2a3f5f",
           "arrowhead": 0,
           "arrowwidth": 1
          },
          "autotypenumbers": "strict",
          "coloraxis": {
           "colorbar": {
            "outlinewidth": 0,
            "ticks": ""
           }
          },
          "colorscale": {
           "diverging": [
            [
             0,
             "#8e0152"
            ],
            [
             0.1,
             "#c51b7d"
            ],
            [
             0.2,
             "#de77ae"
            ],
            [
             0.3,
             "#f1b6da"
            ],
            [
             0.4,
             "#fde0ef"
            ],
            [
             0.5,
             "#f7f7f7"
            ],
            [
             0.6,
             "#e6f5d0"
            ],
            [
             0.7,
             "#b8e186"
            ],
            [
             0.8,
             "#7fbc41"
            ],
            [
             0.9,
             "#4d9221"
            ],
            [
             1,
             "#276419"
            ]
           ],
           "sequential": [
            [
             0,
             "#0d0887"
            ],
            [
             0.1111111111111111,
             "#46039f"
            ],
            [
             0.2222222222222222,
             "#7201a8"
            ],
            [
             0.3333333333333333,
             "#9c179e"
            ],
            [
             0.4444444444444444,
             "#bd3786"
            ],
            [
             0.5555555555555556,
             "#d8576b"
            ],
            [
             0.6666666666666666,
             "#ed7953"
            ],
            [
             0.7777777777777778,
             "#fb9f3a"
            ],
            [
             0.8888888888888888,
             "#fdca26"
            ],
            [
             1,
             "#f0f921"
            ]
           ],
           "sequentialminus": [
            [
             0,
             "#0d0887"
            ],
            [
             0.1111111111111111,
             "#46039f"
            ],
            [
             0.2222222222222222,
             "#7201a8"
            ],
            [
             0.3333333333333333,
             "#9c179e"
            ],
            [
             0.4444444444444444,
             "#bd3786"
            ],
            [
             0.5555555555555556,
             "#d8576b"
            ],
            [
             0.6666666666666666,
             "#ed7953"
            ],
            [
             0.7777777777777778,
             "#fb9f3a"
            ],
            [
             0.8888888888888888,
             "#fdca26"
            ],
            [
             1,
             "#f0f921"
            ]
           ]
          },
          "colorway": [
           "#636efa",
           "#EF553B",
           "#00cc96",
           "#ab63fa",
           "#FFA15A",
           "#19d3f3",
           "#FF6692",
           "#B6E880",
           "#FF97FF",
           "#FECB52"
          ],
          "font": {
           "color": "#2a3f5f"
          },
          "geo": {
           "bgcolor": "white",
           "lakecolor": "white",
           "landcolor": "#E5ECF6",
           "showlakes": true,
           "showland": true,
           "subunitcolor": "white"
          },
          "hoverlabel": {
           "align": "left"
          },
          "hovermode": "closest",
          "mapbox": {
           "style": "light"
          },
          "paper_bgcolor": "white",
          "plot_bgcolor": "#E5ECF6",
          "polar": {
           "angularaxis": {
            "gridcolor": "white",
            "linecolor": "white",
            "ticks": ""
           },
           "bgcolor": "#E5ECF6",
           "radialaxis": {
            "gridcolor": "white",
            "linecolor": "white",
            "ticks": ""
           }
          },
          "scene": {
           "xaxis": {
            "backgroundcolor": "#E5ECF6",
            "gridcolor": "white",
            "gridwidth": 2,
            "linecolor": "white",
            "showbackground": true,
            "ticks": "",
            "zerolinecolor": "white"
           },
           "yaxis": {
            "backgroundcolor": "#E5ECF6",
            "gridcolor": "white",
            "gridwidth": 2,
            "linecolor": "white",
            "showbackground": true,
            "ticks": "",
            "zerolinecolor": "white"
           },
           "zaxis": {
            "backgroundcolor": "#E5ECF6",
            "gridcolor": "white",
            "gridwidth": 2,
            "linecolor": "white",
            "showbackground": true,
            "ticks": "",
            "zerolinecolor": "white"
           }
          },
          "shapedefaults": {
           "line": {
            "color": "#2a3f5f"
           }
          },
          "ternary": {
           "aaxis": {
            "gridcolor": "white",
            "linecolor": "white",
            "ticks": ""
           },
           "baxis": {
            "gridcolor": "white",
            "linecolor": "white",
            "ticks": ""
           },
           "bgcolor": "#E5ECF6",
           "caxis": {
            "gridcolor": "white",
            "linecolor": "white",
            "ticks": ""
           }
          },
          "title": {
           "x": 0.05
          },
          "xaxis": {
           "automargin": true,
           "gridcolor": "white",
           "linecolor": "white",
           "ticks": "",
           "title": {
            "standoff": 15
           },
           "zerolinecolor": "white",
           "zerolinewidth": 2
          },
          "yaxis": {
           "automargin": true,
           "gridcolor": "white",
           "linecolor": "white",
           "ticks": "",
           "title": {
            "standoff": 15
           },
           "zerolinecolor": "white",
           "zerolinewidth": 2
          }
         }
        },
        "title": {
         "text": "Grain and Straw (2010-2020)"
        },
        "xaxis": {
         "title": {
          "text": "Harvest Year"
         }
        },
        "yaxis": {
         "title": {
          "text": "Yield (t/ha at 85% dry matter)"
         }
        }
       }
      }
     },
     "metadata": {},
     "output_type": "display_data"
    }
   ],
   "source": [
    "#### KEEP\n",
    "#This is to show yield of grain and straw over time for the two time periods.\n",
    "#Description: from this plot, we can see the trends in winter wheat yield of grain and straw over the periods 1990-2000, and 2010-2020. \n",
    "\n",
    "import plotly.graph_objects as go\n",
    "\n",
    "# 1990-2000\n",
    "summary_90s = summary_df.loc[(summary_df.index >= 1990) & (summary_df.index <= 2000)]\n",
    "stderr_90s = stderr_df.loc[(stderr_df.index >= 1990) & (stderr_df.index <= 2000)]\n",
    "\n",
    "fig_90s = go.Figure()\n",
    "\n",
    "fig_90s.add_trace(go.Scatter(\n",
    "    x=summary_90s.index,\n",
    "    y=summary_90s['grain'],\n",
    "    error_y=dict(type='data', array=stderr_90s['grain']),\n",
    "    mode='lines+markers',\n",
    "    name='Grain'\n",
    "))\n",
    "fig_90s.add_trace(go.Scatter(\n",
    "    x=summary_90s.index,\n",
    "    y=summary_90s['straw'],\n",
    "    error_y=dict(type='data', array=stderr_90s['straw']),\n",
    "    mode='lines+markers',\n",
    "    name='Straw'\n",
    "))\n",
    "fig_90s.update_layout(title='Grain and Straw (1990-2000)', xaxis_title='Harvest Year', yaxis_title='Yield (t/ha at 85% dry matter)', legend_title='Variable')\n",
    "fig_90s.show()\n",
    "\n",
    "# 2010-2020\n",
    "summary_10s = summary_df.loc[(summary_df.index >= 2010) & (summary_df.index <= 2020)]\n",
    "stderr_10s = stderr_df.loc[(stderr_df.index >= 2010) & (stderr_df.index <= 2020)]\n",
    "\n",
    "fig_10s = go.Figure()\n",
    "\n",
    "fig_10s.add_trace(go.Scatter(\n",
    "    x=summary_10s.index,\n",
    "    y=summary_10s['grain'],\n",
    "    error_y=dict(type='data', array=stderr_10s['grain']),\n",
    "    mode='lines+markers',\n",
    "    name='Grain'\n",
    "))\n",
    "fig_10s.add_trace(go.Scatter(\n",
    "    x=summary_10s.index,\n",
    "    y=summary_10s['straw'],\n",
    "    error_y=dict(type='data', array=stderr_10s['straw']),\n",
    "    mode='lines+markers',\n",
    "    name='Straw'\n",
    "))\n",
    "fig_10s.update_layout(title='Grain and Straw (2010-2020)', xaxis_title='Harvest Year', yaxis_title='Yield (t/ha at 85% dry matter)', legend_title='Variable')\n",
    "fig_10s.show()"
   ]
  },
  {
   "cell_type": "code",
   "execution_count": 50,
   "id": "1204dfc1",
   "metadata": {},
   "outputs": [
    {
     "data": {
      "application/vnd.plotly.v1+json": {
       "config": {
        "plotlyServerURL": "https://plot.ly"
       },
       "data": [
        {
         "hole": 0.3,
         "labels": [
          "Nitrogen",
          "Phosphorus",
          "Potassium"
         ],
         "type": "pie",
         "values": [
          144,
          35,
          90
         ]
        }
       ],
       "layout": {
        "template": {
         "data": {
          "bar": [
           {
            "error_x": {
             "color": "#2a3f5f"
            },
            "error_y": {
             "color": "#2a3f5f"
            },
            "marker": {
             "line": {
              "color": "#E5ECF6",
              "width": 0.5
             },
             "pattern": {
              "fillmode": "overlay",
              "size": 10,
              "solidity": 0.2
             }
            },
            "type": "bar"
           }
          ],
          "barpolar": [
           {
            "marker": {
             "line": {
              "color": "#E5ECF6",
              "width": 0.5
             },
             "pattern": {
              "fillmode": "overlay",
              "size": 10,
              "solidity": 0.2
             }
            },
            "type": "barpolar"
           }
          ],
          "carpet": [
           {
            "aaxis": {
             "endlinecolor": "#2a3f5f",
             "gridcolor": "white",
             "linecolor": "white",
             "minorgridcolor": "white",
             "startlinecolor": "#2a3f5f"
            },
            "baxis": {
             "endlinecolor": "#2a3f5f",
             "gridcolor": "white",
             "linecolor": "white",
             "minorgridcolor": "white",
             "startlinecolor": "#2a3f5f"
            },
            "type": "carpet"
           }
          ],
          "choropleth": [
           {
            "colorbar": {
             "outlinewidth": 0,
             "ticks": ""
            },
            "type": "choropleth"
           }
          ],
          "contour": [
           {
            "colorbar": {
             "outlinewidth": 0,
             "ticks": ""
            },
            "colorscale": [
             [
              0,
              "#0d0887"
             ],
             [
              0.1111111111111111,
              "#46039f"
             ],
             [
              0.2222222222222222,
              "#7201a8"
             ],
             [
              0.3333333333333333,
              "#9c179e"
             ],
             [
              0.4444444444444444,
              "#bd3786"
             ],
             [
              0.5555555555555556,
              "#d8576b"
             ],
             [
              0.6666666666666666,
              "#ed7953"
             ],
             [
              0.7777777777777778,
              "#fb9f3a"
             ],
             [
              0.8888888888888888,
              "#fdca26"
             ],
             [
              1,
              "#f0f921"
             ]
            ],
            "type": "contour"
           }
          ],
          "contourcarpet": [
           {
            "colorbar": {
             "outlinewidth": 0,
             "ticks": ""
            },
            "type": "contourcarpet"
           }
          ],
          "heatmap": [
           {
            "colorbar": {
             "outlinewidth": 0,
             "ticks": ""
            },
            "colorscale": [
             [
              0,
              "#0d0887"
             ],
             [
              0.1111111111111111,
              "#46039f"
             ],
             [
              0.2222222222222222,
              "#7201a8"
             ],
             [
              0.3333333333333333,
              "#9c179e"
             ],
             [
              0.4444444444444444,
              "#bd3786"
             ],
             [
              0.5555555555555556,
              "#d8576b"
             ],
             [
              0.6666666666666666,
              "#ed7953"
             ],
             [
              0.7777777777777778,
              "#fb9f3a"
             ],
             [
              0.8888888888888888,
              "#fdca26"
             ],
             [
              1,
              "#f0f921"
             ]
            ],
            "type": "heatmap"
           }
          ],
          "heatmapgl": [
           {
            "colorbar": {
             "outlinewidth": 0,
             "ticks": ""
            },
            "colorscale": [
             [
              0,
              "#0d0887"
             ],
             [
              0.1111111111111111,
              "#46039f"
             ],
             [
              0.2222222222222222,
              "#7201a8"
             ],
             [
              0.3333333333333333,
              "#9c179e"
             ],
             [
              0.4444444444444444,
              "#bd3786"
             ],
             [
              0.5555555555555556,
              "#d8576b"
             ],
             [
              0.6666666666666666,
              "#ed7953"
             ],
             [
              0.7777777777777778,
              "#fb9f3a"
             ],
             [
              0.8888888888888888,
              "#fdca26"
             ],
             [
              1,
              "#f0f921"
             ]
            ],
            "type": "heatmapgl"
           }
          ],
          "histogram": [
           {
            "marker": {
             "pattern": {
              "fillmode": "overlay",
              "size": 10,
              "solidity": 0.2
             }
            },
            "type": "histogram"
           }
          ],
          "histogram2d": [
           {
            "colorbar": {
             "outlinewidth": 0,
             "ticks": ""
            },
            "colorscale": [
             [
              0,
              "#0d0887"
             ],
             [
              0.1111111111111111,
              "#46039f"
             ],
             [
              0.2222222222222222,
              "#7201a8"
             ],
             [
              0.3333333333333333,
              "#9c179e"
             ],
             [
              0.4444444444444444,
              "#bd3786"
             ],
             [
              0.5555555555555556,
              "#d8576b"
             ],
             [
              0.6666666666666666,
              "#ed7953"
             ],
             [
              0.7777777777777778,
              "#fb9f3a"
             ],
             [
              0.8888888888888888,
              "#fdca26"
             ],
             [
              1,
              "#f0f921"
             ]
            ],
            "type": "histogram2d"
           }
          ],
          "histogram2dcontour": [
           {
            "colorbar": {
             "outlinewidth": 0,
             "ticks": ""
            },
            "colorscale": [
             [
              0,
              "#0d0887"
             ],
             [
              0.1111111111111111,
              "#46039f"
             ],
             [
              0.2222222222222222,
              "#7201a8"
             ],
             [
              0.3333333333333333,
              "#9c179e"
             ],
             [
              0.4444444444444444,
              "#bd3786"
             ],
             [
              0.5555555555555556,
              "#d8576b"
             ],
             [
              0.6666666666666666,
              "#ed7953"
             ],
             [
              0.7777777777777778,
              "#fb9f3a"
             ],
             [
              0.8888888888888888,
              "#fdca26"
             ],
             [
              1,
              "#f0f921"
             ]
            ],
            "type": "histogram2dcontour"
           }
          ],
          "mesh3d": [
           {
            "colorbar": {
             "outlinewidth": 0,
             "ticks": ""
            },
            "type": "mesh3d"
           }
          ],
          "parcoords": [
           {
            "line": {
             "colorbar": {
              "outlinewidth": 0,
              "ticks": ""
             }
            },
            "type": "parcoords"
           }
          ],
          "pie": [
           {
            "automargin": true,
            "type": "pie"
           }
          ],
          "scatter": [
           {
            "fillpattern": {
             "fillmode": "overlay",
             "size": 10,
             "solidity": 0.2
            },
            "type": "scatter"
           }
          ],
          "scatter3d": [
           {
            "line": {
             "colorbar": {
              "outlinewidth": 0,
              "ticks": ""
             }
            },
            "marker": {
             "colorbar": {
              "outlinewidth": 0,
              "ticks": ""
             }
            },
            "type": "scatter3d"
           }
          ],
          "scattercarpet": [
           {
            "marker": {
             "colorbar": {
              "outlinewidth": 0,
              "ticks": ""
             }
            },
            "type": "scattercarpet"
           }
          ],
          "scattergeo": [
           {
            "marker": {
             "colorbar": {
              "outlinewidth": 0,
              "ticks": ""
             }
            },
            "type": "scattergeo"
           }
          ],
          "scattergl": [
           {
            "marker": {
             "colorbar": {
              "outlinewidth": 0,
              "ticks": ""
             }
            },
            "type": "scattergl"
           }
          ],
          "scattermapbox": [
           {
            "marker": {
             "colorbar": {
              "outlinewidth": 0,
              "ticks": ""
             }
            },
            "type": "scattermapbox"
           }
          ],
          "scatterpolar": [
           {
            "marker": {
             "colorbar": {
              "outlinewidth": 0,
              "ticks": ""
             }
            },
            "type": "scatterpolar"
           }
          ],
          "scatterpolargl": [
           {
            "marker": {
             "colorbar": {
              "outlinewidth": 0,
              "ticks": ""
             }
            },
            "type": "scatterpolargl"
           }
          ],
          "scatterternary": [
           {
            "marker": {
             "colorbar": {
              "outlinewidth": 0,
              "ticks": ""
             }
            },
            "type": "scatterternary"
           }
          ],
          "surface": [
           {
            "colorbar": {
             "outlinewidth": 0,
             "ticks": ""
            },
            "colorscale": [
             [
              0,
              "#0d0887"
             ],
             [
              0.1111111111111111,
              "#46039f"
             ],
             [
              0.2222222222222222,
              "#7201a8"
             ],
             [
              0.3333333333333333,
              "#9c179e"
             ],
             [
              0.4444444444444444,
              "#bd3786"
             ],
             [
              0.5555555555555556,
              "#d8576b"
             ],
             [
              0.6666666666666666,
              "#ed7953"
             ],
             [
              0.7777777777777778,
              "#fb9f3a"
             ],
             [
              0.8888888888888888,
              "#fdca26"
             ],
             [
              1,
              "#f0f921"
             ]
            ],
            "type": "surface"
           }
          ],
          "table": [
           {
            "cells": {
             "fill": {
              "color": "#EBF0F8"
             },
             "line": {
              "color": "white"
             }
            },
            "header": {
             "fill": {
              "color": "#C8D4E3"
             },
             "line": {
              "color": "white"
             }
            },
            "type": "table"
           }
          ]
         },
         "layout": {
          "annotationdefaults": {
           "arrowcolor": "#2a3f5f",
           "arrowhead": 0,
           "arrowwidth": 1
          },
          "autotypenumbers": "strict",
          "coloraxis": {
           "colorbar": {
            "outlinewidth": 0,
            "ticks": ""
           }
          },
          "colorscale": {
           "diverging": [
            [
             0,
             "#8e0152"
            ],
            [
             0.1,
             "#c51b7d"
            ],
            [
             0.2,
             "#de77ae"
            ],
            [
             0.3,
             "#f1b6da"
            ],
            [
             0.4,
             "#fde0ef"
            ],
            [
             0.5,
             "#f7f7f7"
            ],
            [
             0.6,
             "#e6f5d0"
            ],
            [
             0.7,
             "#b8e186"
            ],
            [
             0.8,
             "#7fbc41"
            ],
            [
             0.9,
             "#4d9221"
            ],
            [
             1,
             "#276419"
            ]
           ],
           "sequential": [
            [
             0,
             "#0d0887"
            ],
            [
             0.1111111111111111,
             "#46039f"
            ],
            [
             0.2222222222222222,
             "#7201a8"
            ],
            [
             0.3333333333333333,
             "#9c179e"
            ],
            [
             0.4444444444444444,
             "#bd3786"
            ],
            [
             0.5555555555555556,
             "#d8576b"
            ],
            [
             0.6666666666666666,
             "#ed7953"
            ],
            [
             0.7777777777777778,
             "#fb9f3a"
            ],
            [
             0.8888888888888888,
             "#fdca26"
            ],
            [
             1,
             "#f0f921"
            ]
           ],
           "sequentialminus": [
            [
             0,
             "#0d0887"
            ],
            [
             0.1111111111111111,
             "#46039f"
            ],
            [
             0.2222222222222222,
             "#7201a8"
            ],
            [
             0.3333333333333333,
             "#9c179e"
            ],
            [
             0.4444444444444444,
             "#bd3786"
            ],
            [
             0.5555555555555556,
             "#d8576b"
            ],
            [
             0.6666666666666666,
             "#ed7953"
            ],
            [
             0.7777777777777778,
             "#fb9f3a"
            ],
            [
             0.8888888888888888,
             "#fdca26"
            ],
            [
             1,
             "#f0f921"
            ]
           ]
          },
          "colorway": [
           "#636efa",
           "#EF553B",
           "#00cc96",
           "#ab63fa",
           "#FFA15A",
           "#19d3f3",
           "#FF6692",
           "#B6E880",
           "#FF97FF",
           "#FECB52"
          ],
          "font": {
           "color": "#2a3f5f"
          },
          "geo": {
           "bgcolor": "white",
           "lakecolor": "white",
           "landcolor": "#E5ECF6",
           "showlakes": true,
           "showland": true,
           "subunitcolor": "white"
          },
          "hoverlabel": {
           "align": "left"
          },
          "hovermode": "closest",
          "mapbox": {
           "style": "light"
          },
          "paper_bgcolor": "white",
          "plot_bgcolor": "#E5ECF6",
          "polar": {
           "angularaxis": {
            "gridcolor": "white",
            "linecolor": "white",
            "ticks": ""
           },
           "bgcolor": "#E5ECF6",
           "radialaxis": {
            "gridcolor": "white",
            "linecolor": "white",
            "ticks": ""
           }
          },
          "scene": {
           "xaxis": {
            "backgroundcolor": "#E5ECF6",
            "gridcolor": "white",
            "gridwidth": 2,
            "linecolor": "white",
            "showbackground": true,
            "ticks": "",
            "zerolinecolor": "white"
           },
           "yaxis": {
            "backgroundcolor": "#E5ECF6",
            "gridcolor": "white",
            "gridwidth": 2,
            "linecolor": "white",
            "showbackground": true,
            "ticks": "",
            "zerolinecolor": "white"
           },
           "zaxis": {
            "backgroundcolor": "#E5ECF6",
            "gridcolor": "white",
            "gridwidth": 2,
            "linecolor": "white",
            "showbackground": true,
            "ticks": "",
            "zerolinecolor": "white"
           }
          },
          "shapedefaults": {
           "line": {
            "color": "#2a3f5f"
           }
          },
          "ternary": {
           "aaxis": {
            "gridcolor": "white",
            "linecolor": "white",
            "ticks": ""
           },
           "baxis": {
            "gridcolor": "white",
            "linecolor": "white",
            "ticks": ""
           },
           "bgcolor": "#E5ECF6",
           "caxis": {
            "gridcolor": "white",
            "linecolor": "white",
            "ticks": ""
           }
          },
          "title": {
           "x": 0.05
          },
          "xaxis": {
           "automargin": true,
           "gridcolor": "white",
           "linecolor": "white",
           "ticks": "",
           "title": {
            "standoff": 15
           },
           "zerolinecolor": "white",
           "zerolinewidth": 2
          },
          "yaxis": {
           "automargin": true,
           "gridcolor": "white",
           "linecolor": "white",
           "ticks": "",
           "title": {
            "standoff": 15
           },
           "zerolinecolor": "white",
           "zerolinewidth": 2
          }
         }
        },
        "title": {
         "text": "Fertiliser Use Split (1990-2000)"
        }
       }
      }
     },
     "metadata": {},
     "output_type": "display_data"
    },
    {
     "data": {
      "application/vnd.plotly.v1+json": {
       "config": {
        "plotlyServerURL": "https://plot.ly"
       },
       "data": [
        {
         "hole": 0.3,
         "labels": [
          "Nitrogen",
          "Phosphorus",
          "Potassium"
         ],
         "type": "pie",
         "values": [
          144,
          0,
          90
         ]
        }
       ],
       "layout": {
        "template": {
         "data": {
          "bar": [
           {
            "error_x": {
             "color": "#2a3f5f"
            },
            "error_y": {
             "color": "#2a3f5f"
            },
            "marker": {
             "line": {
              "color": "#E5ECF6",
              "width": 0.5
             },
             "pattern": {
              "fillmode": "overlay",
              "size": 10,
              "solidity": 0.2
             }
            },
            "type": "bar"
           }
          ],
          "barpolar": [
           {
            "marker": {
             "line": {
              "color": "#E5ECF6",
              "width": 0.5
             },
             "pattern": {
              "fillmode": "overlay",
              "size": 10,
              "solidity": 0.2
             }
            },
            "type": "barpolar"
           }
          ],
          "carpet": [
           {
            "aaxis": {
             "endlinecolor": "#2a3f5f",
             "gridcolor": "white",
             "linecolor": "white",
             "minorgridcolor": "white",
             "startlinecolor": "#2a3f5f"
            },
            "baxis": {
             "endlinecolor": "#2a3f5f",
             "gridcolor": "white",
             "linecolor": "white",
             "minorgridcolor": "white",
             "startlinecolor": "#2a3f5f"
            },
            "type": "carpet"
           }
          ],
          "choropleth": [
           {
            "colorbar": {
             "outlinewidth": 0,
             "ticks": ""
            },
            "type": "choropleth"
           }
          ],
          "contour": [
           {
            "colorbar": {
             "outlinewidth": 0,
             "ticks": ""
            },
            "colorscale": [
             [
              0,
              "#0d0887"
             ],
             [
              0.1111111111111111,
              "#46039f"
             ],
             [
              0.2222222222222222,
              "#7201a8"
             ],
             [
              0.3333333333333333,
              "#9c179e"
             ],
             [
              0.4444444444444444,
              "#bd3786"
             ],
             [
              0.5555555555555556,
              "#d8576b"
             ],
             [
              0.6666666666666666,
              "#ed7953"
             ],
             [
              0.7777777777777778,
              "#fb9f3a"
             ],
             [
              0.8888888888888888,
              "#fdca26"
             ],
             [
              1,
              "#f0f921"
             ]
            ],
            "type": "contour"
           }
          ],
          "contourcarpet": [
           {
            "colorbar": {
             "outlinewidth": 0,
             "ticks": ""
            },
            "type": "contourcarpet"
           }
          ],
          "heatmap": [
           {
            "colorbar": {
             "outlinewidth": 0,
             "ticks": ""
            },
            "colorscale": [
             [
              0,
              "#0d0887"
             ],
             [
              0.1111111111111111,
              "#46039f"
             ],
             [
              0.2222222222222222,
              "#7201a8"
             ],
             [
              0.3333333333333333,
              "#9c179e"
             ],
             [
              0.4444444444444444,
              "#bd3786"
             ],
             [
              0.5555555555555556,
              "#d8576b"
             ],
             [
              0.6666666666666666,
              "#ed7953"
             ],
             [
              0.7777777777777778,
              "#fb9f3a"
             ],
             [
              0.8888888888888888,
              "#fdca26"
             ],
             [
              1,
              "#f0f921"
             ]
            ],
            "type": "heatmap"
           }
          ],
          "heatmapgl": [
           {
            "colorbar": {
             "outlinewidth": 0,
             "ticks": ""
            },
            "colorscale": [
             [
              0,
              "#0d0887"
             ],
             [
              0.1111111111111111,
              "#46039f"
             ],
             [
              0.2222222222222222,
              "#7201a8"
             ],
             [
              0.3333333333333333,
              "#9c179e"
             ],
             [
              0.4444444444444444,
              "#bd3786"
             ],
             [
              0.5555555555555556,
              "#d8576b"
             ],
             [
              0.6666666666666666,
              "#ed7953"
             ],
             [
              0.7777777777777778,
              "#fb9f3a"
             ],
             [
              0.8888888888888888,
              "#fdca26"
             ],
             [
              1,
              "#f0f921"
             ]
            ],
            "type": "heatmapgl"
           }
          ],
          "histogram": [
           {
            "marker": {
             "pattern": {
              "fillmode": "overlay",
              "size": 10,
              "solidity": 0.2
             }
            },
            "type": "histogram"
           }
          ],
          "histogram2d": [
           {
            "colorbar": {
             "outlinewidth": 0,
             "ticks": ""
            },
            "colorscale": [
             [
              0,
              "#0d0887"
             ],
             [
              0.1111111111111111,
              "#46039f"
             ],
             [
              0.2222222222222222,
              "#7201a8"
             ],
             [
              0.3333333333333333,
              "#9c179e"
             ],
             [
              0.4444444444444444,
              "#bd3786"
             ],
             [
              0.5555555555555556,
              "#d8576b"
             ],
             [
              0.6666666666666666,
              "#ed7953"
             ],
             [
              0.7777777777777778,
              "#fb9f3a"
             ],
             [
              0.8888888888888888,
              "#fdca26"
             ],
             [
              1,
              "#f0f921"
             ]
            ],
            "type": "histogram2d"
           }
          ],
          "histogram2dcontour": [
           {
            "colorbar": {
             "outlinewidth": 0,
             "ticks": ""
            },
            "colorscale": [
             [
              0,
              "#0d0887"
             ],
             [
              0.1111111111111111,
              "#46039f"
             ],
             [
              0.2222222222222222,
              "#7201a8"
             ],
             [
              0.3333333333333333,
              "#9c179e"
             ],
             [
              0.4444444444444444,
              "#bd3786"
             ],
             [
              0.5555555555555556,
              "#d8576b"
             ],
             [
              0.6666666666666666,
              "#ed7953"
             ],
             [
              0.7777777777777778,
              "#fb9f3a"
             ],
             [
              0.8888888888888888,
              "#fdca26"
             ],
             [
              1,
              "#f0f921"
             ]
            ],
            "type": "histogram2dcontour"
           }
          ],
          "mesh3d": [
           {
            "colorbar": {
             "outlinewidth": 0,
             "ticks": ""
            },
            "type": "mesh3d"
           }
          ],
          "parcoords": [
           {
            "line": {
             "colorbar": {
              "outlinewidth": 0,
              "ticks": ""
             }
            },
            "type": "parcoords"
           }
          ],
          "pie": [
           {
            "automargin": true,
            "type": "pie"
           }
          ],
          "scatter": [
           {
            "fillpattern": {
             "fillmode": "overlay",
             "size": 10,
             "solidity": 0.2
            },
            "type": "scatter"
           }
          ],
          "scatter3d": [
           {
            "line": {
             "colorbar": {
              "outlinewidth": 0,
              "ticks": ""
             }
            },
            "marker": {
             "colorbar": {
              "outlinewidth": 0,
              "ticks": ""
             }
            },
            "type": "scatter3d"
           }
          ],
          "scattercarpet": [
           {
            "marker": {
             "colorbar": {
              "outlinewidth": 0,
              "ticks": ""
             }
            },
            "type": "scattercarpet"
           }
          ],
          "scattergeo": [
           {
            "marker": {
             "colorbar": {
              "outlinewidth": 0,
              "ticks": ""
             }
            },
            "type": "scattergeo"
           }
          ],
          "scattergl": [
           {
            "marker": {
             "colorbar": {
              "outlinewidth": 0,
              "ticks": ""
             }
            },
            "type": "scattergl"
           }
          ],
          "scattermapbox": [
           {
            "marker": {
             "colorbar": {
              "outlinewidth": 0,
              "ticks": ""
             }
            },
            "type": "scattermapbox"
           }
          ],
          "scatterpolar": [
           {
            "marker": {
             "colorbar": {
              "outlinewidth": 0,
              "ticks": ""
             }
            },
            "type": "scatterpolar"
           }
          ],
          "scatterpolargl": [
           {
            "marker": {
             "colorbar": {
              "outlinewidth": 0,
              "ticks": ""
             }
            },
            "type": "scatterpolargl"
           }
          ],
          "scatterternary": [
           {
            "marker": {
             "colorbar": {
              "outlinewidth": 0,
              "ticks": ""
             }
            },
            "type": "scatterternary"
           }
          ],
          "surface": [
           {
            "colorbar": {
             "outlinewidth": 0,
             "ticks": ""
            },
            "colorscale": [
             [
              0,
              "#0d0887"
             ],
             [
              0.1111111111111111,
              "#46039f"
             ],
             [
              0.2222222222222222,
              "#7201a8"
             ],
             [
              0.3333333333333333,
              "#9c179e"
             ],
             [
              0.4444444444444444,
              "#bd3786"
             ],
             [
              0.5555555555555556,
              "#d8576b"
             ],
             [
              0.6666666666666666,
              "#ed7953"
             ],
             [
              0.7777777777777778,
              "#fb9f3a"
             ],
             [
              0.8888888888888888,
              "#fdca26"
             ],
             [
              1,
              "#f0f921"
             ]
            ],
            "type": "surface"
           }
          ],
          "table": [
           {
            "cells": {
             "fill": {
              "color": "#EBF0F8"
             },
             "line": {
              "color": "white"
             }
            },
            "header": {
             "fill": {
              "color": "#C8D4E3"
             },
             "line": {
              "color": "white"
             }
            },
            "type": "table"
           }
          ]
         },
         "layout": {
          "annotationdefaults": {
           "arrowcolor": "#2a3f5f",
           "arrowhead": 0,
           "arrowwidth": 1
          },
          "autotypenumbers": "strict",
          "coloraxis": {
           "colorbar": {
            "outlinewidth": 0,
            "ticks": ""
           }
          },
          "colorscale": {
           "diverging": [
            [
             0,
             "#8e0152"
            ],
            [
             0.1,
             "#c51b7d"
            ],
            [
             0.2,
             "#de77ae"
            ],
            [
             0.3,
             "#f1b6da"
            ],
            [
             0.4,
             "#fde0ef"
            ],
            [
             0.5,
             "#f7f7f7"
            ],
            [
             0.6,
             "#e6f5d0"
            ],
            [
             0.7,
             "#b8e186"
            ],
            [
             0.8,
             "#7fbc41"
            ],
            [
             0.9,
             "#4d9221"
            ],
            [
             1,
             "#276419"
            ]
           ],
           "sequential": [
            [
             0,
             "#0d0887"
            ],
            [
             0.1111111111111111,
             "#46039f"
            ],
            [
             0.2222222222222222,
             "#7201a8"
            ],
            [
             0.3333333333333333,
             "#9c179e"
            ],
            [
             0.4444444444444444,
             "#bd3786"
            ],
            [
             0.5555555555555556,
             "#d8576b"
            ],
            [
             0.6666666666666666,
             "#ed7953"
            ],
            [
             0.7777777777777778,
             "#fb9f3a"
            ],
            [
             0.8888888888888888,
             "#fdca26"
            ],
            [
             1,
             "#f0f921"
            ]
           ],
           "sequentialminus": [
            [
             0,
             "#0d0887"
            ],
            [
             0.1111111111111111,
             "#46039f"
            ],
            [
             0.2222222222222222,
             "#7201a8"
            ],
            [
             0.3333333333333333,
             "#9c179e"
            ],
            [
             0.4444444444444444,
             "#bd3786"
            ],
            [
             0.5555555555555556,
             "#d8576b"
            ],
            [
             0.6666666666666666,
             "#ed7953"
            ],
            [
             0.7777777777777778,
             "#fb9f3a"
            ],
            [
             0.8888888888888888,
             "#fdca26"
            ],
            [
             1,
             "#f0f921"
            ]
           ]
          },
          "colorway": [
           "#636efa",
           "#EF553B",
           "#00cc96",
           "#ab63fa",
           "#FFA15A",
           "#19d3f3",
           "#FF6692",
           "#B6E880",
           "#FF97FF",
           "#FECB52"
          ],
          "font": {
           "color": "#2a3f5f"
          },
          "geo": {
           "bgcolor": "white",
           "lakecolor": "white",
           "landcolor": "#E5ECF6",
           "showlakes": true,
           "showland": true,
           "subunitcolor": "white"
          },
          "hoverlabel": {
           "align": "left"
          },
          "hovermode": "closest",
          "mapbox": {
           "style": "light"
          },
          "paper_bgcolor": "white",
          "plot_bgcolor": "#E5ECF6",
          "polar": {
           "angularaxis": {
            "gridcolor": "white",
            "linecolor": "white",
            "ticks": ""
           },
           "bgcolor": "#E5ECF6",
           "radialaxis": {
            "gridcolor": "white",
            "linecolor": "white",
            "ticks": ""
           }
          },
          "scene": {
           "xaxis": {
            "backgroundcolor": "#E5ECF6",
            "gridcolor": "white",
            "gridwidth": 2,
            "linecolor": "white",
            "showbackground": true,
            "ticks": "",
            "zerolinecolor": "white"
           },
           "yaxis": {
            "backgroundcolor": "#E5ECF6",
            "gridcolor": "white",
            "gridwidth": 2,
            "linecolor": "white",
            "showbackground": true,
            "ticks": "",
            "zerolinecolor": "white"
           },
           "zaxis": {
            "backgroundcolor": "#E5ECF6",
            "gridcolor": "white",
            "gridwidth": 2,
            "linecolor": "white",
            "showbackground": true,
            "ticks": "",
            "zerolinecolor": "white"
           }
          },
          "shapedefaults": {
           "line": {
            "color": "#2a3f5f"
           }
          },
          "ternary": {
           "aaxis": {
            "gridcolor": "white",
            "linecolor": "white",
            "ticks": ""
           },
           "baxis": {
            "gridcolor": "white",
            "linecolor": "white",
            "ticks": ""
           },
           "bgcolor": "#E5ECF6",
           "caxis": {
            "gridcolor": "white",
            "linecolor": "white",
            "ticks": ""
           }
          },
          "title": {
           "x": 0.05
          },
          "xaxis": {
           "automargin": true,
           "gridcolor": "white",
           "linecolor": "white",
           "ticks": "",
           "title": {
            "standoff": 15
           },
           "zerolinecolor": "white",
           "zerolinewidth": 2
          },
          "yaxis": {
           "automargin": true,
           "gridcolor": "white",
           "linecolor": "white",
           "ticks": "",
           "title": {
            "standoff": 15
           },
           "zerolinecolor": "white",
           "zerolinewidth": 2
          }
         }
        },
        "title": {
         "text": "Fertiliser Use Split (2010-2020)"
        }
       }
      }
     },
     "metadata": {},
     "output_type": "display_data"
    }
   ],
   "source": [
    "### KEEP \n",
    "#Feriliser use over the two time periods\n",
    "#Description: You can see that from the first to second time periods, fertiliser use has changed. Phosphorus is no longer applied as existing phosphorus in the soil is sufficient. We discuss the impacts of this on grain yield, insect abundance, and other factors below. \n",
    "\n",
    "# Calculate mean fertiliser use for each period\n",
    "fert_90s = summary_df.loc[(summary_df.index >= 1990) & (summary_df.index <= 2000)][['total_fertilizer_n_amount', 'p_amount', 'k_amount']].mean()\n",
    "fert_10s = summary_df.loc[(summary_df.index >= 2010) & (summary_df.index <= 2020)][['total_fertilizer_n_amount', 'p_amount', 'k_amount']].mean()\n",
    "\n",
    "# 1990-2000 Pie Chart\n",
    "fig_90s_pie = go.Figure(data=[go.Pie(\n",
    "    labels=['Nitrogen', 'Phosphorus', 'Potassium'],\n",
    "    values=[fert_90s['total_fertilizer_n_amount'], fert_90s['p_amount'], fert_90s['k_amount']],\n",
    "    hole=0.3\n",
    ")])\n",
    "fig_90s_pie.update_layout(title='Fertiliser Use Split (1990-2000)')\n",
    "fig_90s_pie.show()\n",
    "\n",
    "# 2010-2020 Pie Chart\n",
    "fig_10s_pie = go.Figure(data=[go.Pie(\n",
    "    labels=['Nitrogen', 'Phosphorus', 'Potassium'],\n",
    "    values=[fert_10s['total_fertilizer_n_amount'], fert_10s['p_amount'], fert_10s['k_amount']],\n",
    "    hole=0.3\n",
    ")])\n",
    "fig_10s_pie.update_layout(title='Fertiliser Use Split (2010-2020)')\n",
    "fig_10s_pie.show()"
   ]
  },
  {
   "cell_type": "markdown",
   "id": "8328ab6b",
   "metadata": {},
   "source": []
  },
  {
   "cell_type": "code",
   "execution_count": 51,
   "id": "3ab9a35b",
   "metadata": {},
   "outputs": [
    {
     "data": {
      "application/vnd.plotly.v1+json": {
       "config": {
        "plotlyServerURL": "https://plot.ly"
       },
       "data": [
        {
         "colorscale": [
          [
           0,
           "#440154"
          ],
          [
           0.1111111111111111,
           "#482878"
          ],
          [
           0.2222222222222222,
           "#3e4989"
          ],
          [
           0.3333333333333333,
           "#31688e"
          ],
          [
           0.4444444444444444,
           "#26828e"
          ],
          [
           0.5555555555555556,
           "#1f9e89"
          ],
          [
           0.6666666666666666,
           "#35b779"
          ],
          [
           0.7777777777777778,
           "#6ece58"
          ],
          [
           0.8888888888888888,
           "#b5de2b"
          ],
          [
           1,
           "#fde725"
          ]
         ],
         "reversescale": false,
         "showscale": false,
         "type": "heatmap",
         "x": [
          "harvest_year",
          "K",
          "N",
          "P",
          "Grain",
          "Straw",
          "mean_temp_year",
          "total_rainfall_year",
          "Metopolophium",
          "Rhopalosiphum",
          "Sitobion",
          "CO2e_total_kg"
         ],
         "y": [
          "harvest_year",
          "K",
          "N",
          "P",
          "Grain",
          "Straw",
          "mean_temp_year",
          "total_rainfall_year",
          "Metopolophium",
          "Rhopalosiphum",
          "Sitobion",
          "CO2e_total_kg"
         ],
         "z": [
          [
           1,
           null,
           null,
           -0.9516653265647137,
           -0.24235697328259373,
           -0.3317648352888951,
           0.3762127445541626,
           -0.199161470244368,
           -0.3107623267726623,
           -0.09251816709502772,
           -0.3786043344797493,
           -0.9516653265647118
          ],
          [
           null,
           null,
           null,
           null,
           null,
           null,
           null,
           null,
           null,
           null,
           null,
           null
          ],
          [
           null,
           null,
           null,
           null,
           null,
           null,
           null,
           null,
           null,
           null,
           null,
           null
          ],
          [
           -0.9516653265647137,
           null,
           null,
           1,
           0.19476561375509438,
           0.22543318542530358,
           -0.27005268143724714,
           0.1688856556005387,
           0.24148076549046116,
           0.022722506014640983,
           0.3378399701268454,
           0.9999999999999996
          ],
          [
           -0.24235697328259373,
           null,
           null,
           0.19476561375509438,
           1,
           0.34557677654992625,
           -0.09714711624168805,
           -0.05909532505012702,
           0.16108275131591324,
           0.10236961339059825,
           0.16196123080709796,
           0.19476561375509413
          ],
          [
           -0.3317648352888951,
           null,
           null,
           0.22543318542530358,
           0.34557677654992625,
           1,
           -0.18380305832502722,
           0.26947995602140273,
           -0.006532421645429805,
           0.059746737210215416,
           0.11828818350268343,
           0.22543318542530413
          ],
          [
           0.3762127445541626,
           null,
           null,
           -0.27005268143724714,
           -0.09714711624168805,
           -0.18380305832502722,
           1,
           0.04011043475039955,
           -0.29168701631126276,
           -0.16564644928917485,
           -0.5044024596096585,
           -0.2700526814372455
          ],
          [
           -0.199161470244368,
           null,
           null,
           0.1688856556005387,
           -0.05909532505012702,
           0.26947995602140273,
           0.04011043475039955,
           1,
           -0.2545454320735559,
           0.0771464125918731,
           -0.15848983295036237,
           0.16888565560053664
          ],
          [
           -0.3107623267726623,
           null,
           null,
           0.24148076549046116,
           0.16108275131591324,
           -0.006532421645429805,
           -0.29168701631126276,
           -0.2545454320735559,
           1,
           0.6887227730665486,
           0.39354271519694,
           0.24148076549045974
          ],
          [
           -0.09251816709502772,
           null,
           null,
           0.022722506014640983,
           0.10236961339059825,
           0.059746737210215416,
           -0.16564644928917485,
           0.0771464125918731,
           0.6887227730665486,
           1,
           0.33900153884386885,
           0.022722506014638804
          ],
          [
           -0.3786043344797493,
           null,
           null,
           0.3378399701268454,
           0.16196123080709796,
           0.11828818350268343,
           -0.5044024596096585,
           -0.15848983295036237,
           0.39354271519694,
           0.33900153884386885,
           1,
           0.33783997012684397
          ],
          [
           -0.9516653265647118,
           null,
           null,
           0.9999999999999996,
           0.19476561375509413,
           0.22543318542530413,
           -0.2700526814372455,
           0.16888565560053664,
           0.24148076549045974,
           0.022722506014638804,
           0.33783997012684397,
           1
          ]
         ]
        }
       ],
       "layout": {
        "annotations": [
         {
          "font": {
           "color": "#000000"
          },
          "showarrow": false,
          "text": "1.0",
          "x": "harvest_year",
          "xref": "x",
          "y": "harvest_year",
          "yref": "y"
         },
         {
          "font": {
           "color": "#000000"
          },
          "showarrow": false,
          "text": "nan",
          "x": "K",
          "xref": "x",
          "y": "harvest_year",
          "yref": "y"
         },
         {
          "font": {
           "color": "#000000"
          },
          "showarrow": false,
          "text": "nan",
          "x": "N",
          "xref": "x",
          "y": "harvest_year",
          "yref": "y"
         },
         {
          "font": {
           "color": "#000000"
          },
          "showarrow": false,
          "text": "-0.9516653265647137",
          "x": "P",
          "xref": "x",
          "y": "harvest_year",
          "yref": "y"
         },
         {
          "font": {
           "color": "#000000"
          },
          "showarrow": false,
          "text": "-0.24235697328259373",
          "x": "Grain",
          "xref": "x",
          "y": "harvest_year",
          "yref": "y"
         },
         {
          "font": {
           "color": "#000000"
          },
          "showarrow": false,
          "text": "-0.3317648352888951",
          "x": "Straw",
          "xref": "x",
          "y": "harvest_year",
          "yref": "y"
         },
         {
          "font": {
           "color": "#000000"
          },
          "showarrow": false,
          "text": "0.3762127445541626",
          "x": "mean_temp_year",
          "xref": "x",
          "y": "harvest_year",
          "yref": "y"
         },
         {
          "font": {
           "color": "#000000"
          },
          "showarrow": false,
          "text": "-0.199161470244368",
          "x": "total_rainfall_year",
          "xref": "x",
          "y": "harvest_year",
          "yref": "y"
         },
         {
          "font": {
           "color": "#000000"
          },
          "showarrow": false,
          "text": "-0.3107623267726623",
          "x": "Metopolophium",
          "xref": "x",
          "y": "harvest_year",
          "yref": "y"
         },
         {
          "font": {
           "color": "#000000"
          },
          "showarrow": false,
          "text": "-0.09251816709502772",
          "x": "Rhopalosiphum",
          "xref": "x",
          "y": "harvest_year",
          "yref": "y"
         },
         {
          "font": {
           "color": "#000000"
          },
          "showarrow": false,
          "text": "-0.3786043344797493",
          "x": "Sitobion",
          "xref": "x",
          "y": "harvest_year",
          "yref": "y"
         },
         {
          "font": {
           "color": "#000000"
          },
          "showarrow": false,
          "text": "-0.9516653265647118",
          "x": "CO2e_total_kg",
          "xref": "x",
          "y": "harvest_year",
          "yref": "y"
         },
         {
          "font": {
           "color": "#000000"
          },
          "showarrow": false,
          "text": "nan",
          "x": "harvest_year",
          "xref": "x",
          "y": "K",
          "yref": "y"
         },
         {
          "font": {
           "color": "#000000"
          },
          "showarrow": false,
          "text": "nan",
          "x": "K",
          "xref": "x",
          "y": "K",
          "yref": "y"
         },
         {
          "font": {
           "color": "#000000"
          },
          "showarrow": false,
          "text": "nan",
          "x": "N",
          "xref": "x",
          "y": "K",
          "yref": "y"
         },
         {
          "font": {
           "color": "#000000"
          },
          "showarrow": false,
          "text": "nan",
          "x": "P",
          "xref": "x",
          "y": "K",
          "yref": "y"
         },
         {
          "font": {
           "color": "#000000"
          },
          "showarrow": false,
          "text": "nan",
          "x": "Grain",
          "xref": "x",
          "y": "K",
          "yref": "y"
         },
         {
          "font": {
           "color": "#000000"
          },
          "showarrow": false,
          "text": "nan",
          "x": "Straw",
          "xref": "x",
          "y": "K",
          "yref": "y"
         },
         {
          "font": {
           "color": "#000000"
          },
          "showarrow": false,
          "text": "nan",
          "x": "mean_temp_year",
          "xref": "x",
          "y": "K",
          "yref": "y"
         },
         {
          "font": {
           "color": "#000000"
          },
          "showarrow": false,
          "text": "nan",
          "x": "total_rainfall_year",
          "xref": "x",
          "y": "K",
          "yref": "y"
         },
         {
          "font": {
           "color": "#000000"
          },
          "showarrow": false,
          "text": "nan",
          "x": "Metopolophium",
          "xref": "x",
          "y": "K",
          "yref": "y"
         },
         {
          "font": {
           "color": "#000000"
          },
          "showarrow": false,
          "text": "nan",
          "x": "Rhopalosiphum",
          "xref": "x",
          "y": "K",
          "yref": "y"
         },
         {
          "font": {
           "color": "#000000"
          },
          "showarrow": false,
          "text": "nan",
          "x": "Sitobion",
          "xref": "x",
          "y": "K",
          "yref": "y"
         },
         {
          "font": {
           "color": "#000000"
          },
          "showarrow": false,
          "text": "nan",
          "x": "CO2e_total_kg",
          "xref": "x",
          "y": "K",
          "yref": "y"
         },
         {
          "font": {
           "color": "#000000"
          },
          "showarrow": false,
          "text": "nan",
          "x": "harvest_year",
          "xref": "x",
          "y": "N",
          "yref": "y"
         },
         {
          "font": {
           "color": "#000000"
          },
          "showarrow": false,
          "text": "nan",
          "x": "K",
          "xref": "x",
          "y": "N",
          "yref": "y"
         },
         {
          "font": {
           "color": "#000000"
          },
          "showarrow": false,
          "text": "nan",
          "x": "N",
          "xref": "x",
          "y": "N",
          "yref": "y"
         },
         {
          "font": {
           "color": "#000000"
          },
          "showarrow": false,
          "text": "nan",
          "x": "P",
          "xref": "x",
          "y": "N",
          "yref": "y"
         },
         {
          "font": {
           "color": "#000000"
          },
          "showarrow": false,
          "text": "nan",
          "x": "Grain",
          "xref": "x",
          "y": "N",
          "yref": "y"
         },
         {
          "font": {
           "color": "#000000"
          },
          "showarrow": false,
          "text": "nan",
          "x": "Straw",
          "xref": "x",
          "y": "N",
          "yref": "y"
         },
         {
          "font": {
           "color": "#000000"
          },
          "showarrow": false,
          "text": "nan",
          "x": "mean_temp_year",
          "xref": "x",
          "y": "N",
          "yref": "y"
         },
         {
          "font": {
           "color": "#000000"
          },
          "showarrow": false,
          "text": "nan",
          "x": "total_rainfall_year",
          "xref": "x",
          "y": "N",
          "yref": "y"
         },
         {
          "font": {
           "color": "#000000"
          },
          "showarrow": false,
          "text": "nan",
          "x": "Metopolophium",
          "xref": "x",
          "y": "N",
          "yref": "y"
         },
         {
          "font": {
           "color": "#000000"
          },
          "showarrow": false,
          "text": "nan",
          "x": "Rhopalosiphum",
          "xref": "x",
          "y": "N",
          "yref": "y"
         },
         {
          "font": {
           "color": "#000000"
          },
          "showarrow": false,
          "text": "nan",
          "x": "Sitobion",
          "xref": "x",
          "y": "N",
          "yref": "y"
         },
         {
          "font": {
           "color": "#000000"
          },
          "showarrow": false,
          "text": "nan",
          "x": "CO2e_total_kg",
          "xref": "x",
          "y": "N",
          "yref": "y"
         },
         {
          "font": {
           "color": "#000000"
          },
          "showarrow": false,
          "text": "-0.9516653265647137",
          "x": "harvest_year",
          "xref": "x",
          "y": "P",
          "yref": "y"
         },
         {
          "font": {
           "color": "#000000"
          },
          "showarrow": false,
          "text": "nan",
          "x": "K",
          "xref": "x",
          "y": "P",
          "yref": "y"
         },
         {
          "font": {
           "color": "#000000"
          },
          "showarrow": false,
          "text": "nan",
          "x": "N",
          "xref": "x",
          "y": "P",
          "yref": "y"
         },
         {
          "font": {
           "color": "#000000"
          },
          "showarrow": false,
          "text": "1.0",
          "x": "P",
          "xref": "x",
          "y": "P",
          "yref": "y"
         },
         {
          "font": {
           "color": "#000000"
          },
          "showarrow": false,
          "text": "0.19476561375509438",
          "x": "Grain",
          "xref": "x",
          "y": "P",
          "yref": "y"
         },
         {
          "font": {
           "color": "#000000"
          },
          "showarrow": false,
          "text": "0.22543318542530358",
          "x": "Straw",
          "xref": "x",
          "y": "P",
          "yref": "y"
         },
         {
          "font": {
           "color": "#000000"
          },
          "showarrow": false,
          "text": "-0.27005268143724714",
          "x": "mean_temp_year",
          "xref": "x",
          "y": "P",
          "yref": "y"
         },
         {
          "font": {
           "color": "#000000"
          },
          "showarrow": false,
          "text": "0.1688856556005387",
          "x": "total_rainfall_year",
          "xref": "x",
          "y": "P",
          "yref": "y"
         },
         {
          "font": {
           "color": "#000000"
          },
          "showarrow": false,
          "text": "0.24148076549046116",
          "x": "Metopolophium",
          "xref": "x",
          "y": "P",
          "yref": "y"
         },
         {
          "font": {
           "color": "#000000"
          },
          "showarrow": false,
          "text": "0.022722506014640983",
          "x": "Rhopalosiphum",
          "xref": "x",
          "y": "P",
          "yref": "y"
         },
         {
          "font": {
           "color": "#000000"
          },
          "showarrow": false,
          "text": "0.3378399701268454",
          "x": "Sitobion",
          "xref": "x",
          "y": "P",
          "yref": "y"
         },
         {
          "font": {
           "color": "#000000"
          },
          "showarrow": false,
          "text": "0.9999999999999996",
          "x": "CO2e_total_kg",
          "xref": "x",
          "y": "P",
          "yref": "y"
         },
         {
          "font": {
           "color": "#000000"
          },
          "showarrow": false,
          "text": "-0.24235697328259373",
          "x": "harvest_year",
          "xref": "x",
          "y": "Grain",
          "yref": "y"
         },
         {
          "font": {
           "color": "#000000"
          },
          "showarrow": false,
          "text": "nan",
          "x": "K",
          "xref": "x",
          "y": "Grain",
          "yref": "y"
         },
         {
          "font": {
           "color": "#000000"
          },
          "showarrow": false,
          "text": "nan",
          "x": "N",
          "xref": "x",
          "y": "Grain",
          "yref": "y"
         },
         {
          "font": {
           "color": "#000000"
          },
          "showarrow": false,
          "text": "0.19476561375509438",
          "x": "P",
          "xref": "x",
          "y": "Grain",
          "yref": "y"
         },
         {
          "font": {
           "color": "#000000"
          },
          "showarrow": false,
          "text": "1.0",
          "x": "Grain",
          "xref": "x",
          "y": "Grain",
          "yref": "y"
         },
         {
          "font": {
           "color": "#000000"
          },
          "showarrow": false,
          "text": "0.34557677654992625",
          "x": "Straw",
          "xref": "x",
          "y": "Grain",
          "yref": "y"
         },
         {
          "font": {
           "color": "#000000"
          },
          "showarrow": false,
          "text": "-0.09714711624168805",
          "x": "mean_temp_year",
          "xref": "x",
          "y": "Grain",
          "yref": "y"
         },
         {
          "font": {
           "color": "#000000"
          },
          "showarrow": false,
          "text": "-0.05909532505012702",
          "x": "total_rainfall_year",
          "xref": "x",
          "y": "Grain",
          "yref": "y"
         },
         {
          "font": {
           "color": "#000000"
          },
          "showarrow": false,
          "text": "0.16108275131591324",
          "x": "Metopolophium",
          "xref": "x",
          "y": "Grain",
          "yref": "y"
         },
         {
          "font": {
           "color": "#000000"
          },
          "showarrow": false,
          "text": "0.10236961339059825",
          "x": "Rhopalosiphum",
          "xref": "x",
          "y": "Grain",
          "yref": "y"
         },
         {
          "font": {
           "color": "#000000"
          },
          "showarrow": false,
          "text": "0.16196123080709796",
          "x": "Sitobion",
          "xref": "x",
          "y": "Grain",
          "yref": "y"
         },
         {
          "font": {
           "color": "#000000"
          },
          "showarrow": false,
          "text": "0.19476561375509413",
          "x": "CO2e_total_kg",
          "xref": "x",
          "y": "Grain",
          "yref": "y"
         },
         {
          "font": {
           "color": "#000000"
          },
          "showarrow": false,
          "text": "-0.3317648352888951",
          "x": "harvest_year",
          "xref": "x",
          "y": "Straw",
          "yref": "y"
         },
         {
          "font": {
           "color": "#000000"
          },
          "showarrow": false,
          "text": "nan",
          "x": "K",
          "xref": "x",
          "y": "Straw",
          "yref": "y"
         },
         {
          "font": {
           "color": "#000000"
          },
          "showarrow": false,
          "text": "nan",
          "x": "N",
          "xref": "x",
          "y": "Straw",
          "yref": "y"
         },
         {
          "font": {
           "color": "#000000"
          },
          "showarrow": false,
          "text": "0.22543318542530358",
          "x": "P",
          "xref": "x",
          "y": "Straw",
          "yref": "y"
         },
         {
          "font": {
           "color": "#000000"
          },
          "showarrow": false,
          "text": "0.34557677654992625",
          "x": "Grain",
          "xref": "x",
          "y": "Straw",
          "yref": "y"
         },
         {
          "font": {
           "color": "#000000"
          },
          "showarrow": false,
          "text": "1.0",
          "x": "Straw",
          "xref": "x",
          "y": "Straw",
          "yref": "y"
         },
         {
          "font": {
           "color": "#000000"
          },
          "showarrow": false,
          "text": "-0.18380305832502722",
          "x": "mean_temp_year",
          "xref": "x",
          "y": "Straw",
          "yref": "y"
         },
         {
          "font": {
           "color": "#000000"
          },
          "showarrow": false,
          "text": "0.26947995602140273",
          "x": "total_rainfall_year",
          "xref": "x",
          "y": "Straw",
          "yref": "y"
         },
         {
          "font": {
           "color": "#000000"
          },
          "showarrow": false,
          "text": "-0.006532421645429805",
          "x": "Metopolophium",
          "xref": "x",
          "y": "Straw",
          "yref": "y"
         },
         {
          "font": {
           "color": "#000000"
          },
          "showarrow": false,
          "text": "0.059746737210215416",
          "x": "Rhopalosiphum",
          "xref": "x",
          "y": "Straw",
          "yref": "y"
         },
         {
          "font": {
           "color": "#000000"
          },
          "showarrow": false,
          "text": "0.11828818350268343",
          "x": "Sitobion",
          "xref": "x",
          "y": "Straw",
          "yref": "y"
         },
         {
          "font": {
           "color": "#000000"
          },
          "showarrow": false,
          "text": "0.22543318542530413",
          "x": "CO2e_total_kg",
          "xref": "x",
          "y": "Straw",
          "yref": "y"
         },
         {
          "font": {
           "color": "#000000"
          },
          "showarrow": false,
          "text": "0.3762127445541626",
          "x": "harvest_year",
          "xref": "x",
          "y": "mean_temp_year",
          "yref": "y"
         },
         {
          "font": {
           "color": "#000000"
          },
          "showarrow": false,
          "text": "nan",
          "x": "K",
          "xref": "x",
          "y": "mean_temp_year",
          "yref": "y"
         },
         {
          "font": {
           "color": "#000000"
          },
          "showarrow": false,
          "text": "nan",
          "x": "N",
          "xref": "x",
          "y": "mean_temp_year",
          "yref": "y"
         },
         {
          "font": {
           "color": "#000000"
          },
          "showarrow": false,
          "text": "-0.27005268143724714",
          "x": "P",
          "xref": "x",
          "y": "mean_temp_year",
          "yref": "y"
         },
         {
          "font": {
           "color": "#000000"
          },
          "showarrow": false,
          "text": "-0.09714711624168805",
          "x": "Grain",
          "xref": "x",
          "y": "mean_temp_year",
          "yref": "y"
         },
         {
          "font": {
           "color": "#000000"
          },
          "showarrow": false,
          "text": "-0.18380305832502722",
          "x": "Straw",
          "xref": "x",
          "y": "mean_temp_year",
          "yref": "y"
         },
         {
          "font": {
           "color": "#000000"
          },
          "showarrow": false,
          "text": "1.0",
          "x": "mean_temp_year",
          "xref": "x",
          "y": "mean_temp_year",
          "yref": "y"
         },
         {
          "font": {
           "color": "#000000"
          },
          "showarrow": false,
          "text": "0.04011043475039955",
          "x": "total_rainfall_year",
          "xref": "x",
          "y": "mean_temp_year",
          "yref": "y"
         },
         {
          "font": {
           "color": "#000000"
          },
          "showarrow": false,
          "text": "-0.29168701631126276",
          "x": "Metopolophium",
          "xref": "x",
          "y": "mean_temp_year",
          "yref": "y"
         },
         {
          "font": {
           "color": "#000000"
          },
          "showarrow": false,
          "text": "-0.16564644928917485",
          "x": "Rhopalosiphum",
          "xref": "x",
          "y": "mean_temp_year",
          "yref": "y"
         },
         {
          "font": {
           "color": "#000000"
          },
          "showarrow": false,
          "text": "-0.5044024596096585",
          "x": "Sitobion",
          "xref": "x",
          "y": "mean_temp_year",
          "yref": "y"
         },
         {
          "font": {
           "color": "#000000"
          },
          "showarrow": false,
          "text": "-0.2700526814372455",
          "x": "CO2e_total_kg",
          "xref": "x",
          "y": "mean_temp_year",
          "yref": "y"
         },
         {
          "font": {
           "color": "#000000"
          },
          "showarrow": false,
          "text": "-0.199161470244368",
          "x": "harvest_year",
          "xref": "x",
          "y": "total_rainfall_year",
          "yref": "y"
         },
         {
          "font": {
           "color": "#000000"
          },
          "showarrow": false,
          "text": "nan",
          "x": "K",
          "xref": "x",
          "y": "total_rainfall_year",
          "yref": "y"
         },
         {
          "font": {
           "color": "#000000"
          },
          "showarrow": false,
          "text": "nan",
          "x": "N",
          "xref": "x",
          "y": "total_rainfall_year",
          "yref": "y"
         },
         {
          "font": {
           "color": "#000000"
          },
          "showarrow": false,
          "text": "0.1688856556005387",
          "x": "P",
          "xref": "x",
          "y": "total_rainfall_year",
          "yref": "y"
         },
         {
          "font": {
           "color": "#000000"
          },
          "showarrow": false,
          "text": "-0.05909532505012702",
          "x": "Grain",
          "xref": "x",
          "y": "total_rainfall_year",
          "yref": "y"
         },
         {
          "font": {
           "color": "#000000"
          },
          "showarrow": false,
          "text": "0.26947995602140273",
          "x": "Straw",
          "xref": "x",
          "y": "total_rainfall_year",
          "yref": "y"
         },
         {
          "font": {
           "color": "#000000"
          },
          "showarrow": false,
          "text": "0.04011043475039955",
          "x": "mean_temp_year",
          "xref": "x",
          "y": "total_rainfall_year",
          "yref": "y"
         },
         {
          "font": {
           "color": "#000000"
          },
          "showarrow": false,
          "text": "1.0",
          "x": "total_rainfall_year",
          "xref": "x",
          "y": "total_rainfall_year",
          "yref": "y"
         },
         {
          "font": {
           "color": "#000000"
          },
          "showarrow": false,
          "text": "-0.2545454320735559",
          "x": "Metopolophium",
          "xref": "x",
          "y": "total_rainfall_year",
          "yref": "y"
         },
         {
          "font": {
           "color": "#000000"
          },
          "showarrow": false,
          "text": "0.0771464125918731",
          "x": "Rhopalosiphum",
          "xref": "x",
          "y": "total_rainfall_year",
          "yref": "y"
         },
         {
          "font": {
           "color": "#000000"
          },
          "showarrow": false,
          "text": "-0.15848983295036237",
          "x": "Sitobion",
          "xref": "x",
          "y": "total_rainfall_year",
          "yref": "y"
         },
         {
          "font": {
           "color": "#000000"
          },
          "showarrow": false,
          "text": "0.16888565560053664",
          "x": "CO2e_total_kg",
          "xref": "x",
          "y": "total_rainfall_year",
          "yref": "y"
         },
         {
          "font": {
           "color": "#000000"
          },
          "showarrow": false,
          "text": "-0.3107623267726623",
          "x": "harvest_year",
          "xref": "x",
          "y": "Metopolophium",
          "yref": "y"
         },
         {
          "font": {
           "color": "#000000"
          },
          "showarrow": false,
          "text": "nan",
          "x": "K",
          "xref": "x",
          "y": "Metopolophium",
          "yref": "y"
         },
         {
          "font": {
           "color": "#000000"
          },
          "showarrow": false,
          "text": "nan",
          "x": "N",
          "xref": "x",
          "y": "Metopolophium",
          "yref": "y"
         },
         {
          "font": {
           "color": "#000000"
          },
          "showarrow": false,
          "text": "0.24148076549046116",
          "x": "P",
          "xref": "x",
          "y": "Metopolophium",
          "yref": "y"
         },
         {
          "font": {
           "color": "#000000"
          },
          "showarrow": false,
          "text": "0.16108275131591324",
          "x": "Grain",
          "xref": "x",
          "y": "Metopolophium",
          "yref": "y"
         },
         {
          "font": {
           "color": "#000000"
          },
          "showarrow": false,
          "text": "-0.006532421645429805",
          "x": "Straw",
          "xref": "x",
          "y": "Metopolophium",
          "yref": "y"
         },
         {
          "font": {
           "color": "#000000"
          },
          "showarrow": false,
          "text": "-0.29168701631126276",
          "x": "mean_temp_year",
          "xref": "x",
          "y": "Metopolophium",
          "yref": "y"
         },
         {
          "font": {
           "color": "#000000"
          },
          "showarrow": false,
          "text": "-0.2545454320735559",
          "x": "total_rainfall_year",
          "xref": "x",
          "y": "Metopolophium",
          "yref": "y"
         },
         {
          "font": {
           "color": "#000000"
          },
          "showarrow": false,
          "text": "1.0",
          "x": "Metopolophium",
          "xref": "x",
          "y": "Metopolophium",
          "yref": "y"
         },
         {
          "font": {
           "color": "#000000"
          },
          "showarrow": false,
          "text": "0.6887227730665486",
          "x": "Rhopalosiphum",
          "xref": "x",
          "y": "Metopolophium",
          "yref": "y"
         },
         {
          "font": {
           "color": "#000000"
          },
          "showarrow": false,
          "text": "0.39354271519694",
          "x": "Sitobion",
          "xref": "x",
          "y": "Metopolophium",
          "yref": "y"
         },
         {
          "font": {
           "color": "#000000"
          },
          "showarrow": false,
          "text": "0.24148076549045974",
          "x": "CO2e_total_kg",
          "xref": "x",
          "y": "Metopolophium",
          "yref": "y"
         },
         {
          "font": {
           "color": "#000000"
          },
          "showarrow": false,
          "text": "-0.09251816709502772",
          "x": "harvest_year",
          "xref": "x",
          "y": "Rhopalosiphum",
          "yref": "y"
         },
         {
          "font": {
           "color": "#000000"
          },
          "showarrow": false,
          "text": "nan",
          "x": "K",
          "xref": "x",
          "y": "Rhopalosiphum",
          "yref": "y"
         },
         {
          "font": {
           "color": "#000000"
          },
          "showarrow": false,
          "text": "nan",
          "x": "N",
          "xref": "x",
          "y": "Rhopalosiphum",
          "yref": "y"
         },
         {
          "font": {
           "color": "#000000"
          },
          "showarrow": false,
          "text": "0.022722506014640983",
          "x": "P",
          "xref": "x",
          "y": "Rhopalosiphum",
          "yref": "y"
         },
         {
          "font": {
           "color": "#000000"
          },
          "showarrow": false,
          "text": "0.10236961339059825",
          "x": "Grain",
          "xref": "x",
          "y": "Rhopalosiphum",
          "yref": "y"
         },
         {
          "font": {
           "color": "#000000"
          },
          "showarrow": false,
          "text": "0.059746737210215416",
          "x": "Straw",
          "xref": "x",
          "y": "Rhopalosiphum",
          "yref": "y"
         },
         {
          "font": {
           "color": "#000000"
          },
          "showarrow": false,
          "text": "-0.16564644928917485",
          "x": "mean_temp_year",
          "xref": "x",
          "y": "Rhopalosiphum",
          "yref": "y"
         },
         {
          "font": {
           "color": "#000000"
          },
          "showarrow": false,
          "text": "0.0771464125918731",
          "x": "total_rainfall_year",
          "xref": "x",
          "y": "Rhopalosiphum",
          "yref": "y"
         },
         {
          "font": {
           "color": "#000000"
          },
          "showarrow": false,
          "text": "0.6887227730665486",
          "x": "Metopolophium",
          "xref": "x",
          "y": "Rhopalosiphum",
          "yref": "y"
         },
         {
          "font": {
           "color": "#000000"
          },
          "showarrow": false,
          "text": "1.0",
          "x": "Rhopalosiphum",
          "xref": "x",
          "y": "Rhopalosiphum",
          "yref": "y"
         },
         {
          "font": {
           "color": "#000000"
          },
          "showarrow": false,
          "text": "0.33900153884386885",
          "x": "Sitobion",
          "xref": "x",
          "y": "Rhopalosiphum",
          "yref": "y"
         },
         {
          "font": {
           "color": "#000000"
          },
          "showarrow": false,
          "text": "0.022722506014638804",
          "x": "CO2e_total_kg",
          "xref": "x",
          "y": "Rhopalosiphum",
          "yref": "y"
         },
         {
          "font": {
           "color": "#000000"
          },
          "showarrow": false,
          "text": "-0.3786043344797493",
          "x": "harvest_year",
          "xref": "x",
          "y": "Sitobion",
          "yref": "y"
         },
         {
          "font": {
           "color": "#000000"
          },
          "showarrow": false,
          "text": "nan",
          "x": "K",
          "xref": "x",
          "y": "Sitobion",
          "yref": "y"
         },
         {
          "font": {
           "color": "#000000"
          },
          "showarrow": false,
          "text": "nan",
          "x": "N",
          "xref": "x",
          "y": "Sitobion",
          "yref": "y"
         },
         {
          "font": {
           "color": "#000000"
          },
          "showarrow": false,
          "text": "0.3378399701268454",
          "x": "P",
          "xref": "x",
          "y": "Sitobion",
          "yref": "y"
         },
         {
          "font": {
           "color": "#000000"
          },
          "showarrow": false,
          "text": "0.16196123080709796",
          "x": "Grain",
          "xref": "x",
          "y": "Sitobion",
          "yref": "y"
         },
         {
          "font": {
           "color": "#000000"
          },
          "showarrow": false,
          "text": "0.11828818350268343",
          "x": "Straw",
          "xref": "x",
          "y": "Sitobion",
          "yref": "y"
         },
         {
          "font": {
           "color": "#000000"
          },
          "showarrow": false,
          "text": "-0.5044024596096585",
          "x": "mean_temp_year",
          "xref": "x",
          "y": "Sitobion",
          "yref": "y"
         },
         {
          "font": {
           "color": "#000000"
          },
          "showarrow": false,
          "text": "-0.15848983295036237",
          "x": "total_rainfall_year",
          "xref": "x",
          "y": "Sitobion",
          "yref": "y"
         },
         {
          "font": {
           "color": "#000000"
          },
          "showarrow": false,
          "text": "0.39354271519694",
          "x": "Metopolophium",
          "xref": "x",
          "y": "Sitobion",
          "yref": "y"
         },
         {
          "font": {
           "color": "#000000"
          },
          "showarrow": false,
          "text": "0.33900153884386885",
          "x": "Rhopalosiphum",
          "xref": "x",
          "y": "Sitobion",
          "yref": "y"
         },
         {
          "font": {
           "color": "#000000"
          },
          "showarrow": false,
          "text": "1.0",
          "x": "Sitobion",
          "xref": "x",
          "y": "Sitobion",
          "yref": "y"
         },
         {
          "font": {
           "color": "#000000"
          },
          "showarrow": false,
          "text": "0.33783997012684397",
          "x": "CO2e_total_kg",
          "xref": "x",
          "y": "Sitobion",
          "yref": "y"
         },
         {
          "font": {
           "color": "#000000"
          },
          "showarrow": false,
          "text": "-0.9516653265647118",
          "x": "harvest_year",
          "xref": "x",
          "y": "CO2e_total_kg",
          "yref": "y"
         },
         {
          "font": {
           "color": "#000000"
          },
          "showarrow": false,
          "text": "nan",
          "x": "K",
          "xref": "x",
          "y": "CO2e_total_kg",
          "yref": "y"
         },
         {
          "font": {
           "color": "#000000"
          },
          "showarrow": false,
          "text": "nan",
          "x": "N",
          "xref": "x",
          "y": "CO2e_total_kg",
          "yref": "y"
         },
         {
          "font": {
           "color": "#000000"
          },
          "showarrow": false,
          "text": "0.9999999999999996",
          "x": "P",
          "xref": "x",
          "y": "CO2e_total_kg",
          "yref": "y"
         },
         {
          "font": {
           "color": "#000000"
          },
          "showarrow": false,
          "text": "0.19476561375509413",
          "x": "Grain",
          "xref": "x",
          "y": "CO2e_total_kg",
          "yref": "y"
         },
         {
          "font": {
           "color": "#000000"
          },
          "showarrow": false,
          "text": "0.22543318542530413",
          "x": "Straw",
          "xref": "x",
          "y": "CO2e_total_kg",
          "yref": "y"
         },
         {
          "font": {
           "color": "#000000"
          },
          "showarrow": false,
          "text": "-0.2700526814372455",
          "x": "mean_temp_year",
          "xref": "x",
          "y": "CO2e_total_kg",
          "yref": "y"
         },
         {
          "font": {
           "color": "#000000"
          },
          "showarrow": false,
          "text": "0.16888565560053664",
          "x": "total_rainfall_year",
          "xref": "x",
          "y": "CO2e_total_kg",
          "yref": "y"
         },
         {
          "font": {
           "color": "#000000"
          },
          "showarrow": false,
          "text": "0.24148076549045974",
          "x": "Metopolophium",
          "xref": "x",
          "y": "CO2e_total_kg",
          "yref": "y"
         },
         {
          "font": {
           "color": "#000000"
          },
          "showarrow": false,
          "text": "0.022722506014638804",
          "x": "Rhopalosiphum",
          "xref": "x",
          "y": "CO2e_total_kg",
          "yref": "y"
         },
         {
          "font": {
           "color": "#000000"
          },
          "showarrow": false,
          "text": "0.33783997012684397",
          "x": "Sitobion",
          "xref": "x",
          "y": "CO2e_total_kg",
          "yref": "y"
         },
         {
          "font": {
           "color": "#000000"
          },
          "showarrow": false,
          "text": "1.0",
          "x": "CO2e_total_kg",
          "xref": "x",
          "y": "CO2e_total_kg",
          "yref": "y"
         }
        ],
        "template": {
         "data": {
          "bar": [
           {
            "error_x": {
             "color": "#2a3f5f"
            },
            "error_y": {
             "color": "#2a3f5f"
            },
            "marker": {
             "line": {
              "color": "#E5ECF6",
              "width": 0.5
             },
             "pattern": {
              "fillmode": "overlay",
              "size": 10,
              "solidity": 0.2
             }
            },
            "type": "bar"
           }
          ],
          "barpolar": [
           {
            "marker": {
             "line": {
              "color": "#E5ECF6",
              "width": 0.5
             },
             "pattern": {
              "fillmode": "overlay",
              "size": 10,
              "solidity": 0.2
             }
            },
            "type": "barpolar"
           }
          ],
          "carpet": [
           {
            "aaxis": {
             "endlinecolor": "#2a3f5f",
             "gridcolor": "white",
             "linecolor": "white",
             "minorgridcolor": "white",
             "startlinecolor": "#2a3f5f"
            },
            "baxis": {
             "endlinecolor": "#2a3f5f",
             "gridcolor": "white",
             "linecolor": "white",
             "minorgridcolor": "white",
             "startlinecolor": "#2a3f5f"
            },
            "type": "carpet"
           }
          ],
          "choropleth": [
           {
            "colorbar": {
             "outlinewidth": 0,
             "ticks": ""
            },
            "type": "choropleth"
           }
          ],
          "contour": [
           {
            "colorbar": {
             "outlinewidth": 0,
             "ticks": ""
            },
            "colorscale": [
             [
              0,
              "#0d0887"
             ],
             [
              0.1111111111111111,
              "#46039f"
             ],
             [
              0.2222222222222222,
              "#7201a8"
             ],
             [
              0.3333333333333333,
              "#9c179e"
             ],
             [
              0.4444444444444444,
              "#bd3786"
             ],
             [
              0.5555555555555556,
              "#d8576b"
             ],
             [
              0.6666666666666666,
              "#ed7953"
             ],
             [
              0.7777777777777778,
              "#fb9f3a"
             ],
             [
              0.8888888888888888,
              "#fdca26"
             ],
             [
              1,
              "#f0f921"
             ]
            ],
            "type": "contour"
           }
          ],
          "contourcarpet": [
           {
            "colorbar": {
             "outlinewidth": 0,
             "ticks": ""
            },
            "type": "contourcarpet"
           }
          ],
          "heatmap": [
           {
            "colorbar": {
             "outlinewidth": 0,
             "ticks": ""
            },
            "colorscale": [
             [
              0,
              "#0d0887"
             ],
             [
              0.1111111111111111,
              "#46039f"
             ],
             [
              0.2222222222222222,
              "#7201a8"
             ],
             [
              0.3333333333333333,
              "#9c179e"
             ],
             [
              0.4444444444444444,
              "#bd3786"
             ],
             [
              0.5555555555555556,
              "#d8576b"
             ],
             [
              0.6666666666666666,
              "#ed7953"
             ],
             [
              0.7777777777777778,
              "#fb9f3a"
             ],
             [
              0.8888888888888888,
              "#fdca26"
             ],
             [
              1,
              "#f0f921"
             ]
            ],
            "type": "heatmap"
           }
          ],
          "heatmapgl": [
           {
            "colorbar": {
             "outlinewidth": 0,
             "ticks": ""
            },
            "colorscale": [
             [
              0,
              "#0d0887"
             ],
             [
              0.1111111111111111,
              "#46039f"
             ],
             [
              0.2222222222222222,
              "#7201a8"
             ],
             [
              0.3333333333333333,
              "#9c179e"
             ],
             [
              0.4444444444444444,
              "#bd3786"
             ],
             [
              0.5555555555555556,
              "#d8576b"
             ],
             [
              0.6666666666666666,
              "#ed7953"
             ],
             [
              0.7777777777777778,
              "#fb9f3a"
             ],
             [
              0.8888888888888888,
              "#fdca26"
             ],
             [
              1,
              "#f0f921"
             ]
            ],
            "type": "heatmapgl"
           }
          ],
          "histogram": [
           {
            "marker": {
             "pattern": {
              "fillmode": "overlay",
              "size": 10,
              "solidity": 0.2
             }
            },
            "type": "histogram"
           }
          ],
          "histogram2d": [
           {
            "colorbar": {
             "outlinewidth": 0,
             "ticks": ""
            },
            "colorscale": [
             [
              0,
              "#0d0887"
             ],
             [
              0.1111111111111111,
              "#46039f"
             ],
             [
              0.2222222222222222,
              "#7201a8"
             ],
             [
              0.3333333333333333,
              "#9c179e"
             ],
             [
              0.4444444444444444,
              "#bd3786"
             ],
             [
              0.5555555555555556,
              "#d8576b"
             ],
             [
              0.6666666666666666,
              "#ed7953"
             ],
             [
              0.7777777777777778,
              "#fb9f3a"
             ],
             [
              0.8888888888888888,
              "#fdca26"
             ],
             [
              1,
              "#f0f921"
             ]
            ],
            "type": "histogram2d"
           }
          ],
          "histogram2dcontour": [
           {
            "colorbar": {
             "outlinewidth": 0,
             "ticks": ""
            },
            "colorscale": [
             [
              0,
              "#0d0887"
             ],
             [
              0.1111111111111111,
              "#46039f"
             ],
             [
              0.2222222222222222,
              "#7201a8"
             ],
             [
              0.3333333333333333,
              "#9c179e"
             ],
             [
              0.4444444444444444,
              "#bd3786"
             ],
             [
              0.5555555555555556,
              "#d8576b"
             ],
             [
              0.6666666666666666,
              "#ed7953"
             ],
             [
              0.7777777777777778,
              "#fb9f3a"
             ],
             [
              0.8888888888888888,
              "#fdca26"
             ],
             [
              1,
              "#f0f921"
             ]
            ],
            "type": "histogram2dcontour"
           }
          ],
          "mesh3d": [
           {
            "colorbar": {
             "outlinewidth": 0,
             "ticks": ""
            },
            "type": "mesh3d"
           }
          ],
          "parcoords": [
           {
            "line": {
             "colorbar": {
              "outlinewidth": 0,
              "ticks": ""
             }
            },
            "type": "parcoords"
           }
          ],
          "pie": [
           {
            "automargin": true,
            "type": "pie"
           }
          ],
          "scatter": [
           {
            "fillpattern": {
             "fillmode": "overlay",
             "size": 10,
             "solidity": 0.2
            },
            "type": "scatter"
           }
          ],
          "scatter3d": [
           {
            "line": {
             "colorbar": {
              "outlinewidth": 0,
              "ticks": ""
             }
            },
            "marker": {
             "colorbar": {
              "outlinewidth": 0,
              "ticks": ""
             }
            },
            "type": "scatter3d"
           }
          ],
          "scattercarpet": [
           {
            "marker": {
             "colorbar": {
              "outlinewidth": 0,
              "ticks": ""
             }
            },
            "type": "scattercarpet"
           }
          ],
          "scattergeo": [
           {
            "marker": {
             "colorbar": {
              "outlinewidth": 0,
              "ticks": ""
             }
            },
            "type": "scattergeo"
           }
          ],
          "scattergl": [
           {
            "marker": {
             "colorbar": {
              "outlinewidth": 0,
              "ticks": ""
             }
            },
            "type": "scattergl"
           }
          ],
          "scattermapbox": [
           {
            "marker": {
             "colorbar": {
              "outlinewidth": 0,
              "ticks": ""
             }
            },
            "type": "scattermapbox"
           }
          ],
          "scatterpolar": [
           {
            "marker": {
             "colorbar": {
              "outlinewidth": 0,
              "ticks": ""
             }
            },
            "type": "scatterpolar"
           }
          ],
          "scatterpolargl": [
           {
            "marker": {
             "colorbar": {
              "outlinewidth": 0,
              "ticks": ""
             }
            },
            "type": "scatterpolargl"
           }
          ],
          "scatterternary": [
           {
            "marker": {
             "colorbar": {
              "outlinewidth": 0,
              "ticks": ""
             }
            },
            "type": "scatterternary"
           }
          ],
          "surface": [
           {
            "colorbar": {
             "outlinewidth": 0,
             "ticks": ""
            },
            "colorscale": [
             [
              0,
              "#0d0887"
             ],
             [
              0.1111111111111111,
              "#46039f"
             ],
             [
              0.2222222222222222,
              "#7201a8"
             ],
             [
              0.3333333333333333,
              "#9c179e"
             ],
             [
              0.4444444444444444,
              "#bd3786"
             ],
             [
              0.5555555555555556,
              "#d8576b"
             ],
             [
              0.6666666666666666,
              "#ed7953"
             ],
             [
              0.7777777777777778,
              "#fb9f3a"
             ],
             [
              0.8888888888888888,
              "#fdca26"
             ],
             [
              1,
              "#f0f921"
             ]
            ],
            "type": "surface"
           }
          ],
          "table": [
           {
            "cells": {
             "fill": {
              "color": "#EBF0F8"
             },
             "line": {
              "color": "white"
             }
            },
            "header": {
             "fill": {
              "color": "#C8D4E3"
             },
             "line": {
              "color": "white"
             }
            },
            "type": "table"
           }
          ]
         },
         "layout": {
          "annotationdefaults": {
           "arrowcolor": "#2a3f5f",
           "arrowhead": 0,
           "arrowwidth": 1
          },
          "autotypenumbers": "strict",
          "coloraxis": {
           "colorbar": {
            "outlinewidth": 0,
            "ticks": ""
           }
          },
          "colorscale": {
           "diverging": [
            [
             0,
             "#8e0152"
            ],
            [
             0.1,
             "#c51b7d"
            ],
            [
             0.2,
             "#de77ae"
            ],
            [
             0.3,
             "#f1b6da"
            ],
            [
             0.4,
             "#fde0ef"
            ],
            [
             0.5,
             "#f7f7f7"
            ],
            [
             0.6,
             "#e6f5d0"
            ],
            [
             0.7,
             "#b8e186"
            ],
            [
             0.8,
             "#7fbc41"
            ],
            [
             0.9,
             "#4d9221"
            ],
            [
             1,
             "#276419"
            ]
           ],
           "sequential": [
            [
             0,
             "#0d0887"
            ],
            [
             0.1111111111111111,
             "#46039f"
            ],
            [
             0.2222222222222222,
             "#7201a8"
            ],
            [
             0.3333333333333333,
             "#9c179e"
            ],
            [
             0.4444444444444444,
             "#bd3786"
            ],
            [
             0.5555555555555556,
             "#d8576b"
            ],
            [
             0.6666666666666666,
             "#ed7953"
            ],
            [
             0.7777777777777778,
             "#fb9f3a"
            ],
            [
             0.8888888888888888,
             "#fdca26"
            ],
            [
             1,
             "#f0f921"
            ]
           ],
           "sequentialminus": [
            [
             0,
             "#0d0887"
            ],
            [
             0.1111111111111111,
             "#46039f"
            ],
            [
             0.2222222222222222,
             "#7201a8"
            ],
            [
             0.3333333333333333,
             "#9c179e"
            ],
            [
             0.4444444444444444,
             "#bd3786"
            ],
            [
             0.5555555555555556,
             "#d8576b"
            ],
            [
             0.6666666666666666,
             "#ed7953"
            ],
            [
             0.7777777777777778,
             "#fb9f3a"
            ],
            [
             0.8888888888888888,
             "#fdca26"
            ],
            [
             1,
             "#f0f921"
            ]
           ]
          },
          "colorway": [
           "#636efa",
           "#EF553B",
           "#00cc96",
           "#ab63fa",
           "#FFA15A",
           "#19d3f3",
           "#FF6692",
           "#B6E880",
           "#FF97FF",
           "#FECB52"
          ],
          "font": {
           "color": "#2a3f5f"
          },
          "geo": {
           "bgcolor": "white",
           "lakecolor": "white",
           "landcolor": "#E5ECF6",
           "showlakes": true,
           "showland": true,
           "subunitcolor": "white"
          },
          "hoverlabel": {
           "align": "left"
          },
          "hovermode": "closest",
          "mapbox": {
           "style": "light"
          },
          "paper_bgcolor": "white",
          "plot_bgcolor": "#E5ECF6",
          "polar": {
           "angularaxis": {
            "gridcolor": "white",
            "linecolor": "white",
            "ticks": ""
           },
           "bgcolor": "#E5ECF6",
           "radialaxis": {
            "gridcolor": "white",
            "linecolor": "white",
            "ticks": ""
           }
          },
          "scene": {
           "xaxis": {
            "backgroundcolor": "#E5ECF6",
            "gridcolor": "white",
            "gridwidth": 2,
            "linecolor": "white",
            "showbackground": true,
            "ticks": "",
            "zerolinecolor": "white"
           },
           "yaxis": {
            "backgroundcolor": "#E5ECF6",
            "gridcolor": "white",
            "gridwidth": 2,
            "linecolor": "white",
            "showbackground": true,
            "ticks": "",
            "zerolinecolor": "white"
           },
           "zaxis": {
            "backgroundcolor": "#E5ECF6",
            "gridcolor": "white",
            "gridwidth": 2,
            "linecolor": "white",
            "showbackground": true,
            "ticks": "",
            "zerolinecolor": "white"
           }
          },
          "shapedefaults": {
           "line": {
            "color": "#2a3f5f"
           }
          },
          "ternary": {
           "aaxis": {
            "gridcolor": "white",
            "linecolor": "white",
            "ticks": ""
           },
           "baxis": {
            "gridcolor": "white",
            "linecolor": "white",
            "ticks": ""
           },
           "bgcolor": "#E5ECF6",
           "caxis": {
            "gridcolor": "white",
            "linecolor": "white",
            "ticks": ""
           }
          },
          "title": {
           "x": 0.05
          },
          "xaxis": {
           "automargin": true,
           "gridcolor": "white",
           "linecolor": "white",
           "ticks": "",
           "title": {
            "standoff": 15
           },
           "zerolinecolor": "white",
           "zerolinewidth": 2
          },
          "yaxis": {
           "automargin": true,
           "gridcolor": "white",
           "linecolor": "white",
           "ticks": "",
           "title": {
            "standoff": 15
           },
           "zerolinecolor": "white",
           "zerolinewidth": 2
          }
         }
        },
        "title": {
         "text": "Correlation Matrix"
        },
        "xaxis": {
         "dtick": 1,
         "gridcolor": "rgb(0, 0, 0)",
         "side": "top",
         "ticks": ""
        },
        "yaxis": {
         "dtick": 1,
         "ticks": "",
         "ticksuffix": "  "
        }
       }
      }
     },
     "metadata": {},
     "output_type": "display_data"
    }
   ],
   "source": [
    "## do not keep - plotly elements are not very good for correlation matrices\n",
    "import plotly.figure_factory as ff\n",
    "\n",
    "# Create a mapping of long column names to short names\n",
    "col_map = {\n",
    "    'total_fertilizer_n_amount': 'N',\n",
    "    'p_amount': 'P',\n",
    "    'k_amount': 'K',\n",
    "    'grain': 'Grain',\n",
    "    'straw': 'Straw',\n",
    "    'total_Metopolophium dirhodum': 'Metopolophium',\n",
    "    'total_Rhopalosiphum padi': 'Rhopalosiphum',\n",
    "    'total_Sitobion avenae': 'Sitobion',\n",
    "    # Add more mappings as needed\n",
    "}\n",
    "\n",
    "# Select only numeric columns to avoid warning\n",
    "numeric_df = df.select_dtypes(include='number')\n",
    "corr_matrix = numeric_df.corr()\n",
    "\n",
    "# Apply mapping to columns in correlation matrix\n",
    "corr_matrix = corr_matrix.rename(index=col_map, columns=col_map)\n",
    "\n",
    "# Plot correlation matrix using Plotly\n",
    "fig = ff.create_annotated_heatmap(\n",
    "    z=corr_matrix.values,\n",
    "    x=corr_matrix.columns.tolist(),\n",
    "    y=corr_matrix.index.tolist(),\n",
    "    colorscale='Viridis'\n",
    ")\n",
    "\n",
    "fig.update_layout(title='Correlation Matrix')\n",
    "fig.show()\n",
    "\n",
    "# Export to HTML\n",
    "fig.write_html('FilteredInput/correlation_matrix.html')"
   ]
  },
  {
   "cell_type": "code",
   "execution_count": 65,
   "id": "1b644d83",
   "metadata": {},
   "outputs": [
    {
     "data": {
      "application/vnd.plotly.v1+json": {
       "config": {
        "plotlyServerURL": "https://plot.ly"
       },
       "data": [
        {
         "error_y": {
          "array": [
           0.32983220842465594,
           0.3480288883740215,
           0.516090860978679,
           0.5834164694159004,
           0.4894916146537411,
           0.3497853295747469,
           0.20912231554079264,
           0.44181444068749043,
           0.580307607776132,
           0.7525028179823836,
           0.7041710869120211
          ],
          "type": "data"
         },
         "mode": "lines+markers",
         "name": "Grain",
         "type": "scatter",
         "x": [
          1990,
          1991,
          1992,
          1993,
          1994,
          1995,
          1996,
          1997,
          1998,
          1999,
          2000
         ],
         "y": [
          7.63,
          7.2075,
          6.88375,
          5.19625,
          6.161428571428572,
          5.92625,
          7.425,
          6.885,
          5.16625,
          5.24625,
          5.04375
         ]
        },
        {
         "error_y": {
          "array": [
           0.2975,
           0.25,
           0.5125000000000001,
           0.28,
           0.38485618835389107,
           0.022499999999999964,
           0.25658616161697684,
           0.34311076928595524,
           0.26195379681666514,
           0.5958782034387003,
           0.16120638945153506
          ],
          "type": "data"
         },
         "mode": "lines+markers",
         "name": "Straw",
         "type": "scatter",
         "x": [
          1990,
          1991,
          1992,
          1993,
          1994,
          1995,
          1996,
          1997,
          1998,
          1999,
          2000
         ],
         "y": [
          3.2750000000000004,
          6.06,
          4.455,
          2.54,
          4.19,
          2.545,
          3.8275,
          2.76,
          4.2175,
          2.5149999999999997,
          2.735
         ]
        },
        {
         "error_y": {
          "array": [
           0,
           0,
           0,
           0,
           0,
           0,
           0,
           0,
           0,
           0,
           0
          ],
          "type": "data"
         },
         "mode": "lines+markers",
         "name": "K",
         "type": "scatter",
         "x": [
          1990,
          1991,
          1992,
          1993,
          1994,
          1995,
          1996,
          1997,
          1998,
          1999,
          2000
         ],
         "y": [
          90,
          90,
          90,
          90,
          90,
          90,
          90,
          90,
          90,
          90,
          90
         ]
        },
        {
         "error_y": {
          "array": [
           0,
           0,
           0,
           0,
           0,
           0,
           0,
           0,
           0,
           0,
           0
          ],
          "type": "data"
         },
         "mode": "lines+markers",
         "name": "N",
         "type": "scatter",
         "x": [
          1990,
          1991,
          1992,
          1993,
          1994,
          1995,
          1996,
          1997,
          1998,
          1999,
          2000
         ],
         "y": [
          144,
          144,
          144,
          144,
          144,
          144,
          144,
          144,
          144,
          144,
          144
         ]
        },
        {
         "error_y": {
          "array": [
           0,
           0,
           0,
           0,
           0,
           0,
           0,
           0,
           0,
           0,
           0
          ],
          "type": "data"
         },
         "mode": "lines+markers",
         "name": "P",
         "type": "scatter",
         "x": [
          1990,
          1991,
          1992,
          1993,
          1994,
          1995,
          1996,
          1997,
          1998,
          1999,
          2000
         ],
         "y": [
          35,
          35,
          35,
          35,
          35,
          35,
          35,
          35,
          35,
          35,
          35
         ]
        },
        {
         "error_y": {
          "array": [
           0,
           0,
           0,
           0,
           0,
           0,
           0,
           0,
           0,
           0,
           0
          ],
          "type": "data"
         },
         "mode": "lines+markers",
         "name": "Temp",
         "type": "scatter",
         "x": [
          1990,
          1991,
          1992,
          1993,
          1994,
          1995,
          1996,
          1997,
          1998,
          1999,
          2000
         ],
         "y": [
          10.4713470515,
          9.14304609925,
          10.002850274,
          9.48823883725,
          9.5933518805,
          10.573169658250002,
          9.24359322725,
          9.92623058975,
          10.25889257125,
          10.29818976425,
          10.263630256
         ]
        },
        {
         "error_y": {
          "array": [
           0,
           0,
           0,
           0,
           4.641245714809236e-14,
           0,
           0,
           0,
           0,
           0,
           0
          ],
          "type": "data"
         },
         "mode": "lines+markers",
         "name": "Rainfall",
         "type": "scatter",
         "x": [
          1990,
          1991,
          1992,
          1993,
          1994,
          1995,
          1996,
          1997,
          1998,
          1999,
          2000
         ],
         "y": [
          709.0035599999999,
          776.3224200000001,
          714.42002,
          935.7211,
          934.50516,
          706.9033000000002,
          652.7387,
          633.1731199999999,
          726.35834,
          951.63886,
          794.0088199999999
         ]
        },
        {
         "error_y": {
          "array": [
           0,
           0,
           0,
           0,
           0,
           0,
           0,
           0,
           0,
           0,
           0
          ],
          "type": "data"
         },
         "mode": "lines+markers",
         "name": "M. dirhodum",
         "type": "scatter",
         "x": [
          1990,
          1991,
          1992,
          1993,
          1994,
          1995,
          1996,
          1997,
          1998,
          1999,
          2000
         ],
         "y": [
          579,
          415,
          4775,
          381,
          2583,
          229,
          1101,
          5640,
          41,
          265,
          75
         ]
        },
        {
         "error_y": {
          "array": [
           0,
           0,
           0,
           0,
           0,
           0,
           0,
           0,
           0,
           0,
           0
          ],
          "type": "data"
         },
         "mode": "lines+markers",
         "name": "Rhopalosiphum",
         "type": "scatter",
         "x": [
          1990,
          1991,
          1992,
          1993,
          1994,
          1995,
          1996,
          1997,
          1998,
          1999,
          2000
         ],
         "y": [
          1256,
          2683,
          4415,
          1349,
          4376,
          820,
          2169,
          4720,
          1374,
          1757,
          1351
         ]
        },
        {
         "error_y": {
          "array": [
           0,
           0,
           0,
           0,
           0,
           0,
           0,
           0,
           0,
           0,
           0
          ],
          "type": "data"
         },
         "mode": "lines+markers",
         "name": "Sitobion",
         "type": "scatter",
         "x": [
          1990,
          1991,
          1992,
          1993,
          1994,
          1995,
          1996,
          1997,
          1998,
          1999,
          2000
         ],
         "y": [
          324,
          1115,
          4911,
          2123,
          6747,
          3983,
          12803,
          2247,
          385,
          920,
          877
         ]
        },
        {
         "error_y": {
          "array": [
           0,
           0,
           0,
           0,
           9.282491429618472e-14,
           0,
           0,
           0,
           0,
           0,
           0
          ],
          "type": "data"
         },
         "mode": "lines+markers",
         "name": "CO2",
         "type": "scatter",
         "x": [
          1990,
          1991,
          1992,
          1993,
          1994,
          1995,
          1996,
          1997,
          1998,
          1999,
          2000
         ],
         "y": [
          1699.532,
          1699.532,
          1699.532,
          1699.532,
          1699.532,
          1699.532,
          1699.532,
          1699.532,
          1699.532,
          1699.532,
          1699.532
         ]
        }
       ],
       "layout": {
        "height": 500,
        "legend": {
         "title": {
          "text": "Variable"
         }
        },
        "template": {
         "data": {
          "bar": [
           {
            "error_x": {
             "color": "#2a3f5f"
            },
            "error_y": {
             "color": "#2a3f5f"
            },
            "marker": {
             "line": {
              "color": "#E5ECF6",
              "width": 0.5
             },
             "pattern": {
              "fillmode": "overlay",
              "size": 10,
              "solidity": 0.2
             }
            },
            "type": "bar"
           }
          ],
          "barpolar": [
           {
            "marker": {
             "line": {
              "color": "#E5ECF6",
              "width": 0.5
             },
             "pattern": {
              "fillmode": "overlay",
              "size": 10,
              "solidity": 0.2
             }
            },
            "type": "barpolar"
           }
          ],
          "carpet": [
           {
            "aaxis": {
             "endlinecolor": "#2a3f5f",
             "gridcolor": "white",
             "linecolor": "white",
             "minorgridcolor": "white",
             "startlinecolor": "#2a3f5f"
            },
            "baxis": {
             "endlinecolor": "#2a3f5f",
             "gridcolor": "white",
             "linecolor": "white",
             "minorgridcolor": "white",
             "startlinecolor": "#2a3f5f"
            },
            "type": "carpet"
           }
          ],
          "choropleth": [
           {
            "colorbar": {
             "outlinewidth": 0,
             "ticks": ""
            },
            "type": "choropleth"
           }
          ],
          "contour": [
           {
            "colorbar": {
             "outlinewidth": 0,
             "ticks": ""
            },
            "colorscale": [
             [
              0,
              "#0d0887"
             ],
             [
              0.1111111111111111,
              "#46039f"
             ],
             [
              0.2222222222222222,
              "#7201a8"
             ],
             [
              0.3333333333333333,
              "#9c179e"
             ],
             [
              0.4444444444444444,
              "#bd3786"
             ],
             [
              0.5555555555555556,
              "#d8576b"
             ],
             [
              0.6666666666666666,
              "#ed7953"
             ],
             [
              0.7777777777777778,
              "#fb9f3a"
             ],
             [
              0.8888888888888888,
              "#fdca26"
             ],
             [
              1,
              "#f0f921"
             ]
            ],
            "type": "contour"
           }
          ],
          "contourcarpet": [
           {
            "colorbar": {
             "outlinewidth": 0,
             "ticks": ""
            },
            "type": "contourcarpet"
           }
          ],
          "heatmap": [
           {
            "colorbar": {
             "outlinewidth": 0,
             "ticks": ""
            },
            "colorscale": [
             [
              0,
              "#0d0887"
             ],
             [
              0.1111111111111111,
              "#46039f"
             ],
             [
              0.2222222222222222,
              "#7201a8"
             ],
             [
              0.3333333333333333,
              "#9c179e"
             ],
             [
              0.4444444444444444,
              "#bd3786"
             ],
             [
              0.5555555555555556,
              "#d8576b"
             ],
             [
              0.6666666666666666,
              "#ed7953"
             ],
             [
              0.7777777777777778,
              "#fb9f3a"
             ],
             [
              0.8888888888888888,
              "#fdca26"
             ],
             [
              1,
              "#f0f921"
             ]
            ],
            "type": "heatmap"
           }
          ],
          "heatmapgl": [
           {
            "colorbar": {
             "outlinewidth": 0,
             "ticks": ""
            },
            "colorscale": [
             [
              0,
              "#0d0887"
             ],
             [
              0.1111111111111111,
              "#46039f"
             ],
             [
              0.2222222222222222,
              "#7201a8"
             ],
             [
              0.3333333333333333,
              "#9c179e"
             ],
             [
              0.4444444444444444,
              "#bd3786"
             ],
             [
              0.5555555555555556,
              "#d8576b"
             ],
             [
              0.6666666666666666,
              "#ed7953"
             ],
             [
              0.7777777777777778,
              "#fb9f3a"
             ],
             [
              0.8888888888888888,
              "#fdca26"
             ],
             [
              1,
              "#f0f921"
             ]
            ],
            "type": "heatmapgl"
           }
          ],
          "histogram": [
           {
            "marker": {
             "pattern": {
              "fillmode": "overlay",
              "size": 10,
              "solidity": 0.2
             }
            },
            "type": "histogram"
           }
          ],
          "histogram2d": [
           {
            "colorbar": {
             "outlinewidth": 0,
             "ticks": ""
            },
            "colorscale": [
             [
              0,
              "#0d0887"
             ],
             [
              0.1111111111111111,
              "#46039f"
             ],
             [
              0.2222222222222222,
              "#7201a8"
             ],
             [
              0.3333333333333333,
              "#9c179e"
             ],
             [
              0.4444444444444444,
              "#bd3786"
             ],
             [
              0.5555555555555556,
              "#d8576b"
             ],
             [
              0.6666666666666666,
              "#ed7953"
             ],
             [
              0.7777777777777778,
              "#fb9f3a"
             ],
             [
              0.8888888888888888,
              "#fdca26"
             ],
             [
              1,
              "#f0f921"
             ]
            ],
            "type": "histogram2d"
           }
          ],
          "histogram2dcontour": [
           {
            "colorbar": {
             "outlinewidth": 0,
             "ticks": ""
            },
            "colorscale": [
             [
              0,
              "#0d0887"
             ],
             [
              0.1111111111111111,
              "#46039f"
             ],
             [
              0.2222222222222222,
              "#7201a8"
             ],
             [
              0.3333333333333333,
              "#9c179e"
             ],
             [
              0.4444444444444444,
              "#bd3786"
             ],
             [
              0.5555555555555556,
              "#d8576b"
             ],
             [
              0.6666666666666666,
              "#ed7953"
             ],
             [
              0.7777777777777778,
              "#fb9f3a"
             ],
             [
              0.8888888888888888,
              "#fdca26"
             ],
             [
              1,
              "#f0f921"
             ]
            ],
            "type": "histogram2dcontour"
           }
          ],
          "mesh3d": [
           {
            "colorbar": {
             "outlinewidth": 0,
             "ticks": ""
            },
            "type": "mesh3d"
           }
          ],
          "parcoords": [
           {
            "line": {
             "colorbar": {
              "outlinewidth": 0,
              "ticks": ""
             }
            },
            "type": "parcoords"
           }
          ],
          "pie": [
           {
            "automargin": true,
            "type": "pie"
           }
          ],
          "scatter": [
           {
            "fillpattern": {
             "fillmode": "overlay",
             "size": 10,
             "solidity": 0.2
            },
            "type": "scatter"
           }
          ],
          "scatter3d": [
           {
            "line": {
             "colorbar": {
              "outlinewidth": 0,
              "ticks": ""
             }
            },
            "marker": {
             "colorbar": {
              "outlinewidth": 0,
              "ticks": ""
             }
            },
            "type": "scatter3d"
           }
          ],
          "scattercarpet": [
           {
            "marker": {
             "colorbar": {
              "outlinewidth": 0,
              "ticks": ""
             }
            },
            "type": "scattercarpet"
           }
          ],
          "scattergeo": [
           {
            "marker": {
             "colorbar": {
              "outlinewidth": 0,
              "ticks": ""
             }
            },
            "type": "scattergeo"
           }
          ],
          "scattergl": [
           {
            "marker": {
             "colorbar": {
              "outlinewidth": 0,
              "ticks": ""
             }
            },
            "type": "scattergl"
           }
          ],
          "scattermapbox": [
           {
            "marker": {
             "colorbar": {
              "outlinewidth": 0,
              "ticks": ""
             }
            },
            "type": "scattermapbox"
           }
          ],
          "scatterpolar": [
           {
            "marker": {
             "colorbar": {
              "outlinewidth": 0,
              "ticks": ""
             }
            },
            "type": "scatterpolar"
           }
          ],
          "scatterpolargl": [
           {
            "marker": {
             "colorbar": {
              "outlinewidth": 0,
              "ticks": ""
             }
            },
            "type": "scatterpolargl"
           }
          ],
          "scatterternary": [
           {
            "marker": {
             "colorbar": {
              "outlinewidth": 0,
              "ticks": ""
             }
            },
            "type": "scatterternary"
           }
          ],
          "surface": [
           {
            "colorbar": {
             "outlinewidth": 0,
             "ticks": ""
            },
            "colorscale": [
             [
              0,
              "#0d0887"
             ],
             [
              0.1111111111111111,
              "#46039f"
             ],
             [
              0.2222222222222222,
              "#7201a8"
             ],
             [
              0.3333333333333333,
              "#9c179e"
             ],
             [
              0.4444444444444444,
              "#bd3786"
             ],
             [
              0.5555555555555556,
              "#d8576b"
             ],
             [
              0.6666666666666666,
              "#ed7953"
             ],
             [
              0.7777777777777778,
              "#fb9f3a"
             ],
             [
              0.8888888888888888,
              "#fdca26"
             ],
             [
              1,
              "#f0f921"
             ]
            ],
            "type": "surface"
           }
          ],
          "table": [
           {
            "cells": {
             "fill": {
              "color": "#EBF0F8"
             },
             "line": {
              "color": "white"
             }
            },
            "header": {
             "fill": {
              "color": "#C8D4E3"
             },
             "line": {
              "color": "white"
             }
            },
            "type": "table"
           }
          ]
         },
         "layout": {
          "annotationdefaults": {
           "arrowcolor": "#2a3f5f",
           "arrowhead": 0,
           "arrowwidth": 1
          },
          "autotypenumbers": "strict",
          "coloraxis": {
           "colorbar": {
            "outlinewidth": 0,
            "ticks": ""
           }
          },
          "colorscale": {
           "diverging": [
            [
             0,
             "#8e0152"
            ],
            [
             0.1,
             "#c51b7d"
            ],
            [
             0.2,
             "#de77ae"
            ],
            [
             0.3,
             "#f1b6da"
            ],
            [
             0.4,
             "#fde0ef"
            ],
            [
             0.5,
             "#f7f7f7"
            ],
            [
             0.6,
             "#e6f5d0"
            ],
            [
             0.7,
             "#b8e186"
            ],
            [
             0.8,
             "#7fbc41"
            ],
            [
             0.9,
             "#4d9221"
            ],
            [
             1,
             "#276419"
            ]
           ],
           "sequential": [
            [
             0,
             "#0d0887"
            ],
            [
             0.1111111111111111,
             "#46039f"
            ],
            [
             0.2222222222222222,
             "#7201a8"
            ],
            [
             0.3333333333333333,
             "#9c179e"
            ],
            [
             0.4444444444444444,
             "#bd3786"
            ],
            [
             0.5555555555555556,
             "#d8576b"
            ],
            [
             0.6666666666666666,
             "#ed7953"
            ],
            [
             0.7777777777777778,
             "#fb9f3a"
            ],
            [
             0.8888888888888888,
             "#fdca26"
            ],
            [
             1,
             "#f0f921"
            ]
           ],
           "sequentialminus": [
            [
             0,
             "#0d0887"
            ],
            [
             0.1111111111111111,
             "#46039f"
            ],
            [
             0.2222222222222222,
             "#7201a8"
            ],
            [
             0.3333333333333333,
             "#9c179e"
            ],
            [
             0.4444444444444444,
             "#bd3786"
            ],
            [
             0.5555555555555556,
             "#d8576b"
            ],
            [
             0.6666666666666666,
             "#ed7953"
            ],
            [
             0.7777777777777778,
             "#fb9f3a"
            ],
            [
             0.8888888888888888,
             "#fdca26"
            ],
            [
             1,
             "#f0f921"
            ]
           ]
          },
          "colorway": [
           "#636efa",
           "#EF553B",
           "#00cc96",
           "#ab63fa",
           "#FFA15A",
           "#19d3f3",
           "#FF6692",
           "#B6E880",
           "#FF97FF",
           "#FECB52"
          ],
          "font": {
           "color": "#2a3f5f"
          },
          "geo": {
           "bgcolor": "white",
           "lakecolor": "white",
           "landcolor": "#E5ECF6",
           "showlakes": true,
           "showland": true,
           "subunitcolor": "white"
          },
          "hoverlabel": {
           "align": "left"
          },
          "hovermode": "closest",
          "mapbox": {
           "style": "light"
          },
          "paper_bgcolor": "white",
          "plot_bgcolor": "#E5ECF6",
          "polar": {
           "angularaxis": {
            "gridcolor": "white",
            "linecolor": "white",
            "ticks": ""
           },
           "bgcolor": "#E5ECF6",
           "radialaxis": {
            "gridcolor": "white",
            "linecolor": "white",
            "ticks": ""
           }
          },
          "scene": {
           "xaxis": {
            "backgroundcolor": "#E5ECF6",
            "gridcolor": "white",
            "gridwidth": 2,
            "linecolor": "white",
            "showbackground": true,
            "ticks": "",
            "zerolinecolor": "white"
           },
           "yaxis": {
            "backgroundcolor": "#E5ECF6",
            "gridcolor": "white",
            "gridwidth": 2,
            "linecolor": "white",
            "showbackground": true,
            "ticks": "",
            "zerolinecolor": "white"
           },
           "zaxis": {
            "backgroundcolor": "#E5ECF6",
            "gridcolor": "white",
            "gridwidth": 2,
            "linecolor": "white",
            "showbackground": true,
            "ticks": "",
            "zerolinecolor": "white"
           }
          },
          "shapedefaults": {
           "line": {
            "color": "#2a3f5f"
           }
          },
          "ternary": {
           "aaxis": {
            "gridcolor": "white",
            "linecolor": "white",
            "ticks": ""
           },
           "baxis": {
            "gridcolor": "white",
            "linecolor": "white",
            "ticks": ""
           },
           "bgcolor": "#E5ECF6",
           "caxis": {
            "gridcolor": "white",
            "linecolor": "white",
            "ticks": ""
           }
          },
          "title": {
           "x": 0.05
          },
          "xaxis": {
           "automargin": true,
           "gridcolor": "white",
           "linecolor": "white",
           "ticks": "",
           "title": {
            "standoff": 15
           },
           "zerolinecolor": "white",
           "zerolinewidth": 2
          },
          "yaxis": {
           "automargin": true,
           "gridcolor": "white",
           "linecolor": "white",
           "ticks": "",
           "title": {
            "standoff": 15
           },
           "zerolinecolor": "white",
           "zerolinewidth": 2
          }
         }
        },
        "title": {
         "text": "Yearly Trends of All Variables (1990-2000)"
        },
        "width": 900,
        "xaxis": {
         "title": {
          "text": "Harvest Year"
         }
        },
        "yaxis": {
         "title": {
          "text": "Value"
         }
        }
       }
      }
     },
     "metadata": {},
     "output_type": "display_data"
    },
    {
     "data": {
      "application/vnd.plotly.v1+json": {
       "config": {
        "plotlyServerURL": "https://plot.ly"
       },
       "data": [
        {
         "error_y": {
          "array": [
           0.3017611993424129,
           0.3691009226098311,
           0.5457136137336924,
           0.4034447098780345,
           1.0934165818335533,
           0.628838687771431,
           0.5768317097980756,
           0.31797349395373015,
           0.6488199160646525
          ],
          "type": "data"
         },
         "mode": "lines+markers",
         "name": "Grain",
         "type": "scatter",
         "x": [
          2010,
          2011,
          2012,
          2013,
          2014,
          2016,
          2017,
          2018,
          2019
         ],
         "y": [
          5.6075,
          4.76375,
          5.61375,
          5.70625,
          6.2425,
          6.26,
          4.9475,
          5.625,
          5.735625
         ]
        },
        {
         "error_y": {
          "array": [
           0.08100925873009827,
           0.2914689806251544,
           0.35437150938904033,
           0.2743401173725783,
           0.297636523296453,
           0.2886421412654184,
           0.6478136306068282,
           0.21166748687505121,
           0.1910817887711961
          ],
          "type": "data"
         },
         "mode": "lines+markers",
         "name": "Straw",
         "type": "scatter",
         "x": [
          2010,
          2011,
          2012,
          2013,
          2014,
          2016,
          2017,
          2018,
          2019
         ],
         "y": [
          2.7900000000000005,
          2.0766666666666667,
          4.826666666666667,
          3.4299999999999997,
          3.81,
          3.06,
          2.78,
          2.1725,
          1.655
         ]
        },
        {
         "error_y": {
          "array": [
           0,
           0,
           0,
           0,
           0,
           0,
           0,
           0,
           0
          ],
          "type": "data"
         },
         "mode": "lines+markers",
         "name": "K",
         "type": "scatter",
         "x": [
          2010,
          2011,
          2012,
          2013,
          2014,
          2016,
          2017,
          2018,
          2019
         ],
         "y": [
          90,
          90,
          90,
          90,
          90,
          90,
          90,
          90,
          90
         ]
        },
        {
         "error_y": {
          "array": [
           0,
           0,
           0,
           0,
           0,
           0,
           0,
           0,
           0
          ],
          "type": "data"
         },
         "mode": "lines+markers",
         "name": "N",
         "type": "scatter",
         "x": [
          2010,
          2011,
          2012,
          2013,
          2014,
          2016,
          2017,
          2018,
          2019
         ],
         "y": [
          144,
          144,
          144,
          144,
          144,
          144,
          144,
          144,
          144
         ]
        },
        {
         "error_y": {
          "array": [
           0,
           0,
           0,
           0,
           0,
           0,
           0,
           0,
           0
          ],
          "type": "data"
         },
         "mode": "lines+markers",
         "name": "P",
         "type": "scatter",
         "x": [
          2010,
          2011,
          2012,
          2013,
          2014,
          2016,
          2017,
          2018,
          2019
         ],
         "y": [
          0,
          0,
          0,
          0,
          0,
          0,
          0,
          0,
          0
         ]
        },
        {
         "error_y": {
          "array": [
           0,
           0,
           0,
           0,
           0,
           0,
           0,
           0,
           0
          ],
          "type": "data"
         },
         "mode": "lines+markers",
         "name": "Temp",
         "type": "scatter",
         "x": [
          2010,
          2011,
          2012,
          2013,
          2014,
          2016,
          2017,
          2018,
          2019
         ],
         "y": [
          9.70129622,
          9.62924324575,
          10.525347886,
          9.14851651625,
          10.87966458975,
          10.7708836005,
          10.693049880499998,
          10.5555822335,
          10.23620925
         ]
        },
        {
         "error_y": {
          "array": [
           0,
           0,
           0,
           0,
           0,
           4.641245714809236e-14,
           0,
           0,
           0
          ],
          "type": "data"
         },
         "mode": "lines+markers",
         "name": "Rainfall",
         "type": "scatter",
         "x": [
          2010,
          2011,
          2012,
          2013,
          2014,
          2016,
          2017,
          2018,
          2019
         ],
         "y": [
          717.3,
          623.7,
          870.8,
          778.3000000000001,
          982.9,
          742.8,
          622.2,
          704.1999999999999,
          565.2
         ]
        },
        {
         "error_y": {
          "array": [
           0,
           0,
           0,
           0,
           0,
           0,
           0,
           0,
           0
          ],
          "type": "data"
         },
         "mode": "lines+markers",
         "name": "M. dirhodum",
         "type": "scatter",
         "x": [
          2010,
          2011,
          2012,
          2013,
          2014,
          2016,
          2017,
          2018,
          2019
         ],
         "y": [
          2448,
          2519,
          86,
          151,
          150,
          110,
          91,
          191,
          200
         ]
        },
        {
         "error_y": {
          "array": [
           0,
           0,
           0,
           0,
           0,
           0,
           0,
           0,
           0
          ],
          "type": "data"
         },
         "mode": "lines+markers",
         "name": "Rhopalosiphum",
         "type": "scatter",
         "x": [
          2010,
          2011,
          2012,
          2013,
          2014,
          2016,
          2017,
          2018,
          2019
         ],
         "y": [
          2040,
          4968,
          1833,
          1081,
          4315,
          927,
          660,
          3848,
          843
         ]
        },
        {
         "error_y": {
          "array": [
           0,
           0,
           0,
           0,
           0,
           0,
           0,
           0,
           0
          ],
          "type": "data"
         },
         "mode": "lines+markers",
         "name": "Sitobion",
         "type": "scatter",
         "x": [
          2010,
          2011,
          2012,
          2013,
          2014,
          2016,
          2017,
          2018,
          2019
         ],
         "y": [
          2382,
          5991,
          434,
          437,
          384,
          111,
          106,
          264,
          145
         ]
        },
        {
         "error_y": {
          "array": [
           0,
           0,
           0,
           0,
           0,
           9.282491429618472e-14,
           0,
           0,
           0
          ],
          "type": "data"
         },
         "mode": "lines+markers",
         "name": "CO2",
         "type": "scatter",
         "x": [
          2010,
          2011,
          2012,
          2013,
          2014,
          2016,
          2017,
          2018,
          2019
         ],
         "y": [
          1664.532,
          1664.532,
          1664.532,
          1664.532,
          1664.532,
          1664.532,
          1664.532,
          1664.532,
          1664.532
         ]
        }
       ],
       "layout": {
        "height": 500,
        "legend": {
         "title": {
          "text": "Variable"
         }
        },
        "template": {
         "data": {
          "bar": [
           {
            "error_x": {
             "color": "#2a3f5f"
            },
            "error_y": {
             "color": "#2a3f5f"
            },
            "marker": {
             "line": {
              "color": "#E5ECF6",
              "width": 0.5
             },
             "pattern": {
              "fillmode": "overlay",
              "size": 10,
              "solidity": 0.2
             }
            },
            "type": "bar"
           }
          ],
          "barpolar": [
           {
            "marker": {
             "line": {
              "color": "#E5ECF6",
              "width": 0.5
             },
             "pattern": {
              "fillmode": "overlay",
              "size": 10,
              "solidity": 0.2
             }
            },
            "type": "barpolar"
           }
          ],
          "carpet": [
           {
            "aaxis": {
             "endlinecolor": "#2a3f5f",
             "gridcolor": "white",
             "linecolor": "white",
             "minorgridcolor": "white",
             "startlinecolor": "#2a3f5f"
            },
            "baxis": {
             "endlinecolor": "#2a3f5f",
             "gridcolor": "white",
             "linecolor": "white",
             "minorgridcolor": "white",
             "startlinecolor": "#2a3f5f"
            },
            "type": "carpet"
           }
          ],
          "choropleth": [
           {
            "colorbar": {
             "outlinewidth": 0,
             "ticks": ""
            },
            "type": "choropleth"
           }
          ],
          "contour": [
           {
            "colorbar": {
             "outlinewidth": 0,
             "ticks": ""
            },
            "colorscale": [
             [
              0,
              "#0d0887"
             ],
             [
              0.1111111111111111,
              "#46039f"
             ],
             [
              0.2222222222222222,
              "#7201a8"
             ],
             [
              0.3333333333333333,
              "#9c179e"
             ],
             [
              0.4444444444444444,
              "#bd3786"
             ],
             [
              0.5555555555555556,
              "#d8576b"
             ],
             [
              0.6666666666666666,
              "#ed7953"
             ],
             [
              0.7777777777777778,
              "#fb9f3a"
             ],
             [
              0.8888888888888888,
              "#fdca26"
             ],
             [
              1,
              "#f0f921"
             ]
            ],
            "type": "contour"
           }
          ],
          "contourcarpet": [
           {
            "colorbar": {
             "outlinewidth": 0,
             "ticks": ""
            },
            "type": "contourcarpet"
           }
          ],
          "heatmap": [
           {
            "colorbar": {
             "outlinewidth": 0,
             "ticks": ""
            },
            "colorscale": [
             [
              0,
              "#0d0887"
             ],
             [
              0.1111111111111111,
              "#46039f"
             ],
             [
              0.2222222222222222,
              "#7201a8"
             ],
             [
              0.3333333333333333,
              "#9c179e"
             ],
             [
              0.4444444444444444,
              "#bd3786"
             ],
             [
              0.5555555555555556,
              "#d8576b"
             ],
             [
              0.6666666666666666,
              "#ed7953"
             ],
             [
              0.7777777777777778,
              "#fb9f3a"
             ],
             [
              0.8888888888888888,
              "#fdca26"
             ],
             [
              1,
              "#f0f921"
             ]
            ],
            "type": "heatmap"
           }
          ],
          "heatmapgl": [
           {
            "colorbar": {
             "outlinewidth": 0,
             "ticks": ""
            },
            "colorscale": [
             [
              0,
              "#0d0887"
             ],
             [
              0.1111111111111111,
              "#46039f"
             ],
             [
              0.2222222222222222,
              "#7201a8"
             ],
             [
              0.3333333333333333,
              "#9c179e"
             ],
             [
              0.4444444444444444,
              "#bd3786"
             ],
             [
              0.5555555555555556,
              "#d8576b"
             ],
             [
              0.6666666666666666,
              "#ed7953"
             ],
             [
              0.7777777777777778,
              "#fb9f3a"
             ],
             [
              0.8888888888888888,
              "#fdca26"
             ],
             [
              1,
              "#f0f921"
             ]
            ],
            "type": "heatmapgl"
           }
          ],
          "histogram": [
           {
            "marker": {
             "pattern": {
              "fillmode": "overlay",
              "size": 10,
              "solidity": 0.2
             }
            },
            "type": "histogram"
           }
          ],
          "histogram2d": [
           {
            "colorbar": {
             "outlinewidth": 0,
             "ticks": ""
            },
            "colorscale": [
             [
              0,
              "#0d0887"
             ],
             [
              0.1111111111111111,
              "#46039f"
             ],
             [
              0.2222222222222222,
              "#7201a8"
             ],
             [
              0.3333333333333333,
              "#9c179e"
             ],
             [
              0.4444444444444444,
              "#bd3786"
             ],
             [
              0.5555555555555556,
              "#d8576b"
             ],
             [
              0.6666666666666666,
              "#ed7953"
             ],
             [
              0.7777777777777778,
              "#fb9f3a"
             ],
             [
              0.8888888888888888,
              "#fdca26"
             ],
             [
              1,
              "#f0f921"
             ]
            ],
            "type": "histogram2d"
           }
          ],
          "histogram2dcontour": [
           {
            "colorbar": {
             "outlinewidth": 0,
             "ticks": ""
            },
            "colorscale": [
             [
              0,
              "#0d0887"
             ],
             [
              0.1111111111111111,
              "#46039f"
             ],
             [
              0.2222222222222222,
              "#7201a8"
             ],
             [
              0.3333333333333333,
              "#9c179e"
             ],
             [
              0.4444444444444444,
              "#bd3786"
             ],
             [
              0.5555555555555556,
              "#d8576b"
             ],
             [
              0.6666666666666666,
              "#ed7953"
             ],
             [
              0.7777777777777778,
              "#fb9f3a"
             ],
             [
              0.8888888888888888,
              "#fdca26"
             ],
             [
              1,
              "#f0f921"
             ]
            ],
            "type": "histogram2dcontour"
           }
          ],
          "mesh3d": [
           {
            "colorbar": {
             "outlinewidth": 0,
             "ticks": ""
            },
            "type": "mesh3d"
           }
          ],
          "parcoords": [
           {
            "line": {
             "colorbar": {
              "outlinewidth": 0,
              "ticks": ""
             }
            },
            "type": "parcoords"
           }
          ],
          "pie": [
           {
            "automargin": true,
            "type": "pie"
           }
          ],
          "scatter": [
           {
            "fillpattern": {
             "fillmode": "overlay",
             "size": 10,
             "solidity": 0.2
            },
            "type": "scatter"
           }
          ],
          "scatter3d": [
           {
            "line": {
             "colorbar": {
              "outlinewidth": 0,
              "ticks": ""
             }
            },
            "marker": {
             "colorbar": {
              "outlinewidth": 0,
              "ticks": ""
             }
            },
            "type": "scatter3d"
           }
          ],
          "scattercarpet": [
           {
            "marker": {
             "colorbar": {
              "outlinewidth": 0,
              "ticks": ""
             }
            },
            "type": "scattercarpet"
           }
          ],
          "scattergeo": [
           {
            "marker": {
             "colorbar": {
              "outlinewidth": 0,
              "ticks": ""
             }
            },
            "type": "scattergeo"
           }
          ],
          "scattergl": [
           {
            "marker": {
             "colorbar": {
              "outlinewidth": 0,
              "ticks": ""
             }
            },
            "type": "scattergl"
           }
          ],
          "scattermapbox": [
           {
            "marker": {
             "colorbar": {
              "outlinewidth": 0,
              "ticks": ""
             }
            },
            "type": "scattermapbox"
           }
          ],
          "scatterpolar": [
           {
            "marker": {
             "colorbar": {
              "outlinewidth": 0,
              "ticks": ""
             }
            },
            "type": "scatterpolar"
           }
          ],
          "scatterpolargl": [
           {
            "marker": {
             "colorbar": {
              "outlinewidth": 0,
              "ticks": ""
             }
            },
            "type": "scatterpolargl"
           }
          ],
          "scatterternary": [
           {
            "marker": {
             "colorbar": {
              "outlinewidth": 0,
              "ticks": ""
             }
            },
            "type": "scatterternary"
           }
          ],
          "surface": [
           {
            "colorbar": {
             "outlinewidth": 0,
             "ticks": ""
            },
            "colorscale": [
             [
              0,
              "#0d0887"
             ],
             [
              0.1111111111111111,
              "#46039f"
             ],
             [
              0.2222222222222222,
              "#7201a8"
             ],
             [
              0.3333333333333333,
              "#9c179e"
             ],
             [
              0.4444444444444444,
              "#bd3786"
             ],
             [
              0.5555555555555556,
              "#d8576b"
             ],
             [
              0.6666666666666666,
              "#ed7953"
             ],
             [
              0.7777777777777778,
              "#fb9f3a"
             ],
             [
              0.8888888888888888,
              "#fdca26"
             ],
             [
              1,
              "#f0f921"
             ]
            ],
            "type": "surface"
           }
          ],
          "table": [
           {
            "cells": {
             "fill": {
              "color": "#EBF0F8"
             },
             "line": {
              "color": "white"
             }
            },
            "header": {
             "fill": {
              "color": "#C8D4E3"
             },
             "line": {
              "color": "white"
             }
            },
            "type": "table"
           }
          ]
         },
         "layout": {
          "annotationdefaults": {
           "arrowcolor": "#2a3f5f",
           "arrowhead": 0,
           "arrowwidth": 1
          },
          "autotypenumbers": "strict",
          "coloraxis": {
           "colorbar": {
            "outlinewidth": 0,
            "ticks": ""
           }
          },
          "colorscale": {
           "diverging": [
            [
             0,
             "#8e0152"
            ],
            [
             0.1,
             "#c51b7d"
            ],
            [
             0.2,
             "#de77ae"
            ],
            [
             0.3,
             "#f1b6da"
            ],
            [
             0.4,
             "#fde0ef"
            ],
            [
             0.5,
             "#f7f7f7"
            ],
            [
             0.6,
             "#e6f5d0"
            ],
            [
             0.7,
             "#b8e186"
            ],
            [
             0.8,
             "#7fbc41"
            ],
            [
             0.9,
             "#4d9221"
            ],
            [
             1,
             "#276419"
            ]
           ],
           "sequential": [
            [
             0,
             "#0d0887"
            ],
            [
             0.1111111111111111,
             "#46039f"
            ],
            [
             0.2222222222222222,
             "#7201a8"
            ],
            [
             0.3333333333333333,
             "#9c179e"
            ],
            [
             0.4444444444444444,
             "#bd3786"
            ],
            [
             0.5555555555555556,
             "#d8576b"
            ],
            [
             0.6666666666666666,
             "#ed7953"
            ],
            [
             0.7777777777777778,
             "#fb9f3a"
            ],
            [
             0.8888888888888888,
             "#fdca26"
            ],
            [
             1,
             "#f0f921"
            ]
           ],
           "sequentialminus": [
            [
             0,
             "#0d0887"
            ],
            [
             0.1111111111111111,
             "#46039f"
            ],
            [
             0.2222222222222222,
             "#7201a8"
            ],
            [
             0.3333333333333333,
             "#9c179e"
            ],
            [
             0.4444444444444444,
             "#bd3786"
            ],
            [
             0.5555555555555556,
             "#d8576b"
            ],
            [
             0.6666666666666666,
             "#ed7953"
            ],
            [
             0.7777777777777778,
             "#fb9f3a"
            ],
            [
             0.8888888888888888,
             "#fdca26"
            ],
            [
             1,
             "#f0f921"
            ]
           ]
          },
          "colorway": [
           "#636efa",
           "#EF553B",
           "#00cc96",
           "#ab63fa",
           "#FFA15A",
           "#19d3f3",
           "#FF6692",
           "#B6E880",
           "#FF97FF",
           "#FECB52"
          ],
          "font": {
           "color": "#2a3f5f"
          },
          "geo": {
           "bgcolor": "white",
           "lakecolor": "white",
           "landcolor": "#E5ECF6",
           "showlakes": true,
           "showland": true,
           "subunitcolor": "white"
          },
          "hoverlabel": {
           "align": "left"
          },
          "hovermode": "closest",
          "mapbox": {
           "style": "light"
          },
          "paper_bgcolor": "white",
          "plot_bgcolor": "#E5ECF6",
          "polar": {
           "angularaxis": {
            "gridcolor": "white",
            "linecolor": "white",
            "ticks": ""
           },
           "bgcolor": "#E5ECF6",
           "radialaxis": {
            "gridcolor": "white",
            "linecolor": "white",
            "ticks": ""
           }
          },
          "scene": {
           "xaxis": {
            "backgroundcolor": "#E5ECF6",
            "gridcolor": "white",
            "gridwidth": 2,
            "linecolor": "white",
            "showbackground": true,
            "ticks": "",
            "zerolinecolor": "white"
           },
           "yaxis": {
            "backgroundcolor": "#E5ECF6",
            "gridcolor": "white",
            "gridwidth": 2,
            "linecolor": "white",
            "showbackground": true,
            "ticks": "",
            "zerolinecolor": "white"
           },
           "zaxis": {
            "backgroundcolor": "#E5ECF6",
            "gridcolor": "white",
            "gridwidth": 2,
            "linecolor": "white",
            "showbackground": true,
            "ticks": "",
            "zerolinecolor": "white"
           }
          },
          "shapedefaults": {
           "line": {
            "color": "#2a3f5f"
           }
          },
          "ternary": {
           "aaxis": {
            "gridcolor": "white",
            "linecolor": "white",
            "ticks": ""
           },
           "baxis": {
            "gridcolor": "white",
            "linecolor": "white",
            "ticks": ""
           },
           "bgcolor": "#E5ECF6",
           "caxis": {
            "gridcolor": "white",
            "linecolor": "white",
            "ticks": ""
           }
          },
          "title": {
           "x": 0.05
          },
          "xaxis": {
           "automargin": true,
           "gridcolor": "white",
           "linecolor": "white",
           "ticks": "",
           "title": {
            "standoff": 15
           },
           "zerolinecolor": "white",
           "zerolinewidth": 2
          },
          "yaxis": {
           "automargin": true,
           "gridcolor": "white",
           "linecolor": "white",
           "ticks": "",
           "title": {
            "standoff": 15
           },
           "zerolinecolor": "white",
           "zerolinewidth": 2
          }
         }
        },
        "title": {
         "text": "Yearly Trends of All Variables (2010-2020)"
        },
        "width": 900,
        "xaxis": {
         "title": {
          "text": "Harvest Year"
         }
        },
        "yaxis": {
         "title": {
          "text": "Value"
         }
        }
       }
      }
     },
     "metadata": {},
     "output_type": "display_data"
    }
   ],
   "source": [
    "# Reorder so grain and straw are first\n",
    "all_numeric = [col for col in summary_df.columns if col != 'harvest_year']\n",
    "numeric_cols = ['grain', 'straw'] + [col for col in all_numeric if col not in ['grain', 'straw']]\n",
    "\n",
    "# 1990-2000 plot\n",
    "fig_90s = go.Figure()\n",
    "for col in numeric_cols:\n",
    "    legend_name = col_map.get(col, col)\n",
    "    fig_90s.add_trace(go.Scatter(\n",
    "        x=summary_90s.index,\n",
    "        y=summary_90s[col],\n",
    "        error_y=dict(type='data', array=stderr_90s[col]),\n",
    "        mode='lines+markers',\n",
    "        name=legend_name\n",
    "    ))\n",
    "fig_90s.update_layout(\n",
    "    title='Yearly Trends of All Variables (1990-2000)',\n",
    "    xaxis_title='Harvest Year',\n",
    "    yaxis_title='Value',\n",
    "    legend_title='Variable',\n",
    "    width=900,\n",
    "    height=500\n",
    ")\n",
    "fig_90s.show()\n",
    "\n",
    "# 2010-2020 plot\n",
    "fig_10s = go.Figure()\n",
    "for col in numeric_cols:\n",
    "    legend_name = col_map.get(col, col)\n",
    "    fig_10s.add_trace(go.Scatter(\n",
    "        x=summary_10s.index,\n",
    "        y=summary_10s[col],\n",
    "        error_y=dict(type='data', array=stderr_10s[col]),\n",
    "        mode='lines+markers',\n",
    "        name=legend_name\n",
    "    ))\n",
    "fig_10s.update_layout(\n",
    "    title='Yearly Trends of All Variables (2010-2020)',\n",
    "    xaxis_title='Harvest Year',\n",
    "    yaxis_title='Value',\n",
    "    legend_title='Variable',\n",
    "    width=900,\n",
    "    height=500\n",
    ")\n",
    "fig_10s.show()\n",
    "\n",
    "# Export 1990-2000 plot to JSON\n",
    "with open('website/plotly-json/1_SummaryPlot_1990.json', 'w') as f:\n",
    "    f.write(fig_90s.to_json())\n",
    "\n",
    "# Export 2010-2020 plot to JSON\n",
    "with open('website/plotly-json/1_SummaryPlot_2010.json', 'w') as f:\n",
    "    f.write(fig_10s.to_json())\n"
   ]
  },
  {
   "cell_type": "code",
   "execution_count": 86,
   "id": "ce645ae3",
   "metadata": {},
   "outputs": [
    {
     "data": {
      "application/vnd.plotly.v1+json": {
       "config": {
        "plotlyServerURL": "https://plot.ly"
       },
       "data": [
        {
         "error_y": {
          "array": [
           0.32983220842465594,
           0.3480288883740215,
           0.516090860978679,
           0.5834164694159004,
           0.4894916146537411,
           0.3497853295747469,
           0.20912231554079264,
           0.44181444068749043,
           0.580307607776132,
           0.7525028179823836,
           0.7041710869120211
          ],
          "color": "gray",
          "thickness": 1,
          "type": "data",
          "visible": true,
          "width": 3
         },
         "marker": {
          "size": 7
         },
         "mode": "lines+markers",
         "name": "Grain yield (t/ha)",
         "type": "scatter",
         "x": [
          1990,
          1991,
          1992,
          1993,
          1994,
          1995,
          1996,
          1997,
          1998,
          1999,
          2000
         ],
         "xaxis": "x",
         "y": [
          7.63,
          7.2075,
          6.88375,
          5.19625,
          6.161428571428572,
          5.92625,
          7.425,
          6.885,
          5.16625,
          5.24625,
          5.04375
         ],
         "yaxis": "y"
        },
        {
         "error_y": {
          "array": [
           0.2975,
           0.25,
           0.5125000000000001,
           0.28,
           0.38485618835389107,
           0.022499999999999964,
           0.25658616161697684,
           0.34311076928595524,
           0.26195379681666514,
           0.5958782034387003,
           0.16120638945153506
          ],
          "color": "gray",
          "thickness": 1,
          "type": "data",
          "visible": true,
          "width": 3
         },
         "marker": {
          "size": 7
         },
         "mode": "lines+markers",
         "name": "Straw yield (t/ha)",
         "type": "scatter",
         "x": [
          1990,
          1991,
          1992,
          1993,
          1994,
          1995,
          1996,
          1997,
          1998,
          1999,
          2000
         ],
         "xaxis": "x",
         "y": [
          3.2750000000000004,
          6.06,
          4.455,
          2.54,
          4.19,
          2.545,
          3.8275,
          2.76,
          4.2175,
          2.5149999999999997,
          2.735
         ],
         "yaxis": "y"
        },
        {
         "error_y": {
          "array": [
           0,
           0,
           0,
           0,
           0,
           0,
           0,
           0,
           0,
           0,
           0
          ],
          "color": "gray",
          "thickness": 1,
          "type": "data",
          "visible": true,
          "width": 3
         },
         "marker": {
          "size": 7
         },
         "mode": "lines+markers",
         "name": "Mean temp (°C)",
         "type": "scatter",
         "x": [
          1990,
          1991,
          1992,
          1993,
          1994,
          1995,
          1996,
          1997,
          1998,
          1999,
          2000
         ],
         "xaxis": "x",
         "y": [
          10.4713470515,
          9.14304609925,
          10.002850274,
          9.48823883725,
          9.5933518805,
          10.573169658250002,
          9.24359322725,
          9.92623058975,
          10.25889257125,
          10.29818976425,
          10.263630256
         ],
         "yaxis": "y"
        },
        {
         "error_y": {
          "array": [
           0,
           0,
           0,
           0,
           4.641245714809236e-14,
           0,
           0,
           0,
           0,
           0,
           0
          ],
          "color": "gray",
          "thickness": 1,
          "type": "data",
          "visible": true,
          "width": 3
         },
         "marker": {
          "size": 7
         },
         "mode": "lines+markers",
         "name": "Rainfall (mm)",
         "type": "scatter",
         "x": [
          1990,
          1991,
          1992,
          1993,
          1994,
          1995,
          1996,
          1997,
          1998,
          1999,
          2000
         ],
         "xaxis": "x",
         "y": [
          709.0035599999999,
          776.3224200000001,
          714.42002,
          935.7211,
          934.50516,
          706.9033000000002,
          652.7387,
          633.1731199999999,
          726.35834,
          951.63886,
          794.0088199999999
         ],
         "yaxis": "y2"
        },
        {
         "error_y": {
          "array": [
           0,
           0,
           0,
           0,
           0,
           0,
           0,
           0,
           0,
           0,
           0
          ],
          "color": "gray",
          "thickness": 1,
          "type": "data",
          "visible": true,
          "width": 3
         },
         "marker": {
          "size": 7
         },
         "mode": "lines+markers",
         "name": "M. dirhodum (count)",
         "type": "scatter",
         "x": [
          1990,
          1991,
          1992,
          1993,
          1994,
          1995,
          1996,
          1997,
          1998,
          1999,
          2000
         ],
         "xaxis": "x",
         "y": [
          579,
          415,
          4775,
          381,
          2583,
          229,
          1101,
          5640,
          41,
          265,
          75
         ],
         "yaxis": "y2"
        },
        {
         "error_y": {
          "array": [
           0,
           0,
           0,
           0,
           0,
           0,
           0,
           0,
           0,
           0,
           0
          ],
          "color": "gray",
          "thickness": 1,
          "type": "data",
          "visible": true,
          "width": 3
         },
         "marker": {
          "size": 7
         },
         "mode": "lines+markers",
         "name": "R. padi (count)",
         "type": "scatter",
         "x": [
          1990,
          1991,
          1992,
          1993,
          1994,
          1995,
          1996,
          1997,
          1998,
          1999,
          2000
         ],
         "xaxis": "x",
         "y": [
          1256,
          2683,
          4415,
          1349,
          4376,
          820,
          2169,
          4720,
          1374,
          1757,
          1351
         ],
         "yaxis": "y2"
        },
        {
         "error_y": {
          "array": [
           0,
           0,
           0,
           0,
           0,
           0,
           0,
           0,
           0,
           0,
           0
          ],
          "color": "gray",
          "thickness": 1,
          "type": "data",
          "visible": true,
          "width": 3
         },
         "marker": {
          "size": 7
         },
         "mode": "lines+markers",
         "name": "S. avenae (count)",
         "type": "scatter",
         "x": [
          1990,
          1991,
          1992,
          1993,
          1994,
          1995,
          1996,
          1997,
          1998,
          1999,
          2000
         ],
         "xaxis": "x",
         "y": [
          324,
          1115,
          4911,
          2123,
          6747,
          3983,
          12803,
          2247,
          385,
          920,
          877
         ],
         "yaxis": "y2"
        }
       ],
       "layout": {
        "height": 500,
        "hovermode": "x unified",
        "legend": {
         "title": {
          "text": "Variable"
         }
        },
        "template": {
         "data": {
          "bar": [
           {
            "error_x": {
             "color": "#2a3f5f"
            },
            "error_y": {
             "color": "#2a3f5f"
            },
            "marker": {
             "line": {
              "color": "#E5ECF6",
              "width": 0.5
             },
             "pattern": {
              "fillmode": "overlay",
              "size": 10,
              "solidity": 0.2
             }
            },
            "type": "bar"
           }
          ],
          "barpolar": [
           {
            "marker": {
             "line": {
              "color": "#E5ECF6",
              "width": 0.5
             },
             "pattern": {
              "fillmode": "overlay",
              "size": 10,
              "solidity": 0.2
             }
            },
            "type": "barpolar"
           }
          ],
          "carpet": [
           {
            "aaxis": {
             "endlinecolor": "#2a3f5f",
             "gridcolor": "white",
             "linecolor": "white",
             "minorgridcolor": "white",
             "startlinecolor": "#2a3f5f"
            },
            "baxis": {
             "endlinecolor": "#2a3f5f",
             "gridcolor": "white",
             "linecolor": "white",
             "minorgridcolor": "white",
             "startlinecolor": "#2a3f5f"
            },
            "type": "carpet"
           }
          ],
          "choropleth": [
           {
            "colorbar": {
             "outlinewidth": 0,
             "ticks": ""
            },
            "type": "choropleth"
           }
          ],
          "contour": [
           {
            "colorbar": {
             "outlinewidth": 0,
             "ticks": ""
            },
            "colorscale": [
             [
              0,
              "#0d0887"
             ],
             [
              0.1111111111111111,
              "#46039f"
             ],
             [
              0.2222222222222222,
              "#7201a8"
             ],
             [
              0.3333333333333333,
              "#9c179e"
             ],
             [
              0.4444444444444444,
              "#bd3786"
             ],
             [
              0.5555555555555556,
              "#d8576b"
             ],
             [
              0.6666666666666666,
              "#ed7953"
             ],
             [
              0.7777777777777778,
              "#fb9f3a"
             ],
             [
              0.8888888888888888,
              "#fdca26"
             ],
             [
              1,
              "#f0f921"
             ]
            ],
            "type": "contour"
           }
          ],
          "contourcarpet": [
           {
            "colorbar": {
             "outlinewidth": 0,
             "ticks": ""
            },
            "type": "contourcarpet"
           }
          ],
          "heatmap": [
           {
            "colorbar": {
             "outlinewidth": 0,
             "ticks": ""
            },
            "colorscale": [
             [
              0,
              "#0d0887"
             ],
             [
              0.1111111111111111,
              "#46039f"
             ],
             [
              0.2222222222222222,
              "#7201a8"
             ],
             [
              0.3333333333333333,
              "#9c179e"
             ],
             [
              0.4444444444444444,
              "#bd3786"
             ],
             [
              0.5555555555555556,
              "#d8576b"
             ],
             [
              0.6666666666666666,
              "#ed7953"
             ],
             [
              0.7777777777777778,
              "#fb9f3a"
             ],
             [
              0.8888888888888888,
              "#fdca26"
             ],
             [
              1,
              "#f0f921"
             ]
            ],
            "type": "heatmap"
           }
          ],
          "heatmapgl": [
           {
            "colorbar": {
             "outlinewidth": 0,
             "ticks": ""
            },
            "colorscale": [
             [
              0,
              "#0d0887"
             ],
             [
              0.1111111111111111,
              "#46039f"
             ],
             [
              0.2222222222222222,
              "#7201a8"
             ],
             [
              0.3333333333333333,
              "#9c179e"
             ],
             [
              0.4444444444444444,
              "#bd3786"
             ],
             [
              0.5555555555555556,
              "#d8576b"
             ],
             [
              0.6666666666666666,
              "#ed7953"
             ],
             [
              0.7777777777777778,
              "#fb9f3a"
             ],
             [
              0.8888888888888888,
              "#fdca26"
             ],
             [
              1,
              "#f0f921"
             ]
            ],
            "type": "heatmapgl"
           }
          ],
          "histogram": [
           {
            "marker": {
             "pattern": {
              "fillmode": "overlay",
              "size": 10,
              "solidity": 0.2
             }
            },
            "type": "histogram"
           }
          ],
          "histogram2d": [
           {
            "colorbar": {
             "outlinewidth": 0,
             "ticks": ""
            },
            "colorscale": [
             [
              0,
              "#0d0887"
             ],
             [
              0.1111111111111111,
              "#46039f"
             ],
             [
              0.2222222222222222,
              "#7201a8"
             ],
             [
              0.3333333333333333,
              "#9c179e"
             ],
             [
              0.4444444444444444,
              "#bd3786"
             ],
             [
              0.5555555555555556,
              "#d8576b"
             ],
             [
              0.6666666666666666,
              "#ed7953"
             ],
             [
              0.7777777777777778,
              "#fb9f3a"
             ],
             [
              0.8888888888888888,
              "#fdca26"
             ],
             [
              1,
              "#f0f921"
             ]
            ],
            "type": "histogram2d"
           }
          ],
          "histogram2dcontour": [
           {
            "colorbar": {
             "outlinewidth": 0,
             "ticks": ""
            },
            "colorscale": [
             [
              0,
              "#0d0887"
             ],
             [
              0.1111111111111111,
              "#46039f"
             ],
             [
              0.2222222222222222,
              "#7201a8"
             ],
             [
              0.3333333333333333,
              "#9c179e"
             ],
             [
              0.4444444444444444,
              "#bd3786"
             ],
             [
              0.5555555555555556,
              "#d8576b"
             ],
             [
              0.6666666666666666,
              "#ed7953"
             ],
             [
              0.7777777777777778,
              "#fb9f3a"
             ],
             [
              0.8888888888888888,
              "#fdca26"
             ],
             [
              1,
              "#f0f921"
             ]
            ],
            "type": "histogram2dcontour"
           }
          ],
          "mesh3d": [
           {
            "colorbar": {
             "outlinewidth": 0,
             "ticks": ""
            },
            "type": "mesh3d"
           }
          ],
          "parcoords": [
           {
            "line": {
             "colorbar": {
              "outlinewidth": 0,
              "ticks": ""
             }
            },
            "type": "parcoords"
           }
          ],
          "pie": [
           {
            "automargin": true,
            "type": "pie"
           }
          ],
          "scatter": [
           {
            "fillpattern": {
             "fillmode": "overlay",
             "size": 10,
             "solidity": 0.2
            },
            "type": "scatter"
           }
          ],
          "scatter3d": [
           {
            "line": {
             "colorbar": {
              "outlinewidth": 0,
              "ticks": ""
             }
            },
            "marker": {
             "colorbar": {
              "outlinewidth": 0,
              "ticks": ""
             }
            },
            "type": "scatter3d"
           }
          ],
          "scattercarpet": [
           {
            "marker": {
             "colorbar": {
              "outlinewidth": 0,
              "ticks": ""
             }
            },
            "type": "scattercarpet"
           }
          ],
          "scattergeo": [
           {
            "marker": {
             "colorbar": {
              "outlinewidth": 0,
              "ticks": ""
             }
            },
            "type": "scattergeo"
           }
          ],
          "scattergl": [
           {
            "marker": {
             "colorbar": {
              "outlinewidth": 0,
              "ticks": ""
             }
            },
            "type": "scattergl"
           }
          ],
          "scattermapbox": [
           {
            "marker": {
             "colorbar": {
              "outlinewidth": 0,
              "ticks": ""
             }
            },
            "type": "scattermapbox"
           }
          ],
          "scatterpolar": [
           {
            "marker": {
             "colorbar": {
              "outlinewidth": 0,
              "ticks": ""
             }
            },
            "type": "scatterpolar"
           }
          ],
          "scatterpolargl": [
           {
            "marker": {
             "colorbar": {
              "outlinewidth": 0,
              "ticks": ""
             }
            },
            "type": "scatterpolargl"
           }
          ],
          "scatterternary": [
           {
            "marker": {
             "colorbar": {
              "outlinewidth": 0,
              "ticks": ""
             }
            },
            "type": "scatterternary"
           }
          ],
          "surface": [
           {
            "colorbar": {
             "outlinewidth": 0,
             "ticks": ""
            },
            "colorscale": [
             [
              0,
              "#0d0887"
             ],
             [
              0.1111111111111111,
              "#46039f"
             ],
             [
              0.2222222222222222,
              "#7201a8"
             ],
             [
              0.3333333333333333,
              "#9c179e"
             ],
             [
              0.4444444444444444,
              "#bd3786"
             ],
             [
              0.5555555555555556,
              "#d8576b"
             ],
             [
              0.6666666666666666,
              "#ed7953"
             ],
             [
              0.7777777777777778,
              "#fb9f3a"
             ],
             [
              0.8888888888888888,
              "#fdca26"
             ],
             [
              1,
              "#f0f921"
             ]
            ],
            "type": "surface"
           }
          ],
          "table": [
           {
            "cells": {
             "fill": {
              "color": "#EBF0F8"
             },
             "line": {
              "color": "white"
             }
            },
            "header": {
             "fill": {
              "color": "#C8D4E3"
             },
             "line": {
              "color": "white"
             }
            },
            "type": "table"
           }
          ]
         },
         "layout": {
          "annotationdefaults": {
           "arrowcolor": "#2a3f5f",
           "arrowhead": 0,
           "arrowwidth": 1
          },
          "autotypenumbers": "strict",
          "coloraxis": {
           "colorbar": {
            "outlinewidth": 0,
            "ticks": ""
           }
          },
          "colorscale": {
           "diverging": [
            [
             0,
             "#8e0152"
            ],
            [
             0.1,
             "#c51b7d"
            ],
            [
             0.2,
             "#de77ae"
            ],
            [
             0.3,
             "#f1b6da"
            ],
            [
             0.4,
             "#fde0ef"
            ],
            [
             0.5,
             "#f7f7f7"
            ],
            [
             0.6,
             "#e6f5d0"
            ],
            [
             0.7,
             "#b8e186"
            ],
            [
             0.8,
             "#7fbc41"
            ],
            [
             0.9,
             "#4d9221"
            ],
            [
             1,
             "#276419"
            ]
           ],
           "sequential": [
            [
             0,
             "#0d0887"
            ],
            [
             0.1111111111111111,
             "#46039f"
            ],
            [
             0.2222222222222222,
             "#7201a8"
            ],
            [
             0.3333333333333333,
             "#9c179e"
            ],
            [
             0.4444444444444444,
             "#bd3786"
            ],
            [
             0.5555555555555556,
             "#d8576b"
            ],
            [
             0.6666666666666666,
             "#ed7953"
            ],
            [
             0.7777777777777778,
             "#fb9f3a"
            ],
            [
             0.8888888888888888,
             "#fdca26"
            ],
            [
             1,
             "#f0f921"
            ]
           ],
           "sequentialminus": [
            [
             0,
             "#0d0887"
            ],
            [
             0.1111111111111111,
             "#46039f"
            ],
            [
             0.2222222222222222,
             "#7201a8"
            ],
            [
             0.3333333333333333,
             "#9c179e"
            ],
            [
             0.4444444444444444,
             "#bd3786"
            ],
            [
             0.5555555555555556,
             "#d8576b"
            ],
            [
             0.6666666666666666,
             "#ed7953"
            ],
            [
             0.7777777777777778,
             "#fb9f3a"
            ],
            [
             0.8888888888888888,
             "#fdca26"
            ],
            [
             1,
             "#f0f921"
            ]
           ]
          },
          "colorway": [
           "#636efa",
           "#EF553B",
           "#00cc96",
           "#ab63fa",
           "#FFA15A",
           "#19d3f3",
           "#FF6692",
           "#B6E880",
           "#FF97FF",
           "#FECB52"
          ],
          "font": {
           "color": "#2a3f5f"
          },
          "geo": {
           "bgcolor": "white",
           "lakecolor": "white",
           "landcolor": "#E5ECF6",
           "showlakes": true,
           "showland": true,
           "subunitcolor": "white"
          },
          "hoverlabel": {
           "align": "left"
          },
          "hovermode": "closest",
          "mapbox": {
           "style": "light"
          },
          "paper_bgcolor": "white",
          "plot_bgcolor": "#E5ECF6",
          "polar": {
           "angularaxis": {
            "gridcolor": "white",
            "linecolor": "white",
            "ticks": ""
           },
           "bgcolor": "#E5ECF6",
           "radialaxis": {
            "gridcolor": "white",
            "linecolor": "white",
            "ticks": ""
           }
          },
          "scene": {
           "xaxis": {
            "backgroundcolor": "#E5ECF6",
            "gridcolor": "white",
            "gridwidth": 2,
            "linecolor": "white",
            "showbackground": true,
            "ticks": "",
            "zerolinecolor": "white"
           },
           "yaxis": {
            "backgroundcolor": "#E5ECF6",
            "gridcolor": "white",
            "gridwidth": 2,
            "linecolor": "white",
            "showbackground": true,
            "ticks": "",
            "zerolinecolor": "white"
           },
           "zaxis": {
            "backgroundcolor": "#E5ECF6",
            "gridcolor": "white",
            "gridwidth": 2,
            "linecolor": "white",
            "showbackground": true,
            "ticks": "",
            "zerolinecolor": "white"
           }
          },
          "shapedefaults": {
           "line": {
            "color": "#2a3f5f"
           }
          },
          "ternary": {
           "aaxis": {
            "gridcolor": "white",
            "linecolor": "white",
            "ticks": ""
           },
           "baxis": {
            "gridcolor": "white",
            "linecolor": "white",
            "ticks": ""
           },
           "bgcolor": "#E5ECF6",
           "caxis": {
            "gridcolor": "white",
            "linecolor": "white",
            "ticks": ""
           }
          },
          "title": {
           "x": 0.05
          },
          "xaxis": {
           "automargin": true,
           "gridcolor": "white",
           "linecolor": "white",
           "ticks": "",
           "title": {
            "standoff": 15
           },
           "zerolinecolor": "white",
           "zerolinewidth": 2
          },
          "yaxis": {
           "automargin": true,
           "gridcolor": "white",
           "linecolor": "white",
           "ticks": "",
           "title": {
            "standoff": 15
           },
           "zerolinecolor": "white",
           "zerolinewidth": 2
          }
         }
        },
        "title": {
         "text": "Yearly Trends (1990–2000)"
        },
        "width": 900,
        "xaxis": {
         "anchor": "y",
         "domain": [
          0,
          0.94
         ],
         "title": {
          "text": "Harvest Year"
         }
        },
        "yaxis": {
         "anchor": "x",
         "domain": [
          0,
          1
         ],
         "title": {
          "text": "Grain, straw, temperature"
         }
        },
        "yaxis2": {
         "anchor": "x",
         "overlaying": "y",
         "side": "right",
         "title": {
          "text": "Rainfall & insect counts"
         }
        }
       }
      }
     },
     "metadata": {},
     "output_type": "display_data"
    },
    {
     "data": {
      "application/vnd.plotly.v1+json": {
       "config": {
        "plotlyServerURL": "https://plot.ly"
       },
       "data": [
        {
         "error_y": {
          "array": [
           0.3017611993424129,
           0.3691009226098311,
           0.5457136137336924,
           0.4034447098780345,
           1.0934165818335533,
           0.628838687771431,
           0.5768317097980756,
           0.31797349395373015,
           0.6488199160646525
          ],
          "color": "gray",
          "thickness": 1,
          "type": "data",
          "visible": true,
          "width": 3
         },
         "marker": {
          "size": 7
         },
         "mode": "lines+markers",
         "name": "Grain yield (t/ha)",
         "type": "scatter",
         "x": [
          2010,
          2011,
          2012,
          2013,
          2014,
          2016,
          2017,
          2018,
          2019
         ],
         "xaxis": "x",
         "y": [
          5.6075,
          4.76375,
          5.61375,
          5.70625,
          6.2425,
          6.26,
          4.9475,
          5.625,
          5.735625
         ],
         "yaxis": "y"
        },
        {
         "error_y": {
          "array": [
           0.08100925873009827,
           0.2914689806251544,
           0.35437150938904033,
           0.2743401173725783,
           0.297636523296453,
           0.2886421412654184,
           0.6478136306068282,
           0.21166748687505121,
           0.1910817887711961
          ],
          "color": "gray",
          "thickness": 1,
          "type": "data",
          "visible": true,
          "width": 3
         },
         "marker": {
          "size": 7
         },
         "mode": "lines+markers",
         "name": "Straw yield (t/ha)",
         "type": "scatter",
         "x": [
          2010,
          2011,
          2012,
          2013,
          2014,
          2016,
          2017,
          2018,
          2019
         ],
         "xaxis": "x",
         "y": [
          2.7900000000000005,
          2.0766666666666667,
          4.826666666666667,
          3.4299999999999997,
          3.81,
          3.06,
          2.78,
          2.1725,
          1.655
         ],
         "yaxis": "y"
        },
        {
         "error_y": {
          "array": [
           0,
           0,
           0,
           0,
           0,
           0,
           0,
           0,
           0
          ],
          "color": "gray",
          "thickness": 1,
          "type": "data",
          "visible": true,
          "width": 3
         },
         "marker": {
          "size": 7
         },
         "mode": "lines+markers",
         "name": "Mean temp (°C)",
         "type": "scatter",
         "x": [
          2010,
          2011,
          2012,
          2013,
          2014,
          2016,
          2017,
          2018,
          2019
         ],
         "xaxis": "x",
         "y": [
          9.70129622,
          9.62924324575,
          10.525347886,
          9.14851651625,
          10.87966458975,
          10.7708836005,
          10.693049880499998,
          10.5555822335,
          10.23620925
         ],
         "yaxis": "y"
        },
        {
         "error_y": {
          "array": [
           0,
           0,
           0,
           0,
           0,
           4.641245714809236e-14,
           0,
           0,
           0
          ],
          "color": "gray",
          "thickness": 1,
          "type": "data",
          "visible": true,
          "width": 3
         },
         "marker": {
          "size": 7
         },
         "mode": "lines+markers",
         "name": "Rainfall (mm)",
         "type": "scatter",
         "x": [
          2010,
          2011,
          2012,
          2013,
          2014,
          2016,
          2017,
          2018,
          2019
         ],
         "xaxis": "x",
         "y": [
          717.3,
          623.7,
          870.8,
          778.3000000000001,
          982.9,
          742.8,
          622.2,
          704.1999999999999,
          565.2
         ],
         "yaxis": "y2"
        },
        {
         "error_y": {
          "array": [
           0,
           0,
           0,
           0,
           0,
           0,
           0,
           0,
           0
          ],
          "color": "gray",
          "thickness": 1,
          "type": "data",
          "visible": true,
          "width": 3
         },
         "marker": {
          "size": 7
         },
         "mode": "lines+markers",
         "name": "M. dirhodum (count)",
         "type": "scatter",
         "x": [
          2010,
          2011,
          2012,
          2013,
          2014,
          2016,
          2017,
          2018,
          2019
         ],
         "xaxis": "x",
         "y": [
          2448,
          2519,
          86,
          151,
          150,
          110,
          91,
          191,
          200
         ],
         "yaxis": "y2"
        },
        {
         "error_y": {
          "array": [
           0,
           0,
           0,
           0,
           0,
           0,
           0,
           0,
           0
          ],
          "color": "gray",
          "thickness": 1,
          "type": "data",
          "visible": true,
          "width": 3
         },
         "marker": {
          "size": 7
         },
         "mode": "lines+markers",
         "name": "R. padi (count)",
         "type": "scatter",
         "x": [
          2010,
          2011,
          2012,
          2013,
          2014,
          2016,
          2017,
          2018,
          2019
         ],
         "xaxis": "x",
         "y": [
          2040,
          4968,
          1833,
          1081,
          4315,
          927,
          660,
          3848,
          843
         ],
         "yaxis": "y2"
        },
        {
         "error_y": {
          "array": [
           0,
           0,
           0,
           0,
           0,
           0,
           0,
           0,
           0
          ],
          "color": "gray",
          "thickness": 1,
          "type": "data",
          "visible": true,
          "width": 3
         },
         "marker": {
          "size": 7
         },
         "mode": "lines+markers",
         "name": "S. avenae (count)",
         "type": "scatter",
         "x": [
          2010,
          2011,
          2012,
          2013,
          2014,
          2016,
          2017,
          2018,
          2019
         ],
         "xaxis": "x",
         "y": [
          2382,
          5991,
          434,
          437,
          384,
          111,
          106,
          264,
          145
         ],
         "yaxis": "y2"
        }
       ],
       "layout": {
        "height": 500,
        "hovermode": "x unified",
        "legend": {
         "title": {
          "text": "Variable"
         }
        },
        "template": {
         "data": {
          "bar": [
           {
            "error_x": {
             "color": "#2a3f5f"
            },
            "error_y": {
             "color": "#2a3f5f"
            },
            "marker": {
             "line": {
              "color": "#E5ECF6",
              "width": 0.5
             },
             "pattern": {
              "fillmode": "overlay",
              "size": 10,
              "solidity": 0.2
             }
            },
            "type": "bar"
           }
          ],
          "barpolar": [
           {
            "marker": {
             "line": {
              "color": "#E5ECF6",
              "width": 0.5
             },
             "pattern": {
              "fillmode": "overlay",
              "size": 10,
              "solidity": 0.2
             }
            },
            "type": "barpolar"
           }
          ],
          "carpet": [
           {
            "aaxis": {
             "endlinecolor": "#2a3f5f",
             "gridcolor": "white",
             "linecolor": "white",
             "minorgridcolor": "white",
             "startlinecolor": "#2a3f5f"
            },
            "baxis": {
             "endlinecolor": "#2a3f5f",
             "gridcolor": "white",
             "linecolor": "white",
             "minorgridcolor": "white",
             "startlinecolor": "#2a3f5f"
            },
            "type": "carpet"
           }
          ],
          "choropleth": [
           {
            "colorbar": {
             "outlinewidth": 0,
             "ticks": ""
            },
            "type": "choropleth"
           }
          ],
          "contour": [
           {
            "colorbar": {
             "outlinewidth": 0,
             "ticks": ""
            },
            "colorscale": [
             [
              0,
              "#0d0887"
             ],
             [
              0.1111111111111111,
              "#46039f"
             ],
             [
              0.2222222222222222,
              "#7201a8"
             ],
             [
              0.3333333333333333,
              "#9c179e"
             ],
             [
              0.4444444444444444,
              "#bd3786"
             ],
             [
              0.5555555555555556,
              "#d8576b"
             ],
             [
              0.6666666666666666,
              "#ed7953"
             ],
             [
              0.7777777777777778,
              "#fb9f3a"
             ],
             [
              0.8888888888888888,
              "#fdca26"
             ],
             [
              1,
              "#f0f921"
             ]
            ],
            "type": "contour"
           }
          ],
          "contourcarpet": [
           {
            "colorbar": {
             "outlinewidth": 0,
             "ticks": ""
            },
            "type": "contourcarpet"
           }
          ],
          "heatmap": [
           {
            "colorbar": {
             "outlinewidth": 0,
             "ticks": ""
            },
            "colorscale": [
             [
              0,
              "#0d0887"
             ],
             [
              0.1111111111111111,
              "#46039f"
             ],
             [
              0.2222222222222222,
              "#7201a8"
             ],
             [
              0.3333333333333333,
              "#9c179e"
             ],
             [
              0.4444444444444444,
              "#bd3786"
             ],
             [
              0.5555555555555556,
              "#d8576b"
             ],
             [
              0.6666666666666666,
              "#ed7953"
             ],
             [
              0.7777777777777778,
              "#fb9f3a"
             ],
             [
              0.8888888888888888,
              "#fdca26"
             ],
             [
              1,
              "#f0f921"
             ]
            ],
            "type": "heatmap"
           }
          ],
          "heatmapgl": [
           {
            "colorbar": {
             "outlinewidth": 0,
             "ticks": ""
            },
            "colorscale": [
             [
              0,
              "#0d0887"
             ],
             [
              0.1111111111111111,
              "#46039f"
             ],
             [
              0.2222222222222222,
              "#7201a8"
             ],
             [
              0.3333333333333333,
              "#9c179e"
             ],
             [
              0.4444444444444444,
              "#bd3786"
             ],
             [
              0.5555555555555556,
              "#d8576b"
             ],
             [
              0.6666666666666666,
              "#ed7953"
             ],
             [
              0.7777777777777778,
              "#fb9f3a"
             ],
             [
              0.8888888888888888,
              "#fdca26"
             ],
             [
              1,
              "#f0f921"
             ]
            ],
            "type": "heatmapgl"
           }
          ],
          "histogram": [
           {
            "marker": {
             "pattern": {
              "fillmode": "overlay",
              "size": 10,
              "solidity": 0.2
             }
            },
            "type": "histogram"
           }
          ],
          "histogram2d": [
           {
            "colorbar": {
             "outlinewidth": 0,
             "ticks": ""
            },
            "colorscale": [
             [
              0,
              "#0d0887"
             ],
             [
              0.1111111111111111,
              "#46039f"
             ],
             [
              0.2222222222222222,
              "#7201a8"
             ],
             [
              0.3333333333333333,
              "#9c179e"
             ],
             [
              0.4444444444444444,
              "#bd3786"
             ],
             [
              0.5555555555555556,
              "#d8576b"
             ],
             [
              0.6666666666666666,
              "#ed7953"
             ],
             [
              0.7777777777777778,
              "#fb9f3a"
             ],
             [
              0.8888888888888888,
              "#fdca26"
             ],
             [
              1,
              "#f0f921"
             ]
            ],
            "type": "histogram2d"
           }
          ],
          "histogram2dcontour": [
           {
            "colorbar": {
             "outlinewidth": 0,
             "ticks": ""
            },
            "colorscale": [
             [
              0,
              "#0d0887"
             ],
             [
              0.1111111111111111,
              "#46039f"
             ],
             [
              0.2222222222222222,
              "#7201a8"
             ],
             [
              0.3333333333333333,
              "#9c179e"
             ],
             [
              0.4444444444444444,
              "#bd3786"
             ],
             [
              0.5555555555555556,
              "#d8576b"
             ],
             [
              0.6666666666666666,
              "#ed7953"
             ],
             [
              0.7777777777777778,
              "#fb9f3a"
             ],
             [
              0.8888888888888888,
              "#fdca26"
             ],
             [
              1,
              "#f0f921"
             ]
            ],
            "type": "histogram2dcontour"
           }
          ],
          "mesh3d": [
           {
            "colorbar": {
             "outlinewidth": 0,
             "ticks": ""
            },
            "type": "mesh3d"
           }
          ],
          "parcoords": [
           {
            "line": {
             "colorbar": {
              "outlinewidth": 0,
              "ticks": ""
             }
            },
            "type": "parcoords"
           }
          ],
          "pie": [
           {
            "automargin": true,
            "type": "pie"
           }
          ],
          "scatter": [
           {
            "fillpattern": {
             "fillmode": "overlay",
             "size": 10,
             "solidity": 0.2
            },
            "type": "scatter"
           }
          ],
          "scatter3d": [
           {
            "line": {
             "colorbar": {
              "outlinewidth": 0,
              "ticks": ""
             }
            },
            "marker": {
             "colorbar": {
              "outlinewidth": 0,
              "ticks": ""
             }
            },
            "type": "scatter3d"
           }
          ],
          "scattercarpet": [
           {
            "marker": {
             "colorbar": {
              "outlinewidth": 0,
              "ticks": ""
             }
            },
            "type": "scattercarpet"
           }
          ],
          "scattergeo": [
           {
            "marker": {
             "colorbar": {
              "outlinewidth": 0,
              "ticks": ""
             }
            },
            "type": "scattergeo"
           }
          ],
          "scattergl": [
           {
            "marker": {
             "colorbar": {
              "outlinewidth": 0,
              "ticks": ""
             }
            },
            "type": "scattergl"
           }
          ],
          "scattermapbox": [
           {
            "marker": {
             "colorbar": {
              "outlinewidth": 0,
              "ticks": ""
             }
            },
            "type": "scattermapbox"
           }
          ],
          "scatterpolar": [
           {
            "marker": {
             "colorbar": {
              "outlinewidth": 0,
              "ticks": ""
             }
            },
            "type": "scatterpolar"
           }
          ],
          "scatterpolargl": [
           {
            "marker": {
             "colorbar": {
              "outlinewidth": 0,
              "ticks": ""
             }
            },
            "type": "scatterpolargl"
           }
          ],
          "scatterternary": [
           {
            "marker": {
             "colorbar": {
              "outlinewidth": 0,
              "ticks": ""
             }
            },
            "type": "scatterternary"
           }
          ],
          "surface": [
           {
            "colorbar": {
             "outlinewidth": 0,
             "ticks": ""
            },
            "colorscale": [
             [
              0,
              "#0d0887"
             ],
             [
              0.1111111111111111,
              "#46039f"
             ],
             [
              0.2222222222222222,
              "#7201a8"
             ],
             [
              0.3333333333333333,
              "#9c179e"
             ],
             [
              0.4444444444444444,
              "#bd3786"
             ],
             [
              0.5555555555555556,
              "#d8576b"
             ],
             [
              0.6666666666666666,
              "#ed7953"
             ],
             [
              0.7777777777777778,
              "#fb9f3a"
             ],
             [
              0.8888888888888888,
              "#fdca26"
             ],
             [
              1,
              "#f0f921"
             ]
            ],
            "type": "surface"
           }
          ],
          "table": [
           {
            "cells": {
             "fill": {
              "color": "#EBF0F8"
             },
             "line": {
              "color": "white"
             }
            },
            "header": {
             "fill": {
              "color": "#C8D4E3"
             },
             "line": {
              "color": "white"
             }
            },
            "type": "table"
           }
          ]
         },
         "layout": {
          "annotationdefaults": {
           "arrowcolor": "#2a3f5f",
           "arrowhead": 0,
           "arrowwidth": 1
          },
          "autotypenumbers": "strict",
          "coloraxis": {
           "colorbar": {
            "outlinewidth": 0,
            "ticks": ""
           }
          },
          "colorscale": {
           "diverging": [
            [
             0,
             "#8e0152"
            ],
            [
             0.1,
             "#c51b7d"
            ],
            [
             0.2,
             "#de77ae"
            ],
            [
             0.3,
             "#f1b6da"
            ],
            [
             0.4,
             "#fde0ef"
            ],
            [
             0.5,
             "#f7f7f7"
            ],
            [
             0.6,
             "#e6f5d0"
            ],
            [
             0.7,
             "#b8e186"
            ],
            [
             0.8,
             "#7fbc41"
            ],
            [
             0.9,
             "#4d9221"
            ],
            [
             1,
             "#276419"
            ]
           ],
           "sequential": [
            [
             0,
             "#0d0887"
            ],
            [
             0.1111111111111111,
             "#46039f"
            ],
            [
             0.2222222222222222,
             "#7201a8"
            ],
            [
             0.3333333333333333,
             "#9c179e"
            ],
            [
             0.4444444444444444,
             "#bd3786"
            ],
            [
             0.5555555555555556,
             "#d8576b"
            ],
            [
             0.6666666666666666,
             "#ed7953"
            ],
            [
             0.7777777777777778,
             "#fb9f3a"
            ],
            [
             0.8888888888888888,
             "#fdca26"
            ],
            [
             1,
             "#f0f921"
            ]
           ],
           "sequentialminus": [
            [
             0,
             "#0d0887"
            ],
            [
             0.1111111111111111,
             "#46039f"
            ],
            [
             0.2222222222222222,
             "#7201a8"
            ],
            [
             0.3333333333333333,
             "#9c179e"
            ],
            [
             0.4444444444444444,
             "#bd3786"
            ],
            [
             0.5555555555555556,
             "#d8576b"
            ],
            [
             0.6666666666666666,
             "#ed7953"
            ],
            [
             0.7777777777777778,
             "#fb9f3a"
            ],
            [
             0.8888888888888888,
             "#fdca26"
            ],
            [
             1,
             "#f0f921"
            ]
           ]
          },
          "colorway": [
           "#636efa",
           "#EF553B",
           "#00cc96",
           "#ab63fa",
           "#FFA15A",
           "#19d3f3",
           "#FF6692",
           "#B6E880",
           "#FF97FF",
           "#FECB52"
          ],
          "font": {
           "color": "#2a3f5f"
          },
          "geo": {
           "bgcolor": "white",
           "lakecolor": "white",
           "landcolor": "#E5ECF6",
           "showlakes": true,
           "showland": true,
           "subunitcolor": "white"
          },
          "hoverlabel": {
           "align": "left"
          },
          "hovermode": "closest",
          "mapbox": {
           "style": "light"
          },
          "paper_bgcolor": "white",
          "plot_bgcolor": "#E5ECF6",
          "polar": {
           "angularaxis": {
            "gridcolor": "white",
            "linecolor": "white",
            "ticks": ""
           },
           "bgcolor": "#E5ECF6",
           "radialaxis": {
            "gridcolor": "white",
            "linecolor": "white",
            "ticks": ""
           }
          },
          "scene": {
           "xaxis": {
            "backgroundcolor": "#E5ECF6",
            "gridcolor": "white",
            "gridwidth": 2,
            "linecolor": "white",
            "showbackground": true,
            "ticks": "",
            "zerolinecolor": "white"
           },
           "yaxis": {
            "backgroundcolor": "#E5ECF6",
            "gridcolor": "white",
            "gridwidth": 2,
            "linecolor": "white",
            "showbackground": true,
            "ticks": "",
            "zerolinecolor": "white"
           },
           "zaxis": {
            "backgroundcolor": "#E5ECF6",
            "gridcolor": "white",
            "gridwidth": 2,
            "linecolor": "white",
            "showbackground": true,
            "ticks": "",
            "zerolinecolor": "white"
           }
          },
          "shapedefaults": {
           "line": {
            "color": "#2a3f5f"
           }
          },
          "ternary": {
           "aaxis": {
            "gridcolor": "white",
            "linecolor": "white",
            "ticks": ""
           },
           "baxis": {
            "gridcolor": "white",
            "linecolor": "white",
            "ticks": ""
           },
           "bgcolor": "#E5ECF6",
           "caxis": {
            "gridcolor": "white",
            "linecolor": "white",
            "ticks": ""
           }
          },
          "title": {
           "x": 0.05
          },
          "xaxis": {
           "automargin": true,
           "gridcolor": "white",
           "linecolor": "white",
           "ticks": "",
           "title": {
            "standoff": 15
           },
           "zerolinecolor": "white",
           "zerolinewidth": 2
          },
          "yaxis": {
           "automargin": true,
           "gridcolor": "white",
           "linecolor": "white",
           "ticks": "",
           "title": {
            "standoff": 15
           },
           "zerolinecolor": "white",
           "zerolinewidth": 2
          }
         }
        },
        "title": {
         "text": "Yearly Trends (2010–2020)"
        },
        "width": 900,
        "xaxis": {
         "anchor": "y",
         "domain": [
          0,
          0.94
         ],
         "title": {
          "text": "Harvest Year"
         }
        },
        "yaxis": {
         "anchor": "x",
         "domain": [
          0,
          1
         ],
         "title": {
          "text": "Grain, straw, temperature"
         }
        },
        "yaxis2": {
         "anchor": "x",
         "overlaying": "y",
         "side": "right",
         "title": {
          "text": "Rainfall & insect counts"
         }
        }
       }
      }
     },
     "metadata": {},
     "output_type": "display_data"
    }
   ],
   "source": [
    "import numpy as np\n",
    "import plotly.graph_objects as go\n",
    "from plotly.subplots import make_subplots\n",
    "\n",
    "# Put only the small-magnitude series on the primary axis\n",
    "primary = ['grain', 'straw', 'mean_temp_year']  # ← rainfall moved off this axis\n",
    "secondary = [\n",
    "    'total_rainfall_year',                       # ← now on secondary\n",
    "    'total_Metopolophium dirhodum',\n",
    "    'total_Rhopalosiphum padi',\n",
    "    'total_Sitobion avenae'\n",
    "]\n",
    "\n",
    "col_map = {\n",
    "    'grain': 'Grain yield (t/ha)',\n",
    "    'straw': 'Straw yield (t/ha)',\n",
    "    'mean_temp_year': 'Mean temp (°C)',\n",
    "    'total_rainfall_year': 'Rainfall (mm)',\n",
    "    'total_Metopolophium dirhodum': 'M. dirhodum (count)',\n",
    "    'total_Rhopalosiphum padi': 'R. padi (count)',\n",
    "    'total_Sitobion avenae': 'S. avenae (count)'\n",
    "}\n",
    "\n",
    "def _err_array(stderr_df, col, length):\n",
    "    if stderr_df is None or col not in stderr_df.columns:\n",
    "        return np.zeros(length)\n",
    "    arr = np.asarray(stderr_df[col])\n",
    "    return np.where(np.isfinite(arr), arr, 0.0)\n",
    "\n",
    "def plot_period(df, stderr_df, title):\n",
    "    fig = make_subplots(specs=[[{\"secondary_y\": True}]])\n",
    "    x = df['harvest_year']\n",
    "\n",
    "    # Primary axis: grain, straw, temp\n",
    "    for col in primary:\n",
    "        if col in df.columns:\n",
    "            fig.add_trace(\n",
    "                go.Scatter(\n",
    "                    x=x, y=df[col], mode='lines+markers',\n",
    "                    name=col_map.get(col, col),\n",
    "                    marker=dict(size=7),\n",
    "                    error_y=dict(\n",
    "                        type='data',\n",
    "                        array=_err_array(stderr_df, col, len(df)),\n",
    "                        visible=True, thickness=1, width=3, color='gray'\n",
    "                    )\n",
    "                ),\n",
    "                secondary_y=False\n",
    "            )\n",
    "\n",
    "    # Secondary axis: rainfall + insects (large magnitude)\n",
    "    for col in secondary:\n",
    "        if col in df.columns:\n",
    "            fig.add_trace(\n",
    "                go.Scatter(\n",
    "                    x=x, y=df[col], mode='lines+markers',\n",
    "                    name=col_map.get(col, col),\n",
    "                    marker=dict(size=7),\n",
    "                    error_y=dict(\n",
    "                        type='data',\n",
    "                        array=_err_array(stderr_df, col, len(df)),\n",
    "                        visible=True, thickness=1, width=3, color='gray'\n",
    "                    )\n",
    "                ),\n",
    "                secondary_y=True\n",
    "            )\n",
    "\n",
    "    fig.update_yaxes(title_text=\"Grain, straw, temperature\", secondary_y=False)\n",
    "    fig.update_yaxes(title_text=\"Rainfall & insect counts\", secondary_y=True)\n",
    "    fig.update_layout(\n",
    "        title=title,\n",
    "        xaxis_title='Harvest Year',\n",
    "        legend_title='Variable',\n",
    "        width=900, height=500,\n",
    "        hovermode='x unified'\n",
    "    )\n",
    "\n",
    "    fig.show()\n",
    "    return fig\n",
    "\n",
    "# Example usage\n",
    "fig_90s = plot_period(summary_90s, stderr_90s, \"Yearly Trends (1990–2000)\")\n",
    "fig_10s = plot_period(summary_10s, stderr_10s, \"Yearly Trends (2010–2020)\")\n"
   ]
  },
  {
   "cell_type": "code",
   "execution_count": 85,
   "id": "5d568a31",
   "metadata": {},
   "outputs": [],
   "source": [
    "# Export 1990-2000 plot to JSON\n",
    "with open('website/plotly-json/1_SummaryPlot_1990.json', 'w') as f:\n",
    "    f.write(fig_90s.to_json())\n",
    "\n",
    "# Export 2010-2020 plot to JSON\n",
    "with open('website/plotly-json/1_SummaryPlot_2010.json', 'w') as f:\n",
    "    f.write(fig_10s.to_json())"
   ]
  },
  {
   "cell_type": "code",
   "execution_count": null,
   "id": "a786e06b",
   "metadata": {},
   "outputs": [],
   "source": []
  }
 ],
 "metadata": {
  "kernelspec": {
   "display_name": "Python 3",
   "language": "python",
   "name": "python3"
  },
  "language_info": {
   "codemirror_mode": {
    "name": "ipython",
    "version": 3
   },
   "file_extension": ".py",
   "mimetype": "text/x-python",
   "name": "python",
   "nbconvert_exporter": "python",
   "pygments_lexer": "ipython3",
   "version": "3.11.1"
  }
 },
 "nbformat": 4,
 "nbformat_minor": 5
}
