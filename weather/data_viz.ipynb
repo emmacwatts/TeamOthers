{
 "cells": [
  {
   "cell_type": "code",
   "execution_count": 4,
   "id": "479cf99d",
   "metadata": {},
   "outputs": [],
   "source": [
    "import pandas as pd\n",
    "import numpy as np\n",
    "import matplotlib.pyplot as plt\n",
    "\n"
   ]
  },
  {
   "cell_type": "code",
   "execution_count": 5,
   "id": "870d6d1a",
   "metadata": {},
   "outputs": [],
   "source": [
    "# load df RMS-Seas-Temp-Rain-68-22.xlsx and sheet name is ValidatedSeasonalMetData2022\n",
    "df  = pd.read_excel('RMS-Seas-Temp-Rain-68-22.xlsx', sheet_name='ValidatedSeasonalMetData2022')\n",
    "\n"
   ]
  },
  {
   "cell_type": "code",
   "execution_count": 6,
   "id": "7dad4736",
   "metadata": {},
   "outputs": [
    {
     "data": {
      "text/html": [
       "<div>\n",
       "<style scoped>\n",
       "    .dataframe tbody tr th:only-of-type {\n",
       "        vertical-align: middle;\n",
       "    }\n",
       "\n",
       "    .dataframe tbody tr th {\n",
       "        vertical-align: top;\n",
       "    }\n",
       "\n",
       "    .dataframe thead th {\n",
       "        text-align: right;\n",
       "    }\n",
       "</style>\n",
       "<table border=\"1\" class=\"dataframe\">\n",
       "  <thead>\n",
       "    <tr style=\"text-align: right;\">\n",
       "      <th></th>\n",
       "      <th>Harvest.Year</th>\n",
       "      <th>Total.Rainfall.Aut</th>\n",
       "      <th>Total.Rainfall.Win</th>\n",
       "      <th>Total.Rainfall.Spr</th>\n",
       "      <th>Total.Rainfall.Sum</th>\n",
       "      <th>Mean.Temp.Aut</th>\n",
       "      <th>Mean.Temp.Win</th>\n",
       "      <th>Mean.Temp.Spr</th>\n",
       "      <th>Mean.Temp.Sum</th>\n",
       "    </tr>\n",
       "  </thead>\n",
       "  <tbody>\n",
       "    <tr>\n",
       "      <th>0</th>\n",
       "      <td>1968</td>\n",
       "      <td>283.75618</td>\n",
       "      <td>164.26244</td>\n",
       "      <td>157.40896</td>\n",
       "      <td>234.01318</td>\n",
       "      <td>9.681868</td>\n",
       "      <td>2.737912</td>\n",
       "      <td>7.901630</td>\n",
       "      <td>14.943478</td>\n",
       "    </tr>\n",
       "    <tr>\n",
       "      <th>1</th>\n",
       "      <td>1969</td>\n",
       "      <td>318.46574</td>\n",
       "      <td>239.98234</td>\n",
       "      <td>181.50668</td>\n",
       "      <td>145.36010</td>\n",
       "      <td>10.775275</td>\n",
       "      <td>2.545000</td>\n",
       "      <td>7.378261</td>\n",
       "      <td>15.384239</td>\n",
       "    </tr>\n",
       "    <tr>\n",
       "      <th>2</th>\n",
       "      <td>1970</td>\n",
       "      <td>115.40376</td>\n",
       "      <td>230.80752</td>\n",
       "      <td>169.34728</td>\n",
       "      <td>150.00278</td>\n",
       "      <td>10.580769</td>\n",
       "      <td>2.736111</td>\n",
       "      <td>7.182609</td>\n",
       "      <td>15.608152</td>\n",
       "    </tr>\n",
       "    <tr>\n",
       "      <th>3</th>\n",
       "      <td>1971</td>\n",
       "      <td>253.02606</td>\n",
       "      <td>180.95398</td>\n",
       "      <td>168.79458</td>\n",
       "      <td>201.51442</td>\n",
       "      <td>10.724725</td>\n",
       "      <td>3.673889</td>\n",
       "      <td>7.711957</td>\n",
       "      <td>14.958696</td>\n",
       "    </tr>\n",
       "    <tr>\n",
       "      <th>4</th>\n",
       "      <td>1972</td>\n",
       "      <td>171.88970</td>\n",
       "      <td>188.47070</td>\n",
       "      <td>186.25990</td>\n",
       "      <td>112.52972</td>\n",
       "      <td>10.082967</td>\n",
       "      <td>4.253297</td>\n",
       "      <td>8.294022</td>\n",
       "      <td>14.124457</td>\n",
       "    </tr>\n",
       "  </tbody>\n",
       "</table>\n",
       "</div>"
      ],
      "text/plain": [
       "   Harvest.Year  Total.Rainfall.Aut  Total.Rainfall.Win  Total.Rainfall.Spr  \\\n",
       "0          1968           283.75618           164.26244           157.40896   \n",
       "1          1969           318.46574           239.98234           181.50668   \n",
       "2          1970           115.40376           230.80752           169.34728   \n",
       "3          1971           253.02606           180.95398           168.79458   \n",
       "4          1972           171.88970           188.47070           186.25990   \n",
       "\n",
       "   Total.Rainfall.Sum  Mean.Temp.Aut  Mean.Temp.Win  Mean.Temp.Spr  \\\n",
       "0           234.01318       9.681868       2.737912       7.901630   \n",
       "1           145.36010      10.775275       2.545000       7.378261   \n",
       "2           150.00278      10.580769       2.736111       7.182609   \n",
       "3           201.51442      10.724725       3.673889       7.711957   \n",
       "4           112.52972      10.082967       4.253297       8.294022   \n",
       "\n",
       "   Mean.Temp.Sum  \n",
       "0      14.943478  \n",
       "1      15.384239  \n",
       "2      15.608152  \n",
       "3      14.958696  \n",
       "4      14.124457  "
      ]
     },
     "execution_count": 6,
     "metadata": {},
     "output_type": "execute_result"
    }
   ],
   "source": [
    "df.head()"
   ]
  },
  {
   "cell_type": "code",
   "execution_count": 7,
   "id": "f9d70962",
   "metadata": {},
   "outputs": [],
   "source": [
    "#calculate the average for yearly by getting average of Mean.Temp.Aut\tMean.Temp.Win\tMean.Temp.Spr\tMean.Temp.Sum\n",
    "df['Mean.Temp.Year'] = df[['Mean.Temp.Aut', 'Mean.Temp.Win', 'Mean.Temp.Spr', 'Mean.Temp.Sum']].mean(axis=1)\n",
    "# calculate total rainfall by summing Total.Rainfall.Aut\tTotal.Rainfall.Win\tTotal.Rainfall.Spr\tTotal.Rainfall.Sum\t\n",
    "df['Total.Rainfall.Year'] = df[['Total.Rainfall.Aut', 'Total.Rainfall.Win', 'Total.Rainfall.Spr', 'Total.Rainfall.Sum']].sum(axis=1)\n"
   ]
  },
  {
   "cell_type": "code",
   "execution_count": 10,
   "id": "f1ab702e",
   "metadata": {},
   "outputs": [],
   "source": [
    "# keep only year , Mean.Temp.Year, Total.Rainfall.Year\n",
    "df = df[['Harvest.Year', 'Mean.Temp.Year', 'Total.Rainfall.Year']]\n",
    "# rename the column names\n",
    "df.columns = ['year', 'mean_temp_year', 'total_rainfall_year']"
   ]
  }
 ],
 "metadata": {
  "kernelspec": {
   "display_name": "Python 3",
   "language": "python",
   "name": "python3"
  },
  "language_info": {
   "codemirror_mode": {
    "name": "ipython",
    "version": 3
   },
   "file_extension": ".py",
   "mimetype": "text/x-python",
   "name": "python",
   "nbconvert_exporter": "python",
   "pygments_lexer": "ipython3",
   "version": "3.9.6"
  }
 },
 "nbformat": 4,
 "nbformat_minor": 5
}
